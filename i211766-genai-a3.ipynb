{
 "cells": [
  {
   "cell_type": "markdown",
   "metadata": {},
   "source": [
    "# Q1:"
   ]
  },
  {
   "cell_type": "markdown",
   "metadata": {},
   "source": [
    "## 1. Data Preparation & Tokenization:"
   ]
  },
  {
   "cell_type": "code",
   "execution_count": 167,
   "metadata": {
    "execution": {
     "iopub.execute_input": "2025-05-01T17:07:30.700539Z",
     "iopub.status.busy": "2025-05-01T17:07:30.699929Z",
     "iopub.status.idle": "2025-05-01T17:07:31.766394Z",
     "shell.execute_reply": "2025-05-01T17:07:31.765879Z",
     "shell.execute_reply.started": "2025-05-01T17:07:30.700517Z"
    },
    "trusted": true
   },
   "outputs": [],
   "source": [
    "import os\n",
    "import sentencepiece as spm\n",
    "from torch.utils.data import Dataset, DataLoader\n",
    "import torch\n",
    "\n",
    "# 1.1 Reading parallel corpus\n",
    "def read_parallel(src_path, tgt_path):\n",
    "    with open(src_path, 'r', encoding='utf-8') as f_src, \\\n",
    "         open(tgt_path, 'r', encoding='utf-8') as f_tgt:\n",
    "        src_lines = [line.strip() for line in f_src]\n",
    "        tgt_lines = [line.strip() for line in f_tgt]\n",
    "    assert len(src_lines) == len(tgt_lines), \"Alignment mismatch\"  \n",
    "    return src_lines, tgt_lines\n",
    "\n",
    "\n",
    "train_en, train_ur = read_parallel('/kaggle/input/quran-dataset/train.en', '/kaggle/input/quran-dataset/train.ur')\n",
    "dev_en, dev_ur     = read_parallel('/kaggle/input/quran-dataset/dev.en',   '/kaggle/input/quran-dataset/dev.ur')\n",
    "test_en, test_ur   = read_parallel('/kaggle/input/quran-dataset/test.en',  '/kaggle/input/quran-dataset/test.ur')\n",
    "\n",
    "\n",
    "# 1.2 SentencePiece BPE model\n",
    "spm.SentencePieceTrainer.Train('--input=/kaggle/input/quran-dataset/train.en --model_prefix=spm_en --vocab_size=8200 --model_type=bpe --num_threads=16')  \n",
    "spm.SentencePieceTrainer.Train('--input=/kaggle/input/quran-dataset/train.ur --model_prefix=spm_ur --vocab_size=8200 --model_type=bpe --num_threads=16') \n",
    "sp_en = spm.SentencePieceProcessor(model_file='spm_en.model')\n",
    "sp_ur = spm.SentencePieceProcessor(model_file='spm_ur.model')\n",
    "\n",
    "\n",
    "# 1.3 Dataset class\n",
    "class TranslationDataset(Dataset):\n",
    "    def __init__(self, src_lines, tgt_lines, sp_src, sp_tgt, max_len=128):\n",
    "        self.src = src_lines; self.tgt = tgt_lines\n",
    "        self.sp_src = sp_src; self.sp_tgt = sp_tgt\n",
    "        self.max_len = max_len\n",
    "\n",
    "    def __len__(self):\n",
    "        return len(self.src)\n",
    "\n",
    "    def __getitem__(self, idx):\n",
    "        src_ids = self.sp_src.encode(self.src[idx])[:self.max_len-2]\n",
    "        tgt_ids = self.sp_tgt.encode(self.tgt[idx])[:self.max_len-2]\n",
    "        return {\n",
    "            'src': torch.tensor([1] + src_ids + [2]),  # 1=SOS, 2=EOS\n",
    "            'tgt': torch.tensor([1] + tgt_ids + [2])\n",
    "        }\n",
    "\n",
    "train_ds = TranslationDataset(train_en, train_ur, sp_en, sp_ur)\n",
    "dev_ds   = TranslationDataset(dev_en,   dev_ur,   sp_en, sp_ur)\n",
    "test_ds  = TranslationDataset(test_en,  test_ur,  sp_en, sp_ur)\n",
    "\n",
    "def collate_fn(batch):\n",
    "    src = [b['src'] for b in batch]\n",
    "    tgt = [b['tgt'] for b in batch]\n",
    "    src = torch.nn.utils.rnn.pad_sequence(src, padding_value=0, batch_first=True)\n",
    "    tgt = torch.nn.utils.rnn.pad_sequence(tgt, padding_value=0, batch_first=True)\n",
    "    return src, tgt\n",
    "\n",
    "train_loader = DataLoader(train_ds, batch_size=64, shuffle=True, collate_fn=collate_fn)  \n",
    "dev_loader   = DataLoader(dev_ds,   batch_size=64, shuffle=False, collate_fn=collate_fn)\n",
    "test_loader  = DataLoader(test_ds,  batch_size=64, shuffle=False, collate_fn=collate_fn)\n"
   ]
  },
  {
   "cell_type": "code",
   "execution_count": 168,
   "metadata": {
    "execution": {
     "iopub.execute_input": "2025-05-01T17:07:34.140605Z",
     "iopub.status.busy": "2025-05-01T17:07:34.139895Z",
     "iopub.status.idle": "2025-05-01T17:07:34.144991Z",
     "shell.execute_reply": "2025-05-01T17:07:34.144269Z",
     "shell.execute_reply.started": "2025-05-01T17:07:34.140580Z"
    },
    "trusted": true
   },
   "outputs": [
    {
     "data": {
      "text/plain": [
       "94"
      ]
     },
     "execution_count": 168,
     "metadata": {},
     "output_type": "execute_result"
    }
   ],
   "source": [
    "len(train_loader)"
   ]
  },
  {
   "cell_type": "code",
   "execution_count": null,
   "metadata": {
    "trusted": true
   },
   "outputs": [],
   "source": []
  },
  {
   "cell_type": "markdown",
   "metadata": {},
   "source": [
    "## 2.1 Transformer:"
   ]
  },
  {
   "cell_type": "code",
   "execution_count": 169,
   "metadata": {
    "execution": {
     "iopub.execute_input": "2025-05-01T17:07:39.770155Z",
     "iopub.status.busy": "2025-05-01T17:07:39.769395Z",
     "iopub.status.idle": "2025-05-01T17:07:39.778097Z",
     "shell.execute_reply": "2025-05-01T17:07:39.777441Z",
     "shell.execute_reply.started": "2025-05-01T17:07:39.770130Z"
    },
    "trusted": true
   },
   "outputs": [],
   "source": [
    "import math\n",
    "from torch import nn\n",
    "\n",
    "class PositionalEncoding(nn.Module):\n",
    "    def __init__(self, d_model, max_len=5000):\n",
    "        super().__init__()\n",
    "        pe = torch.zeros(max_len, d_model)\n",
    "        pos = torch.arange(0, max_len).unsqueeze(1)\n",
    "        div = torch.exp(torch.arange(0, d_model, 2) * -(math.log(10000.0) / d_model))\n",
    "        pe[:, 0::2] = torch.sin(pos * div)\n",
    "        pe[:, 1::2] = torch.cos(pos * div)\n",
    "        self.register_buffer('pe', pe)\n",
    "\n",
    "    def forward(self, x):\n",
    "        x = x + self.pe[:x.size(1)]\n",
    "        return x\n",
    "\n",
    "\n",
    "class TransformerMT(nn.Module):\n",
    "    def __init__(self, src_vocab, tgt_vocab, d_model=512, nhead=8,\n",
    "                 num_layers=6, dim_feedforward=2048, dropout=0.1):\n",
    "        super().__init__()\n",
    "        self.src_tok = nn.Embedding(src_vocab, d_model)\n",
    "        self.tgt_tok = nn.Embedding(tgt_vocab, d_model)\n",
    "        self.pos_enc = PositionalEncoding(d_model)\n",
    "        self.transformer = nn.Transformer(\n",
    "            d_model, nhead, num_layers, num_layers,\n",
    "            dim_feedforward, dropout\n",
    "        )\n",
    "        self.fc_out = nn.Linear(d_model, tgt_vocab)\n",
    "\n",
    "    def forward(self, src, tgt):\n",
    "        \n",
    "        # src: (batch, src_len), tgt: (batch, tgt_len)\n",
    "        # embedding + positional encoding, then transpose to (seq_len, batch, d_model)\n",
    "        \n",
    "        src_emb = self.pos_enc(self.src_tok(src).transpose(0, 1))\n",
    "        tgt_emb = self.pos_enc(self.tgt_tok(tgt).transpose(0, 1))\n",
    "\n",
    "        # building causal mask for tgt\n",
    "        tgt_seq_len = tgt_emb.size(0)\n",
    "        tgt_mask = nn.Transformer.generate_square_subsequent_mask(\n",
    "            tgt_seq_len,\n",
    "            device=src.device,\n",
    "            dtype=tgt_emb.dtype\n",
    "        )\n",
    "\n",
    "        out = self.transformer(\n",
    "            src_emb,\n",
    "            tgt_emb,\n",
    "            tgt_mask=tgt_mask\n",
    "        )\n",
    "        \n",
    "        return self.fc_out(out).transpose(0, 1)\n"
   ]
  },
  {
   "cell_type": "code",
   "execution_count": null,
   "metadata": {
    "trusted": true
   },
   "outputs": [],
   "source": []
  },
  {
   "cell_type": "markdown",
   "metadata": {},
   "source": [
    "## 2.2 LSTM with Bahdanau Attention:"
   ]
  },
  {
   "cell_type": "code",
   "execution_count": 180,
   "metadata": {
    "execution": {
     "iopub.execute_input": "2025-05-01T17:32:48.621805Z",
     "iopub.status.busy": "2025-05-01T17:32:48.621523Z",
     "iopub.status.idle": "2025-05-01T17:32:48.633950Z",
     "shell.execute_reply": "2025-05-01T17:32:48.633360Z",
     "shell.execute_reply.started": "2025-05-01T17:32:48.621785Z"
    },
    "trusted": true
   },
   "outputs": [],
   "source": [
    "import time\n",
    "import torch\n",
    "import torch.nn as nn\n",
    "import torch.optim as optim\n",
    "from torch.nn.utils import clip_grad_norm_\n",
    "from tqdm import trange, tqdm\n",
    "import numpy as np\n",
    "import sacrebleu\n",
    "from rouge import Rouge\n",
    "\n",
    "\n",
    "class BahdanauAttention(nn.Module):\n",
    "    def __init__(self, enc_dim, dec_dim):\n",
    "        super().__init__()\n",
    "        \n",
    "        self.W1 = nn.Linear(enc_dim, enc_dim)  \n",
    "        self.W2 = nn.Linear(dec_dim, enc_dim)  \n",
    "        self.V  = nn.Linear(enc_dim, 1)\n",
    "\n",
    "    def forward(self, dec_hidden, enc_outputs):\n",
    "       \n",
    "        proj_enc = self.W1(enc_outputs)                    \n",
    "        proj_dec = self.W2(dec_hidden).unsqueeze(1)       \n",
    "        score    = self.V(torch.tanh(proj_enc + proj_dec)) \n",
    "        weights  = torch.softmax(score, dim=1)             \n",
    "        context  = (weights * enc_outputs).sum(dim=1)      \n",
    "        return context, weights\n",
    "\n",
    "\n",
    "class Seq2SeqLSTM(nn.Module):\n",
    "    def __init__(self, src_vocab, tgt_vocab,\n",
    "                 embed_size=256, hidden_size=512, num_layers=2, dropout=0.1):\n",
    "        super().__init__()\n",
    "        self.embedding_src = nn.Embedding(src_vocab, embed_size)\n",
    "        self.embedding_tgt = nn.Embedding(tgt_vocab, embed_size)\n",
    "\n",
    "        # bidirectional encoder\n",
    "        self.encoder = nn.LSTM(\n",
    "            embed_size, hidden_size, num_layers,\n",
    "            batch_first=True, bidirectional=True, dropout=dropout\n",
    "        )\n",
    "        enc_dim = hidden_size * 2\n",
    "\n",
    "        # project encoder's final state into decoder's hidden_size\n",
    "        self.init_hidden = nn.Linear(enc_dim, hidden_size)\n",
    "        self.init_cell   = nn.Linear(enc_dim, hidden_size)\n",
    "\n",
    "        # attention now knows both dims\n",
    "        self.attn    = BahdanauAttention(enc_dim, hidden_size)\n",
    "        self.decoder = nn.LSTM(\n",
    "            embed_size + enc_dim, hidden_size,\n",
    "            num_layers, batch_first=True, dropout=dropout\n",
    "        )\n",
    "        self.fc = nn.Linear(hidden_size + enc_dim, tgt_vocab)\n",
    "\n",
    "    def forward(self, src, tgt):\n",
    "        # encoding\n",
    "        enc_emb, _ = self.encoder(self.embedding_src(src))\n",
    "        last_enc   = enc_emb[:, -1, :]  # (batch, enc_dim)\n",
    "\n",
    "        # initializing decoder hidden/cell\n",
    "        h0 = torch.tanh(self.init_hidden(last_enc))\n",
    "        c0 = torch.tanh(self.init_cell(last_enc))\n",
    "        \n",
    "        h0 = h0.unsqueeze(0).repeat(self.decoder.num_layers, 1, 1)\n",
    "        c0 = c0.unsqueeze(0).repeat(self.decoder.num_layers, 1, 1)\n",
    "\n",
    "        dec_h, dec_c = h0, c0\n",
    "        outputs = []\n",
    "        \n",
    "        for t in range(tgt.size(1)):\n",
    "            emb_t      = self.embedding_tgt(tgt[:, t]).unsqueeze(1)\n",
    "            context, _ = self.attn(dec_h[-1], enc_emb)\n",
    "            dec_in     = torch.cat([emb_t, context.unsqueeze(1)], dim=2)\n",
    "            out, (dec_h, dec_c) = self.decoder(dec_in, (dec_h, dec_c))\n",
    "            pred = self.fc(torch.cat([out.squeeze(1), context], dim=1))\n",
    "            outputs.append(pred.unsqueeze(1))\n",
    "\n",
    "        return torch.cat(outputs, dim=1)\n"
   ]
  },
  {
   "cell_type": "code",
   "execution_count": null,
   "metadata": {
    "trusted": true
   },
   "outputs": [],
   "source": []
  },
  {
   "cell_type": "markdown",
   "metadata": {},
   "source": [
    "## 3. Training Loop & Hyperparameters:"
   ]
  },
  {
   "cell_type": "markdown",
   "metadata": {},
   "source": [
    "### Transformer Training:"
   ]
  },
  {
   "cell_type": "code",
   "execution_count": 184,
   "metadata": {
    "execution": {
     "iopub.execute_input": "2025-05-01T18:49:53.634033Z",
     "iopub.status.busy": "2025-05-01T18:49:53.633736Z",
     "iopub.status.idle": "2025-05-01T18:49:54.560960Z",
     "shell.execute_reply": "2025-05-01T18:49:54.560366Z",
     "shell.execute_reply.started": "2025-05-01T18:49:53.634016Z"
    },
    "trusted": true
   },
   "outputs": [],
   "source": [
    "import torch.optim as optim\n",
    "from torch.nn.utils import clip_grad_norm_\n",
    "from tqdm import trange\n",
    "from tqdm import tqdm\n",
    "\n",
    "def train_epoch(model, loader, optimizer, criterion, device):\n",
    "    model.train()\n",
    "    total_loss = 0\n",
    "    \n",
    "    for src, tgt in tqdm(loader, desc=\"  Training\", leave=False):\n",
    "        src, tgt = src.to(device), tgt.to(device)\n",
    "        optimizer.zero_grad()\n",
    "        output = model(src, tgt[:, :-1])\n",
    "        loss = criterion(\n",
    "            output.reshape(-1, output.size(-1)),\n",
    "            tgt[:, 1:].reshape(-1)\n",
    "        )\n",
    "        loss.backward()\n",
    "        clip_grad_norm_(model.parameters(), max_norm=1.0)\n",
    "        optimizer.step()\n",
    "        total_loss += loss.item()\n",
    "    return total_loss / len(loader)\n",
    "\n",
    "\n",
    "def eval_epoch(model, loader, criterion, device):\n",
    "    model.eval()\n",
    "    total_loss = 0\n",
    "    \n",
    "    for src, tgt in tqdm(loader, desc=\"  Evaluating\", leave=False):\n",
    "        src, tgt = src.to(device), tgt.to(device)\n",
    "        with torch.no_grad():\n",
    "            output = model(src, tgt[:, :-1])\n",
    "            loss = criterion(\n",
    "                output.reshape(-1, output.size(-1)),\n",
    "                tgt[:, 1:].reshape(-1)\n",
    "            )\n",
    "        total_loss += loss.item()\n",
    "    return total_loss / len(loader)\n",
    "\n",
    "\n",
    "device = torch.device('cuda' if torch.cuda.is_available() else 'cpu')\n",
    "transformer = TransformerMT(len(sp_en), len(sp_ur)).to(device)\n",
    "lstm_model  = Seq2SeqLSTM(len(sp_en), len(sp_ur)).to(device)\n",
    "\n",
    "\n",
    "opt_t = optim.Adam(transformer.parameters(), lr=1e-4)\n",
    "opt_l = optim.Adam(lstm_model.parameters(), lr=5e-4)\n",
    "crit = nn.CrossEntropyLoss(ignore_index=0)\n"
   ]
  },
  {
   "cell_type": "code",
   "execution_count": 185,
   "metadata": {
    "execution": {
     "iopub.execute_input": "2025-05-01T18:50:05.039016Z",
     "iopub.status.busy": "2025-05-01T18:50:05.038278Z",
     "iopub.status.idle": "2025-05-01T18:55:17.623884Z",
     "shell.execute_reply": "2025-05-01T18:55:17.622665Z",
     "shell.execute_reply.started": "2025-05-01T18:50:05.038993Z"
    },
    "trusted": true
   },
   "outputs": [
    {
     "name": "stderr",
     "output_type": "stream",
     "text": [
      "LSTM Epochs:   0%|          | 0/50 [00:00<?, ?it/s]\n",
      "  Training:   0%|          | 0/94 [00:00<?, ?it/s]\u001b[A\n",
      "  Training:   1%|          | 1/94 [00:00<01:19,  1.18it/s]\u001b[A\n",
      "  Training:   2%|▏         | 2/94 [00:01<01:03,  1.44it/s]\u001b[A\n",
      "  Training:   3%|▎         | 3/94 [00:02<01:05,  1.40it/s]\u001b[A\n",
      "  Training:   4%|▍         | 4/94 [00:02<01:05,  1.38it/s]\u001b[A\n",
      "  Training:   5%|▌         | 5/94 [00:03<01:05,  1.35it/s]\u001b[A\n",
      "  Training:   6%|▋         | 6/94 [00:04<01:04,  1.36it/s]\u001b[A\n",
      "  Training:   7%|▋         | 7/94 [00:05<01:04,  1.36it/s]\u001b[A\n",
      "  Training:   9%|▊         | 8/94 [00:05<01:04,  1.33it/s]\u001b[A\n",
      "  Training:  10%|▉         | 9/94 [00:06<01:04,  1.32it/s]\u001b[A\n",
      "  Training:  11%|█         | 10/94 [00:07<01:00,  1.38it/s]\u001b[A\n",
      "  Training:  12%|█▏        | 11/94 [00:07<00:56,  1.46it/s]\u001b[A\n",
      "  Training:  13%|█▎        | 12/94 [00:08<00:58,  1.40it/s]\u001b[A\n",
      "  Training:  14%|█▍        | 13/94 [00:09<00:59,  1.37it/s]\u001b[A\n",
      "  Training:  15%|█▍        | 14/94 [00:10<00:58,  1.37it/s]\u001b[A\n",
      "  Training:  16%|█▌        | 15/94 [00:11<00:58,  1.34it/s]\u001b[A\n",
      "  Training:  17%|█▋        | 16/94 [00:11<00:57,  1.36it/s]\u001b[A\n",
      "  Training:  18%|█▊        | 17/94 [00:12<00:57,  1.34it/s]\u001b[A\n",
      "  Training:  19%|█▉        | 18/94 [00:13<00:56,  1.34it/s]\u001b[A\n",
      "  Training:  20%|██        | 19/94 [00:13<00:55,  1.35it/s]\u001b[A\n",
      "  Training:  21%|██▏       | 20/94 [00:14<00:55,  1.33it/s]\u001b[A\n",
      "  Training:  22%|██▏       | 21/94 [00:15<00:55,  1.32it/s]\u001b[A\n",
      "  Training:  23%|██▎       | 22/94 [00:16<00:55,  1.31it/s]\u001b[A\n",
      "  Training:  24%|██▍       | 23/94 [00:16<00:52,  1.34it/s]\u001b[A\n",
      "  Training:  26%|██▌       | 24/94 [00:17<00:52,  1.32it/s]\u001b[A\n",
      "  Training:  27%|██▋       | 25/94 [00:18<00:52,  1.31it/s]\u001b[A\n",
      "  Training:  28%|██▊       | 26/94 [00:19<00:52,  1.30it/s]\u001b[A\n",
      "  Training:  29%|██▊       | 27/94 [00:20<00:52,  1.29it/s]\u001b[A\n",
      "  Training:  30%|██▉       | 28/94 [00:20<00:51,  1.28it/s]\u001b[A\n",
      "  Training:  31%|███       | 29/94 [00:21<00:50,  1.28it/s]\u001b[A\n",
      "  Training:  32%|███▏      | 30/94 [00:22<00:50,  1.28it/s]\u001b[A\n",
      "  Training:  33%|███▎      | 31/94 [00:23<00:49,  1.27it/s]\u001b[A\n",
      "  Training:  34%|███▍      | 32/94 [00:24<00:48,  1.27it/s]\u001b[A\n",
      "  Training:  35%|███▌      | 33/94 [00:24<00:48,  1.27it/s]\u001b[A\n",
      "  Training:  36%|███▌      | 34/94 [00:25<00:44,  1.36it/s]\u001b[A\n",
      "  Training:  37%|███▋      | 35/94 [00:26<00:44,  1.34it/s]\u001b[A\n",
      "  Training:  38%|███▊      | 36/94 [00:27<00:44,  1.31it/s]\u001b[A\n",
      "  Training:  39%|███▉      | 37/94 [00:27<00:43,  1.30it/s]\u001b[A\n",
      "  Training:  40%|████      | 38/94 [00:28<00:42,  1.32it/s]\u001b[A\n",
      "  Training:  41%|████▏     | 39/94 [00:29<00:42,  1.31it/s]\u001b[A\n",
      "  Training:  43%|████▎     | 40/94 [00:30<00:41,  1.31it/s]\u001b[A\n",
      "  Training:  44%|████▎     | 41/94 [00:30<00:38,  1.36it/s]\u001b[A\n",
      "  Training:  45%|████▍     | 42/94 [00:31<00:39,  1.33it/s]\u001b[A\n",
      "  Training:  46%|████▌     | 43/94 [00:32<00:39,  1.31it/s]\u001b[A\n",
      "  Training:  47%|████▋     | 44/94 [00:33<00:38,  1.29it/s]\u001b[A\n",
      "  Training:  48%|████▊     | 45/94 [00:33<00:38,  1.28it/s]\u001b[A\n",
      "  Training:  49%|████▉     | 46/94 [00:34<00:36,  1.32it/s]\u001b[A\n",
      "  Training:  50%|█████     | 47/94 [00:35<00:35,  1.32it/s]\u001b[A\n",
      "  Training:  51%|█████     | 48/94 [00:35<00:32,  1.42it/s]\u001b[A\n",
      "  Training:  52%|█████▏    | 49/94 [00:36<00:33,  1.36it/s]\u001b[A\n",
      "  Training:  53%|█████▎    | 50/94 [00:37<00:33,  1.33it/s]\u001b[A\n",
      "  Training:  54%|█████▍    | 51/94 [00:38<00:33,  1.30it/s]\u001b[A\n",
      "  Training:  55%|█████▌    | 52/94 [00:39<00:32,  1.29it/s]\u001b[A\n",
      "  Training:  56%|█████▋    | 53/94 [00:39<00:31,  1.29it/s]\u001b[A\n",
      "  Training:  57%|█████▋    | 54/94 [00:40<00:30,  1.30it/s]\u001b[A\n",
      "  Training:  59%|█████▊    | 55/94 [00:41<00:30,  1.30it/s]\u001b[A\n",
      "  Training:  60%|█████▉    | 56/94 [00:42<00:29,  1.28it/s]\u001b[A\n",
      "  Training:  61%|██████    | 57/94 [00:43<00:28,  1.32it/s]\u001b[A\n",
      "  Training:  62%|██████▏   | 58/94 [00:43<00:27,  1.32it/s]\u001b[A\n",
      "  Training:  63%|██████▎   | 59/94 [00:44<00:25,  1.37it/s]\u001b[A\n",
      "  Training:  64%|██████▍   | 60/94 [00:45<00:25,  1.34it/s]\u001b[A\n",
      "  Training:  65%|██████▍   | 61/94 [00:46<00:25,  1.31it/s]\u001b[A\n",
      "  Training:  66%|██████▌   | 62/94 [00:46<00:24,  1.33it/s]\u001b[A\n",
      "  Training:  67%|██████▋   | 63/94 [00:47<00:23,  1.30it/s]\u001b[A\n",
      "  Training:  68%|██████▊   | 64/94 [00:48<00:23,  1.30it/s]\u001b[A\n",
      "  Training:  69%|██████▉   | 65/94 [00:49<00:22,  1.31it/s]\u001b[A\n",
      "  Training:  70%|███████   | 66/94 [00:49<00:21,  1.29it/s]\u001b[A\n",
      "  Training:  71%|███████▏  | 67/94 [00:50<00:21,  1.27it/s]\u001b[A\n",
      "  Training:  72%|███████▏  | 68/94 [00:51<00:19,  1.32it/s]\u001b[A\n",
      "  Training:  73%|███████▎  | 69/94 [00:52<00:18,  1.38it/s]\u001b[A\n",
      "  Training:  74%|███████▍  | 70/94 [00:52<00:17,  1.34it/s]\u001b[A\n",
      "  Training:  76%|███████▌  | 71/94 [00:53<00:17,  1.31it/s]\u001b[A\n",
      "  Training:  77%|███████▋  | 72/94 [00:54<00:17,  1.29it/s]\u001b[A\n",
      "  Training:  78%|███████▊  | 73/94 [00:55<00:16,  1.27it/s]\u001b[A\n",
      "  Training:  79%|███████▊  | 74/94 [00:56<00:15,  1.26it/s]\u001b[A\n",
      "  Training:  80%|███████▉  | 75/94 [00:56<00:15,  1.25it/s]\u001b[A\n",
      "  Training:  81%|████████  | 76/94 [00:57<00:14,  1.25it/s]\u001b[A\n",
      "  Training:  82%|████████▏ | 77/94 [00:58<00:13,  1.28it/s]\u001b[A\n",
      "  Training:  83%|████████▎ | 78/94 [00:59<00:12,  1.27it/s]\u001b[A\n",
      "  Training:  84%|████████▍ | 79/94 [01:00<00:11,  1.26it/s]\u001b[A\n",
      "  Training:  85%|████████▌ | 80/94 [01:00<00:10,  1.36it/s]\u001b[A\n",
      "  Training:  86%|████████▌ | 81/94 [01:01<00:09,  1.38it/s]\u001b[A\n",
      "  Training:  87%|████████▋ | 82/94 [01:02<00:09,  1.33it/s]\u001b[A\n",
      "  Training:  88%|████████▊ | 83/94 [01:02<00:07,  1.42it/s]\u001b[A\n",
      "  Training:  89%|████████▉ | 84/94 [01:03<00:07,  1.36it/s]\u001b[A\n",
      "  Training:  90%|█████████ | 85/94 [01:04<00:06,  1.32it/s]\u001b[A\n",
      "  Training:  91%|█████████▏| 86/94 [01:05<00:06,  1.29it/s]\u001b[A\n",
      "  Training:  93%|█████████▎| 87/94 [01:05<00:05,  1.29it/s]\u001b[A\n",
      "  Training:  94%|█████████▎| 88/94 [01:06<00:04,  1.31it/s]\u001b[A\n",
      "  Training:  95%|█████████▍| 89/94 [01:07<00:03,  1.32it/s]\u001b[A\n",
      "  Training:  96%|█████████▌| 90/94 [01:08<00:03,  1.29it/s]\u001b[A\n",
      "  Training:  97%|█████████▋| 91/94 [01:09<00:02,  1.27it/s]\u001b[A\n",
      "  Training:  98%|█████████▊| 92/94 [01:09<00:01,  1.26it/s]\u001b[A\n",
      "  Training:  99%|█████████▉| 93/94 [01:10<00:00,  1.28it/s]\u001b[A\n",
      "  Training: 100%|██████████| 94/94 [01:11<00:00,  1.37it/s]\u001b[A\n",
      "                                                           \u001b[A\n",
      "  Evaluating:   0%|          | 0/4 [00:00<?, ?it/s]\u001b[A\n",
      "  Evaluating:  25%|██▌       | 1/4 [00:00<00:00,  7.68it/s]\u001b[A\n",
      "  Evaluating:  75%|███████▌  | 3/4 [00:00<00:00, 10.06it/s]\u001b[A\n",
      "                                                           \u001b[A"
     ]
    },
    {
     "name": "stdout",
     "output_type": "stream",
     "text": [
      "[LSTM ep01] tr=6.541 val=5.877 | ppl=356.6% acc=0.00% | time=71.2s mem=7603.7MB inf=1.51ms/s\n"
     ]
    },
    {
     "name": "stderr",
     "output_type": "stream",
     "text": [
      "LSTM Epochs:   2%|▏         | 1/50 [02:02<1:40:20, 122.87s/it]\n",
      "  Training:   0%|          | 0/94 [00:00<?, ?it/s]\u001b[A\n",
      "  Training:   1%|          | 1/94 [00:00<00:57,  1.61it/s]\u001b[A\n",
      "  Training:   2%|▏         | 2/94 [00:01<01:05,  1.39it/s]\u001b[A\n",
      "  Training:   3%|▎         | 3/94 [00:02<01:10,  1.29it/s]\u001b[A\n",
      "  Training:   4%|▍         | 4/94 [00:03<01:11,  1.25it/s]\u001b[A\n",
      "  Training:   5%|▌         | 5/94 [00:03<01:10,  1.26it/s]\u001b[A\n",
      "  Training:   6%|▋         | 6/94 [00:04<01:09,  1.27it/s]\u001b[A\n",
      "  Training:   7%|▋         | 7/94 [00:05<01:10,  1.24it/s]\u001b[A\n",
      "  Training:   9%|▊         | 8/94 [00:06<01:10,  1.22it/s]\u001b[A\n",
      "  Training:  10%|▉         | 9/94 [00:07<01:10,  1.21it/s]\u001b[A\n",
      "  Training:  11%|█         | 10/94 [00:08<01:10,  1.20it/s]\u001b[A\n",
      "  Training:  12%|█▏        | 11/94 [00:08<01:07,  1.23it/s]\u001b[A\n",
      "  Training:  13%|█▎        | 12/94 [00:09<01:06,  1.23it/s]\u001b[A\n",
      "  Training:  14%|█▍        | 13/94 [00:10<01:03,  1.27it/s]\u001b[A\n",
      "  Training:  15%|█▍        | 14/94 [00:11<01:01,  1.31it/s]\u001b[A\n",
      "  Training:  16%|█▌        | 15/94 [00:11<01:02,  1.27it/s]\u001b[A\n",
      "  Training:  17%|█▋        | 16/94 [00:12<01:03,  1.24it/s]\u001b[A\n",
      "  Training:  18%|█▊        | 17/94 [00:13<01:01,  1.25it/s]\u001b[A\n",
      "  Training:  19%|█▉        | 18/94 [00:14<01:01,  1.24it/s]\u001b[A\n",
      "  Training:  20%|██        | 19/94 [00:15<00:58,  1.29it/s]\u001b[A\n",
      "  Training:  21%|██▏       | 20/94 [00:15<00:55,  1.34it/s]\u001b[A\n",
      "  Training:  22%|██▏       | 21/94 [00:16<00:56,  1.29it/s]\u001b[A\n",
      "  Training:  23%|██▎       | 22/94 [00:17<00:57,  1.26it/s]\u001b[A\n",
      "  Training:  24%|██▍       | 23/94 [00:18<00:57,  1.23it/s]\u001b[A\n",
      "  Training:  26%|██▌       | 24/94 [00:19<00:55,  1.25it/s]\u001b[A\n",
      "  Training:  27%|██▋       | 25/94 [00:19<00:56,  1.23it/s]\u001b[A\n",
      "  Training:  28%|██▊       | 26/94 [00:20<00:56,  1.21it/s]\u001b[A\n",
      "  Training:  29%|██▊       | 27/94 [00:21<00:55,  1.20it/s]\u001b[A\n",
      "  Training:  30%|██▉       | 28/94 [00:22<00:53,  1.22it/s]\u001b[A\n",
      "  Training:  31%|███       | 29/94 [00:22<00:48,  1.33it/s]\u001b[A\n",
      "  Training:  32%|███▏      | 30/94 [00:23<00:46,  1.39it/s]\u001b[A\n",
      "  Training:  33%|███▎      | 31/94 [00:24<00:47,  1.32it/s]\u001b[A\n",
      "  Training:  34%|███▍      | 32/94 [00:25<00:48,  1.27it/s]\u001b[A\n",
      "  Training:  35%|███▌      | 33/94 [00:26<00:49,  1.24it/s]\u001b[A\n",
      "  Training:  36%|███▌      | 34/94 [00:26<00:48,  1.24it/s]\u001b[A\n",
      "  Training:  37%|███▋      | 35/94 [00:27<00:48,  1.22it/s]\u001b[A\n",
      "  Training:  38%|███▊      | 36/94 [00:28<00:48,  1.20it/s]\u001b[A\n",
      "  Training:  39%|███▉      | 37/94 [00:29<00:47,  1.19it/s]\u001b[A\n",
      "  Training:  40%|████      | 38/94 [00:30<00:47,  1.19it/s]\u001b[A\n",
      "  Training:  41%|████▏     | 39/94 [00:31<00:46,  1.18it/s]\u001b[A\n",
      "  Training:  43%|████▎     | 40/94 [00:32<00:45,  1.18it/s]\u001b[A\n",
      "  Training:  44%|████▎     | 41/94 [00:32<00:42,  1.25it/s]\u001b[A\n",
      "  Training:  45%|████▍     | 42/94 [00:33<00:41,  1.26it/s]\u001b[A\n",
      "  Training:  46%|████▌     | 43/94 [00:34<00:41,  1.23it/s]\u001b[A\n",
      "  Training:  47%|████▋     | 44/94 [00:35<00:39,  1.26it/s]\u001b[A\n",
      "  Training:  48%|████▊     | 45/94 [00:36<00:39,  1.23it/s]\u001b[A\n",
      "  Training:  49%|████▉     | 46/94 [00:36<00:39,  1.21it/s]\u001b[A\n",
      "  Training:  50%|█████     | 47/94 [00:37<00:38,  1.22it/s]\u001b[A\n",
      "  Training:  51%|█████     | 48/94 [00:38<00:35,  1.31it/s]\u001b[A\n",
      "  Training:  52%|█████▏    | 49/94 [00:39<00:35,  1.26it/s]\u001b[A\n",
      "  Training:  53%|█████▎    | 50/94 [00:40<00:35,  1.23it/s]\u001b[A\n",
      "  Training:  54%|█████▍    | 51/94 [00:40<00:35,  1.23it/s]\u001b[A\n",
      "  Training:  55%|█████▌    | 52/94 [00:41<00:34,  1.21it/s]\u001b[A\n",
      "  Training:  56%|█████▋    | 53/94 [00:42<00:32,  1.25it/s]\u001b[A\n",
      "  Training:  57%|█████▋    | 54/94 [00:43<00:32,  1.23it/s]\u001b[A\n",
      "  Training:  59%|█████▊    | 55/94 [00:44<00:32,  1.21it/s]\u001b[A\n",
      "  Training:  60%|█████▉    | 56/94 [00:44<00:31,  1.21it/s]\u001b[A\n",
      "  Training:  61%|██████    | 57/94 [00:45<00:30,  1.19it/s]\u001b[A\n",
      "  Training:  62%|██████▏   | 58/94 [00:46<00:30,  1.19it/s]\u001b[A\n",
      "  Training:  63%|██████▎   | 59/94 [00:47<00:29,  1.18it/s]\u001b[A\n",
      "  Training:  64%|██████▍   | 60/94 [00:48<00:28,  1.18it/s]\u001b[A\n",
      "  Training:  65%|██████▍   | 61/94 [00:49<00:26,  1.23it/s]\u001b[A\n",
      "  Training:  66%|██████▌   | 62/94 [00:50<00:26,  1.21it/s]\u001b[A\n",
      "  Training:  67%|██████▋   | 63/94 [00:50<00:25,  1.20it/s]\u001b[A\n",
      "  Training:  68%|██████▊   | 64/94 [00:51<00:24,  1.21it/s]\u001b[A\n",
      "  Training:  69%|██████▉   | 65/94 [00:52<00:24,  1.20it/s]\u001b[A\n",
      "  Training:  70%|███████   | 66/94 [00:53<00:23,  1.19it/s]\u001b[A\n",
      "  Training:  71%|███████▏  | 67/94 [00:54<00:21,  1.28it/s]\u001b[A\n",
      "  Training:  72%|███████▏  | 68/94 [00:54<00:20,  1.26it/s]\u001b[A\n",
      "  Training:  73%|███████▎  | 69/94 [00:55<00:20,  1.23it/s]\u001b[A\n",
      "  Training:  74%|███████▍  | 70/94 [00:56<00:19,  1.21it/s]\u001b[A\n",
      "  Training:  76%|███████▌  | 71/94 [00:57<00:19,  1.19it/s]\u001b[A\n",
      "  Training:  77%|███████▋  | 72/94 [00:58<00:18,  1.22it/s]\u001b[A\n",
      "  Training:  78%|███████▊  | 73/94 [00:59<00:17,  1.21it/s]\u001b[A\n",
      "  Training:  79%|███████▊  | 74/94 [00:59<00:16,  1.19it/s]\u001b[A\n",
      "  Training:  80%|███████▉  | 75/94 [01:00<00:16,  1.19it/s]\u001b[A\n",
      "  Training:  81%|████████  | 76/94 [01:01<00:15,  1.18it/s]\u001b[A\n",
      "  Training:  82%|████████▏ | 77/94 [01:02<00:14,  1.18it/s]\u001b[A\n",
      "  Training:  83%|████████▎ | 78/94 [01:03<00:12,  1.24it/s]\u001b[A\n",
      "  Training:  84%|████████▍ | 79/94 [01:03<00:11,  1.33it/s]\u001b[A\n",
      "  Training:  85%|████████▌ | 80/94 [01:04<00:10,  1.30it/s]\u001b[A\n",
      "  Training:  86%|████████▌ | 81/94 [01:05<00:10,  1.29it/s]\u001b[A\n",
      "  Training:  87%|████████▋ | 82/94 [01:06<00:09,  1.25it/s]\u001b[A\n",
      "  Training:  88%|████████▊ | 83/94 [01:07<00:09,  1.22it/s]\u001b[A\n",
      "  Training:  89%|████████▉ | 84/94 [01:07<00:08,  1.20it/s]\u001b[A\n",
      "  Training:  90%|█████████ | 85/94 [01:08<00:07,  1.19it/s]\u001b[A\n",
      "  Training:  91%|█████████▏| 86/94 [01:09<00:06,  1.18it/s]\u001b[A\n",
      "  Training:  93%|█████████▎| 87/94 [01:10<00:05,  1.21it/s]\u001b[A\n",
      "  Training:  94%|█████████▎| 88/94 [01:11<00:05,  1.19it/s]\u001b[A\n",
      "  Training:  95%|█████████▍| 89/94 [01:12<00:04,  1.18it/s]\u001b[A\n",
      "  Training:  96%|█████████▌| 90/94 [01:13<00:03,  1.17it/s]\u001b[A\n",
      "  Training:  97%|█████████▋| 91/94 [01:13<00:02,  1.17it/s]\u001b[A\n",
      "  Training:  98%|█████████▊| 92/94 [01:14<00:01,  1.20it/s]\u001b[A\n",
      "  Training:  99%|█████████▉| 93/94 [01:15<00:00,  1.19it/s]\u001b[A\n",
      "  Training: 100%|██████████| 94/94 [01:16<00:00,  1.28it/s]\u001b[A\n",
      "                                                           \u001b[A\n",
      "  Evaluating:   0%|          | 0/4 [00:00<?, ?it/s]\u001b[A\n",
      "  Evaluating:  25%|██▌       | 1/4 [00:00<00:00,  7.06it/s]\u001b[A\n",
      "  Evaluating:  75%|███████▌  | 3/4 [00:00<00:00,  9.33it/s]\u001b[A\n",
      "                                                           \u001b[A"
     ]
    },
    {
     "name": "stdout",
     "output_type": "stream",
     "text": [
      "[LSTM ep02] tr=5.266 val=5.380 | ppl=217.0% acc=0.00% | time=76.2s mem=7603.7MB inf=1.54ms/s\n"
     ]
    },
    {
     "name": "stderr",
     "output_type": "stream",
     "text": [
      "LSTM Epochs:   4%|▍         | 2/50 [04:14<1:42:12, 127.76s/it]\n",
      "  Training:   0%|          | 0/94 [00:00<?, ?it/s]\u001b[A\n",
      "  Training:   1%|          | 1/94 [00:00<01:17,  1.20it/s]\u001b[A\n",
      "  Training:   2%|▏         | 2/94 [00:01<01:18,  1.17it/s]\u001b[A\n",
      "  Training:   3%|▎         | 3/94 [00:02<01:17,  1.17it/s]\u001b[A\n",
      "  Training:   4%|▍         | 4/94 [00:03<01:10,  1.28it/s]\u001b[A\n",
      "  Training:   5%|▌         | 5/94 [00:04<01:12,  1.23it/s]\u001b[A\n",
      "  Training:   6%|▋         | 6/94 [00:04<01:10,  1.25it/s]\u001b[A\n",
      "  Training:   7%|▋         | 7/94 [00:05<01:07,  1.29it/s]\u001b[A\n",
      "  Training:   9%|▊         | 8/94 [00:06<01:08,  1.25it/s]\u001b[A\n",
      "  Training:  10%|▉         | 9/94 [00:07<01:10,  1.21it/s]\u001b[A\n",
      "  Training:  11%|█         | 10/94 [00:08<01:10,  1.20it/s]\u001b[A\n",
      "  Training:  12%|█▏        | 11/94 [00:09<01:08,  1.21it/s]\u001b[A\n",
      "  Training:  13%|█▎        | 12/94 [00:09<01:09,  1.19it/s]\u001b[A\n",
      "  Training:  14%|█▍        | 13/94 [00:10<01:08,  1.18it/s]\u001b[A\n",
      "  Training:  15%|█▍        | 14/94 [00:11<01:08,  1.17it/s]\u001b[A\n",
      "  Training:  16%|█▌        | 15/94 [00:12<01:04,  1.22it/s]\u001b[A\n",
      "  Training:  17%|█▋        | 16/94 [00:13<01:05,  1.20it/s]\u001b[A\n",
      "  Training:  18%|█▊        | 17/94 [00:14<01:04,  1.20it/s]\u001b[A\n",
      "  Training:  19%|█▉        | 18/94 [00:14<01:04,  1.19it/s]\u001b[A\n",
      "  Training:  20%|██        | 19/94 [00:15<01:03,  1.18it/s]\u001b[A\n",
      "  Training:  21%|██▏       | 20/94 [00:16<01:02,  1.19it/s]\u001b[A\n",
      "  Training:  22%|██▏       | 21/94 [00:17<01:02,  1.18it/s]\u001b[A\n",
      "  Training:  23%|██▎       | 22/94 [00:18<01:01,  1.17it/s]\u001b[A\n",
      "  Training:  24%|██▍       | 23/94 [00:19<00:59,  1.20it/s]\u001b[A\n",
      "  Training:  26%|██▌       | 24/94 [00:19<00:58,  1.19it/s]\u001b[A\n",
      "  Training:  27%|██▋       | 25/94 [00:20<00:55,  1.23it/s]\u001b[A\n",
      "  Training:  28%|██▊       | 26/94 [00:21<00:56,  1.21it/s]\u001b[A\n",
      "  Training:  29%|██▊       | 27/94 [00:22<00:56,  1.20it/s]\u001b[A\n",
      "  Training:  30%|██▉       | 28/94 [00:23<00:55,  1.18it/s]\u001b[A\n",
      "  Training:  31%|███       | 29/94 [00:24<00:55,  1.17it/s]\u001b[A\n",
      "  Training:  32%|███▏      | 30/94 [00:25<00:54,  1.17it/s]\u001b[A\n",
      "  Training:  33%|███▎      | 31/94 [00:25<00:53,  1.18it/s]\u001b[A\n",
      "  Training:  34%|███▍      | 32/94 [00:26<00:52,  1.17it/s]\u001b[A\n",
      "  Training:  35%|███▌      | 33/94 [00:27<00:52,  1.17it/s]\u001b[A\n",
      "  Training:  36%|███▌      | 34/94 [00:28<00:46,  1.28it/s]\u001b[A\n",
      "  Training:  37%|███▋      | 35/94 [00:29<00:46,  1.27it/s]\u001b[A\n",
      "  Training:  38%|███▊      | 36/94 [00:29<00:47,  1.23it/s]\u001b[A\n",
      "  Training:  39%|███▉      | 37/94 [00:30<00:46,  1.23it/s]\u001b[A\n",
      "  Training:  40%|████      | 38/94 [00:31<00:46,  1.20it/s]\u001b[A\n",
      "  Training:  41%|████▏     | 39/94 [00:32<00:46,  1.19it/s]\u001b[A\n",
      "  Training:  43%|████▎     | 40/94 [00:33<00:45,  1.18it/s]\u001b[A\n",
      "  Training:  44%|████▎     | 41/94 [00:34<00:45,  1.17it/s]\u001b[A\n",
      "  Training:  45%|████▍     | 42/94 [00:34<00:41,  1.25it/s]\u001b[A\n",
      "  Training:  46%|████▌     | 43/94 [00:35<00:41,  1.22it/s]\u001b[A\n",
      "  Training:  47%|████▋     | 44/94 [00:36<00:41,  1.20it/s]\u001b[A\n",
      "  Training:  48%|████▊     | 45/94 [00:37<00:41,  1.18it/s]\u001b[A\n",
      "  Training:  49%|████▉     | 46/94 [00:38<00:40,  1.17it/s]\u001b[A\n",
      "  Training:  50%|█████     | 47/94 [00:39<00:40,  1.17it/s]\u001b[A\n",
      "  Training:  51%|█████     | 48/94 [00:40<00:39,  1.16it/s]\u001b[A\n",
      "  Training:  52%|█████▏    | 49/94 [00:40<00:38,  1.17it/s]\u001b[A\n",
      "  Training:  53%|█████▎    | 50/94 [00:41<00:35,  1.23it/s]\u001b[A\n",
      "  Training:  54%|█████▍    | 51/94 [00:42<00:35,  1.20it/s]\u001b[A\n",
      "  Training:  55%|█████▌    | 52/94 [00:43<00:34,  1.20it/s]\u001b[A\n",
      "  Training:  56%|█████▋    | 53/94 [00:44<00:33,  1.23it/s]\u001b[A\n",
      "  Training:  57%|█████▋    | 54/94 [00:44<00:32,  1.22it/s]\u001b[A\n",
      "  Training:  59%|█████▊    | 55/94 [00:45<00:32,  1.20it/s]\u001b[A\n",
      "  Training:  60%|█████▉    | 56/94 [00:46<00:32,  1.19it/s]\u001b[A\n",
      "  Training:  61%|██████    | 57/94 [00:47<00:31,  1.17it/s]\u001b[A\n",
      "  Training:  62%|██████▏   | 58/94 [00:48<00:29,  1.24it/s]\u001b[A\n",
      "  Training:  63%|██████▎   | 59/94 [00:49<00:28,  1.23it/s]\u001b[A\n",
      "  Training:  64%|██████▍   | 60/94 [00:49<00:28,  1.21it/s]\u001b[A\n",
      "  Training:  65%|██████▍   | 61/94 [00:50<00:27,  1.19it/s]\u001b[A\n",
      "  Training:  66%|██████▌   | 62/94 [00:51<00:27,  1.18it/s]\u001b[A\n",
      "  Training:  67%|██████▋   | 63/94 [00:52<00:26,  1.17it/s]\u001b[A\n",
      "  Training:  68%|██████▊   | 64/94 [00:53<00:25,  1.17it/s]\u001b[A\n",
      "  Training:  69%|██████▉   | 65/94 [00:54<00:24,  1.16it/s]\u001b[A\n",
      "  Training:  70%|███████   | 66/94 [00:55<00:23,  1.19it/s]\u001b[A\n",
      "  Training:  71%|███████▏  | 67/94 [00:55<00:22,  1.18it/s]\u001b[A\n",
      "  Training:  72%|███████▏  | 68/94 [00:56<00:22,  1.17it/s]\u001b[A\n",
      "  Training:  73%|███████▎  | 69/94 [00:57<00:21,  1.17it/s]\u001b[A\n",
      "LSTM Epochs:   4%|▍         | 2/50 [05:12<2:05:01, 156.28s/it]\n"
     ]
    },
    {
     "ename": "KeyboardInterrupt",
     "evalue": "",
     "output_type": "error",
     "traceback": [
      "\u001b[0;31m---------------------------------------------------------------------------\u001b[0m",
      "\u001b[0;31mKeyboardInterrupt\u001b[0m                         Traceback (most recent call last)",
      "\u001b[0;32m/tmp/ipykernel_31/3049208265.py\u001b[0m in \u001b[0;36m<cell line: 0>\u001b[0;34m()\u001b[0m\n\u001b[1;32m     54\u001b[0m     \u001b[0mtorch\u001b[0m\u001b[0;34m.\u001b[0m\u001b[0mcuda\u001b[0m\u001b[0;34m.\u001b[0m\u001b[0mreset_max_memory_allocated\u001b[0m\u001b[0;34m(\u001b[0m\u001b[0;34m)\u001b[0m\u001b[0;34m\u001b[0m\u001b[0;34m\u001b[0m\u001b[0m\n\u001b[1;32m     55\u001b[0m     \u001b[0mt0\u001b[0m \u001b[0;34m=\u001b[0m \u001b[0mtime\u001b[0m\u001b[0;34m.\u001b[0m\u001b[0mtime\u001b[0m\u001b[0;34m(\u001b[0m\u001b[0;34m)\u001b[0m\u001b[0;34m\u001b[0m\u001b[0;34m\u001b[0m\u001b[0m\n\u001b[0;32m---> 56\u001b[0;31m     \u001b[0mtr_loss\u001b[0m \u001b[0;34m=\u001b[0m \u001b[0mtrain_epoch\u001b[0m\u001b[0;34m(\u001b[0m\u001b[0mtransformer\u001b[0m\u001b[0;34m,\u001b[0m \u001b[0mtrain_loader\u001b[0m\u001b[0;34m,\u001b[0m \u001b[0mopt_t\u001b[0m\u001b[0;34m,\u001b[0m \u001b[0mcrit\u001b[0m\u001b[0;34m,\u001b[0m \u001b[0mdevice\u001b[0m\u001b[0;34m)\u001b[0m\u001b[0;34m\u001b[0m\u001b[0;34m\u001b[0m\u001b[0m\n\u001b[0m\u001b[1;32m     57\u001b[0m     \u001b[0mtr_time\u001b[0m \u001b[0;34m=\u001b[0m \u001b[0mtime\u001b[0m\u001b[0;34m.\u001b[0m\u001b[0mtime\u001b[0m\u001b[0;34m(\u001b[0m\u001b[0;34m)\u001b[0m \u001b[0;34m-\u001b[0m \u001b[0mt0\u001b[0m\u001b[0;34m\u001b[0m\u001b[0;34m\u001b[0m\u001b[0m\n\u001b[1;32m     58\u001b[0m     \u001b[0mtr_mem\u001b[0m  \u001b[0;34m=\u001b[0m \u001b[0mtorch\u001b[0m\u001b[0;34m.\u001b[0m\u001b[0mcuda\u001b[0m\u001b[0;34m.\u001b[0m\u001b[0mmax_memory_allocated\u001b[0m\u001b[0;34m(\u001b[0m\u001b[0;34m)\u001b[0m \u001b[0;34m/\u001b[0m \u001b[0;34m(\u001b[0m\u001b[0;36m1024\u001b[0m\u001b[0;34m**\u001b[0m\u001b[0;36m2\u001b[0m\u001b[0;34m)\u001b[0m\u001b[0;34m\u001b[0m\u001b[0;34m\u001b[0m\u001b[0m\n",
      "\u001b[0;32m/tmp/ipykernel_31/3386704716.py\u001b[0m in \u001b[0;36mtrain_epoch\u001b[0;34m(model, loader, optimizer, criterion, device)\u001b[0m\n\u001b[1;32m     19\u001b[0m         \u001b[0mclip_grad_norm_\u001b[0m\u001b[0;34m(\u001b[0m\u001b[0mmodel\u001b[0m\u001b[0;34m.\u001b[0m\u001b[0mparameters\u001b[0m\u001b[0;34m(\u001b[0m\u001b[0;34m)\u001b[0m\u001b[0;34m,\u001b[0m \u001b[0mmax_norm\u001b[0m\u001b[0;34m=\u001b[0m\u001b[0;36m1.0\u001b[0m\u001b[0;34m)\u001b[0m\u001b[0;34m\u001b[0m\u001b[0;34m\u001b[0m\u001b[0m\n\u001b[1;32m     20\u001b[0m         \u001b[0moptimizer\u001b[0m\u001b[0;34m.\u001b[0m\u001b[0mstep\u001b[0m\u001b[0;34m(\u001b[0m\u001b[0;34m)\u001b[0m\u001b[0;34m\u001b[0m\u001b[0;34m\u001b[0m\u001b[0m\n\u001b[0;32m---> 21\u001b[0;31m         \u001b[0mtotal_loss\u001b[0m \u001b[0;34m+=\u001b[0m \u001b[0mloss\u001b[0m\u001b[0;34m.\u001b[0m\u001b[0mitem\u001b[0m\u001b[0;34m(\u001b[0m\u001b[0;34m)\u001b[0m\u001b[0;34m\u001b[0m\u001b[0;34m\u001b[0m\u001b[0m\n\u001b[0m\u001b[1;32m     22\u001b[0m     \u001b[0;32mreturn\u001b[0m \u001b[0mtotal_loss\u001b[0m \u001b[0;34m/\u001b[0m \u001b[0mlen\u001b[0m\u001b[0;34m(\u001b[0m\u001b[0mloader\u001b[0m\u001b[0;34m)\u001b[0m\u001b[0;34m\u001b[0m\u001b[0;34m\u001b[0m\u001b[0m\n\u001b[1;32m     23\u001b[0m \u001b[0;34m\u001b[0m\u001b[0m\n",
      "\u001b[0;31mKeyboardInterrupt\u001b[0m: "
     ]
    }
   ],
   "source": [
    "# Translate batch utility (for BLEU/accuracy)\n",
    "def translate_batch(model, loader, sp_src, sp_tgt, device, max_len=128):\n",
    "    model.eval()\n",
    "    refs, hyps = [], []\n",
    "    sos, eos = 1, 2\n",
    "    with torch.no_grad():\n",
    "        for src, tgt in loader:\n",
    "            src = src.to(device)\n",
    "            \n",
    "            for r in tgt.cpu().tolist():\n",
    "                refs.append(sp_tgt.decode_ids(r[1:-1]))\n",
    "            \n",
    "            batch_size = src.size(0)\n",
    "            dec = torch.full((batch_size,1), sos, dtype=torch.long, device=device)\n",
    "            for _ in range(max_len-1):\n",
    "                logits = model(src, dec)\n",
    "                next_tok = logits[:,-1,:].argmax(-1, keepdim=True)\n",
    "                dec = torch.cat([dec, next_tok], dim=1)\n",
    "                if (next_tok==eos).all(): break\n",
    "            for seq in dec.cpu().tolist():\n",
    "                if eos in seq:\n",
    "                    seq = seq[:seq.index(eos)]\n",
    "                hyps.append(sp_tgt.decode_ids(seq[1:]))\n",
    "    return refs, hyps\n",
    "\n",
    "\n",
    "# Inference speed measurement\n",
    "def measure_inference_speed(model, loader, device, warmup=2):\n",
    "    model.eval()\n",
    "    timings = []\n",
    "    with torch.no_grad():\n",
    "        for i,(src,tgt) in enumerate(loader):\n",
    "            if i<warmup:\n",
    "                _ = model(src.to(device), tgt[:,:-1].to(device))\n",
    "                continue\n",
    "            src, tgt = src.to(device), tgt.to(device)\n",
    "            if device.type=='cuda': torch.cuda.synchronize()\n",
    "            t0 = time.time()\n",
    "            _ = model(src, tgt[:,:-1])\n",
    "            if device.type=='cuda': torch.cuda.synchronize()\n",
    "            t1 = time.time()\n",
    "            timings.append((t1-t0)*1000/src.size(0))\n",
    "    return float(np.mean(timings))\n",
    "\n",
    "\n",
    "train_losses, val_losses = [], []\n",
    "train_times, train_mems = [], []\n",
    "perplexities, val_accs, inf_speeds = [], [], []\n",
    "\n",
    "best_val, wait = float('inf'), 0\n",
    "patience = 5\n",
    "\n",
    "for ep in trange(1, 51, desc=\"LSTM Epochs\"):\n",
    "    torch.cuda.reset_max_memory_allocated()\n",
    "    t0 = time.time()\n",
    "    tr_loss = train_epoch(transformer, train_loader, opt_t, crit, device)\n",
    "    tr_time = time.time() - t0\n",
    "    tr_mem  = torch.cuda.max_memory_allocated() / (1024**2)\n",
    "\n",
    "    val_loss = eval_epoch(transformer, dev_loader, crit, device)\n",
    "    val_ppl  = torch.exp(torch.tensor(val_loss)).item()\n",
    "\n",
    "    refs, hyps = translate_batch(transformer, dev_loader, sp_en, sp_ur, device)\n",
    "    acc = sum(r.strip()==h.strip() for r,h in zip(refs,hyps)) / len(refs) * 100\n",
    "\n",
    "    inf_speed = measure_inference_speed(transformer, dev_loader, device)\n",
    "\n",
    "    print(f\"[LSTM ep{ep:02d}] tr={tr_loss:.3f} val={val_loss:.3f} | \"\n",
    "          f\"ppl={val_ppl:.1f}% acc={acc:.2f}% | \"\n",
    "          f\"time={tr_time:.1f}s mem={tr_mem:.1f}MB inf={inf_speed:.2f}ms/s\")\n",
    "\n",
    "    if val_loss < best_val:\n",
    "        best_val, wait = val_loss, 0\n",
    "        torch.save(lstm.state_dict(), 'best_transformer_2.pt')\n",
    "    else:\n",
    "        wait += 1\n",
    "        if wait >= patience:\n",
    "            print(\"Early stopping.\")\n",
    "            break\n",
    "\n",
    "    train_losses.append(tr_loss)\n",
    "    val_losses.append(val_loss)\n",
    "    train_times.append(tr_time)\n",
    "    train_mems.append(tr_mem)\n",
    "    perplexities.append(val_ppl)\n",
    "    val_accs.append(acc)\n",
    "    inf_speeds.append(inf_speed)"
   ]
  },
  {
   "cell_type": "code",
   "execution_count": null,
   "metadata": {
    "execution": {
     "iopub.execute_input": "2025-05-01T13:31:33.676690Z",
     "iopub.status.busy": "2025-05-01T13:31:33.676105Z",
     "iopub.status.idle": "2025-05-01T14:01:49.184613Z",
     "shell.execute_reply": "2025-05-01T14:01:49.183946Z",
     "shell.execute_reply.started": "2025-05-01T13:31:33.676669Z"
    },
    "trusted": true
   },
   "outputs": [
    {
     "name": "stderr",
     "output_type": "stream",
     "text": [
      "Epochs:   0%|          | 0/50 [00:00<?, ?it/s]\n",
      "  Training:   0%|          | 0/94 [00:00<?, ?it/s]\u001b[A\n",
      "  Training:   1%|          | 1/94 [00:00<01:18,  1.18it/s]\u001b[A\n",
      "  Training:   2%|▏         | 2/94 [00:01<01:09,  1.33it/s]\u001b[A\n",
      "  Training:   3%|▎         | 3/94 [00:02<01:09,  1.32it/s]\u001b[A\n",
      "  Training:   4%|▍         | 4/94 [00:03<01:07,  1.33it/s]\u001b[A\n",
      "  Training:   5%|▌         | 5/94 [00:03<01:07,  1.31it/s]\u001b[A\n",
      "  Training:   6%|▋         | 6/94 [00:04<01:06,  1.32it/s]\u001b[A\n",
      "  Training:   7%|▋         | 7/94 [00:05<01:06,  1.31it/s]\u001b[A\n",
      "  Training:   9%|▊         | 8/94 [00:06<01:05,  1.30it/s]\u001b[A\n",
      "  Training:  10%|▉         | 9/94 [00:06<01:01,  1.38it/s]\u001b[A\n",
      "  Training:  11%|█         | 10/94 [00:07<01:02,  1.35it/s]\u001b[A\n",
      "  Training:  12%|█▏        | 11/94 [00:08<01:02,  1.33it/s]\u001b[A\n",
      "  Training:  13%|█▎        | 12/94 [00:09<01:02,  1.32it/s]\u001b[A\n",
      "  Training:  14%|█▍        | 13/94 [00:09<01:00,  1.35it/s]\u001b[A\n",
      "  Training:  15%|█▍        | 14/94 [00:10<01:00,  1.33it/s]\u001b[A\n",
      "  Training:  16%|█▌        | 15/94 [00:11<01:00,  1.31it/s]\u001b[A\n",
      "  Training:  17%|█▋        | 16/94 [00:12<00:59,  1.31it/s]\u001b[A\n",
      "  Training:  18%|█▊        | 17/94 [00:12<00:57,  1.34it/s]\u001b[A\n",
      "  Training:  19%|█▉        | 18/94 [00:13<00:54,  1.38it/s]\u001b[A\n",
      "  Training:  20%|██        | 19/94 [00:14<00:55,  1.36it/s]\u001b[A\n",
      "  Training:  21%|██▏       | 20/94 [00:15<00:55,  1.33it/s]\u001b[A\n",
      "  Training:  22%|██▏       | 21/94 [00:15<00:55,  1.32it/s]\u001b[A\n",
      "  Training:  23%|██▎       | 22/94 [00:16<00:55,  1.31it/s]\u001b[A\n",
      "  Training:  24%|██▍       | 23/94 [00:17<00:54,  1.30it/s]\u001b[A\n",
      "  Training:  26%|██▌       | 24/94 [00:18<00:53,  1.31it/s]\u001b[A\n",
      "  Training:  27%|██▋       | 25/94 [00:18<00:53,  1.30it/s]\u001b[A\n",
      "  Training:  28%|██▊       | 26/94 [00:19<00:52,  1.30it/s]\u001b[A\n",
      "  Training:  29%|██▊       | 27/94 [00:20<00:51,  1.30it/s]\u001b[A\n",
      "  Training:  30%|██▉       | 28/94 [00:21<00:51,  1.29it/s]\u001b[A\n",
      "  Training:  31%|███       | 29/94 [00:22<00:50,  1.28it/s]\u001b[A\n",
      "  Training:  32%|███▏      | 30/94 [00:22<00:49,  1.30it/s]\u001b[A\n",
      "  Training:  33%|███▎      | 31/94 [00:23<00:48,  1.29it/s]\u001b[A\n",
      "  Training:  34%|███▍      | 32/94 [00:24<00:45,  1.35it/s]\u001b[A\n",
      "  Training:  35%|███▌      | 33/94 [00:25<00:46,  1.32it/s]\u001b[A\n",
      "  Training:  36%|███▌      | 34/94 [00:25<00:45,  1.31it/s]\u001b[A\n",
      "  Training:  37%|███▋      | 35/94 [00:26<00:45,  1.29it/s]\u001b[A\n",
      "  Training:  38%|███▊      | 36/94 [00:27<00:45,  1.28it/s]\u001b[A\n",
      "  Training:  39%|███▉      | 37/94 [00:28<00:44,  1.28it/s]\u001b[A\n",
      "  Training:  40%|████      | 38/94 [00:28<00:43,  1.27it/s]\u001b[A\n",
      "  Training:  41%|████▏     | 39/94 [00:29<00:43,  1.27it/s]\u001b[A\n",
      "  Training:  43%|████▎     | 40/94 [00:30<00:42,  1.27it/s]\u001b[A\n",
      "  Training:  44%|████▎     | 41/94 [00:31<00:40,  1.29it/s]\u001b[A\n",
      "  Training:  45%|████▍     | 42/94 [00:32<00:40,  1.28it/s]\u001b[A\n",
      "  Training:  46%|████▌     | 43/94 [00:32<00:39,  1.28it/s]\u001b[A\n",
      "  Training:  47%|████▋     | 44/94 [00:33<00:39,  1.27it/s]\u001b[A\n",
      "  Training:  48%|████▊     | 45/94 [00:34<00:38,  1.26it/s]\u001b[A\n",
      "  Training:  49%|████▉     | 46/94 [00:35<00:38,  1.26it/s]\u001b[A\n",
      "  Training:  50%|█████     | 47/94 [00:36<00:37,  1.26it/s]\u001b[A\n",
      "  Training:  51%|█████     | 48/94 [00:36<00:35,  1.28it/s]\u001b[A\n",
      "  Training:  52%|█████▏    | 49/94 [00:37<00:34,  1.32it/s]\u001b[A\n",
      "  Training:  53%|█████▎    | 50/94 [00:38<00:33,  1.30it/s]\u001b[A\n",
      "  Training:  54%|█████▍    | 51/94 [00:39<00:32,  1.33it/s]\u001b[A\n",
      "  Training:  55%|█████▌    | 52/94 [00:39<00:29,  1.44it/s]\u001b[A\n",
      "  Training:  56%|█████▋    | 53/94 [00:40<00:29,  1.38it/s]\u001b[A\n",
      "  Training:  57%|█████▋    | 54/94 [00:41<00:29,  1.34it/s]\u001b[A\n",
      "  Training:  59%|█████▊    | 55/94 [00:41<00:29,  1.32it/s]\u001b[A\n",
      "  Training:  60%|█████▉    | 56/94 [00:42<00:29,  1.30it/s]\u001b[A\n",
      "  Training:  61%|██████    | 57/94 [00:43<00:28,  1.28it/s]\u001b[A\n",
      "  Training:  62%|██████▏   | 58/94 [00:44<00:28,  1.28it/s]\u001b[A\n",
      "  Training:  63%|██████▎   | 59/94 [00:45<00:27,  1.27it/s]\u001b[A\n",
      "  Training:  64%|██████▍   | 60/94 [00:45<00:25,  1.35it/s]\u001b[A\n",
      "  Training:  65%|██████▍   | 61/94 [00:46<00:25,  1.32it/s]\u001b[A\n",
      "  Training:  66%|██████▌   | 62/94 [00:47<00:24,  1.29it/s]\u001b[A\n",
      "  Training:  67%|██████▋   | 63/94 [00:48<00:24,  1.28it/s]\u001b[A\n",
      "  Training:  68%|██████▊   | 64/94 [00:48<00:22,  1.32it/s]\u001b[A\n",
      "  Training:  69%|██████▉   | 65/94 [00:49<00:22,  1.30it/s]\u001b[A\n",
      "  Training:  70%|███████   | 66/94 [00:50<00:21,  1.28it/s]\u001b[A\n",
      "  Training:  71%|███████▏  | 67/94 [00:51<00:20,  1.29it/s]\u001b[A\n",
      "  Training:  72%|███████▏  | 68/94 [00:52<00:20,  1.27it/s]\u001b[A\n",
      "  Training:  73%|███████▎  | 69/94 [00:52<00:19,  1.30it/s]\u001b[A\n",
      "  Training:  74%|███████▍  | 70/94 [00:53<00:18,  1.29it/s]\u001b[A\n",
      "  Training:  76%|███████▌  | 71/94 [00:54<00:18,  1.27it/s]\u001b[A\n",
      "  Training:  77%|███████▋  | 72/94 [00:55<00:17,  1.26it/s]\u001b[A\n",
      "  Training:  78%|███████▊  | 73/94 [00:55<00:16,  1.29it/s]\u001b[A\n",
      "  Training:  79%|███████▊  | 74/94 [00:56<00:15,  1.28it/s]\u001b[A\n",
      "  Training:  80%|███████▉  | 75/94 [00:57<00:14,  1.30it/s]\u001b[A\n",
      "  Training:  81%|████████  | 76/94 [00:58<00:14,  1.28it/s]\u001b[A\n",
      "  Training:  82%|████████▏ | 77/94 [00:59<00:13,  1.27it/s]\u001b[A\n",
      "  Training:  83%|████████▎ | 78/94 [00:59<00:12,  1.26it/s]\u001b[A\n",
      "  Training:  84%|████████▍ | 79/94 [01:00<00:11,  1.25it/s]\u001b[A\n",
      "  Training:  85%|████████▌ | 80/94 [01:01<00:10,  1.28it/s]\u001b[A\n",
      "  Training:  86%|████████▌ | 81/94 [01:02<00:10,  1.27it/s]\u001b[A\n",
      "  Training:  87%|████████▋ | 82/94 [01:03<00:09,  1.26it/s]\u001b[A\n",
      "  Training:  88%|████████▊ | 83/94 [01:03<00:08,  1.25it/s]\u001b[A\n",
      "  Training:  89%|████████▉ | 84/94 [01:04<00:08,  1.24it/s]\u001b[A\n",
      "  Training:  90%|█████████ | 85/94 [01:05<00:07,  1.24it/s]\u001b[A\n",
      "  Training:  91%|█████████▏| 86/94 [01:06<00:06,  1.24it/s]\u001b[A\n",
      "  Training:  93%|█████████▎| 87/94 [01:07<00:05,  1.24it/s]\u001b[A\n",
      "  Training:  94%|█████████▎| 88/94 [01:07<00:04,  1.25it/s]\u001b[A\n",
      "  Training:  95%|█████████▍| 89/94 [01:08<00:04,  1.24it/s]\u001b[A\n",
      "  Training:  96%|█████████▌| 90/94 [01:09<00:03,  1.24it/s]\u001b[A\n",
      "  Training:  97%|█████████▋| 91/94 [01:10<00:02,  1.24it/s]\u001b[A\n",
      "  Training:  98%|█████████▊| 92/94 [01:11<00:01,  1.26it/s]\u001b[A\n",
      "  Training:  99%|█████████▉| 93/94 [01:11<00:00,  1.27it/s]\u001b[A\n",
      "  Training: 100%|██████████| 94/94 [01:12<00:00,  1.36it/s]\u001b[A\n",
      "                                                           \u001b[A\n",
      "  Evaluating:   0%|          | 0/4 [00:00<?, ?it/s]\u001b[A\n",
      "  Evaluating:  25%|██▌       | 1/4 [00:00<00:00,  7.55it/s]\u001b[A\n",
      "  Evaluating:  75%|███████▌  | 3/4 [00:00<00:00, 10.12it/s]\u001b[A\n",
      "                                                           \u001b[A"
     ]
    },
    {
     "name": "stdout",
     "output_type": "stream",
     "text": [
      "[Trans ep1] tr=6.556 val=5.867\n"
     ]
    },
    {
     "name": "stderr",
     "output_type": "stream",
     "text": [
      "Epochs:   2%|▏         | 1/50 [01:13<59:44, 73.16s/it]\n",
      "  Training:   0%|          | 0/94 [00:00<?, ?it/s]\u001b[A\n",
      "  Training:   1%|          | 1/94 [00:00<01:15,  1.23it/s]\u001b[A\n",
      "  Training:   2%|▏         | 2/94 [00:01<01:14,  1.23it/s]\u001b[A\n",
      "  Training:   3%|▎         | 3/94 [00:02<01:14,  1.22it/s]\u001b[A\n",
      "  Training:   4%|▍         | 4/94 [00:03<01:09,  1.29it/s]\u001b[A\n",
      "  Training:   5%|▌         | 5/94 [00:03<01:10,  1.27it/s]\u001b[A\n",
      "  Training:   6%|▋         | 6/94 [00:04<01:08,  1.28it/s]\u001b[A\n",
      "  Training:   7%|▋         | 7/94 [00:05<01:08,  1.27it/s]\u001b[A\n",
      "  Training:   9%|▊         | 8/94 [00:06<01:08,  1.25it/s]\u001b[A\n",
      "  Training:  10%|▉         | 9/94 [00:07<01:08,  1.24it/s]\u001b[A\n",
      "  Training:  11%|█         | 10/94 [00:08<01:08,  1.23it/s]\u001b[A\n",
      "  Training:  12%|█▏        | 11/94 [00:08<01:06,  1.25it/s]\u001b[A\n",
      "  Training:  13%|█▎        | 12/94 [00:09<01:03,  1.30it/s]\u001b[A\n",
      "  Training:  14%|█▍        | 13/94 [00:10<01:01,  1.31it/s]\u001b[A\n",
      "  Training:  15%|█▍        | 14/94 [00:11<01:01,  1.30it/s]\u001b[A\n",
      "  Training:  16%|█▌        | 15/94 [00:11<00:59,  1.33it/s]\u001b[A\n",
      "  Training:  17%|█▋        | 16/94 [00:12<00:58,  1.34it/s]\u001b[A\n",
      "  Training:  18%|█▊        | 17/94 [00:13<00:59,  1.30it/s]\u001b[A\n",
      "  Training:  19%|█▉        | 18/94 [00:14<00:59,  1.27it/s]\u001b[A\n",
      "  Training:  20%|██        | 19/94 [00:14<00:55,  1.35it/s]\u001b[A\n",
      "  Training:  21%|██▏       | 20/94 [00:15<00:56,  1.31it/s]\u001b[A\n",
      "  Training:  22%|██▏       | 21/94 [00:16<00:56,  1.28it/s]\u001b[A\n",
      "  Training:  23%|██▎       | 22/94 [00:17<00:57,  1.26it/s]\u001b[A\n",
      "  Training:  24%|██▍       | 23/94 [00:18<00:57,  1.25it/s]\u001b[A\n",
      "  Training:  26%|██▌       | 24/94 [00:18<00:56,  1.23it/s]\u001b[A\n",
      "  Training:  27%|██▋       | 25/94 [00:19<00:56,  1.22it/s]\u001b[A\n",
      "  Training:  28%|██▊       | 26/94 [00:20<00:54,  1.25it/s]\u001b[A\n",
      "  Training:  29%|██▊       | 27/94 [00:21<00:54,  1.24it/s]\u001b[A\n",
      "  Training:  30%|██▉       | 28/94 [00:22<00:52,  1.25it/s]\u001b[A\n",
      "  Training:  31%|███       | 29/94 [00:22<00:52,  1.23it/s]\u001b[A\n",
      "  Training:  32%|███▏      | 30/94 [00:23<00:52,  1.23it/s]\u001b[A\n",
      "  Training:  33%|███▎      | 31/94 [00:24<00:51,  1.22it/s]\u001b[A\n",
      "  Training:  34%|███▍      | 32/94 [00:25<00:50,  1.22it/s]\u001b[A\n",
      "  Training:  35%|███▌      | 33/94 [00:26<00:50,  1.21it/s]\u001b[A\n",
      "  Training:  36%|███▌      | 34/94 [00:27<00:49,  1.21it/s]\u001b[A\n",
      "  Training:  37%|███▋      | 35/94 [00:27<00:48,  1.21it/s]\u001b[A\n",
      "  Training:  38%|███▊      | 36/94 [00:28<00:47,  1.21it/s]\u001b[A\n",
      "  Training:  39%|███▉      | 37/94 [00:29<00:47,  1.21it/s]\u001b[A\n",
      "  Training:  40%|████      | 38/94 [00:30<00:46,  1.21it/s]\u001b[A\n",
      "  Training:  41%|████▏     | 39/94 [00:31<00:45,  1.21it/s]\u001b[A\n",
      "  Training:  43%|████▎     | 40/94 [00:32<00:44,  1.21it/s]\u001b[A\n",
      "  Training:  44%|████▎     | 41/94 [00:32<00:43,  1.21it/s]\u001b[A\n",
      "  Training:  45%|████▍     | 42/94 [00:33<00:43,  1.21it/s]\u001b[A\n",
      "  Training:  46%|████▌     | 43/94 [00:34<00:41,  1.23it/s]\u001b[A\n",
      "  Training:  47%|████▋     | 44/94 [00:35<00:40,  1.22it/s]\u001b[A\n",
      "  Training:  48%|████▊     | 45/94 [00:36<00:39,  1.25it/s]\u001b[A\n",
      "  Training:  49%|████▉     | 46/94 [00:36<00:35,  1.36it/s]\u001b[A\n",
      "  Training:  50%|█████     | 47/94 [00:37<00:35,  1.31it/s]\u001b[A\n",
      "  Training:  51%|█████     | 48/94 [00:38<00:36,  1.27it/s]\u001b[A\n",
      "  Training:  52%|█████▏    | 49/94 [00:39<00:36,  1.25it/s]\u001b[A\n",
      "  Training:  53%|█████▎    | 50/94 [00:39<00:32,  1.34it/s]\u001b[A\n",
      "  Training:  54%|█████▍    | 51/94 [00:40<00:33,  1.29it/s]\u001b[A\n",
      "  Training:  55%|█████▌    | 52/94 [00:41<00:32,  1.28it/s]\u001b[A\n",
      "  Training:  56%|█████▋    | 53/94 [00:42<00:32,  1.25it/s]\u001b[A\n",
      "  Training:  57%|█████▋    | 54/94 [00:43<00:32,  1.23it/s]\u001b[A\n",
      "  Training:  59%|█████▊    | 55/94 [00:43<00:32,  1.21it/s]\u001b[A\n",
      "  Training:  60%|█████▉    | 56/94 [00:44<00:31,  1.21it/s]\u001b[A\n",
      "  Training:  61%|██████    | 57/94 [00:45<00:30,  1.21it/s]\u001b[A\n",
      "  Training:  62%|██████▏   | 58/94 [00:46<00:29,  1.20it/s]\u001b[A\n",
      "  Training:  63%|██████▎   | 59/94 [00:47<00:29,  1.20it/s]\u001b[A\n",
      "  Training:  64%|██████▍   | 60/94 [00:48<00:28,  1.20it/s]\u001b[A\n",
      "  Training:  65%|██████▍   | 61/94 [00:48<00:27,  1.19it/s]\u001b[A\n",
      "  Training:  66%|██████▌   | 62/94 [00:49<00:26,  1.19it/s]\u001b[A\n",
      "  Training:  67%|██████▋   | 63/94 [00:50<00:26,  1.19it/s]\u001b[A\n",
      "  Training:  68%|██████▊   | 64/94 [00:51<00:25,  1.19it/s]\u001b[A\n",
      "  Training:  69%|██████▉   | 65/94 [00:52<00:23,  1.22it/s]\u001b[A\n",
      "  Training:  70%|███████   | 66/94 [00:52<00:21,  1.29it/s]\u001b[A\n",
      "  Training:  71%|███████▏  | 67/94 [00:53<00:21,  1.26it/s]\u001b[A\n",
      "  Training:  72%|███████▏  | 68/94 [00:54<00:21,  1.23it/s]\u001b[A\n",
      "  Training:  73%|███████▎  | 69/94 [00:55<00:20,  1.22it/s]\u001b[A\n",
      "  Training:  74%|███████▍  | 70/94 [00:56<00:19,  1.21it/s]\u001b[A\n",
      "  Training:  76%|███████▌  | 71/94 [00:57<00:19,  1.20it/s]\u001b[A\n",
      "  Training:  77%|███████▋  | 72/94 [00:57<00:18,  1.21it/s]\u001b[A\n",
      "  Training:  78%|███████▊  | 73/94 [00:58<00:17,  1.20it/s]\u001b[A\n",
      "  Training:  79%|███████▊  | 74/94 [00:59<00:16,  1.20it/s]\u001b[A\n",
      "  Training:  80%|███████▉  | 75/94 [01:00<00:15,  1.24it/s]\u001b[A\n",
      "  Training:  81%|████████  | 76/94 [01:01<00:14,  1.22it/s]\u001b[A\n",
      "  Training:  82%|████████▏ | 77/94 [01:02<00:14,  1.21it/s]\u001b[A\n",
      "  Training:  83%|████████▎ | 78/94 [01:02<00:13,  1.23it/s]\u001b[A\n",
      "  Training:  84%|████████▍ | 79/94 [01:03<00:12,  1.23it/s]\u001b[A\n",
      "  Training:  85%|████████▌ | 80/94 [01:04<00:10,  1.32it/s]\u001b[A\n",
      "  Training:  86%|████████▌ | 81/94 [01:05<00:10,  1.28it/s]\u001b[A\n",
      "  Training:  87%|████████▋ | 82/94 [01:06<00:09,  1.25it/s]\u001b[A\n",
      "  Training:  88%|████████▊ | 83/94 [01:06<00:08,  1.27it/s]\u001b[A\n",
      "  Training:  89%|████████▉ | 84/94 [01:07<00:07,  1.30it/s]\u001b[A\n",
      "  Training:  90%|█████████ | 85/94 [01:08<00:07,  1.26it/s]\u001b[A\n",
      "  Training:  91%|█████████▏| 86/94 [01:09<00:06,  1.24it/s]\u001b[A\n",
      "  Training:  93%|█████████▎| 87/94 [01:10<00:05,  1.22it/s]\u001b[A\n",
      "  Training:  94%|█████████▎| 88/94 [01:10<00:04,  1.21it/s]\u001b[A\n",
      "  Training:  95%|█████████▍| 89/94 [01:11<00:04,  1.20it/s]\u001b[A\n",
      "  Training:  96%|█████████▌| 90/94 [01:12<00:03,  1.24it/s]\u001b[A\n",
      "  Training:  97%|█████████▋| 91/94 [01:13<00:02,  1.22it/s]\u001b[A\n",
      "  Training:  98%|█████████▊| 92/94 [01:14<00:01,  1.21it/s]\u001b[A\n",
      "  Training:  99%|█████████▉| 93/94 [01:15<00:00,  1.20it/s]\u001b[A\n",
      "  Training: 100%|██████████| 94/94 [01:15<00:00,  1.29it/s]\u001b[A\n",
      "                                                           \u001b[A\n",
      "  Evaluating:   0%|          | 0/4 [00:00<?, ?it/s]\u001b[A\n",
      "  Evaluating:  25%|██▌       | 1/4 [00:00<00:00,  7.23it/s]\u001b[A\n",
      "  Evaluating:  75%|███████▌  | 3/4 [00:00<00:00,  9.55it/s]\u001b[A\n",
      "                                                           \u001b[A"
     ]
    },
    {
     "name": "stdout",
     "output_type": "stream",
     "text": [
      "[Trans ep2] tr=5.246 val=5.306\n"
     ]
    },
    {
     "name": "stderr",
     "output_type": "stream",
     "text": [
      "Epochs:   4%|▍         | 2/50 [02:29<1:00:07, 75.16s/it]\n",
      "  Training:   0%|          | 0/94 [00:00<?, ?it/s]\u001b[A\n",
      "  Training:   1%|          | 1/94 [00:00<01:11,  1.30it/s]\u001b[A\n",
      "  Training:   2%|▏         | 2/94 [00:01<01:15,  1.23it/s]\u001b[A\n",
      "  Training:   3%|▎         | 3/94 [00:02<01:08,  1.32it/s]\u001b[A\n",
      "  Training:   4%|▍         | 4/94 [00:03<01:11,  1.26it/s]\u001b[A\n",
      "  Training:   5%|▌         | 5/94 [00:04<01:12,  1.22it/s]\u001b[A\n",
      "  Training:   6%|▋         | 6/94 [00:04<01:12,  1.21it/s]\u001b[A\n",
      "  Training:   7%|▋         | 7/94 [00:05<01:10,  1.23it/s]\u001b[A\n",
      "  Training:   9%|▊         | 8/94 [00:06<01:10,  1.21it/s]\u001b[A\n",
      "  Training:  10%|▉         | 9/94 [00:07<01:08,  1.23it/s]\u001b[A\n",
      "  Training:  11%|█         | 10/94 [00:08<01:07,  1.25it/s]\u001b[A\n",
      "  Training:  12%|█▏        | 11/94 [00:08<01:07,  1.23it/s]\u001b[A\n",
      "  Training:  13%|█▎        | 12/94 [00:09<01:07,  1.21it/s]\u001b[A\n",
      "  Training:  14%|█▍        | 13/94 [00:10<01:07,  1.20it/s]\u001b[A\n",
      "  Training:  15%|█▍        | 14/94 [00:11<01:07,  1.19it/s]\u001b[A\n",
      "  Training:  16%|█▌        | 15/94 [00:12<01:05,  1.20it/s]\u001b[A\n",
      "  Training:  17%|█▋        | 16/94 [00:13<01:05,  1.19it/s]\u001b[A\n",
      "  Training:  18%|█▊        | 17/94 [00:13<01:03,  1.21it/s]\u001b[A\n",
      "  Training:  19%|█▉        | 18/94 [00:14<00:59,  1.27it/s]\u001b[A\n",
      "  Training:  20%|██        | 19/94 [00:15<01:00,  1.24it/s]\u001b[A\n",
      "  Training:  21%|██▏       | 20/94 [00:16<01:00,  1.22it/s]\u001b[A\n",
      "  Training:  22%|██▏       | 21/94 [00:17<01:00,  1.20it/s]\u001b[A\n",
      "  Training:  23%|██▎       | 22/94 [00:17<00:58,  1.23it/s]\u001b[A\n",
      "  Training:  24%|██▍       | 23/94 [00:18<00:58,  1.21it/s]\u001b[A\n",
      "  Training:  26%|██▌       | 24/94 [00:19<00:56,  1.23it/s]\u001b[A\n",
      "  Training:  27%|██▋       | 25/94 [00:20<00:56,  1.21it/s]\u001b[A\n",
      "  Training:  28%|██▊       | 26/94 [00:21<00:55,  1.22it/s]\u001b[A\n",
      "  Training:  29%|██▊       | 27/94 [00:22<00:54,  1.23it/s]\u001b[A\n",
      "  Training:  30%|██▉       | 28/94 [00:22<00:51,  1.27it/s]\u001b[A\n",
      "  Training:  31%|███       | 29/94 [00:23<00:51,  1.27it/s]\u001b[A\n",
      "  Training:  32%|███▏      | 30/94 [00:24<00:51,  1.24it/s]\u001b[A\n",
      "  Training:  33%|███▎      | 31/94 [00:25<00:49,  1.28it/s]\u001b[A\n",
      "  Training:  34%|███▍      | 32/94 [00:25<00:49,  1.24it/s]\u001b[A\n",
      "  Training:  35%|███▌      | 33/94 [00:26<00:48,  1.26it/s]\u001b[A\n",
      "  Training:  36%|███▌      | 34/94 [00:27<00:48,  1.23it/s]\u001b[A\n",
      "  Training:  37%|███▋      | 35/94 [00:28<00:48,  1.22it/s]\u001b[A\n",
      "  Training:  38%|███▊      | 36/94 [00:29<00:44,  1.31it/s]\u001b[A\n",
      "  Training:  39%|███▉      | 37/94 [00:29<00:45,  1.26it/s]\u001b[A\n",
      "  Training:  40%|████      | 38/94 [00:30<00:45,  1.23it/s]\u001b[A\n",
      "  Training:  41%|████▏     | 39/94 [00:31<00:45,  1.21it/s]\u001b[A\n",
      "  Training:  43%|████▎     | 40/94 [00:32<00:45,  1.20it/s]\u001b[A\n",
      "  Training:  44%|████▎     | 41/94 [00:33<00:44,  1.19it/s]\u001b[A\n",
      "  Training:  45%|████▍     | 42/94 [00:34<00:41,  1.25it/s]\u001b[A\n",
      "  Training:  46%|████▌     | 43/94 [00:34<00:40,  1.24it/s]\u001b[A\n",
      "  Training:  47%|████▋     | 44/94 [00:35<00:38,  1.31it/s]\u001b[A\n",
      "  Training:  48%|████▊     | 45/94 [00:36<00:38,  1.26it/s]\u001b[A\n",
      "  Training:  49%|████▉     | 46/94 [00:37<00:38,  1.23it/s]\u001b[A\n",
      "  Training:  50%|█████     | 47/94 [00:38<00:38,  1.21it/s]\u001b[A\n",
      "  Training:  51%|█████     | 48/94 [00:38<00:36,  1.25it/s]\u001b[A\n",
      "  Training:  52%|█████▏    | 49/94 [00:39<00:36,  1.22it/s]\u001b[A\n",
      "  Training:  53%|█████▎    | 50/94 [00:40<00:36,  1.21it/s]\u001b[A\n",
      "  Training:  54%|█████▍    | 51/94 [00:41<00:35,  1.20it/s]\u001b[A\n",
      "  Training:  55%|█████▌    | 52/94 [00:42<00:35,  1.19it/s]\u001b[A\n",
      "  Training:  56%|█████▋    | 53/94 [00:43<00:34,  1.20it/s]\u001b[A\n",
      "  Training:  57%|█████▋    | 54/94 [00:43<00:33,  1.19it/s]\u001b[A\n",
      "  Training:  59%|█████▊    | 55/94 [00:44<00:33,  1.18it/s]\u001b[A\n",
      "  Training:  60%|█████▉    | 56/94 [00:45<00:32,  1.17it/s]\u001b[A\n",
      "  Training:  61%|██████    | 57/94 [00:46<00:31,  1.17it/s]\u001b[A\n",
      "  Training:  62%|██████▏   | 58/94 [00:47<00:30,  1.20it/s]\u001b[A\n",
      "  Training:  63%|██████▎   | 59/94 [00:48<00:29,  1.18it/s]\u001b[A\n",
      "  Training:  64%|██████▍   | 60/94 [00:49<00:28,  1.18it/s]\u001b[A\n",
      "  Training:  65%|██████▍   | 61/94 [00:49<00:27,  1.21it/s]\u001b[A\n",
      "  Training:  66%|██████▌   | 62/94 [00:50<00:25,  1.26it/s]\u001b[A\n",
      "  Training:  67%|██████▋   | 63/94 [00:51<00:25,  1.23it/s]\u001b[A\n",
      "  Training:  68%|██████▊   | 64/94 [00:52<00:24,  1.20it/s]\u001b[A\n",
      "  Training:  69%|██████▉   | 65/94 [00:53<00:24,  1.19it/s]\u001b[A\n",
      "  Training:  70%|███████   | 66/94 [00:53<00:23,  1.18it/s]\u001b[A\n",
      "  Training:  71%|███████▏  | 67/94 [00:54<00:22,  1.18it/s]\u001b[A\n",
      "  Training:  72%|███████▏  | 68/94 [00:55<00:22,  1.17it/s]\u001b[A\n",
      "  Training:  73%|███████▎  | 69/94 [00:56<00:21,  1.17it/s]\u001b[A\n",
      "  Training:  74%|███████▍  | 70/94 [00:57<00:19,  1.21it/s]\u001b[A\n",
      "  Training:  76%|███████▌  | 71/94 [00:58<00:18,  1.24it/s]\u001b[A\n",
      "  Training:  77%|███████▋  | 72/94 [00:58<00:18,  1.22it/s]\u001b[A\n",
      "  Training:  78%|███████▊  | 73/94 [00:59<00:17,  1.20it/s]\u001b[A\n",
      "  Training:  79%|███████▊  | 74/94 [01:00<00:16,  1.19it/s]\u001b[A\n",
      "  Training:  80%|███████▉  | 75/94 [01:01<00:16,  1.18it/s]\u001b[A\n",
      "  Training:  81%|████████  | 76/94 [01:02<00:15,  1.18it/s]\u001b[A\n",
      "  Training:  82%|████████▏ | 77/94 [01:03<00:14,  1.18it/s]\u001b[A\n",
      "  Training:  83%|████████▎ | 78/94 [01:04<00:13,  1.21it/s]\u001b[A\n",
      "  Training:  84%|████████▍ | 79/94 [01:04<00:12,  1.20it/s]\u001b[A\n",
      "  Training:  85%|████████▌ | 80/94 [01:05<00:11,  1.19it/s]\u001b[A\n",
      "  Training:  86%|████████▌ | 81/94 [01:06<00:10,  1.19it/s]\u001b[A\n",
      "  Training:  87%|████████▋ | 82/94 [01:07<00:10,  1.19it/s]\u001b[A\n",
      "  Training:  88%|████████▊ | 83/94 [01:08<00:09,  1.18it/s]\u001b[A\n",
      "  Training:  89%|████████▉ | 84/94 [01:09<00:08,  1.19it/s]\u001b[A\n",
      "  Training:  90%|█████████ | 85/94 [01:09<00:07,  1.21it/s]\u001b[A\n",
      "  Training:  91%|█████████▏| 86/94 [01:10<00:06,  1.20it/s]\u001b[A\n",
      "  Training:  93%|█████████▎| 87/94 [01:11<00:05,  1.26it/s]\u001b[A\n",
      "  Training:  94%|█████████▎| 88/94 [01:12<00:04,  1.28it/s]\u001b[A\n",
      "  Training:  95%|█████████▍| 89/94 [01:13<00:04,  1.24it/s]\u001b[A\n",
      "  Training:  96%|█████████▌| 90/94 [01:13<00:03,  1.22it/s]\u001b[A\n",
      "  Training:  97%|█████████▋| 91/94 [01:14<00:02,  1.21it/s]\u001b[A\n",
      "  Training:  98%|█████████▊| 92/94 [01:15<00:01,  1.20it/s]\u001b[A\n",
      "  Training:  99%|█████████▉| 93/94 [01:16<00:00,  1.19it/s]\u001b[A\n",
      "  Training: 100%|██████████| 94/94 [01:17<00:00,  1.28it/s]\u001b[A\n",
      "                                                           \u001b[A\n",
      "  Evaluating:   0%|          | 0/4 [00:00<?, ?it/s]\u001b[A\n",
      "  Evaluating:  25%|██▌       | 1/4 [00:00<00:00,  7.15it/s]\u001b[A\n",
      "  Evaluating:  75%|███████▌  | 3/4 [00:00<00:00,  9.50it/s]\u001b[A\n",
      "                                                           \u001b[A"
     ]
    },
    {
     "name": "stdout",
     "output_type": "stream",
     "text": [
      "[Trans ep3] tr=4.781 val=5.264\n"
     ]
    },
    {
     "name": "stderr",
     "output_type": "stream",
     "text": [
      "Epochs:   6%|▌         | 3/50 [03:47<59:53, 76.45s/it]  \n",
      "  Training:   0%|          | 0/94 [00:00<?, ?it/s]\u001b[A\n",
      "  Training:   1%|          | 1/94 [00:00<01:19,  1.17it/s]\u001b[A\n",
      "  Training:   2%|▏         | 2/94 [00:01<01:17,  1.18it/s]\u001b[A\n",
      "  Training:   3%|▎         | 3/94 [00:02<01:17,  1.17it/s]\u001b[A\n",
      "  Training:   4%|▍         | 4/94 [00:03<01:16,  1.17it/s]\u001b[A\n",
      "  Training:   5%|▌         | 5/94 [00:04<01:15,  1.18it/s]\u001b[A\n",
      "  Training:   6%|▋         | 6/94 [00:05<01:11,  1.23it/s]\u001b[A\n",
      "  Training:   7%|▋         | 7/94 [00:05<01:11,  1.21it/s]\u001b[A\n",
      "  Training:   9%|▊         | 8/94 [00:06<01:08,  1.25it/s]\u001b[A\n",
      "  Training:  10%|▉         | 9/94 [00:07<01:08,  1.24it/s]\u001b[A\n",
      "  Training:  11%|█         | 10/94 [00:08<01:09,  1.22it/s]\u001b[A\n",
      "  Training:  12%|█▏        | 11/94 [00:08<01:05,  1.27it/s]\u001b[A\n",
      "  Training:  13%|█▎        | 12/94 [00:09<01:06,  1.24it/s]\u001b[A\n",
      "  Training:  14%|█▍        | 13/94 [00:10<01:06,  1.22it/s]\u001b[A\n",
      "  Training:  15%|█▍        | 14/94 [00:11<01:06,  1.20it/s]\u001b[A\n",
      "  Training:  16%|█▌        | 15/94 [00:12<01:06,  1.19it/s]\u001b[A\n",
      "  Training:  17%|█▋        | 16/94 [00:13<01:06,  1.18it/s]\u001b[A\n",
      "  Training:  18%|█▊        | 17/94 [00:14<01:05,  1.17it/s]\u001b[A\n",
      "  Training:  19%|█▉        | 18/94 [00:14<01:04,  1.17it/s]\u001b[A\n",
      "  Training:  20%|██        | 19/94 [00:15<01:04,  1.17it/s]\u001b[A\n",
      "  Training:  21%|██▏       | 20/94 [00:16<01:03,  1.17it/s]\u001b[A\n",
      "  Training:  22%|██▏       | 21/94 [00:17<01:02,  1.16it/s]\u001b[A\n",
      "  Training:  23%|██▎       | 22/94 [00:18<01:01,  1.16it/s]\u001b[A\n",
      "  Training:  24%|██▍       | 23/94 [00:19<01:01,  1.16it/s]\u001b[A\n",
      "  Training:  26%|██▌       | 24/94 [00:20<01:00,  1.17it/s]\u001b[A\n",
      "  Training:  27%|██▋       | 25/94 [00:21<00:59,  1.16it/s]\u001b[A\n",
      "  Training:  28%|██▊       | 26/94 [00:21<00:58,  1.16it/s]\u001b[A\n",
      "  Training:  29%|██▊       | 27/94 [00:22<00:57,  1.16it/s]\u001b[A\n",
      "  Training:  30%|██▉       | 28/94 [00:23<00:56,  1.16it/s]\u001b[A\n",
      "  Training:  31%|███       | 29/94 [00:24<00:55,  1.17it/s]\u001b[A\n",
      "  Training:  32%|███▏      | 30/94 [00:25<00:54,  1.17it/s]\u001b[A\n",
      "  Training:  33%|███▎      | 31/94 [00:26<00:53,  1.17it/s]\u001b[A\n",
      "  Training:  34%|███▍      | 32/94 [00:27<00:53,  1.17it/s]\u001b[A\n",
      "  Training:  35%|███▌      | 33/94 [00:27<00:49,  1.24it/s]\u001b[A\n",
      "  Training:  36%|███▌      | 34/94 [00:28<00:49,  1.21it/s]\u001b[A\n",
      "  Training:  37%|███▋      | 35/94 [00:29<00:49,  1.20it/s]\u001b[A\n",
      "  Training:  38%|███▊      | 36/94 [00:30<00:47,  1.21it/s]\u001b[A\n",
      "  Training:  39%|███▉      | 37/94 [00:31<00:47,  1.19it/s]\u001b[A\n",
      "  Training:  40%|████      | 38/94 [00:31<00:47,  1.18it/s]\u001b[A\n",
      "  Training:  41%|████▏     | 39/94 [00:32<00:46,  1.18it/s]\u001b[A\n",
      "  Training:  43%|████▎     | 40/94 [00:33<00:44,  1.22it/s]\u001b[A\n",
      "  Training:  44%|████▎     | 41/94 [00:34<00:43,  1.21it/s]\u001b[A\n",
      "  Training:  45%|████▍     | 42/94 [00:35<00:40,  1.30it/s]\u001b[A\n",
      "  Training:  46%|████▌     | 43/94 [00:35<00:39,  1.29it/s]\u001b[A\n",
      "  Training:  47%|████▋     | 44/94 [00:36<00:39,  1.27it/s]\u001b[A\n",
      "  Training:  48%|████▊     | 45/94 [00:37<00:38,  1.29it/s]\u001b[A\n",
      "  Training:  49%|████▉     | 46/94 [00:38<00:38,  1.25it/s]\u001b[A\n",
      "  Training:  50%|█████     | 47/94 [00:39<00:38,  1.22it/s]\u001b[A\n",
      "  Training:  51%|█████     | 48/94 [00:40<00:38,  1.20it/s]\u001b[A\n",
      "  Training:  52%|█████▏    | 49/94 [00:40<00:37,  1.19it/s]\u001b[A\n",
      "  Training:  53%|█████▎    | 50/94 [00:41<00:37,  1.18it/s]\u001b[A\n",
      "  Training:  54%|█████▍    | 51/94 [00:42<00:34,  1.26it/s]\u001b[A\n",
      "  Training:  55%|█████▌    | 52/94 [00:43<00:34,  1.23it/s]\u001b[A\n",
      "  Training:  56%|█████▋    | 53/94 [00:43<00:30,  1.34it/s]\u001b[A\n",
      "  Training:  57%|█████▋    | 54/94 [00:44<00:31,  1.28it/s]\u001b[A\n",
      "  Training:  59%|█████▊    | 55/94 [00:45<00:31,  1.24it/s]\u001b[A\n",
      "  Training:  60%|█████▉    | 56/94 [00:46<00:31,  1.21it/s]\u001b[A\n",
      "  Training:  61%|██████    | 57/94 [00:47<00:29,  1.27it/s]\u001b[A\n",
      "  Training:  62%|██████▏   | 58/94 [00:47<00:29,  1.24it/s]\u001b[A\n",
      "  Training:  63%|██████▎   | 59/94 [00:48<00:28,  1.21it/s]\u001b[A\n",
      "  Training:  64%|██████▍   | 60/94 [00:49<00:28,  1.20it/s]\u001b[A\n",
      "  Training:  65%|██████▍   | 61/94 [00:50<00:27,  1.19it/s]\u001b[A\n",
      "  Training:  66%|██████▌   | 62/94 [00:51<00:25,  1.27it/s]\u001b[A\n",
      "  Training:  67%|██████▋   | 63/94 [00:52<00:25,  1.23it/s]\u001b[A\n",
      "  Training:  68%|██████▊   | 64/94 [00:52<00:24,  1.25it/s]\u001b[A\n",
      "  Training:  69%|██████▉   | 65/94 [00:53<00:23,  1.23it/s]\u001b[A\n",
      "  Training:  70%|███████   | 66/94 [00:54<00:23,  1.20it/s]\u001b[A\n",
      "  Training:  71%|███████▏  | 67/94 [00:55<00:22,  1.19it/s]\u001b[A\n",
      "  Training:  72%|███████▏  | 68/94 [00:56<00:21,  1.22it/s]\u001b[A\n",
      "  Training:  73%|███████▎  | 69/94 [00:57<00:20,  1.20it/s]\u001b[A\n",
      "  Training:  74%|███████▍  | 70/94 [00:57<00:19,  1.20it/s]\u001b[A\n",
      "  Training:  76%|███████▌  | 71/94 [00:58<00:19,  1.19it/s]\u001b[A\n",
      "  Training:  77%|███████▋  | 72/94 [00:59<00:17,  1.29it/s]\u001b[A\n",
      "  Training:  78%|███████▊  | 73/94 [01:00<00:16,  1.25it/s]\u001b[A\n",
      "  Training:  79%|███████▊  | 74/94 [01:01<00:16,  1.24it/s]\u001b[A\n",
      "  Training:  80%|███████▉  | 75/94 [01:01<00:15,  1.21it/s]\u001b[A\n",
      "  Training:  81%|████████  | 76/94 [01:02<00:14,  1.26it/s]\u001b[A\n",
      "  Training:  82%|████████▏ | 77/94 [01:03<00:13,  1.25it/s]\u001b[A\n",
      "  Training:  83%|████████▎ | 78/94 [01:04<00:13,  1.22it/s]\u001b[A\n",
      "  Training:  84%|████████▍ | 79/94 [01:05<00:12,  1.20it/s]\u001b[A\n",
      "  Training:  85%|████████▌ | 80/94 [01:06<00:11,  1.19it/s]\u001b[A\n",
      "  Training:  86%|████████▌ | 81/94 [01:06<00:11,  1.18it/s]\u001b[A\n",
      "  Training:  87%|████████▋ | 82/94 [01:07<00:10,  1.17it/s]\u001b[A\n",
      "  Training:  88%|████████▊ | 83/94 [01:08<00:09,  1.16it/s]\u001b[A\n",
      "  Training:  89%|████████▉ | 84/94 [01:09<00:08,  1.16it/s]\u001b[A\n",
      "  Training:  90%|█████████ | 85/94 [01:10<00:07,  1.16it/s]\u001b[A\n",
      "  Training:  91%|█████████▏| 86/94 [01:11<00:06,  1.17it/s]\u001b[A\n",
      "  Training:  93%|█████████▎| 87/94 [01:12<00:05,  1.18it/s]\u001b[A\n",
      "  Training:  94%|█████████▎| 88/94 [01:12<00:05,  1.17it/s]\u001b[A\n",
      "  Training:  95%|█████████▍| 89/94 [01:13<00:04,  1.17it/s]\u001b[A\n",
      "  Training:  96%|█████████▌| 90/94 [01:14<00:03,  1.16it/s]\u001b[A\n",
      "  Training:  97%|█████████▋| 91/94 [01:15<00:02,  1.16it/s]\u001b[A\n",
      "  Training:  98%|█████████▊| 92/94 [01:16<00:01,  1.16it/s]\u001b[A\n",
      "  Training:  99%|█████████▉| 93/94 [01:17<00:00,  1.16it/s]\u001b[A\n",
      "  Training: 100%|██████████| 94/94 [01:17<00:00,  1.28it/s]\u001b[A\n",
      "                                                           \u001b[A\n",
      "  Evaluating:   0%|          | 0/4 [00:00<?, ?it/s]\u001b[A\n",
      "  Evaluating:  25%|██▌       | 1/4 [00:00<00:00,  7.03it/s]\u001b[A\n",
      "  Evaluating:  75%|███████▌  | 3/4 [00:00<00:00,  9.36it/s]\u001b[A\n",
      "                                                           \u001b[A"
     ]
    },
    {
     "name": "stdout",
     "output_type": "stream",
     "text": [
      "[Trans ep4] tr=4.511 val=5.116\n"
     ]
    },
    {
     "name": "stderr",
     "output_type": "stream",
     "text": [
      "Epochs:   8%|▊         | 4/50 [05:06<59:19, 77.38s/it]\n",
      "  Training:   0%|          | 0/94 [00:00<?, ?it/s]\u001b[A\n",
      "  Training:   1%|          | 1/94 [00:00<01:19,  1.16it/s]\u001b[A\n",
      "  Training:   2%|▏         | 2/94 [00:01<01:19,  1.16it/s]\u001b[A\n",
      "  Training:   3%|▎         | 3/94 [00:02<01:18,  1.15it/s]\u001b[A\n",
      "  Training:   4%|▍         | 4/94 [00:03<01:17,  1.16it/s]\u001b[A\n",
      "  Training:   5%|▌         | 5/94 [00:04<01:17,  1.16it/s]\u001b[A\n",
      "  Training:   6%|▋         | 6/94 [00:04<01:10,  1.25it/s]\u001b[A\n",
      "  Training:   7%|▋         | 7/94 [00:05<01:11,  1.22it/s]\u001b[A\n",
      "  Training:   9%|▊         | 8/94 [00:06<01:09,  1.23it/s]\u001b[A\n",
      "  Training:  10%|▉         | 9/94 [00:07<01:10,  1.21it/s]\u001b[A\n",
      "  Training:  11%|█         | 10/94 [00:08<01:10,  1.19it/s]\u001b[A\n",
      "  Training:  12%|█▏        | 11/94 [00:09<01:10,  1.18it/s]\u001b[A\n",
      "  Training:  13%|█▎        | 12/94 [00:10<01:10,  1.17it/s]\u001b[A\n",
      "  Training:  14%|█▍        | 13/94 [00:10<01:09,  1.16it/s]\u001b[A\n",
      "  Training:  15%|█▍        | 14/94 [00:11<01:09,  1.16it/s]\u001b[A\n",
      "  Training:  16%|█▌        | 15/94 [00:12<01:07,  1.17it/s]\u001b[A\n",
      "  Training:  17%|█▋        | 16/94 [00:13<01:06,  1.17it/s]\u001b[A\n",
      "  Training:  18%|█▊        | 17/94 [00:14<01:06,  1.16it/s]\u001b[A\n",
      "  Training:  19%|█▉        | 18/94 [00:15<01:05,  1.16it/s]\u001b[A\n",
      "  Training:  20%|██        | 19/94 [00:16<01:04,  1.16it/s]\u001b[A\n",
      "  Training:  21%|██▏       | 20/94 [00:16<01:03,  1.17it/s]\u001b[A\n",
      "  Training:  22%|██▏       | 21/94 [00:17<00:58,  1.25it/s]\u001b[A\n",
      "  Training:  23%|██▎       | 22/94 [00:18<00:58,  1.22it/s]\u001b[A\n",
      "  Training:  24%|██▍       | 23/94 [00:19<00:59,  1.20it/s]\u001b[A\n",
      "  Training:  26%|██▌       | 24/94 [00:20<00:59,  1.19it/s]\u001b[A\n",
      "  Training:  27%|██▋       | 25/94 [00:21<00:58,  1.18it/s]\u001b[A\n",
      "  Training:  28%|██▊       | 26/94 [00:21<00:58,  1.17it/s]\u001b[A\n",
      "  Training:  29%|██▊       | 27/94 [00:22<00:57,  1.16it/s]\u001b[A\n",
      "  Training:  30%|██▉       | 28/94 [00:23<00:55,  1.19it/s]\u001b[A\n",
      "  Training:  31%|███       | 29/94 [00:24<00:55,  1.18it/s]\u001b[A\n",
      "  Training:  32%|███▏      | 30/94 [00:25<00:51,  1.25it/s]\u001b[A\n",
      "  Training:  33%|███▎      | 31/94 [00:26<00:51,  1.22it/s]\u001b[A\n",
      "  Training:  34%|███▍      | 32/94 [00:26<00:51,  1.20it/s]\u001b[A\n",
      "  Training:  35%|███▌      | 33/94 [00:27<00:51,  1.19it/s]\u001b[A\n",
      "  Training:  36%|███▌      | 34/94 [00:28<00:49,  1.22it/s]\u001b[A\n",
      "  Training:  37%|███▋      | 35/94 [00:29<00:49,  1.20it/s]\u001b[A\n",
      "  Training:  38%|███▊      | 36/94 [00:30<00:48,  1.18it/s]\u001b[A\n",
      "  Training:  39%|███▉      | 37/94 [00:31<00:47,  1.21it/s]\u001b[A\n",
      "  Training:  40%|████      | 38/94 [00:31<00:47,  1.19it/s]\u001b[A\n",
      "  Training:  41%|████▏     | 39/94 [00:32<00:45,  1.21it/s]\u001b[A\n",
      "  Training:  43%|████▎     | 40/94 [00:33<00:45,  1.19it/s]\u001b[A\n",
      "  Training:  44%|████▎     | 41/94 [00:34<00:44,  1.19it/s]\u001b[A\n",
      "  Training:  45%|████▍     | 42/94 [00:35<00:42,  1.21it/s]\u001b[A\n",
      "  Training:  46%|████▌     | 43/94 [00:36<00:42,  1.19it/s]\u001b[A\n",
      "  Training:  47%|████▋     | 44/94 [00:37<00:42,  1.18it/s]\u001b[A\n",
      "  Training:  48%|████▊     | 45/94 [00:37<00:41,  1.17it/s]\u001b[A\n",
      "  Training:  49%|████▉     | 46/94 [00:38<00:41,  1.16it/s]\u001b[A\n",
      "  Training:  50%|█████     | 47/94 [00:39<00:38,  1.23it/s]\u001b[A\n",
      "  Training:  51%|█████     | 48/94 [00:40<00:38,  1.21it/s]\u001b[A\n",
      "  Training:  52%|█████▏    | 49/94 [00:41<00:37,  1.19it/s]\u001b[A\n",
      "  Training:  53%|█████▎    | 50/94 [00:41<00:36,  1.21it/s]\u001b[A\n",
      "  Training:  54%|█████▍    | 51/94 [00:42<00:36,  1.19it/s]\u001b[A\n",
      "  Training:  55%|█████▌    | 52/94 [00:43<00:35,  1.18it/s]\u001b[A\n",
      "  Training:  56%|█████▋    | 53/94 [00:44<00:32,  1.27it/s]\u001b[A\n",
      "  Training:  57%|█████▋    | 54/94 [00:45<00:30,  1.31it/s]\u001b[A\n",
      "  Training:  59%|█████▊    | 55/94 [00:45<00:29,  1.34it/s]\u001b[A\n",
      "  Training:  60%|█████▉    | 56/94 [00:46<00:29,  1.28it/s]\u001b[A\n",
      "  Training:  61%|██████    | 57/94 [00:47<00:29,  1.24it/s]\u001b[A\n",
      "  Training:  62%|██████▏   | 58/94 [00:48<00:28,  1.27it/s]\u001b[A\n",
      "  Training:  63%|██████▎   | 59/94 [00:49<00:28,  1.23it/s]\u001b[A\n",
      "  Training:  64%|██████▍   | 60/94 [00:49<00:28,  1.21it/s]\u001b[A\n",
      "  Training:  65%|██████▍   | 61/94 [00:50<00:27,  1.21it/s]\u001b[A\n",
      "  Training:  66%|██████▌   | 62/94 [00:51<00:24,  1.30it/s]\u001b[A\n",
      "  Training:  67%|██████▋   | 63/94 [00:52<00:24,  1.25it/s]\u001b[A\n",
      "  Training:  68%|██████▊   | 64/94 [00:53<00:24,  1.22it/s]\u001b[A\n",
      "  Training:  69%|██████▉   | 65/94 [00:54<00:24,  1.20it/s]\u001b[A\n",
      "  Training:  70%|███████   | 66/94 [00:54<00:23,  1.18it/s]\u001b[A\n",
      "  Training:  71%|███████▏  | 67/94 [00:55<00:23,  1.17it/s]\u001b[A\n",
      "  Training:  72%|███████▏  | 68/94 [00:56<00:22,  1.17it/s]\u001b[A\n",
      "  Training:  73%|███████▎  | 69/94 [00:57<00:21,  1.16it/s]\u001b[A\n",
      "  Training:  74%|███████▍  | 70/94 [00:58<00:20,  1.16it/s]\u001b[A\n",
      "  Training:  76%|███████▌  | 71/94 [00:59<00:18,  1.22it/s]\u001b[A\n",
      "  Training:  77%|███████▋  | 72/94 [00:59<00:17,  1.26it/s]\u001b[A\n",
      "  Training:  78%|███████▊  | 73/94 [01:00<00:17,  1.22it/s]\u001b[A\n",
      "  Training:  79%|███████▊  | 74/94 [01:01<00:16,  1.20it/s]\u001b[A\n",
      "  Training:  80%|███████▉  | 75/94 [01:02<00:15,  1.19it/s]\u001b[A\n",
      "  Training:  81%|████████  | 76/94 [01:03<00:14,  1.20it/s]\u001b[A\n",
      "  Training:  82%|████████▏ | 77/94 [01:04<00:14,  1.19it/s]\u001b[A\n",
      "  Training:  83%|████████▎ | 78/94 [01:04<00:13,  1.22it/s]\u001b[A\n",
      "  Training:  84%|████████▍ | 79/94 [01:05<00:12,  1.24it/s]\u001b[A\n",
      "  Training:  85%|████████▌ | 80/94 [01:06<00:11,  1.21it/s]\u001b[A\n",
      "  Training:  86%|████████▌ | 81/94 [01:07<00:10,  1.19it/s]\u001b[A\n",
      "  Training:  87%|████████▋ | 82/94 [01:08<00:10,  1.18it/s]\u001b[A\n",
      "  Training:  88%|████████▊ | 83/94 [01:09<00:09,  1.21it/s]\u001b[A\n",
      "  Training:  89%|████████▉ | 84/94 [01:09<00:08,  1.19it/s]\u001b[A\n",
      "  Training:  90%|█████████ | 85/94 [01:10<00:07,  1.18it/s]\u001b[A\n",
      "  Training:  91%|█████████▏| 86/94 [01:11<00:06,  1.17it/s]\u001b[A\n",
      "  Training:  93%|█████████▎| 87/94 [01:12<00:06,  1.16it/s]\u001b[A\n",
      "  Training:  94%|█████████▎| 88/94 [01:13<00:05,  1.16it/s]\u001b[A\n",
      "  Training:  95%|█████████▍| 89/94 [01:14<00:04,  1.16it/s]\u001b[A\n",
      "  Training:  96%|█████████▌| 90/94 [01:15<00:03,  1.16it/s]\u001b[A\n",
      "  Training:  97%|█████████▋| 91/94 [01:15<00:02,  1.15it/s]\u001b[A\n",
      "  Training:  98%|█████████▊| 92/94 [01:16<00:01,  1.15it/s]\u001b[A\n",
      "  Training:  99%|█████████▉| 93/94 [01:17<00:00,  1.15it/s]\u001b[A\n",
      "  Training: 100%|██████████| 94/94 [01:18<00:00,  1.31it/s]\u001b[A\n",
      "                                                           \u001b[A\n",
      "  Evaluating:   0%|          | 0/4 [00:00<?, ?it/s]\u001b[A\n",
      "  Evaluating:  25%|██▌       | 1/4 [00:00<00:00,  7.04it/s]\u001b[A\n",
      "  Evaluating:  75%|███████▌  | 3/4 [00:00<00:00,  9.27it/s]\u001b[A\n",
      "                                                           \u001b[A"
     ]
    },
    {
     "name": "stdout",
     "output_type": "stream",
     "text": [
      "[Trans ep5] tr=4.313 val=4.944\n"
     ]
    },
    {
     "name": "stderr",
     "output_type": "stream",
     "text": [
      "Epochs:  10%|█         | 5/50 [06:25<58:30, 78.02s/it]\n",
      "  Training:   0%|          | 0/94 [00:00<?, ?it/s]\u001b[A\n",
      "  Training:   1%|          | 1/94 [00:00<01:07,  1.39it/s]\u001b[A\n",
      "  Training:   2%|▏         | 2/94 [00:01<01:14,  1.24it/s]\u001b[A\n",
      "  Training:   3%|▎         | 3/94 [00:02<01:16,  1.20it/s]\u001b[A\n",
      "  Training:   4%|▍         | 4/94 [00:03<01:16,  1.18it/s]\u001b[A\n",
      "  Training:   5%|▌         | 5/94 [00:04<01:16,  1.17it/s]\u001b[A\n",
      "  Training:   6%|▋         | 6/94 [00:04<01:11,  1.23it/s]\u001b[A\n",
      "  Training:   7%|▋         | 7/94 [00:05<01:12,  1.20it/s]\u001b[A\n",
      "  Training:   9%|▊         | 8/94 [00:06<01:12,  1.19it/s]\u001b[A\n",
      "  Training:  10%|▉         | 9/94 [00:07<01:10,  1.21it/s]\u001b[A\n",
      "  Training:  11%|█         | 10/94 [00:08<01:10,  1.19it/s]\u001b[A\n",
      "  Training:  12%|█▏        | 11/94 [00:09<01:10,  1.18it/s]\u001b[A\n",
      "  Training:  13%|█▎        | 12/94 [00:10<01:10,  1.17it/s]\u001b[A\n",
      "  Training:  14%|█▍        | 13/94 [00:10<01:09,  1.16it/s]\u001b[A\n",
      "  Training:  15%|█▍        | 14/94 [00:11<01:09,  1.16it/s]\u001b[A\n",
      "  Training:  16%|█▌        | 15/94 [00:12<01:08,  1.15it/s]\u001b[A\n",
      "  Training:  17%|█▋        | 16/94 [00:13<01:06,  1.17it/s]\u001b[A\n",
      "  Training:  18%|█▊        | 17/94 [00:14<01:06,  1.16it/s]\u001b[A\n",
      "  Training:  19%|█▉        | 18/94 [00:15<01:05,  1.16it/s]\u001b[A\n",
      "  Training:  20%|██        | 19/94 [00:16<01:04,  1.16it/s]\u001b[A\n",
      "  Training:  21%|██▏       | 20/94 [00:16<01:04,  1.15it/s]\u001b[A\n",
      "  Training:  22%|██▏       | 21/94 [00:17<01:01,  1.19it/s]\u001b[A\n",
      "  Training:  23%|██▎       | 22/94 [00:18<01:01,  1.18it/s]\u001b[A\n",
      "  Training:  24%|██▍       | 23/94 [00:19<00:59,  1.19it/s]\u001b[A\n",
      "  Training:  26%|██▌       | 24/94 [00:20<00:59,  1.18it/s]\u001b[A\n",
      "  Training:  27%|██▋       | 25/94 [00:21<00:58,  1.17it/s]\u001b[A\n",
      "  Training:  28%|██▊       | 26/94 [00:22<00:58,  1.17it/s]\u001b[A\n",
      "  Training:  29%|██▊       | 27/94 [00:22<00:57,  1.16it/s]\u001b[A\n",
      "  Training:  30%|██▉       | 28/94 [00:23<00:55,  1.18it/s]\u001b[A\n",
      "  Training:  31%|███       | 29/94 [00:24<00:55,  1.17it/s]\u001b[A\n",
      "  Training:  32%|███▏      | 30/94 [00:25<00:52,  1.22it/s]\u001b[A\n",
      "  Training:  33%|███▎      | 31/94 [00:26<00:49,  1.28it/s]\u001b[A\n",
      "  Training:  34%|███▍      | 32/94 [00:26<00:48,  1.28it/s]\u001b[A\n",
      "  Training:  35%|███▌      | 33/94 [00:27<00:49,  1.24it/s]\u001b[A\n",
      "  Training:  36%|███▌      | 34/94 [00:28<00:49,  1.21it/s]\u001b[A\n",
      "  Training:  37%|███▋      | 35/94 [00:29<00:49,  1.19it/s]\u001b[A\n",
      "  Training:  38%|███▊      | 36/94 [00:30<00:49,  1.18it/s]\u001b[A\n",
      "  Training:  39%|███▉      | 37/94 [00:31<00:48,  1.18it/s]\u001b[A\n",
      "  Training:  40%|████      | 38/94 [00:31<00:46,  1.20it/s]\u001b[A\n",
      "  Training:  41%|████▏     | 39/94 [00:32<00:46,  1.19it/s]\u001b[A\n",
      "  Training:  43%|████▎     | 40/94 [00:33<00:46,  1.17it/s]\u001b[A\n",
      "  Training:  44%|████▎     | 41/94 [00:34<00:45,  1.16it/s]\u001b[A\n",
      "  Training:  45%|████▍     | 42/94 [00:35<00:43,  1.20it/s]\u001b[A\n",
      "  Training:  46%|████▌     | 43/94 [00:36<00:42,  1.19it/s]\u001b[A\n",
      "  Training:  47%|████▋     | 44/94 [00:37<00:42,  1.17it/s]\u001b[A\n",
      "  Training:  48%|████▊     | 45/94 [00:37<00:39,  1.23it/s]\u001b[A\n",
      "  Training:  49%|████▉     | 46/94 [00:38<00:39,  1.21it/s]\u001b[A\n",
      "  Training:  50%|█████     | 47/94 [00:39<00:39,  1.19it/s]\u001b[A\n",
      "  Training:  51%|█████     | 48/94 [00:40<00:39,  1.18it/s]\u001b[A\n",
      "  Training:  52%|█████▏    | 49/94 [00:41<00:38,  1.17it/s]\u001b[A\n",
      "  Training:  53%|█████▎    | 50/94 [00:42<00:37,  1.16it/s]\u001b[A\n",
      "  Training:  54%|█████▍    | 51/94 [00:43<00:37,  1.16it/s]\u001b[A\n",
      "  Training:  55%|█████▌    | 52/94 [00:43<00:36,  1.16it/s]\u001b[A\n",
      "  Training:  56%|█████▋    | 53/94 [00:44<00:34,  1.18it/s]\u001b[A\n",
      "  Training:  57%|█████▋    | 54/94 [00:45<00:32,  1.22it/s]\u001b[A\n",
      "  Training:  59%|█████▊    | 55/94 [00:46<00:32,  1.20it/s]\u001b[A\n",
      "  Training:  60%|█████▉    | 56/94 [00:47<00:32,  1.18it/s]\u001b[A\n",
      "  Training:  61%|██████    | 57/94 [00:48<00:31,  1.17it/s]\u001b[A\n",
      "  Training:  62%|██████▏   | 58/94 [00:48<00:31,  1.16it/s]\u001b[A\n",
      "  Training:  63%|██████▎   | 59/94 [00:49<00:30,  1.16it/s]\u001b[A\n",
      "  Training:  64%|██████▍   | 60/94 [00:50<00:29,  1.16it/s]\u001b[A\n",
      "  Training:  65%|██████▍   | 61/94 [00:51<00:28,  1.15it/s]\u001b[A\n",
      "  Training:  66%|██████▌   | 62/94 [00:52<00:27,  1.16it/s]\u001b[A\n",
      "  Training:  67%|██████▋   | 63/94 [00:53<00:26,  1.18it/s]\u001b[A\n",
      "  Training:  68%|██████▊   | 64/94 [00:54<00:25,  1.17it/s]\u001b[A\n",
      "  Training:  69%|██████▉   | 65/94 [00:54<00:22,  1.26it/s]\u001b[A\n",
      "  Training:  70%|███████   | 66/94 [00:55<00:21,  1.32it/s]\u001b[A\n",
      "  Training:  71%|███████▏  | 67/94 [00:56<00:21,  1.27it/s]\u001b[A\n",
      "  Training:  72%|███████▏  | 68/94 [00:57<00:21,  1.23it/s]\u001b[A\n",
      "  Training:  73%|███████▎  | 69/94 [00:57<00:19,  1.25it/s]\u001b[A\n",
      "  Training:  74%|███████▍  | 70/94 [00:58<00:19,  1.22it/s]\u001b[A\n",
      "  Training:  76%|███████▌  | 71/94 [00:59<00:17,  1.28it/s]\u001b[A\n",
      "  Training:  77%|███████▋  | 72/94 [01:00<00:17,  1.29it/s]\u001b[A\n",
      "  Training:  78%|███████▊  | 73/94 [01:01<00:16,  1.25it/s]\u001b[A\n",
      "  Training:  79%|███████▊  | 74/94 [01:01<00:16,  1.22it/s]\u001b[A\n",
      "  Training:  80%|███████▉  | 75/94 [01:02<00:14,  1.27it/s]\u001b[A\n",
      "  Training:  81%|████████  | 76/94 [01:03<00:14,  1.23it/s]\u001b[A\n",
      "  Training:  82%|████████▏ | 77/94 [01:04<00:14,  1.21it/s]\u001b[A\n",
      "  Training:  83%|████████▎ | 78/94 [01:05<00:12,  1.30it/s]\u001b[A\n",
      "  Training:  84%|████████▍ | 79/94 [01:05<00:12,  1.25it/s]\u001b[A\n",
      "  Training:  85%|████████▌ | 80/94 [01:06<00:11,  1.22it/s]\u001b[A\n",
      "  Training:  86%|████████▌ | 81/94 [01:07<00:10,  1.20it/s]\u001b[A\n",
      "  Training:  87%|████████▋ | 82/94 [01:08<00:10,  1.18it/s]\u001b[A\n",
      "  Training:  88%|████████▊ | 83/94 [01:09<00:09,  1.18it/s]\u001b[A\n",
      "  Training:  89%|████████▉ | 84/94 [01:10<00:08,  1.17it/s]\u001b[A\n",
      "  Training:  90%|█████████ | 85/94 [01:11<00:07,  1.17it/s]\u001b[A\n",
      "  Training:  91%|█████████▏| 86/94 [01:11<00:06,  1.16it/s]\u001b[A\n",
      "  Training:  93%|█████████▎| 87/94 [01:12<00:06,  1.16it/s]\u001b[A\n",
      "  Training:  94%|█████████▎| 88/94 [01:13<00:05,  1.16it/s]\u001b[A\n",
      "  Training:  95%|█████████▍| 89/94 [01:14<00:04,  1.18it/s]\u001b[A\n",
      "  Training:  96%|█████████▌| 90/94 [01:15<00:03,  1.17it/s]\u001b[A\n",
      "  Training:  97%|█████████▋| 91/94 [01:16<00:02,  1.16it/s]\u001b[A\n",
      "  Training:  98%|█████████▊| 92/94 [01:17<00:01,  1.16it/s]\u001b[A\n",
      "  Training:  99%|█████████▉| 93/94 [01:17<00:00,  1.16it/s]\u001b[A\n",
      "  Training: 100%|██████████| 94/94 [01:18<00:00,  1.25it/s]\u001b[A\n",
      "                                                           \u001b[A\n",
      "  Evaluating:   0%|          | 0/4 [00:00<?, ?it/s]\u001b[A\n",
      "  Evaluating:  25%|██▌       | 1/4 [00:00<00:00,  6.99it/s]\u001b[A\n",
      "  Evaluating:  75%|███████▌  | 3/4 [00:00<00:00,  9.35it/s]\u001b[A\n",
      "                                                           \u001b[A"
     ]
    },
    {
     "name": "stdout",
     "output_type": "stream",
     "text": [
      "[Trans ep6] tr=4.158 val=4.935\n"
     ]
    },
    {
     "name": "stderr",
     "output_type": "stream",
     "text": [
      "Epochs:  12%|█▏        | 6/50 [07:45<57:35, 78.54s/it]\n",
      "  Training:   0%|          | 0/94 [00:00<?, ?it/s]\u001b[A\n",
      "  Training:   1%|          | 1/94 [00:00<01:20,  1.15it/s]\u001b[A\n",
      "  Training:   2%|▏         | 2/94 [00:01<01:19,  1.15it/s]\u001b[A\n",
      "  Training:   3%|▎         | 3/94 [00:02<01:12,  1.25it/s]\u001b[A\n",
      "  Training:   4%|▍         | 4/94 [00:03<01:09,  1.29it/s]\u001b[A\n",
      "  Training:   5%|▌         | 5/94 [00:04<01:11,  1.25it/s]\u001b[A\n",
      "  Training:   6%|▋         | 6/94 [00:04<01:12,  1.22it/s]\u001b[A\n",
      "  Training:   7%|▋         | 7/94 [00:05<01:12,  1.19it/s]\u001b[A\n",
      "  Training:   9%|▊         | 8/94 [00:06<01:12,  1.18it/s]\u001b[A\n",
      "  Training:  10%|▉         | 9/94 [00:07<01:12,  1.17it/s]\u001b[A\n",
      "  Training:  11%|█         | 10/94 [00:08<01:07,  1.24it/s]\u001b[A\n",
      "  Training:  12%|█▏        | 11/94 [00:09<01:08,  1.21it/s]\u001b[A\n",
      "  Training:  13%|█▎        | 12/94 [00:09<01:08,  1.20it/s]\u001b[A\n",
      "  Training:  14%|█▍        | 13/94 [00:10<01:08,  1.18it/s]\u001b[A\n",
      "  Training:  15%|█▍        | 14/94 [00:11<01:08,  1.17it/s]\u001b[A\n",
      "  Training:  16%|█▌        | 15/94 [00:12<01:06,  1.19it/s]\u001b[A\n",
      "  Training:  17%|█▋        | 16/94 [00:13<01:06,  1.18it/s]\u001b[A\n",
      "  Training:  18%|█▊        | 17/94 [00:14<01:05,  1.17it/s]\u001b[A\n",
      "  Training:  19%|█▉        | 18/94 [00:14<01:00,  1.25it/s]\u001b[A\n",
      "  Training:  20%|██        | 19/94 [00:15<00:59,  1.25it/s]\u001b[A\n",
      "  Training:  21%|██▏       | 20/94 [00:16<00:56,  1.30it/s]\u001b[A\n",
      "  Training:  22%|██▏       | 21/94 [00:17<00:58,  1.25it/s]\u001b[A\n",
      "  Training:  23%|██▎       | 22/94 [00:18<00:59,  1.22it/s]\u001b[A\n",
      "  Training:  24%|██▍       | 23/94 [00:19<00:59,  1.20it/s]\u001b[A\n",
      "  Training:  26%|██▌       | 24/94 [00:19<00:57,  1.22it/s]\u001b[A\n",
      "  Training:  27%|██▋       | 25/94 [00:20<00:52,  1.32it/s]\u001b[A\n",
      "  Training:  28%|██▊       | 26/94 [00:21<00:51,  1.33it/s]\u001b[A\n",
      "  Training:  29%|██▊       | 27/94 [00:22<00:52,  1.27it/s]\u001b[A\n",
      "  Training:  30%|██▉       | 28/94 [00:22<00:53,  1.23it/s]\u001b[A\n",
      "  Training:  31%|███       | 29/94 [00:23<00:53,  1.21it/s]\u001b[A\n",
      "  Training:  32%|███▏      | 30/94 [00:24<00:53,  1.19it/s]\u001b[A\n",
      "  Training:  33%|███▎      | 31/94 [00:25<00:53,  1.18it/s]\u001b[A\n",
      "  Training:  34%|███▍      | 32/94 [00:26<00:53,  1.17it/s]\u001b[A\n",
      "  Training:  35%|███▌      | 33/94 [00:27<00:52,  1.16it/s]\u001b[A\n",
      "  Training:  36%|███▌      | 34/94 [00:28<00:51,  1.16it/s]\u001b[A\n",
      "  Training:  37%|███▋      | 35/94 [00:28<00:51,  1.16it/s]\u001b[A\n",
      "  Training:  38%|███▊      | 36/94 [00:29<00:47,  1.22it/s]\u001b[A\n",
      "  Training:  39%|███▉      | 37/94 [00:30<00:47,  1.20it/s]\u001b[A\n",
      "  Training:  40%|████      | 38/94 [00:31<00:47,  1.18it/s]\u001b[A\n",
      "  Training:  41%|████▏     | 39/94 [00:32<00:47,  1.17it/s]\u001b[A\n",
      "  Training:  43%|████▎     | 40/94 [00:33<00:46,  1.16it/s]\u001b[A\n",
      "  Training:  44%|████▎     | 41/94 [00:33<00:43,  1.21it/s]\u001b[A\n",
      "  Training:  45%|████▍     | 42/94 [00:34<00:43,  1.19it/s]\u001b[A\n",
      "  Training:  46%|████▌     | 43/94 [00:35<00:41,  1.24it/s]\u001b[A\n",
      "  Training:  47%|████▋     | 44/94 [00:36<00:40,  1.24it/s]\u001b[A\n",
      "  Training:  48%|████▊     | 45/94 [00:37<00:39,  1.24it/s]\u001b[A\n",
      "  Training:  49%|████▉     | 46/94 [00:37<00:39,  1.21it/s]\u001b[A\n",
      "  Training:  50%|█████     | 47/94 [00:38<00:37,  1.27it/s]\u001b[A\n",
      "  Training:  51%|█████     | 48/94 [00:39<00:36,  1.27it/s]\u001b[A\n",
      "  Training:  52%|█████▏    | 49/94 [00:40<00:36,  1.23it/s]\u001b[A\n",
      "  Training:  53%|█████▎    | 50/94 [00:41<00:36,  1.20it/s]\u001b[A\n",
      "  Training:  54%|█████▍    | 51/94 [00:42<00:36,  1.19it/s]\u001b[A\n",
      "  Training:  55%|█████▌    | 52/94 [00:42<00:35,  1.18it/s]\u001b[A\n",
      "  Training:  56%|█████▋    | 53/94 [00:43<00:35,  1.17it/s]\u001b[A\n",
      "  Training:  57%|█████▋    | 54/94 [00:44<00:34,  1.16it/s]\u001b[A\n",
      "  Training:  59%|█████▊    | 55/94 [00:45<00:33,  1.15it/s]\u001b[A\n",
      "  Training:  60%|█████▉    | 56/94 [00:46<00:32,  1.15it/s]\u001b[A\n",
      "  Training:  61%|██████    | 57/94 [00:47<00:32,  1.15it/s]\u001b[A\n",
      "  Training:  62%|██████▏   | 58/94 [00:48<00:31,  1.15it/s]\u001b[A\n",
      "  Training:  63%|██████▎   | 59/94 [00:49<00:30,  1.15it/s]\u001b[A\n",
      "  Training:  64%|██████▍   | 60/94 [00:49<00:29,  1.15it/s]\u001b[A\n",
      "  Training:  65%|██████▍   | 61/94 [00:50<00:28,  1.17it/s]\u001b[A\n",
      "  Training:  66%|██████▌   | 62/94 [00:51<00:27,  1.16it/s]\u001b[A\n",
      "  Training:  67%|██████▋   | 63/94 [00:52<00:26,  1.17it/s]\u001b[A\n",
      "  Training:  68%|██████▊   | 64/94 [00:53<00:25,  1.19it/s]\u001b[A\n",
      "  Training:  69%|██████▉   | 65/94 [00:54<00:24,  1.18it/s]\u001b[A\n",
      "  Training:  70%|███████   | 66/94 [00:55<00:23,  1.17it/s]\u001b[A\n",
      "  Training:  71%|███████▏  | 67/94 [00:55<00:23,  1.17it/s]\u001b[A\n",
      "  Training:  72%|███████▏  | 68/94 [00:56<00:22,  1.16it/s]\u001b[A\n",
      "  Training:  73%|███████▎  | 69/94 [00:57<00:21,  1.19it/s]\u001b[A\n",
      "  Training:  74%|███████▍  | 70/94 [00:58<00:18,  1.27it/s]\u001b[A\n",
      "  Training:  76%|███████▌  | 71/94 [00:59<00:18,  1.23it/s]\u001b[A\n",
      "  Training:  77%|███████▋  | 72/94 [00:59<00:18,  1.20it/s]\u001b[A\n",
      "  Training:  78%|███████▊  | 73/94 [01:00<00:17,  1.19it/s]\u001b[A\n",
      "  Training:  79%|███████▊  | 74/94 [01:01<00:17,  1.17it/s]\u001b[A\n",
      "  Training:  80%|███████▉  | 75/94 [01:02<00:16,  1.17it/s]\u001b[A\n",
      "  Training:  81%|████████  | 76/94 [01:03<00:15,  1.16it/s]\u001b[A\n",
      "  Training:  82%|████████▏ | 77/94 [01:04<00:14,  1.20it/s]\u001b[A\n",
      "  Training:  83%|████████▎ | 78/94 [01:05<00:13,  1.19it/s]\u001b[A\n",
      "  Training:  84%|████████▍ | 79/94 [01:05<00:12,  1.17it/s]\u001b[A\n",
      "  Training:  85%|████████▌ | 80/94 [01:06<00:11,  1.23it/s]\u001b[A\n",
      "  Training:  86%|████████▌ | 81/94 [01:07<00:10,  1.22it/s]\u001b[A\n",
      "  Training:  87%|████████▋ | 82/94 [01:08<00:10,  1.20it/s]\u001b[A\n",
      "  Training:  88%|████████▊ | 83/94 [01:09<00:09,  1.18it/s]\u001b[A\n",
      "  Training:  89%|████████▉ | 84/94 [01:10<00:08,  1.17it/s]\u001b[A\n",
      "  Training:  90%|█████████ | 85/94 [01:10<00:07,  1.21it/s]\u001b[A\n",
      "  Training:  91%|█████████▏| 86/94 [01:11<00:06,  1.23it/s]\u001b[A\n",
      "  Training:  93%|█████████▎| 87/94 [01:12<00:05,  1.21it/s]\u001b[A\n",
      "  Training:  94%|█████████▎| 88/94 [01:13<00:05,  1.19it/s]\u001b[A\n",
      "  Training:  95%|█████████▍| 89/94 [01:14<00:04,  1.18it/s]\u001b[A\n",
      "  Training:  96%|█████████▌| 90/94 [01:15<00:03,  1.18it/s]\u001b[A\n",
      "  Training:  97%|█████████▋| 91/94 [01:15<00:02,  1.17it/s]\u001b[A\n",
      "  Training:  98%|█████████▊| 92/94 [01:16<00:01,  1.16it/s]\u001b[A\n",
      "  Training:  99%|█████████▉| 93/94 [01:17<00:00,  1.21it/s]\u001b[A\n",
      "  Training: 100%|██████████| 94/94 [01:18<00:00,  1.29it/s]\u001b[A\n",
      "                                                           \u001b[A\n",
      "  Evaluating:   0%|          | 0/4 [00:00<?, ?it/s]\u001b[A\n",
      "  Evaluating:  25%|██▌       | 1/4 [00:00<00:00,  7.10it/s]\u001b[A\n",
      "  Evaluating:  75%|███████▌  | 3/4 [00:00<00:00,  9.37it/s]\u001b[A\n",
      "                                                           \u001b[A"
     ]
    },
    {
     "name": "stdout",
     "output_type": "stream",
     "text": [
      "[Trans ep7] tr=4.021 val=4.816\n"
     ]
    },
    {
     "name": "stderr",
     "output_type": "stream",
     "text": [
      "Epochs:  14%|█▍        | 7/50 [09:04<56:26, 78.75s/it]\n",
      "  Training:   0%|          | 0/94 [00:00<?, ?it/s]\u001b[A\n",
      "  Training:   1%|          | 1/94 [00:00<01:19,  1.17it/s]\u001b[A\n",
      "  Training:   2%|▏         | 2/94 [00:01<01:19,  1.15it/s]\u001b[A\n",
      "  Training:   3%|▎         | 3/94 [00:02<01:18,  1.15it/s]\u001b[A\n",
      "  Training:   4%|▍         | 4/94 [00:03<01:18,  1.15it/s]\u001b[A\n",
      "  Training:   5%|▌         | 5/94 [00:04<01:17,  1.15it/s]\u001b[A\n",
      "  Training:   6%|▋         | 6/94 [00:05<01:16,  1.15it/s]\u001b[A\n",
      "  Training:   7%|▋         | 7/94 [00:06<01:14,  1.16it/s]\u001b[A\n",
      "  Training:   9%|▊         | 8/94 [00:06<01:12,  1.19it/s]\u001b[A\n",
      "  Training:  10%|▉         | 9/94 [00:07<01:11,  1.18it/s]\u001b[A\n",
      "  Training:  11%|█         | 10/94 [00:08<01:11,  1.17it/s]\u001b[A\n",
      "  Training:  12%|█▏        | 11/94 [00:09<01:11,  1.16it/s]\u001b[A\n",
      "  Training:  13%|█▎        | 12/94 [00:10<01:10,  1.16it/s]\u001b[A\n",
      "  Training:  14%|█▍        | 13/94 [00:11<01:10,  1.16it/s]\u001b[A\n",
      "  Training:  15%|█▍        | 14/94 [00:12<01:09,  1.16it/s]\u001b[A\n",
      "  Training:  16%|█▌        | 15/94 [00:12<01:06,  1.18it/s]\u001b[A\n",
      "  Training:  17%|█▋        | 16/94 [00:13<01:06,  1.17it/s]\u001b[A\n",
      "  Training:  18%|█▊        | 17/94 [00:14<01:06,  1.16it/s]\u001b[A\n",
      "  Training:  19%|█▉        | 18/94 [00:15<01:05,  1.16it/s]\u001b[A\n",
      "  Training:  20%|██        | 19/94 [00:16<01:03,  1.18it/s]\u001b[A\n",
      "  Training:  21%|██▏       | 20/94 [00:17<01:03,  1.17it/s]\u001b[A\n",
      "  Training:  22%|██▏       | 21/94 [00:18<01:02,  1.16it/s]\u001b[A\n",
      "  Training:  23%|██▎       | 22/94 [00:18<00:57,  1.24it/s]\u001b[A\n",
      "  Training:  24%|██▍       | 23/94 [00:19<00:53,  1.32it/s]\u001b[A\n",
      "  Training:  26%|██▌       | 24/94 [00:20<00:55,  1.26it/s]\u001b[A\n",
      "  Training:  27%|██▋       | 25/94 [00:20<00:54,  1.27it/s]\u001b[A\n",
      "  Training:  28%|██▊       | 26/94 [00:21<00:55,  1.23it/s]\u001b[A\n",
      "  Training:  29%|██▊       | 27/94 [00:22<00:55,  1.20it/s]\u001b[A\n",
      "  Training:  30%|██▉       | 28/94 [00:23<00:55,  1.19it/s]\u001b[A\n",
      "  Training:  31%|███       | 29/94 [00:24<00:52,  1.23it/s]\u001b[A\n",
      "  Training:  32%|███▏      | 30/94 [00:25<00:52,  1.21it/s]\u001b[A\n",
      "  Training:  33%|███▎      | 31/94 [00:25<00:50,  1.25it/s]\u001b[A\n",
      "  Training:  34%|███▍      | 32/94 [00:26<00:50,  1.22it/s]\u001b[A\n",
      "  Training:  35%|███▌      | 33/94 [00:27<00:50,  1.20it/s]\u001b[A\n",
      "  Training:  36%|███▌      | 34/94 [00:28<00:50,  1.20it/s]\u001b[A\n",
      "  Training:  37%|███▋      | 35/94 [00:29<00:49,  1.18it/s]\u001b[A\n",
      "  Training:  38%|███▊      | 36/94 [00:30<00:49,  1.17it/s]\u001b[A\n",
      "  Training:  39%|███▉      | 37/94 [00:31<00:48,  1.17it/s]\u001b[A\n",
      "  Training:  40%|████      | 38/94 [00:31<00:48,  1.16it/s]\u001b[A\n",
      "  Training:  41%|████▏     | 39/94 [00:32<00:47,  1.16it/s]\u001b[A\n",
      "  Training:  43%|████▎     | 40/94 [00:33<00:46,  1.15it/s]\u001b[A\n",
      "  Training:  44%|████▎     | 41/94 [00:34<00:45,  1.17it/s]\u001b[A\n",
      "  Training:  45%|████▍     | 42/94 [00:35<00:44,  1.16it/s]\u001b[A\n",
      "  Training:  46%|████▌     | 43/94 [00:36<00:44,  1.16it/s]\u001b[A\n",
      "  Training:  47%|████▋     | 44/94 [00:37<00:41,  1.20it/s]\u001b[A\n",
      "  Training:  48%|████▊     | 45/94 [00:37<00:39,  1.23it/s]\u001b[A\n",
      "  Training:  49%|████▉     | 46/94 [00:38<00:39,  1.21it/s]\u001b[A\n",
      "  Training:  50%|█████     | 47/94 [00:39<00:39,  1.19it/s]\u001b[A\n",
      "  Training:  51%|█████     | 48/94 [00:40<00:39,  1.18it/s]\u001b[A\n",
      "  Training:  52%|█████▏    | 49/94 [00:41<00:38,  1.17it/s]\u001b[A\n",
      "  Training:  53%|█████▎    | 50/94 [00:42<00:37,  1.16it/s]\u001b[A\n",
      "  Training:  54%|█████▍    | 51/94 [00:42<00:36,  1.19it/s]\u001b[A\n",
      "  Training:  55%|█████▌    | 52/94 [00:43<00:35,  1.18it/s]\u001b[A\n",
      "  Training:  56%|█████▋    | 53/94 [00:44<00:34,  1.18it/s]\u001b[A\n",
      "  Training:  57%|█████▋    | 54/94 [00:45<00:34,  1.17it/s]\u001b[A\n",
      "  Training:  59%|█████▊    | 55/94 [00:46<00:33,  1.17it/s]\u001b[A\n",
      "  Training:  60%|█████▉    | 56/94 [00:47<00:32,  1.16it/s]\u001b[A\n",
      "  Training:  61%|██████    | 57/94 [00:48<00:31,  1.16it/s]\u001b[A\n",
      "  Training:  62%|██████▏   | 58/94 [00:49<00:31,  1.16it/s]\u001b[A\n",
      "  Training:  63%|██████▎   | 59/94 [00:49<00:30,  1.15it/s]\u001b[A\n",
      "  Training:  64%|██████▍   | 60/94 [00:50<00:29,  1.15it/s]\u001b[A\n",
      "  Training:  65%|██████▍   | 61/94 [00:51<00:28,  1.15it/s]\u001b[A\n",
      "  Training:  66%|██████▌   | 62/94 [00:52<00:27,  1.15it/s]\u001b[A\n",
      "  Training:  67%|██████▋   | 63/94 [00:53<00:26,  1.15it/s]\u001b[A\n",
      "  Training:  68%|██████▊   | 64/94 [00:54<00:25,  1.16it/s]\u001b[A\n",
      "  Training:  69%|██████▉   | 65/94 [00:55<00:25,  1.16it/s]\u001b[A\n",
      "  Training:  70%|███████   | 66/94 [00:55<00:24,  1.16it/s]\u001b[A\n",
      "  Training:  71%|███████▏  | 67/94 [00:56<00:22,  1.22it/s]\u001b[A\n",
      "  Training:  72%|███████▏  | 68/94 [00:57<00:21,  1.20it/s]\u001b[A\n",
      "  Training:  73%|███████▎  | 69/94 [00:58<00:20,  1.23it/s]\u001b[A\n",
      "  Training:  74%|███████▍  | 70/94 [00:59<00:19,  1.22it/s]\u001b[A\n",
      "  Training:  76%|███████▌  | 71/94 [01:00<00:19,  1.20it/s]\u001b[A\n",
      "  Training:  77%|███████▋  | 72/94 [01:00<00:18,  1.18it/s]\u001b[A\n",
      "  Training:  78%|███████▊  | 73/94 [01:01<00:17,  1.17it/s]\u001b[A\n",
      "  Training:  79%|███████▊  | 74/94 [01:02<00:17,  1.17it/s]\u001b[A\n",
      "  Training:  80%|███████▉  | 75/94 [01:03<00:16,  1.16it/s]\u001b[A\n",
      "  Training:  81%|████████  | 76/94 [01:04<00:15,  1.16it/s]\u001b[A\n",
      "  Training:  82%|████████▏ | 77/94 [01:05<00:14,  1.20it/s]\u001b[A\n",
      "  Training:  83%|████████▎ | 78/94 [01:05<00:13,  1.21it/s]\u001b[A\n",
      "  Training:  84%|████████▍ | 79/94 [01:06<00:12,  1.22it/s]\u001b[A\n",
      "  Training:  85%|████████▌ | 80/94 [01:07<00:11,  1.20it/s]\u001b[A\n",
      "  Training:  86%|████████▌ | 81/94 [01:08<00:10,  1.19it/s]\u001b[A\n",
      "  Training:  87%|████████▋ | 82/94 [01:09<00:10,  1.17it/s]\u001b[A\n",
      "  Training:  88%|████████▊ | 83/94 [01:10<00:09,  1.17it/s]\u001b[A\n",
      "  Training:  89%|████████▉ | 84/94 [01:10<00:08,  1.21it/s]\u001b[A\n",
      "  Training:  90%|█████████ | 85/94 [01:11<00:07,  1.19it/s]\u001b[A\n",
      "  Training:  91%|█████████▏| 86/94 [01:12<00:06,  1.23it/s]\u001b[A\n",
      "  Training:  93%|█████████▎| 87/94 [01:13<00:05,  1.21it/s]\u001b[A\n",
      "  Training:  94%|█████████▎| 88/94 [01:14<00:05,  1.19it/s]\u001b[A\n",
      "  Training:  95%|█████████▍| 89/94 [01:15<00:04,  1.18it/s]\u001b[A\n",
      "  Training:  96%|█████████▌| 90/94 [01:16<00:03,  1.17it/s]\u001b[A\n",
      "  Training:  97%|█████████▋| 91/94 [01:16<00:02,  1.16it/s]\u001b[A\n",
      "  Training:  98%|█████████▊| 92/94 [01:17<00:01,  1.22it/s]\u001b[A\n",
      "  Training:  99%|█████████▉| 93/94 [01:18<00:00,  1.23it/s]\u001b[A\n",
      "  Training: 100%|██████████| 94/94 [01:19<00:00,  1.30it/s]\u001b[A\n",
      "                                                           \u001b[A\n",
      "  Evaluating:   0%|          | 0/4 [00:00<?, ?it/s]\u001b[A\n",
      "  Evaluating:  25%|██▌       | 1/4 [00:00<00:00,  7.00it/s]\u001b[A\n",
      "  Evaluating:  75%|███████▌  | 3/4 [00:00<00:00,  9.34it/s]\u001b[A\n",
      "                                                           \u001b[A"
     ]
    },
    {
     "name": "stdout",
     "output_type": "stream",
     "text": [
      "[Trans ep8] tr=3.891 val=4.814\n"
     ]
    },
    {
     "name": "stderr",
     "output_type": "stream",
     "text": [
      "Epochs:  16%|█▌        | 8/50 [10:24<55:24, 79.16s/it]\n",
      "  Training:   0%|          | 0/94 [00:00<?, ?it/s]\u001b[A\n",
      "  Training:   1%|          | 1/94 [00:00<01:18,  1.18it/s]\u001b[A\n",
      "  Training:   2%|▏         | 2/94 [00:01<01:19,  1.16it/s]\u001b[A\n",
      "  Training:   3%|▎         | 3/94 [00:02<01:12,  1.25it/s]\u001b[A\n",
      "  Training:   4%|▍         | 4/94 [00:03<01:14,  1.21it/s]\u001b[A\n",
      "  Training:   5%|▌         | 5/94 [00:04<01:14,  1.19it/s]\u001b[A\n",
      "  Training:   6%|▋         | 6/94 [00:05<01:14,  1.17it/s]\u001b[A\n",
      "  Training:   7%|▋         | 7/94 [00:05<01:14,  1.17it/s]\u001b[A\n",
      "  Training:   9%|▊         | 8/94 [00:06<01:14,  1.16it/s]\u001b[A\n",
      "  Training:  10%|▉         | 9/94 [00:07<01:13,  1.16it/s]\u001b[A\n",
      "  Training:  11%|█         | 10/94 [00:08<01:12,  1.16it/s]\u001b[A\n",
      "  Training:  12%|█▏        | 11/94 [00:09<01:11,  1.15it/s]\u001b[A\n",
      "  Training:  13%|█▎        | 12/94 [00:10<01:11,  1.15it/s]\u001b[A\n",
      "  Training:  14%|█▍        | 13/94 [00:11<01:09,  1.16it/s]\u001b[A\n",
      "  Training:  15%|█▍        | 14/94 [00:11<01:09,  1.15it/s]\u001b[A\n",
      "  Training:  16%|█▌        | 15/94 [00:12<01:08,  1.15it/s]\u001b[A\n",
      "  Training:  17%|█▋        | 16/94 [00:13<01:07,  1.15it/s]\u001b[A\n",
      "  Training:  18%|█▊        | 17/94 [00:14<01:06,  1.17it/s]\u001b[A\n",
      "  Training:  19%|█▉        | 18/94 [00:15<01:00,  1.26it/s]\u001b[A\n",
      "  Training:  20%|██        | 19/94 [00:16<01:01,  1.23it/s]\u001b[A\n",
      "  Training:  21%|██▏       | 20/94 [00:16<01:01,  1.20it/s]\u001b[A\n",
      "  Training:  22%|██▏       | 21/94 [00:17<01:01,  1.19it/s]\u001b[A\n",
      "  Training:  23%|██▎       | 22/94 [00:18<01:01,  1.17it/s]\u001b[A\n",
      "  Training:  24%|██▍       | 23/94 [00:19<01:01,  1.16it/s]\u001b[A\n",
      "  Training:  26%|██▌       | 24/94 [00:20<00:59,  1.17it/s]\u001b[A\n",
      "  Training:  27%|██▋       | 25/94 [00:21<00:53,  1.28it/s]\u001b[A\n",
      "  Training:  28%|██▊       | 26/94 [00:21<00:54,  1.24it/s]\u001b[A\n",
      "  Training:  29%|██▊       | 27/94 [00:22<00:55,  1.21it/s]\u001b[A\n",
      "  Training:  30%|██▉       | 28/94 [00:23<00:55,  1.19it/s]\u001b[A\n",
      "  Training:  31%|███       | 29/94 [00:24<00:55,  1.18it/s]\u001b[A\n",
      "  Training:  32%|███▏      | 30/94 [00:25<00:54,  1.17it/s]\u001b[A\n",
      "  Training:  33%|███▎      | 31/94 [00:26<00:53,  1.18it/s]\u001b[A\n",
      "  Training:  34%|███▍      | 32/94 [00:27<00:53,  1.17it/s]\u001b[A\n",
      "  Training:  35%|███▌      | 33/94 [00:27<00:52,  1.16it/s]\u001b[A\n",
      "  Training:  36%|███▌      | 34/94 [00:28<00:51,  1.16it/s]\u001b[A\n",
      "  Training:  37%|███▋      | 35/94 [00:29<00:51,  1.15it/s]\u001b[A\n",
      "  Training:  38%|███▊      | 36/94 [00:30<00:49,  1.16it/s]\u001b[A\n",
      "  Training:  39%|███▉      | 37/94 [00:31<00:48,  1.16it/s]\u001b[A\n",
      "  Training:  40%|████      | 38/94 [00:32<00:47,  1.18it/s]\u001b[A\n",
      "  Training:  41%|████▏     | 39/94 [00:33<00:46,  1.17it/s]\u001b[A\n",
      "  Training:  43%|████▎     | 40/94 [00:33<00:46,  1.16it/s]\u001b[A\n",
      "  Training:  44%|████▎     | 41/94 [00:34<00:45,  1.16it/s]\u001b[A\n",
      "  Training:  45%|████▍     | 42/94 [00:35<00:45,  1.16it/s]\u001b[A\n",
      "  Training:  46%|████▌     | 43/94 [00:36<00:44,  1.15it/s]\u001b[A\n",
      "  Training:  47%|████▋     | 44/94 [00:37<00:43,  1.15it/s]\u001b[A\n",
      "  Training:  48%|████▊     | 45/94 [00:38<00:42,  1.15it/s]\u001b[A\n",
      "  Training:  49%|████▉     | 46/94 [00:39<00:41,  1.15it/s]\u001b[A\n",
      "  Training:  50%|█████     | 47/94 [00:40<00:40,  1.15it/s]\u001b[A\n",
      "  Training:  51%|█████     | 48/94 [00:40<00:39,  1.15it/s]\u001b[A\n",
      "  Training:  52%|█████▏    | 49/94 [00:41<00:38,  1.17it/s]\u001b[A\n",
      "  Training:  53%|█████▎    | 50/94 [00:42<00:36,  1.21it/s]\u001b[A\n",
      "  Training:  54%|█████▍    | 51/94 [00:43<00:36,  1.19it/s]\u001b[A\n",
      "  Training:  55%|█████▌    | 52/94 [00:44<00:35,  1.18it/s]\u001b[A\n",
      "  Training:  56%|█████▋    | 53/94 [00:45<00:35,  1.17it/s]\u001b[A\n",
      "  Training:  57%|█████▋    | 54/94 [00:45<00:34,  1.16it/s]\u001b[A\n",
      "  Training:  59%|█████▊    | 55/94 [00:46<00:31,  1.24it/s]\u001b[A\n",
      "  Training:  60%|█████▉    | 56/94 [00:47<00:28,  1.31it/s]\u001b[A\n",
      "  Training:  61%|██████    | 57/94 [00:48<00:29,  1.27it/s]\u001b[A\n",
      "  Training:  62%|██████▏   | 58/94 [00:48<00:28,  1.26it/s]\u001b[A\n",
      "  Training:  63%|██████▎   | 59/94 [00:49<00:28,  1.23it/s]\u001b[A\n",
      "  Training:  64%|██████▍   | 60/94 [00:50<00:28,  1.20it/s]\u001b[A\n",
      "  Training:  65%|██████▍   | 61/94 [00:51<00:27,  1.18it/s]\u001b[A\n",
      "  Training:  66%|██████▌   | 62/94 [00:52<00:26,  1.20it/s]\u001b[A\n",
      "  Training:  67%|██████▋   | 63/94 [00:53<00:26,  1.18it/s]\u001b[A\n",
      "  Training:  68%|██████▊   | 64/94 [00:54<00:25,  1.17it/s]\u001b[A\n",
      "  Training:  69%|██████▉   | 65/94 [00:54<00:24,  1.17it/s]\u001b[A\n",
      "  Training:  70%|███████   | 66/94 [00:55<00:22,  1.24it/s]\u001b[A\n",
      "  Training:  71%|███████▏  | 67/94 [00:56<00:22,  1.21it/s]\u001b[A\n",
      "  Training:  72%|███████▏  | 68/94 [00:57<00:21,  1.19it/s]\u001b[A\n",
      "  Training:  73%|███████▎  | 69/94 [00:58<00:21,  1.18it/s]\u001b[A\n",
      "  Training:  74%|███████▍  | 70/94 [00:59<00:19,  1.20it/s]\u001b[A\n",
      "  Training:  76%|███████▌  | 71/94 [00:59<00:19,  1.19it/s]\u001b[A\n",
      "  Training:  77%|███████▋  | 72/94 [01:00<00:18,  1.22it/s]\u001b[A\n",
      "  Training:  78%|███████▊  | 73/94 [01:01<00:17,  1.20it/s]\u001b[A\n",
      "  Training:  79%|███████▊  | 74/94 [01:02<00:16,  1.19it/s]\u001b[A\n",
      "  Training:  80%|███████▉  | 75/94 [01:03<00:16,  1.17it/s]\u001b[A\n",
      "  Training:  81%|████████  | 76/94 [01:04<00:14,  1.21it/s]\u001b[A\n",
      "  Training:  82%|████████▏ | 77/94 [01:04<00:14,  1.19it/s]\u001b[A\n",
      "  Training:  83%|████████▎ | 78/94 [01:05<00:13,  1.18it/s]\u001b[A\n",
      "  Training:  84%|████████▍ | 79/94 [01:06<00:12,  1.17it/s]\u001b[A\n",
      "  Training:  85%|████████▌ | 80/94 [01:07<00:12,  1.16it/s]\u001b[A\n",
      "  Training:  86%|████████▌ | 81/94 [01:08<00:11,  1.16it/s]\u001b[A\n",
      "  Training:  87%|████████▋ | 82/94 [01:09<00:10,  1.18it/s]\u001b[A\n",
      "  Training:  88%|████████▊ | 83/94 [01:10<00:09,  1.17it/s]\u001b[A\n",
      "  Training:  89%|████████▉ | 84/94 [01:10<00:08,  1.24it/s]\u001b[A\n",
      "  Training:  90%|█████████ | 85/94 [01:11<00:07,  1.21it/s]\u001b[A\n",
      "  Training:  91%|█████████▏| 86/94 [01:12<00:06,  1.21it/s]\u001b[A\n",
      "  Training:  93%|█████████▎| 87/94 [01:13<00:05,  1.29it/s]\u001b[A\n",
      "  Training:  94%|█████████▎| 88/94 [01:14<00:04,  1.25it/s]\u001b[A\n",
      "  Training:  95%|█████████▍| 89/94 [01:14<00:04,  1.22it/s]\u001b[A\n",
      "  Training:  96%|█████████▌| 90/94 [01:15<00:03,  1.20it/s]\u001b[A\n",
      "  Training:  97%|█████████▋| 91/94 [01:16<00:02,  1.18it/s]\u001b[A\n",
      "  Training:  98%|█████████▊| 92/94 [01:17<00:01,  1.17it/s]\u001b[A\n",
      "  Training:  99%|█████████▉| 93/94 [01:18<00:00,  1.25it/s]\u001b[A\n",
      "  Training: 100%|██████████| 94/94 [01:18<00:00,  1.32it/s]\u001b[A\n",
      "                                                           \u001b[A\n",
      "  Evaluating:   0%|          | 0/4 [00:00<?, ?it/s]\u001b[A\n",
      "  Evaluating:  25%|██▌       | 1/4 [00:00<00:00,  7.00it/s]\u001b[A\n",
      "  Evaluating:  75%|███████▌  | 3/4 [00:00<00:00,  9.39it/s]\u001b[A\n",
      "                                                           \u001b[A"
     ]
    },
    {
     "name": "stdout",
     "output_type": "stream",
     "text": [
      "[Trans ep9] tr=3.773 val=4.624\n"
     ]
    },
    {
     "name": "stderr",
     "output_type": "stream",
     "text": [
      "Epochs:  18%|█▊        | 9/50 [11:44<54:13, 79.34s/it]\n",
      "  Training:   0%|          | 0/94 [00:00<?, ?it/s]\u001b[A\n",
      "  Training:   1%|          | 1/94 [00:00<01:19,  1.17it/s]\u001b[A\n",
      "  Training:   2%|▏         | 2/94 [00:01<01:19,  1.16it/s]\u001b[A\n",
      "  Training:   3%|▎         | 3/94 [00:02<01:13,  1.24it/s]\u001b[A\n",
      "  Training:   4%|▍         | 4/94 [00:03<01:14,  1.20it/s]\u001b[A\n",
      "  Training:   5%|▌         | 5/94 [00:04<01:15,  1.18it/s]\u001b[A\n",
      "  Training:   6%|▋         | 6/94 [00:05<01:15,  1.17it/s]\u001b[A\n",
      "  Training:   7%|▋         | 7/94 [00:05<01:14,  1.16it/s]\u001b[A\n",
      "  Training:   9%|▊         | 8/94 [00:06<01:14,  1.16it/s]\u001b[A\n",
      "  Training:  10%|▉         | 9/94 [00:07<01:12,  1.17it/s]\u001b[A\n",
      "  Training:  11%|█         | 10/94 [00:08<01:11,  1.17it/s]\u001b[A\n",
      "  Training:  12%|█▏        | 11/94 [00:09<01:11,  1.16it/s]\u001b[A\n",
      "  Training:  13%|█▎        | 12/94 [00:10<01:10,  1.16it/s]\u001b[A\n",
      "  Training:  14%|█▍        | 13/94 [00:11<01:10,  1.16it/s]\u001b[A\n",
      "  Training:  15%|█▍        | 14/94 [00:11<01:09,  1.15it/s]\u001b[A\n",
      "  Training:  16%|█▌        | 15/94 [00:12<01:07,  1.17it/s]\u001b[A\n",
      "  Training:  17%|█▋        | 16/94 [00:13<01:06,  1.17it/s]\u001b[A\n",
      "  Training:  18%|█▊        | 17/94 [00:14<01:06,  1.16it/s]\u001b[A\n",
      "  Training:  19%|█▉        | 18/94 [00:15<01:05,  1.16it/s]\u001b[A\n",
      "  Training:  20%|██        | 19/94 [00:16<01:04,  1.15it/s]\u001b[A\n",
      "  Training:  21%|██▏       | 20/94 [00:17<01:04,  1.15it/s]\u001b[A\n",
      "  Training:  22%|██▏       | 21/94 [00:17<01:00,  1.20it/s]\u001b[A\n",
      "  Training:  23%|██▎       | 22/94 [00:18<01:00,  1.20it/s]\u001b[A\n",
      "  Training:  24%|██▍       | 23/94 [00:19<00:56,  1.26it/s]\u001b[A\n",
      "  Training:  26%|██▌       | 24/94 [00:20<00:57,  1.22it/s]\u001b[A\n",
      "  Training:  27%|██▋       | 25/94 [00:20<00:52,  1.31it/s]\u001b[A\n",
      "  Training:  28%|██▊       | 26/94 [00:21<00:54,  1.26it/s]\u001b[A\n",
      "  Training:  29%|██▊       | 27/94 [00:22<00:54,  1.22it/s]\u001b[A\n",
      "  Training:  30%|██▉       | 28/94 [00:23<00:52,  1.26it/s]\u001b[A\n",
      "  Training:  31%|███       | 29/94 [00:24<00:50,  1.29it/s]\u001b[A\n",
      "  Training:  32%|███▏      | 30/94 [00:24<00:50,  1.26it/s]\u001b[A\n",
      "  Training:  33%|███▎      | 31/94 [00:25<00:50,  1.24it/s]\u001b[A\n",
      "  Training:  34%|███▍      | 32/94 [00:26<00:51,  1.21it/s]\u001b[A\n",
      "  Training:  35%|███▌      | 33/94 [00:27<00:51,  1.19it/s]\u001b[A\n",
      "  Training:  36%|███▌      | 34/94 [00:28<00:50,  1.18it/s]\u001b[A\n",
      "  Training:  37%|███▋      | 35/94 [00:29<00:50,  1.17it/s]\u001b[A\n",
      "  Training:  38%|███▊      | 36/94 [00:30<00:49,  1.16it/s]\u001b[A\n",
      "  Training:  39%|███▉      | 37/94 [00:31<00:49,  1.16it/s]\u001b[A\n",
      "  Training:  40%|████      | 38/94 [00:31<00:48,  1.16it/s]\u001b[A\n",
      "  Training:  41%|████▏     | 39/94 [00:32<00:47,  1.15it/s]\u001b[A\n",
      "  Training:  43%|████▎     | 40/94 [00:33<00:46,  1.15it/s]\u001b[A\n",
      "  Training:  44%|████▎     | 41/94 [00:34<00:46,  1.15it/s]\u001b[A\n",
      "  Training:  45%|████▍     | 42/94 [00:35<00:45,  1.15it/s]\u001b[A\n",
      "  Training:  46%|████▌     | 43/94 [00:36<00:43,  1.18it/s]\u001b[A\n",
      "  Training:  47%|████▋     | 44/94 [00:37<00:42,  1.19it/s]\u001b[A\n",
      "  Training:  48%|████▊     | 45/94 [00:37<00:41,  1.18it/s]\u001b[A\n",
      "  Training:  49%|████▉     | 46/94 [00:38<00:39,  1.20it/s]\u001b[A\n",
      "  Training:  50%|█████     | 47/94 [00:39<00:39,  1.18it/s]\u001b[A\n",
      "  Training:  51%|█████     | 48/94 [00:40<00:39,  1.18it/s]\u001b[A\n",
      "  Training:  52%|█████▏    | 49/94 [00:41<00:38,  1.17it/s]\u001b[A\n",
      "  Training:  53%|█████▎    | 50/94 [00:42<00:36,  1.21it/s]\u001b[A\n",
      "  Training:  54%|█████▍    | 51/94 [00:42<00:35,  1.21it/s]\u001b[A\n",
      "  Training:  55%|█████▌    | 52/94 [00:43<00:35,  1.19it/s]\u001b[A\n",
      "  Training:  56%|█████▋    | 53/94 [00:44<00:34,  1.17it/s]\u001b[A\n",
      "  Training:  57%|█████▋    | 54/94 [00:45<00:32,  1.22it/s]\u001b[A\n",
      "  Training:  59%|█████▊    | 55/94 [00:46<00:32,  1.20it/s]\u001b[A\n",
      "  Training:  60%|█████▉    | 56/94 [00:47<00:31,  1.22it/s]\u001b[A\n",
      "  Training:  61%|██████    | 57/94 [00:47<00:30,  1.20it/s]\u001b[A\n",
      "  Training:  62%|██████▏   | 58/94 [00:48<00:30,  1.18it/s]\u001b[A\n",
      "  Training:  63%|██████▎   | 59/94 [00:49<00:29,  1.17it/s]\u001b[A\n",
      "  Training:  64%|██████▍   | 60/94 [00:50<00:28,  1.18it/s]\u001b[A\n",
      "  Training:  65%|██████▍   | 61/94 [00:51<00:26,  1.24it/s]\u001b[A\n",
      "  Training:  66%|██████▌   | 62/94 [00:52<00:26,  1.21it/s]\u001b[A\n",
      "  Training:  67%|██████▋   | 63/94 [00:52<00:25,  1.24it/s]\u001b[A\n",
      "  Training:  68%|██████▊   | 64/94 [00:53<00:24,  1.21it/s]\u001b[A\n",
      "  Training:  69%|██████▉   | 65/94 [00:54<00:24,  1.19it/s]\u001b[A\n",
      "  Training:  70%|███████   | 66/94 [00:55<00:23,  1.18it/s]\u001b[A\n",
      "  Training:  71%|███████▏  | 67/94 [00:56<00:23,  1.17it/s]\u001b[A\n",
      "  Training:  72%|███████▏  | 68/94 [00:57<00:21,  1.19it/s]\u001b[A\n",
      "  Training:  73%|███████▎  | 69/94 [00:57<00:21,  1.18it/s]\u001b[A\n",
      "  Training:  74%|███████▍  | 70/94 [00:58<00:20,  1.17it/s]\u001b[A\n",
      "  Training:  76%|███████▌  | 71/94 [00:59<00:19,  1.16it/s]\u001b[A\n",
      "  Training:  77%|███████▋  | 72/94 [01:00<00:19,  1.16it/s]\u001b[A\n",
      "  Training:  78%|███████▊  | 73/94 [01:01<00:18,  1.15it/s]\u001b[A\n",
      "  Training:  79%|███████▊  | 74/94 [01:02<00:17,  1.17it/s]\u001b[A\n",
      "  Training:  80%|███████▉  | 75/94 [01:03<00:15,  1.22it/s]\u001b[A\n",
      "  Training:  81%|████████  | 76/94 [01:03<00:14,  1.21it/s]\u001b[A\n",
      "  Training:  82%|████████▏ | 77/94 [01:04<00:14,  1.19it/s]\u001b[A\n",
      "  Training:  83%|████████▎ | 78/94 [01:05<00:13,  1.18it/s]\u001b[A\n",
      "  Training:  84%|████████▍ | 79/94 [01:06<00:12,  1.21it/s]\u001b[A\n",
      "  Training:  85%|████████▌ | 80/94 [01:07<00:11,  1.22it/s]\u001b[A\n",
      "  Training:  86%|████████▌ | 81/94 [01:08<00:10,  1.20it/s]\u001b[A\n",
      "  Training:  87%|████████▋ | 82/94 [01:08<00:09,  1.23it/s]\u001b[A\n",
      "  Training:  88%|████████▊ | 83/94 [01:09<00:09,  1.20it/s]\u001b[A\n",
      "  Training:  89%|████████▉ | 84/94 [01:10<00:08,  1.19it/s]\u001b[A\n",
      "  Training:  90%|█████████ | 85/94 [01:11<00:07,  1.18it/s]\u001b[A\n",
      "  Training:  91%|█████████▏| 86/94 [01:12<00:06,  1.17it/s]\u001b[A\n",
      "  Training:  93%|█████████▎| 87/94 [01:13<00:06,  1.16it/s]\u001b[A\n",
      "  Training:  94%|█████████▎| 88/94 [01:14<00:05,  1.18it/s]\u001b[A\n",
      "  Training:  95%|█████████▍| 89/94 [01:14<00:04,  1.19it/s]\u001b[A\n",
      "  Training:  96%|█████████▌| 90/94 [01:15<00:03,  1.18it/s]\u001b[A\n",
      "  Training:  97%|█████████▋| 91/94 [01:16<00:02,  1.19it/s]\u001b[A\n",
      "  Training:  98%|█████████▊| 92/94 [01:17<00:01,  1.18it/s]\u001b[A\n",
      "  Training:  99%|█████████▉| 93/94 [01:18<00:00,  1.17it/s]\u001b[A\n",
      "  Training: 100%|██████████| 94/94 [01:18<00:00,  1.26it/s]\u001b[A\n",
      "                                                           \u001b[A\n",
      "  Evaluating:   0%|          | 0/4 [00:00<?, ?it/s]\u001b[A\n",
      "  Evaluating:  25%|██▌       | 1/4 [00:00<00:00,  6.93it/s]\u001b[A\n",
      "  Evaluating:  75%|███████▌  | 3/4 [00:00<00:00,  9.31it/s]\u001b[A\n",
      "Epochs:  20%|██        | 10/50 [13:03<52:53, 79.33s/it]    \u001b[A"
     ]
    },
    {
     "name": "stdout",
     "output_type": "stream",
     "text": [
      "[Trans ep10] tr=3.662 val=4.788\n"
     ]
    },
    {
     "name": "stderr",
     "output_type": "stream",
     "text": [
      "\n",
      "  Training:   0%|          | 0/94 [00:00<?, ?it/s]\u001b[A\n",
      "  Training:   1%|          | 1/94 [00:00<01:10,  1.33it/s]\u001b[A\n",
      "  Training:   2%|▏         | 2/94 [00:01<01:15,  1.22it/s]\u001b[A\n",
      "  Training:   3%|▎         | 3/94 [00:02<01:16,  1.19it/s]\u001b[A\n",
      "  Training:   4%|▍         | 4/94 [00:03<01:16,  1.17it/s]\u001b[A\n",
      "  Training:   5%|▌         | 5/94 [00:04<01:14,  1.19it/s]\u001b[A\n",
      "  Training:   6%|▋         | 6/94 [00:05<01:14,  1.17it/s]\u001b[A\n",
      "  Training:   7%|▋         | 7/94 [00:05<01:12,  1.20it/s]\u001b[A\n",
      "  Training:   9%|▊         | 8/94 [00:06<01:12,  1.18it/s]\u001b[A\n",
      "  Training:  10%|▉         | 9/94 [00:07<01:09,  1.22it/s]\u001b[A\n",
      "  Training:  11%|█         | 10/94 [00:08<01:10,  1.19it/s]\u001b[A\n",
      "  Training:  12%|█▏        | 11/94 [00:09<01:10,  1.18it/s]\u001b[A\n",
      "  Training:  13%|█▎        | 12/94 [00:10<01:10,  1.17it/s]\u001b[A\n",
      "  Training:  14%|█▍        | 13/94 [00:10<01:09,  1.16it/s]\u001b[A\n",
      "  Training:  15%|█▍        | 14/94 [00:11<01:09,  1.15it/s]\u001b[A\n",
      "  Training:  16%|█▌        | 15/94 [00:12<01:07,  1.18it/s]\u001b[A\n",
      "  Training:  17%|█▋        | 16/94 [00:13<01:06,  1.17it/s]\u001b[A\n",
      "  Training:  18%|█▊        | 17/94 [00:14<01:06,  1.16it/s]\u001b[A\n",
      "  Training:  19%|█▉        | 18/94 [00:15<01:03,  1.20it/s]\u001b[A\n",
      "  Training:  20%|██        | 19/94 [00:15<01:01,  1.23it/s]\u001b[A\n",
      "  Training:  21%|██▏       | 20/94 [00:16<01:01,  1.20it/s]\u001b[A\n",
      "  Training:  22%|██▏       | 21/94 [00:17<00:57,  1.27it/s]\u001b[A\n",
      "  Training:  23%|██▎       | 22/94 [00:18<00:58,  1.23it/s]\u001b[A\n",
      "  Training:  24%|██▍       | 23/94 [00:19<00:57,  1.24it/s]\u001b[A\n",
      "  Training:  26%|██▌       | 24/94 [00:20<00:57,  1.21it/s]\u001b[A\n",
      "  Training:  27%|██▋       | 25/94 [00:20<00:55,  1.24it/s]\u001b[A\n",
      "  Training:  28%|██▊       | 26/94 [00:21<00:56,  1.21it/s]\u001b[A\n",
      "  Training:  29%|██▊       | 27/94 [00:22<00:56,  1.19it/s]\u001b[A\n",
      "  Training:  30%|██▉       | 28/94 [00:23<00:55,  1.19it/s]\u001b[A\n",
      "  Training:  31%|███       | 29/94 [00:24<00:52,  1.23it/s]\u001b[A\n",
      "  Training:  32%|███▏      | 30/94 [00:25<00:53,  1.21it/s]\u001b[A\n",
      "  Training:  33%|███▎      | 31/94 [00:25<00:51,  1.22it/s]\u001b[A\n",
      "  Training:  34%|███▍      | 32/94 [00:26<00:51,  1.20it/s]\u001b[A\n",
      "  Training:  35%|███▌      | 33/94 [00:27<00:51,  1.18it/s]\u001b[A\n",
      "  Training:  36%|███▌      | 34/94 [00:28<00:51,  1.17it/s]\u001b[A\n",
      "  Training:  37%|███▋      | 35/94 [00:29<00:48,  1.21it/s]\u001b[A\n",
      "  Training:  38%|███▊      | 36/94 [00:30<00:48,  1.19it/s]\u001b[A\n",
      "  Training:  39%|███▉      | 37/94 [00:30<00:45,  1.26it/s]\u001b[A\n",
      "  Training:  40%|████      | 38/94 [00:31<00:45,  1.22it/s]\u001b[A\n",
      "  Training:  41%|████▏     | 39/94 [00:32<00:45,  1.20it/s]\u001b[A\n",
      "  Training:  43%|████▎     | 40/94 [00:33<00:45,  1.19it/s]\u001b[A\n",
      "  Training:  44%|████▎     | 41/94 [00:34<00:45,  1.17it/s]\u001b[A\n",
      "  Training:  45%|████▍     | 42/94 [00:35<00:44,  1.17it/s]\u001b[A\n",
      "  Training:  46%|████▌     | 43/94 [00:35<00:42,  1.19it/s]\u001b[A\n",
      "  Training:  47%|████▋     | 44/94 [00:36<00:42,  1.18it/s]\u001b[A\n",
      "  Training:  48%|████▊     | 45/94 [00:37<00:39,  1.23it/s]\u001b[A\n",
      "  Training:  49%|████▉     | 46/94 [00:38<00:38,  1.23it/s]\u001b[A\n",
      "  Training:  50%|█████     | 47/94 [00:39<00:38,  1.21it/s]\u001b[A\n",
      "  Training:  51%|█████     | 48/94 [00:40<00:38,  1.19it/s]\u001b[A\n",
      "  Training:  52%|█████▏    | 49/94 [00:40<00:38,  1.18it/s]\u001b[A\n",
      "  Training:  53%|█████▎    | 50/94 [00:41<00:37,  1.17it/s]\u001b[A\n",
      "  Training:  54%|█████▍    | 51/94 [00:42<00:36,  1.16it/s]\u001b[A\n",
      "  Training:  55%|█████▌    | 52/94 [00:43<00:36,  1.16it/s]\u001b[A\n",
      "  Training:  56%|█████▋    | 53/94 [00:44<00:35,  1.16it/s]\u001b[A\n",
      "  Training:  57%|█████▋    | 54/94 [00:45<00:32,  1.23it/s]\u001b[A\n",
      "  Training:  59%|█████▊    | 55/94 [00:45<00:32,  1.20it/s]\u001b[A\n",
      "  Training:  60%|█████▉    | 56/94 [00:46<00:32,  1.19it/s]\u001b[A\n",
      "  Training:  61%|██████    | 57/94 [00:47<00:30,  1.20it/s]\u001b[A\n",
      "  Training:  62%|██████▏   | 58/94 [00:48<00:30,  1.18it/s]\u001b[A\n",
      "  Training:  63%|██████▎   | 59/94 [00:49<00:29,  1.17it/s]\u001b[A\n",
      "  Training:  64%|██████▍   | 60/94 [00:50<00:28,  1.18it/s]\u001b[A\n",
      "  Training:  65%|██████▍   | 61/94 [00:51<00:28,  1.17it/s]\u001b[A\n",
      "  Training:  66%|██████▌   | 62/94 [00:51<00:27,  1.16it/s]\u001b[A\n",
      "  Training:  67%|██████▋   | 63/94 [00:52<00:26,  1.16it/s]\u001b[A\n",
      "  Training:  68%|██████▊   | 64/94 [00:53<00:24,  1.20it/s]\u001b[A\n",
      "  Training:  69%|██████▉   | 65/94 [00:54<00:24,  1.19it/s]\u001b[A\n",
      "  Training:  70%|███████   | 66/94 [00:55<00:23,  1.19it/s]\u001b[A\n",
      "  Training:  71%|███████▏  | 67/94 [00:56<00:22,  1.18it/s]\u001b[A\n",
      "  Training:  72%|███████▏  | 68/94 [00:57<00:22,  1.17it/s]\u001b[A\n",
      "  Training:  73%|███████▎  | 69/94 [00:57<00:21,  1.16it/s]\u001b[A\n",
      "  Training:  74%|███████▍  | 70/94 [00:58<00:20,  1.16it/s]\u001b[A\n",
      "  Training:  76%|███████▌  | 71/94 [00:59<00:19,  1.16it/s]\u001b[A\n",
      "  Training:  77%|███████▋  | 72/94 [01:00<00:18,  1.21it/s]\u001b[A\n",
      "  Training:  78%|███████▊  | 73/94 [01:01<00:17,  1.19it/s]\u001b[A\n",
      "  Training:  79%|███████▊  | 74/94 [01:02<00:16,  1.18it/s]\u001b[A\n",
      "  Training:  80%|███████▉  | 75/94 [01:03<00:16,  1.17it/s]\u001b[A\n",
      "  Training:  81%|████████  | 76/94 [01:03<00:15,  1.16it/s]\u001b[A\n",
      "  Training:  82%|████████▏ | 77/94 [01:04<00:14,  1.17it/s]\u001b[A\n",
      "  Training:  83%|████████▎ | 78/94 [01:05<00:13,  1.16it/s]\u001b[A\n",
      "  Training:  84%|████████▍ | 79/94 [01:06<00:12,  1.16it/s]\u001b[A\n",
      "  Training:  85%|████████▌ | 80/94 [01:07<00:12,  1.16it/s]\u001b[A\n",
      "  Training:  86%|████████▌ | 81/94 [01:08<00:11,  1.15it/s]\u001b[A\n",
      "  Training:  87%|████████▋ | 82/94 [01:09<00:10,  1.15it/s]\u001b[A\n",
      "  Training:  88%|████████▊ | 83/94 [01:09<00:09,  1.15it/s]\u001b[A\n",
      "  Training:  89%|████████▉ | 84/94 [01:10<00:08,  1.15it/s]\u001b[A\n",
      "  Training:  90%|█████████ | 85/94 [01:11<00:07,  1.15it/s]\u001b[A\n",
      "  Training:  91%|█████████▏| 86/94 [01:12<00:06,  1.22it/s]\u001b[A\n",
      "  Training:  93%|█████████▎| 87/94 [01:13<00:05,  1.23it/s]\u001b[A\n",
      "  Training:  94%|█████████▎| 88/94 [01:14<00:04,  1.21it/s]\u001b[A\n",
      "  Training:  95%|█████████▍| 89/94 [01:14<00:04,  1.19it/s]\u001b[A\n",
      "  Training:  96%|█████████▌| 90/94 [01:15<00:03,  1.18it/s]\u001b[A\n",
      "  Training:  97%|█████████▋| 91/94 [01:16<00:02,  1.17it/s]\u001b[A\n",
      "  Training:  98%|█████████▊| 92/94 [01:17<00:01,  1.16it/s]\u001b[A\n",
      "  Training:  99%|█████████▉| 93/94 [01:18<00:00,  1.16it/s]\u001b[A\n",
      "  Training: 100%|██████████| 94/94 [01:19<00:00,  1.27it/s]\u001b[A\n",
      "                                                           \u001b[A\n",
      "  Evaluating:   0%|          | 0/4 [00:00<?, ?it/s]\u001b[A\n",
      "  Evaluating:  25%|██▌       | 1/4 [00:00<00:00,  7.01it/s]\u001b[A\n",
      "  Evaluating:  75%|███████▌  | 3/4 [00:00<00:00,  9.32it/s]\u001b[A\n",
      "Epochs:  22%|██▏       | 11/50 [14:22<51:34, 79.35s/it]    \u001b[A"
     ]
    },
    {
     "name": "stdout",
     "output_type": "stream",
     "text": [
      "[Trans ep11] tr=3.557 val=4.732\n"
     ]
    },
    {
     "name": "stderr",
     "output_type": "stream",
     "text": [
      "\n",
      "  Training:   0%|          | 0/94 [00:00<?, ?it/s]\u001b[A\n",
      "  Training:   1%|          | 1/94 [00:00<01:09,  1.33it/s]\u001b[A\n",
      "  Training:   2%|▏         | 2/94 [00:01<01:09,  1.32it/s]\u001b[A\n",
      "  Training:   3%|▎         | 3/94 [00:02<01:13,  1.23it/s]\u001b[A\n",
      "  Training:   4%|▍         | 4/94 [00:03<01:15,  1.20it/s]\u001b[A\n",
      "  Training:   5%|▌         | 5/94 [00:04<01:15,  1.18it/s]\u001b[A\n",
      "  Training:   6%|▋         | 6/94 [00:04<01:11,  1.23it/s]\u001b[A\n",
      "  Training:   7%|▋         | 7/94 [00:05<01:10,  1.24it/s]\u001b[A\n",
      "  Training:   9%|▊         | 8/94 [00:06<01:10,  1.22it/s]\u001b[A\n",
      "  Training:  10%|▉         | 9/94 [00:07<01:11,  1.20it/s]\u001b[A\n",
      "  Training:  11%|█         | 10/94 [00:08<01:11,  1.18it/s]\u001b[A\n",
      "  Training:  12%|█▏        | 11/94 [00:09<01:10,  1.17it/s]\u001b[A\n",
      "  Training:  13%|█▎        | 12/94 [00:10<01:10,  1.16it/s]\u001b[A\n",
      "  Training:  14%|█▍        | 13/94 [00:10<01:09,  1.16it/s]\u001b[A\n",
      "  Training:  15%|█▍        | 14/94 [00:11<01:09,  1.16it/s]\u001b[A\n",
      "  Training:  16%|█▌        | 15/94 [00:12<01:08,  1.15it/s]\u001b[A\n",
      "  Training:  17%|█▋        | 16/94 [00:13<01:04,  1.20it/s]\u001b[A\n",
      "  Training:  18%|█▊        | 17/94 [00:14<01:02,  1.23it/s]\u001b[A\n",
      "  Training:  19%|█▉        | 18/94 [00:15<01:03,  1.21it/s]\u001b[A\n",
      "  Training:  20%|██        | 19/94 [00:15<01:02,  1.19it/s]\u001b[A\n",
      "  Training:  21%|██▏       | 20/94 [00:16<01:02,  1.18it/s]\u001b[A\n",
      "  Training:  22%|██▏       | 21/94 [00:17<01:02,  1.17it/s]\u001b[A\n",
      "  Training:  23%|██▎       | 22/94 [00:18<01:01,  1.16it/s]\u001b[A\n",
      "  Training:  24%|██▍       | 23/94 [00:19<01:01,  1.16it/s]\u001b[A\n",
      "  Training:  26%|██▌       | 24/94 [00:20<01:00,  1.16it/s]\u001b[A\n",
      "  Training:  27%|██▋       | 25/94 [00:21<00:59,  1.15it/s]\u001b[A\n",
      "  Training:  28%|██▊       | 26/94 [00:21<00:58,  1.15it/s]\u001b[A\n",
      "  Training:  29%|██▊       | 27/94 [00:22<00:58,  1.15it/s]\u001b[A\n",
      "  Training:  30%|██▉       | 28/94 [00:23<00:55,  1.19it/s]\u001b[A\n",
      "  Training:  31%|███       | 29/94 [00:24<00:55,  1.17it/s]\u001b[A\n",
      "  Training:  32%|███▏      | 30/94 [00:25<00:54,  1.18it/s]\u001b[A\n",
      "  Training:  33%|███▎      | 31/94 [00:26<00:53,  1.17it/s]\u001b[A\n",
      "  Training:  34%|███▍      | 32/94 [00:27<00:53,  1.16it/s]\u001b[A\n",
      "  Training:  35%|███▌      | 33/94 [00:27<00:52,  1.16it/s]\u001b[A\n",
      "  Training:  36%|███▌      | 34/94 [00:28<00:51,  1.16it/s]\u001b[A\n",
      "  Training:  37%|███▋      | 35/94 [00:29<00:51,  1.16it/s]\u001b[A\n",
      "  Training:  38%|███▊      | 36/94 [00:30<00:50,  1.15it/s]\u001b[A\n",
      "  Training:  39%|███▉      | 37/94 [00:31<00:49,  1.15it/s]\u001b[A\n",
      "  Training:  40%|████      | 38/94 [00:32<00:46,  1.21it/s]\u001b[A\n",
      "  Training:  41%|████▏     | 39/94 [00:33<00:46,  1.19it/s]\u001b[A\n",
      "  Training:  43%|████▎     | 40/94 [00:33<00:44,  1.21it/s]\u001b[A\n",
      "  Training:  44%|████▎     | 41/94 [00:34<00:44,  1.20it/s]\u001b[A\n",
      "  Training:  45%|████▍     | 42/94 [00:35<00:44,  1.18it/s]\u001b[A\n",
      "  Training:  46%|████▌     | 43/94 [00:36<00:42,  1.20it/s]\u001b[A\n",
      "  Training:  47%|████▋     | 44/94 [00:37<00:42,  1.18it/s]\u001b[A\n",
      "  Training:  48%|████▊     | 45/94 [00:38<00:41,  1.17it/s]\u001b[A\n",
      "  Training:  49%|████▉     | 46/94 [00:38<00:41,  1.17it/s]\u001b[A\n",
      "  Training:  50%|█████     | 47/94 [00:39<00:40,  1.16it/s]\u001b[A\n",
      "  Training:  51%|█████     | 48/94 [00:40<00:39,  1.16it/s]\u001b[A\n",
      "  Training:  52%|█████▏    | 49/94 [00:41<00:38,  1.18it/s]\u001b[A\n",
      "  Training:  53%|█████▎    | 50/94 [00:42<00:37,  1.17it/s]\u001b[A\n",
      "  Training:  54%|█████▍    | 51/94 [00:43<00:35,  1.19it/s]\u001b[A\n",
      "  Training:  55%|█████▌    | 52/94 [00:44<00:35,  1.18it/s]\u001b[A\n",
      "  Training:  56%|█████▋    | 53/94 [00:44<00:35,  1.17it/s]\u001b[A\n",
      "  Training:  57%|█████▋    | 54/94 [00:45<00:33,  1.18it/s]\u001b[A\n",
      "  Training:  59%|█████▊    | 55/94 [00:46<00:33,  1.17it/s]\u001b[A\n",
      "  Training:  60%|█████▉    | 56/94 [00:47<00:29,  1.27it/s]\u001b[A\n",
      "  Training:  61%|██████    | 57/94 [00:47<00:27,  1.36it/s]\u001b[A\n",
      "  Training:  62%|██████▏   | 58/94 [00:48<00:27,  1.29it/s]\u001b[A\n",
      "  Training:  63%|██████▎   | 59/94 [00:49<00:28,  1.24it/s]\u001b[A\n",
      "  Training:  64%|██████▍   | 60/94 [00:50<00:28,  1.21it/s]\u001b[A\n",
      "  Training:  65%|██████▍   | 61/94 [00:51<00:27,  1.19it/s]\u001b[A\n",
      "  Training:  66%|██████▌   | 62/94 [00:52<00:27,  1.18it/s]\u001b[A\n",
      "  Training:  67%|██████▋   | 63/94 [00:53<00:26,  1.19it/s]\u001b[A\n",
      "  Training:  68%|██████▊   | 64/94 [00:53<00:25,  1.18it/s]\u001b[A\n",
      "  Training:  69%|██████▉   | 65/94 [00:54<00:24,  1.19it/s]\u001b[A\n",
      "  Training:  70%|███████   | 66/94 [00:55<00:23,  1.18it/s]\u001b[A\n",
      "  Training:  71%|███████▏  | 67/94 [00:56<00:21,  1.24it/s]\u001b[A\n",
      "  Training:  72%|███████▏  | 68/94 [00:57<00:21,  1.24it/s]\u001b[A\n",
      "  Training:  73%|███████▎  | 69/94 [00:57<00:20,  1.24it/s]\u001b[A\n",
      "  Training:  74%|███████▍  | 70/94 [00:58<00:19,  1.23it/s]\u001b[A\n",
      "  Training:  76%|███████▌  | 71/94 [00:59<00:19,  1.20it/s]\u001b[A\n",
      "  Training:  77%|███████▋  | 72/94 [01:00<00:17,  1.26it/s]\u001b[A\n",
      "  Training:  78%|███████▊  | 73/94 [01:01<00:16,  1.30it/s]\u001b[A\n",
      "  Training:  79%|███████▊  | 74/94 [01:01<00:15,  1.28it/s]\u001b[A\n",
      "  Training:  80%|███████▉  | 75/94 [01:02<00:15,  1.24it/s]\u001b[A\n",
      "  Training:  81%|████████  | 76/94 [01:03<00:14,  1.21it/s]\u001b[A\n",
      "  Training:  82%|████████▏ | 77/94 [01:04<00:14,  1.19it/s]\u001b[A\n",
      "  Training:  83%|████████▎ | 78/94 [01:05<00:13,  1.18it/s]\u001b[A\n",
      "  Training:  84%|████████▍ | 79/94 [01:06<00:12,  1.17it/s]\u001b[A\n",
      "  Training:  85%|████████▌ | 80/94 [01:07<00:11,  1.17it/s]\u001b[A\n",
      "  Training:  86%|████████▌ | 81/94 [01:07<00:11,  1.16it/s]\u001b[A\n",
      "  Training:  87%|████████▋ | 82/94 [01:08<00:10,  1.15it/s]\u001b[A\n",
      "  Training:  88%|████████▊ | 83/94 [01:09<00:09,  1.22it/s]\u001b[A\n",
      "  Training:  89%|████████▉ | 84/94 [01:10<00:08,  1.20it/s]\u001b[A\n",
      "  Training:  90%|█████████ | 85/94 [01:11<00:07,  1.21it/s]\u001b[A\n",
      "  Training:  91%|█████████▏| 86/94 [01:12<00:06,  1.19it/s]\u001b[A\n",
      "  Training:  93%|█████████▎| 87/94 [01:12<00:05,  1.18it/s]\u001b[A\n",
      "  Training:  94%|█████████▎| 88/94 [01:13<00:05,  1.17it/s]\u001b[A\n",
      "  Training:  95%|█████████▍| 89/94 [01:14<00:04,  1.16it/s]\u001b[A\n",
      "  Training:  96%|█████████▌| 90/94 [01:15<00:03,  1.16it/s]\u001b[A\n",
      "  Training:  97%|█████████▋| 91/94 [01:16<00:02,  1.16it/s]\u001b[A\n",
      "  Training:  98%|█████████▊| 92/94 [01:17<00:01,  1.15it/s]\u001b[A\n",
      "  Training:  99%|█████████▉| 93/94 [01:18<00:00,  1.15it/s]\u001b[A\n",
      "  Training: 100%|██████████| 94/94 [01:18<00:00,  1.27it/s]\u001b[A\n",
      "                                                           \u001b[A\n",
      "  Evaluating:   0%|          | 0/4 [00:00<?, ?it/s]\u001b[A\n",
      "  Evaluating:  25%|██▌       | 1/4 [00:00<00:00,  7.00it/s]\u001b[A\n",
      "  Evaluating:  75%|███████▌  | 3/4 [00:00<00:00,  9.29it/s]\u001b[A\n",
      "Epochs:  24%|██▍       | 12/50 [15:42<50:12, 79.29s/it]    \u001b[A"
     ]
    },
    {
     "name": "stdout",
     "output_type": "stream",
     "text": [
      "[Trans ep12] tr=3.459 val=4.671\n"
     ]
    },
    {
     "name": "stderr",
     "output_type": "stream",
     "text": [
      "\n",
      "  Training:   0%|          | 0/94 [00:00<?, ?it/s]\u001b[A\n",
      "  Training:   1%|          | 1/94 [00:00<01:20,  1.15it/s]\u001b[A\n",
      "  Training:   2%|▏         | 2/94 [00:01<01:19,  1.15it/s]\u001b[A\n",
      "  Training:   3%|▎         | 3/94 [00:02<01:15,  1.20it/s]\u001b[A\n",
      "  Training:   4%|▍         | 4/94 [00:03<01:16,  1.18it/s]\u001b[A\n",
      "  Training:   5%|▌         | 5/94 [00:04<01:10,  1.27it/s]\u001b[A\n",
      "  Training:   6%|▋         | 6/94 [00:04<01:04,  1.37it/s]\u001b[A\n",
      "  Training:   7%|▋         | 7/94 [00:05<01:07,  1.28it/s]\u001b[A\n",
      "  Training:   9%|▊         | 8/94 [00:06<01:09,  1.24it/s]\u001b[A\n",
      "  Training:  10%|▉         | 9/94 [00:07<01:10,  1.21it/s]\u001b[A\n",
      "  Training:  11%|█         | 10/94 [00:08<01:10,  1.19it/s]\u001b[A\n",
      "  Training:  12%|█▏        | 11/94 [00:08<01:06,  1.25it/s]\u001b[A\n",
      "  Training:  13%|█▎        | 12/94 [00:09<01:07,  1.22it/s]\u001b[A\n",
      "  Training:  14%|█▍        | 13/94 [00:10<01:07,  1.20it/s]\u001b[A\n",
      "  Training:  15%|█▍        | 14/94 [00:11<01:07,  1.18it/s]\u001b[A\n",
      "  Training:  16%|█▌        | 15/94 [00:12<01:07,  1.17it/s]\u001b[A\n",
      "  Training:  17%|█▋        | 16/94 [00:13<01:06,  1.17it/s]\u001b[A\n",
      "  Training:  18%|█▊        | 17/94 [00:14<01:04,  1.19it/s]\u001b[A\n",
      "  Training:  19%|█▉        | 18/94 [00:14<01:04,  1.18it/s]\u001b[A\n",
      "  Training:  20%|██        | 19/94 [00:15<01:04,  1.17it/s]\u001b[A\n",
      "  Training:  21%|██▏       | 20/94 [00:16<01:03,  1.16it/s]\u001b[A\n",
      "  Training:  22%|██▏       | 21/94 [00:17<01:03,  1.16it/s]\u001b[A\n",
      "  Training:  23%|██▎       | 22/94 [00:18<01:02,  1.15it/s]\u001b[A\n",
      "  Training:  24%|██▍       | 23/94 [00:19<01:01,  1.15it/s]\u001b[A\n",
      "  Training:  26%|██▌       | 24/94 [00:20<01:00,  1.15it/s]\u001b[A\n",
      "  Training:  27%|██▋       | 25/94 [00:21<01:00,  1.15it/s]\u001b[A\n",
      "  Training:  28%|██▊       | 26/94 [00:21<00:54,  1.25it/s]\u001b[A\n",
      "  Training:  29%|██▊       | 27/94 [00:22<00:54,  1.22it/s]\u001b[A\n",
      "  Training:  30%|██▉       | 28/94 [00:23<00:53,  1.23it/s]\u001b[A\n",
      "  Training:  31%|███       | 29/94 [00:24<00:52,  1.23it/s]\u001b[A\n",
      "  Training:  32%|███▏      | 30/94 [00:25<00:53,  1.20it/s]\u001b[A\n",
      "  Training:  33%|███▎      | 31/94 [00:25<00:53,  1.18it/s]\u001b[A\n",
      "  Training:  34%|███▍      | 32/94 [00:26<00:52,  1.19it/s]\u001b[A\n",
      "  Training:  35%|███▌      | 33/94 [00:27<00:51,  1.18it/s]\u001b[A\n",
      "  Training:  36%|███▌      | 34/94 [00:28<00:51,  1.17it/s]\u001b[A\n",
      "  Training:  37%|███▋      | 35/94 [00:29<00:48,  1.21it/s]\u001b[A\n",
      "  Training:  38%|███▊      | 36/94 [00:30<00:48,  1.19it/s]\u001b[A\n",
      "  Training:  39%|███▉      | 37/94 [00:30<00:48,  1.17it/s]\u001b[A\n",
      "  Training:  40%|████      | 38/94 [00:31<00:48,  1.16it/s]\u001b[A\n",
      "  Training:  41%|████▏     | 39/94 [00:32<00:46,  1.17it/s]\u001b[A\n",
      "  Training:  43%|████▎     | 40/94 [00:33<00:46,  1.16it/s]\u001b[A\n",
      "  Training:  44%|████▎     | 41/94 [00:34<00:45,  1.16it/s]\u001b[A\n",
      "  Training:  45%|████▍     | 42/94 [00:35<00:45,  1.16it/s]\u001b[A\n",
      "  Training:  46%|████▌     | 43/94 [00:36<00:44,  1.15it/s]\u001b[A\n",
      "  Training:  47%|████▋     | 44/94 [00:36<00:42,  1.18it/s]\u001b[A\n",
      "  Training:  48%|████▊     | 45/94 [00:37<00:41,  1.18it/s]\u001b[A\n",
      "  Training:  49%|████▉     | 46/94 [00:38<00:41,  1.17it/s]\u001b[A\n",
      "  Training:  50%|█████     | 47/94 [00:39<00:40,  1.16it/s]\u001b[A\n",
      "  Training:  51%|█████     | 48/94 [00:40<00:39,  1.16it/s]\u001b[A\n",
      "  Training:  52%|█████▏    | 49/94 [00:41<00:38,  1.16it/s]\u001b[A\n",
      "  Training:  53%|█████▎    | 50/94 [00:42<00:38,  1.15it/s]\u001b[A\n",
      "  Training:  54%|█████▍    | 51/94 [00:42<00:36,  1.18it/s]\u001b[A\n",
      "  Training:  55%|█████▌    | 52/94 [00:43<00:36,  1.17it/s]\u001b[A\n",
      "  Training:  56%|█████▋    | 53/94 [00:44<00:35,  1.16it/s]\u001b[A\n",
      "  Training:  57%|█████▋    | 54/94 [00:45<00:34,  1.16it/s]\u001b[A\n",
      "  Training:  59%|█████▊    | 55/94 [00:46<00:33,  1.15it/s]\u001b[A\n",
      "  Training:  60%|█████▉    | 56/94 [00:47<00:32,  1.15it/s]\u001b[A\n",
      "  Training:  61%|██████    | 57/94 [00:48<00:31,  1.18it/s]\u001b[A\n",
      "  Training:  62%|██████▏   | 58/94 [00:48<00:29,  1.21it/s]\u001b[A\n",
      "  Training:  63%|██████▎   | 59/94 [00:49<00:29,  1.19it/s]\u001b[A\n",
      "  Training:  64%|██████▍   | 60/94 [00:50<00:28,  1.18it/s]\u001b[A\n",
      "  Training:  65%|██████▍   | 61/94 [00:51<00:28,  1.16it/s]\u001b[A\n",
      "  Training:  66%|██████▌   | 62/94 [00:52<00:27,  1.16it/s]\u001b[A\n",
      "  Training:  67%|██████▋   | 63/94 [00:53<00:26,  1.17it/s]\u001b[A\n",
      "  Training:  68%|██████▊   | 64/94 [00:54<00:25,  1.17it/s]\u001b[A\n",
      "  Training:  69%|██████▉   | 65/94 [00:54<00:24,  1.16it/s]\u001b[A\n",
      "  Training:  70%|███████   | 66/94 [00:55<00:24,  1.16it/s]\u001b[A\n",
      "  Training:  71%|███████▏  | 67/94 [00:56<00:21,  1.24it/s]\u001b[A\n",
      "  Training:  72%|███████▏  | 68/94 [00:57<00:21,  1.21it/s]\u001b[A\n",
      "  Training:  73%|███████▎  | 69/94 [00:58<00:20,  1.22it/s]\u001b[A\n",
      "  Training:  74%|███████▍  | 70/94 [00:59<00:20,  1.19it/s]\u001b[A\n",
      "  Training:  76%|███████▌  | 71/94 [00:59<00:19,  1.18it/s]\u001b[A\n",
      "  Training:  77%|███████▋  | 72/94 [01:00<00:18,  1.17it/s]\u001b[A\n",
      "  Training:  78%|███████▊  | 73/94 [01:01<00:18,  1.16it/s]\u001b[A\n",
      "  Training:  79%|███████▊  | 74/94 [01:02<00:17,  1.16it/s]\u001b[A\n",
      "  Training:  80%|███████▉  | 75/94 [01:03<00:16,  1.16it/s]\u001b[A\n",
      "  Training:  81%|████████  | 76/94 [01:04<00:15,  1.18it/s]\u001b[A\n",
      "  Training:  82%|████████▏ | 77/94 [01:04<00:13,  1.25it/s]\u001b[A\n",
      "  Training:  83%|████████▎ | 78/94 [01:05<00:13,  1.21it/s]\u001b[A\n",
      "  Training:  84%|████████▍ | 79/94 [01:06<00:12,  1.23it/s]\u001b[A\n",
      "  Training:  85%|████████▌ | 80/94 [01:07<00:11,  1.26it/s]\u001b[A\n",
      "  Training:  86%|████████▌ | 81/94 [01:08<00:10,  1.22it/s]\u001b[A\n",
      "  Training:  87%|████████▋ | 82/94 [01:09<00:10,  1.20it/s]\u001b[A\n",
      "  Training:  88%|████████▊ | 83/94 [01:09<00:09,  1.18it/s]\u001b[A\n",
      "  Training:  89%|████████▉ | 84/94 [01:10<00:08,  1.17it/s]\u001b[A\n",
      "  Training:  90%|█████████ | 85/94 [01:11<00:07,  1.16it/s]\u001b[A\n",
      "  Training:  91%|█████████▏| 86/94 [01:12<00:06,  1.16it/s]\u001b[A\n",
      "  Training:  93%|█████████▎| 87/94 [01:13<00:06,  1.15it/s]\u001b[A\n",
      "  Training:  94%|█████████▎| 88/94 [01:14<00:05,  1.15it/s]\u001b[A\n",
      "  Training:  95%|█████████▍| 89/94 [01:15<00:04,  1.15it/s]\u001b[A\n",
      "  Training:  96%|█████████▌| 90/94 [01:16<00:03,  1.15it/s]\u001b[A\n",
      "  Training:  97%|█████████▋| 91/94 [01:16<00:02,  1.22it/s]\u001b[A\n",
      "  Training:  98%|█████████▊| 92/94 [01:17<00:01,  1.27it/s]\u001b[A\n",
      "  Training:  99%|█████████▉| 93/94 [01:18<00:00,  1.23it/s]\u001b[A\n",
      "  Training: 100%|██████████| 94/94 [01:19<00:00,  1.31it/s]\u001b[A\n",
      "                                                           \u001b[A\n",
      "  Evaluating:   0%|          | 0/4 [00:00<?, ?it/s]\u001b[A\n",
      "  Evaluating:  25%|██▌       | 1/4 [00:00<00:00,  7.12it/s]\u001b[A\n",
      "  Evaluating:  75%|███████▌  | 3/4 [00:00<00:00,  9.35it/s]\u001b[A\n",
      "Epochs:  26%|██▌       | 13/50 [17:01<48:54, 79.32s/it]    \u001b[A"
     ]
    },
    {
     "name": "stdout",
     "output_type": "stream",
     "text": [
      "[Trans ep13] tr=3.367 val=4.681\n"
     ]
    },
    {
     "name": "stderr",
     "output_type": "stream",
     "text": [
      "\n",
      "  Training:   0%|          | 0/94 [00:00<?, ?it/s]\u001b[A\n",
      "  Training:   1%|          | 1/94 [00:00<01:20,  1.15it/s]\u001b[A\n",
      "  Training:   2%|▏         | 2/94 [00:01<01:19,  1.15it/s]\u001b[A\n",
      "  Training:   3%|▎         | 3/94 [00:02<01:12,  1.25it/s]\u001b[A\n",
      "  Training:   4%|▍         | 4/94 [00:03<01:14,  1.20it/s]\u001b[A\n",
      "  Training:   5%|▌         | 5/94 [00:04<01:15,  1.18it/s]\u001b[A\n",
      "  Training:   6%|▋         | 6/94 [00:05<01:15,  1.17it/s]\u001b[A\n",
      "  Training:   7%|▋         | 7/94 [00:05<01:09,  1.25it/s]\u001b[A\n",
      "  Training:   9%|▊         | 8/94 [00:06<01:10,  1.22it/s]\u001b[A\n",
      "  Training:  10%|▉         | 9/94 [00:07<01:09,  1.22it/s]\u001b[A\n",
      "  Training:  11%|█         | 10/94 [00:08<01:09,  1.20it/s]\u001b[A\n",
      "  Training:  12%|█▏        | 11/94 [00:09<01:09,  1.19it/s]\u001b[A\n",
      "  Training:  13%|█▎        | 12/94 [00:10<01:09,  1.18it/s]\u001b[A\n",
      "  Training:  14%|█▍        | 13/94 [00:10<01:09,  1.17it/s]\u001b[A\n",
      "  Training:  15%|█▍        | 14/94 [00:11<01:05,  1.22it/s]\u001b[A\n",
      "  Training:  16%|█▌        | 15/94 [00:12<01:06,  1.20it/s]\u001b[A\n",
      "  Training:  17%|█▋        | 16/94 [00:13<01:06,  1.18it/s]\u001b[A\n",
      "  Training:  18%|█▊        | 17/94 [00:14<01:03,  1.21it/s]\u001b[A\n",
      "  Training:  19%|█▉        | 18/94 [00:15<01:03,  1.19it/s]\u001b[A\n",
      "  Training:  20%|██        | 19/94 [00:15<01:03,  1.18it/s]\u001b[A\n",
      "  Training:  21%|██▏       | 20/94 [00:16<01:03,  1.17it/s]\u001b[A\n",
      "  Training:  22%|██▏       | 21/94 [00:17<01:02,  1.16it/s]\u001b[A\n",
      "  Training:  23%|██▎       | 22/94 [00:18<01:02,  1.16it/s]\u001b[A\n",
      "  Training:  24%|██▍       | 23/94 [00:19<00:58,  1.22it/s]\u001b[A\n",
      "  Training:  26%|██▌       | 24/94 [00:20<00:58,  1.20it/s]\u001b[A\n",
      "  Training:  27%|██▋       | 25/94 [00:20<00:54,  1.27it/s]\u001b[A\n",
      "  Training:  28%|██▊       | 26/94 [00:21<00:53,  1.28it/s]\u001b[A\n",
      "  Training:  29%|██▊       | 27/94 [00:22<00:54,  1.24it/s]\u001b[A\n",
      "  Training:  30%|██▉       | 28/94 [00:23<00:54,  1.21it/s]\u001b[A\n",
      "  Training:  31%|███       | 29/94 [00:24<00:54,  1.19it/s]\u001b[A\n",
      "  Training:  32%|███▏      | 30/94 [00:25<00:54,  1.18it/s]\u001b[A\n",
      "  Training:  33%|███▎      | 31/94 [00:25<00:53,  1.17it/s]\u001b[A\n",
      "  Training:  34%|███▍      | 32/94 [00:26<00:53,  1.16it/s]\u001b[A\n",
      "  Training:  35%|███▌      | 33/94 [00:27<00:52,  1.16it/s]\u001b[A\n",
      "  Training:  36%|███▌      | 34/94 [00:28<00:51,  1.16it/s]\u001b[A\n",
      "  Training:  37%|███▋      | 35/94 [00:29<00:51,  1.16it/s]\u001b[A\n",
      "  Training:  38%|███▊      | 36/94 [00:30<00:50,  1.16it/s]\u001b[A\n",
      "  Training:  39%|███▉      | 37/94 [00:31<00:48,  1.17it/s]\u001b[A\n",
      "  Training:  40%|████      | 38/94 [00:31<00:48,  1.16it/s]\u001b[A\n",
      "  Training:  41%|████▏     | 39/94 [00:32<00:47,  1.16it/s]\u001b[A\n",
      "  Training:  43%|████▎     | 40/94 [00:33<00:46,  1.16it/s]\u001b[A\n",
      "  Training:  44%|████▎     | 41/94 [00:34<00:45,  1.16it/s]\u001b[A\n",
      "  Training:  45%|████▍     | 42/94 [00:35<00:45,  1.15it/s]\u001b[A\n",
      "  Training:  46%|████▌     | 43/94 [00:36<00:41,  1.24it/s]\u001b[A\n",
      "  Training:  47%|████▋     | 44/94 [00:36<00:41,  1.21it/s]\u001b[A\n",
      "  Training:  48%|████▊     | 45/94 [00:37<00:38,  1.26it/s]\u001b[A\n",
      "  Training:  49%|████▉     | 46/94 [00:38<00:39,  1.23it/s]\u001b[A\n",
      "  Training:  50%|█████     | 47/94 [00:39<00:38,  1.22it/s]\u001b[A\n",
      "  Training:  51%|█████     | 48/94 [00:40<00:37,  1.22it/s]\u001b[A\n",
      "  Training:  52%|█████▏    | 49/94 [00:41<00:37,  1.20it/s]\u001b[A\n",
      "  Training:  53%|█████▎    | 50/94 [00:41<00:37,  1.18it/s]\u001b[A\n",
      "  Training:  54%|█████▍    | 51/94 [00:42<00:34,  1.25it/s]\u001b[A\n",
      "  Training:  55%|█████▌    | 52/94 [00:43<00:33,  1.25it/s]\u001b[A\n",
      "  Training:  56%|█████▋    | 53/94 [00:44<00:33,  1.22it/s]\u001b[A\n",
      "  Training:  57%|█████▋    | 54/94 [00:45<00:31,  1.25it/s]\u001b[A\n",
      "  Training:  59%|█████▊    | 55/94 [00:45<00:32,  1.22it/s]\u001b[A\n",
      "  Training:  60%|█████▉    | 56/94 [00:46<00:31,  1.20it/s]\u001b[A\n",
      "  Training:  61%|██████    | 57/94 [00:47<00:31,  1.18it/s]\u001b[A\n",
      "  Training:  62%|██████▏   | 58/94 [00:48<00:30,  1.18it/s]\u001b[A\n",
      "  Training:  63%|██████▎   | 59/94 [00:49<00:29,  1.17it/s]\u001b[A\n",
      "  Training:  64%|██████▍   | 60/94 [00:50<00:29,  1.16it/s]\u001b[A\n",
      "  Training:  65%|██████▍   | 61/94 [00:51<00:28,  1.16it/s]\u001b[A\n",
      "  Training:  66%|██████▌   | 62/94 [00:51<00:27,  1.15it/s]\u001b[A\n",
      "  Training:  67%|██████▋   | 63/94 [00:52<00:25,  1.20it/s]\u001b[A\n",
      "  Training:  68%|██████▊   | 64/94 [00:53<00:25,  1.18it/s]\u001b[A\n",
      "  Training:  69%|██████▉   | 65/94 [00:54<00:24,  1.17it/s]\u001b[A\n",
      "  Training:  70%|███████   | 66/94 [00:55<00:24,  1.16it/s]\u001b[A\n",
      "  Training:  71%|███████▏  | 67/94 [00:56<00:22,  1.21it/s]\u001b[A\n",
      "  Training:  72%|███████▏  | 68/94 [00:57<00:21,  1.19it/s]\u001b[A\n",
      "  Training:  73%|███████▎  | 69/94 [00:57<00:21,  1.18it/s]\u001b[A\n",
      "  Training:  74%|███████▍  | 70/94 [00:58<00:19,  1.23it/s]\u001b[A\n",
      "  Training:  76%|███████▌  | 71/94 [00:59<00:17,  1.28it/s]\u001b[A\n",
      "  Training:  77%|███████▋  | 72/94 [01:00<00:17,  1.24it/s]\u001b[A\n",
      "  Training:  78%|███████▊  | 73/94 [01:01<00:17,  1.21it/s]\u001b[A\n",
      "  Training:  79%|███████▊  | 74/94 [01:01<00:16,  1.22it/s]\u001b[A\n",
      "  Training:  80%|███████▉  | 75/94 [01:02<00:15,  1.26it/s]\u001b[A\n",
      "  Training:  81%|████████  | 76/94 [01:03<00:14,  1.26it/s]\u001b[A\n",
      "  Training:  82%|████████▏ | 77/94 [01:04<00:13,  1.24it/s]\u001b[A\n",
      "  Training:  83%|████████▎ | 78/94 [01:05<00:13,  1.21it/s]\u001b[A\n",
      "  Training:  84%|████████▍ | 79/94 [01:05<00:12,  1.18it/s]\u001b[A\n",
      "  Training:  85%|████████▌ | 80/94 [01:06<00:11,  1.17it/s]\u001b[A\n",
      "  Training:  86%|████████▌ | 81/94 [01:07<00:10,  1.24it/s]\u001b[A\n",
      "  Training:  87%|████████▋ | 82/94 [01:08<00:09,  1.21it/s]\u001b[A\n",
      "  Training:  88%|████████▊ | 83/94 [01:09<00:09,  1.19it/s]\u001b[A\n",
      "  Training:  89%|████████▉ | 84/94 [01:10<00:08,  1.17it/s]\u001b[A\n",
      "  Training:  90%|█████████ | 85/94 [01:11<00:07,  1.17it/s]\u001b[A\n",
      "  Training:  91%|█████████▏| 86/94 [01:11<00:06,  1.16it/s]\u001b[A\n",
      "  Training:  93%|█████████▎| 87/94 [01:12<00:06,  1.16it/s]\u001b[A\n",
      "  Training:  94%|█████████▎| 88/94 [01:13<00:05,  1.15it/s]\u001b[A\n",
      "  Training:  95%|█████████▍| 89/94 [01:14<00:04,  1.15it/s]\u001b[A\n",
      "  Training:  96%|█████████▌| 90/94 [01:15<00:03,  1.14it/s]\u001b[A\n",
      "  Training:  97%|█████████▋| 91/94 [01:16<00:02,  1.17it/s]\u001b[A\n",
      "  Training:  98%|█████████▊| 92/94 [01:17<00:01,  1.18it/s]\u001b[A\n",
      "  Training:  99%|█████████▉| 93/94 [01:17<00:00,  1.17it/s]\u001b[A\n",
      "  Training: 100%|██████████| 94/94 [01:18<00:00,  1.26it/s]\u001b[A\n",
      "                                                           \u001b[A\n",
      "  Evaluating:   0%|          | 0/4 [00:00<?, ?it/s]\u001b[A\n",
      "  Evaluating:  25%|██▌       | 1/4 [00:00<00:00,  6.97it/s]\u001b[A\n",
      "  Evaluating:  75%|███████▌  | 3/4 [00:00<00:00,  9.29it/s]\u001b[A\n",
      "                                                           \u001b[A"
     ]
    },
    {
     "name": "stdout",
     "output_type": "stream",
     "text": [
      "[Trans ep14] tr=3.271 val=4.560\n"
     ]
    },
    {
     "name": "stderr",
     "output_type": "stream",
     "text": [
      "Epochs:  28%|██▊       | 14/50 [18:20<47:37, 79.38s/it]\n",
      "  Training:   0%|          | 0/94 [00:00<?, ?it/s]\u001b[A\n",
      "  Training:   1%|          | 1/94 [00:00<01:20,  1.15it/s]\u001b[A\n",
      "  Training:   2%|▏         | 2/94 [00:01<01:19,  1.15it/s]\u001b[A\n",
      "  Training:   3%|▎         | 3/94 [00:02<01:18,  1.16it/s]\u001b[A\n",
      "  Training:   4%|▍         | 4/94 [00:03<01:17,  1.16it/s]\u001b[A\n",
      "  Training:   5%|▌         | 5/94 [00:04<01:17,  1.15it/s]\u001b[A\n",
      "  Training:   6%|▋         | 6/94 [00:05<01:16,  1.15it/s]\u001b[A\n",
      "  Training:   7%|▋         | 7/94 [00:06<01:15,  1.15it/s]\u001b[A\n",
      "  Training:   9%|▊         | 8/94 [00:06<01:10,  1.22it/s]\u001b[A\n",
      "  Training:  10%|▉         | 9/94 [00:07<01:10,  1.20it/s]\u001b[A\n",
      "  Training:  11%|█         | 10/94 [00:08<01:09,  1.21it/s]\u001b[A\n",
      "  Training:  12%|█▏        | 11/94 [00:09<01:09,  1.19it/s]\u001b[A\n",
      "  Training:  13%|█▎        | 12/94 [00:10<01:09,  1.18it/s]\u001b[A\n",
      "  Training:  14%|█▍        | 13/94 [00:11<01:09,  1.17it/s]\u001b[A\n",
      "  Training:  15%|█▍        | 14/94 [00:11<01:08,  1.16it/s]\u001b[A\n",
      "  Training:  16%|█▌        | 15/94 [00:12<01:05,  1.20it/s]\u001b[A\n",
      "  Training:  17%|█▋        | 16/94 [00:13<01:05,  1.19it/s]\u001b[A\n",
      "  Training:  18%|█▊        | 17/94 [00:14<01:05,  1.18it/s]\u001b[A\n",
      "  Training:  19%|█▉        | 18/94 [00:15<01:05,  1.17it/s]\u001b[A\n",
      "  Training:  20%|██        | 19/94 [00:16<01:02,  1.19it/s]\u001b[A\n",
      "  Training:  21%|██▏       | 20/94 [00:16<01:02,  1.18it/s]\u001b[A\n",
      "  Training:  22%|██▏       | 21/94 [00:17<01:02,  1.17it/s]\u001b[A\n",
      "  Training:  23%|██▎       | 22/94 [00:18<01:01,  1.17it/s]\u001b[A\n",
      "  Training:  24%|██▍       | 23/94 [00:19<01:01,  1.16it/s]\u001b[A\n",
      "  Training:  26%|██▌       | 24/94 [00:20<00:59,  1.17it/s]\u001b[A\n",
      "  Training:  27%|██▋       | 25/94 [00:21<00:58,  1.18it/s]\u001b[A\n",
      "  Training:  28%|██▊       | 26/94 [00:22<00:58,  1.17it/s]\u001b[A\n",
      "  Training:  29%|██▊       | 27/94 [00:22<00:57,  1.16it/s]\u001b[A\n",
      "  Training:  30%|██▉       | 28/94 [00:23<00:56,  1.16it/s]\u001b[A\n",
      "  Training:  31%|███       | 29/94 [00:24<00:56,  1.16it/s]\u001b[A\n",
      "  Training:  32%|███▏      | 30/94 [00:25<00:54,  1.17it/s]\u001b[A\n",
      "  Training:  33%|███▎      | 31/94 [00:26<00:52,  1.19it/s]\u001b[A\n",
      "  Training:  34%|███▍      | 32/94 [00:27<00:50,  1.22it/s]\u001b[A\n",
      "  Training:  35%|███▌      | 33/94 [00:27<00:49,  1.23it/s]\u001b[A\n",
      "  Training:  36%|███▌      | 34/94 [00:28<00:49,  1.20it/s]\u001b[A\n",
      "  Training:  37%|███▋      | 35/94 [00:29<00:49,  1.19it/s]\u001b[A\n",
      "  Training:  38%|███▊      | 36/94 [00:30<00:49,  1.18it/s]\u001b[A\n",
      "  Training:  39%|███▉      | 37/94 [00:31<00:48,  1.17it/s]\u001b[A\n",
      "  Training:  40%|████      | 38/94 [00:32<00:48,  1.16it/s]\u001b[A\n",
      "  Training:  41%|████▏     | 39/94 [00:33<00:47,  1.16it/s]\u001b[A\n",
      "  Training:  43%|████▎     | 40/94 [00:34<00:46,  1.16it/s]\u001b[A\n",
      "  Training:  44%|████▎     | 41/94 [00:34<00:42,  1.26it/s]\u001b[A\n",
      "  Training:  45%|████▍     | 42/94 [00:35<00:41,  1.26it/s]\u001b[A\n",
      "  Training:  46%|████▌     | 43/94 [00:36<00:41,  1.22it/s]\u001b[A\n",
      "  Training:  47%|████▋     | 44/94 [00:37<00:41,  1.20it/s]\u001b[A\n",
      "  Training:  48%|████▊     | 45/94 [00:38<00:41,  1.18it/s]\u001b[A\n",
      "  Training:  49%|████▉     | 46/94 [00:38<00:40,  1.17it/s]\u001b[A\n",
      "  Training:  50%|█████     | 47/94 [00:39<00:40,  1.17it/s]\u001b[A\n",
      "  Training:  51%|█████     | 48/94 [00:40<00:39,  1.18it/s]\u001b[A\n",
      "  Training:  52%|█████▏    | 49/94 [00:41<00:38,  1.17it/s]\u001b[A\n",
      "  Training:  53%|█████▎    | 50/94 [00:42<00:37,  1.16it/s]\u001b[A\n",
      "  Training:  54%|█████▍    | 51/94 [00:43<00:37,  1.16it/s]\u001b[A\n",
      "  Training:  55%|█████▌    | 52/94 [00:44<00:36,  1.16it/s]\u001b[A\n",
      "  Training:  56%|█████▋    | 53/94 [00:44<00:35,  1.15it/s]\u001b[A\n",
      "  Training:  57%|█████▋    | 54/94 [00:45<00:34,  1.17it/s]\u001b[A\n",
      "  Training:  59%|█████▊    | 55/94 [00:46<00:32,  1.20it/s]\u001b[A\n",
      "  Training:  60%|█████▉    | 56/94 [00:47<00:32,  1.18it/s]\u001b[A\n",
      "  Training:  61%|██████    | 57/94 [00:48<00:31,  1.17it/s]\u001b[A\n",
      "  Training:  62%|██████▏   | 58/94 [00:49<00:30,  1.16it/s]\u001b[A\n",
      "  Training:  63%|██████▎   | 59/94 [00:50<00:30,  1.16it/s]\u001b[A\n",
      "  Training:  64%|██████▍   | 60/94 [00:50<00:29,  1.16it/s]\u001b[A\n",
      "  Training:  65%|██████▍   | 61/94 [00:51<00:28,  1.15it/s]\u001b[A\n",
      "  Training:  66%|██████▌   | 62/94 [00:52<00:27,  1.15it/s]\u001b[A\n",
      "  Training:  67%|██████▋   | 63/94 [00:53<00:26,  1.15it/s]\u001b[A\n",
      "  Training:  68%|██████▊   | 64/94 [00:54<00:25,  1.18it/s]\u001b[A\n",
      "  Training:  69%|██████▉   | 65/94 [00:55<00:24,  1.17it/s]\u001b[A\n",
      "  Training:  70%|███████   | 66/94 [00:56<00:24,  1.16it/s]\u001b[A\n",
      "  Training:  71%|███████▏  | 67/94 [00:57<00:23,  1.16it/s]\u001b[A\n",
      "  Training:  72%|███████▏  | 68/94 [00:57<00:21,  1.20it/s]\u001b[A\n",
      "  Training:  73%|███████▎  | 69/94 [00:58<00:20,  1.20it/s]\u001b[A\n",
      "  Training:  74%|███████▍  | 70/94 [00:59<00:20,  1.18it/s]\u001b[A\n",
      "  Training:  76%|███████▌  | 71/94 [01:00<00:19,  1.17it/s]\u001b[A\n",
      "  Training:  77%|███████▋  | 72/94 [01:01<00:18,  1.16it/s]\u001b[A\n",
      "  Training:  78%|███████▊  | 73/94 [01:02<00:18,  1.16it/s]\u001b[A\n",
      "  Training:  79%|███████▊  | 74/94 [01:02<00:17,  1.15it/s]\u001b[A\n",
      "  Training:  80%|███████▉  | 75/94 [01:03<00:16,  1.17it/s]\u001b[A\n",
      "  Training:  81%|████████  | 76/94 [01:04<00:15,  1.16it/s]\u001b[A\n",
      "  Training:  82%|████████▏ | 77/94 [01:05<00:14,  1.16it/s]\u001b[A\n",
      "  Training:  83%|████████▎ | 78/94 [01:06<00:13,  1.15it/s]\u001b[A\n",
      "  Training:  84%|████████▍ | 79/94 [01:07<00:12,  1.16it/s]\u001b[A\n",
      "  Training:  85%|████████▌ | 80/94 [01:07<00:11,  1.23it/s]\u001b[A\n",
      "  Training:  86%|████████▌ | 81/94 [01:08<00:10,  1.20it/s]\u001b[A\n",
      "  Training:  87%|████████▋ | 82/94 [01:09<00:10,  1.19it/s]\u001b[A\n",
      "  Training:  88%|████████▊ | 83/94 [01:10<00:08,  1.25it/s]\u001b[A\n",
      "  Training:  89%|████████▉ | 84/94 [01:11<00:08,  1.22it/s]\u001b[A\n",
      "  Training:  90%|█████████ | 85/94 [01:12<00:07,  1.20it/s]\u001b[A\n",
      "  Training:  91%|█████████▏| 86/94 [01:13<00:06,  1.18it/s]\u001b[A\n",
      "  Training:  93%|█████████▎| 87/94 [01:13<00:05,  1.17it/s]\u001b[A\n",
      "  Training:  94%|█████████▎| 88/94 [01:14<00:05,  1.17it/s]\u001b[A\n",
      "  Training:  95%|█████████▍| 89/94 [01:15<00:03,  1.26it/s]\u001b[A\n",
      "  Training:  96%|█████████▌| 90/94 [01:16<00:03,  1.29it/s]\u001b[A\n",
      "  Training:  97%|█████████▋| 91/94 [01:16<00:02,  1.25it/s]\u001b[A\n",
      "  Training:  98%|█████████▊| 92/94 [01:17<00:01,  1.22it/s]\u001b[A\n",
      "  Training:  99%|█████████▉| 93/94 [01:18<00:00,  1.23it/s]\u001b[A\n",
      "  Training: 100%|██████████| 94/94 [01:19<00:00,  1.30it/s]\u001b[A\n",
      "                                                           \u001b[A\n",
      "  Evaluating:   0%|          | 0/4 [00:00<?, ?it/s]\u001b[A\n",
      "  Evaluating:  25%|██▌       | 1/4 [00:00<00:00,  7.01it/s]\u001b[A\n",
      "  Evaluating:  75%|███████▌  | 3/4 [00:00<00:00,  9.32it/s]\u001b[A\n",
      "                                                           \u001b[A"
     ]
    },
    {
     "name": "stdout",
     "output_type": "stream",
     "text": [
      "[Trans ep15] tr=3.182 val=4.537\n"
     ]
    },
    {
     "name": "stderr",
     "output_type": "stream",
     "text": [
      "Epochs:  30%|███       | 15/50 [19:41<46:27, 79.64s/it]\n",
      "  Training:   0%|          | 0/94 [00:00<?, ?it/s]\u001b[A\n",
      "  Training:   1%|          | 1/94 [00:00<01:21,  1.15it/s]\u001b[A\n",
      "  Training:   2%|▏         | 2/94 [00:01<01:12,  1.28it/s]\u001b[A\n",
      "  Training:   3%|▎         | 3/94 [00:02<01:11,  1.27it/s]\u001b[A\n",
      "  Training:   4%|▍         | 4/94 [00:03<01:13,  1.22it/s]\u001b[A\n",
      "  Training:   5%|▌         | 5/94 [00:04<01:14,  1.19it/s]\u001b[A\n",
      "  Training:   6%|▋         | 6/94 [00:04<01:14,  1.18it/s]\u001b[A\n",
      "  Training:   7%|▋         | 7/94 [00:05<01:14,  1.16it/s]\u001b[A\n",
      "  Training:   9%|▊         | 8/94 [00:06<01:13,  1.17it/s]\u001b[A\n",
      "  Training:  10%|▉         | 9/94 [00:07<01:13,  1.16it/s]\u001b[A\n",
      "  Training:  11%|█         | 10/94 [00:08<01:12,  1.16it/s]\u001b[A\n",
      "  Training:  12%|█▏        | 11/94 [00:09<01:11,  1.16it/s]\u001b[A\n",
      "  Training:  13%|█▎        | 12/94 [00:10<01:10,  1.17it/s]\u001b[A\n",
      "  Training:  14%|█▍        | 13/94 [00:11<01:09,  1.16it/s]\u001b[A\n",
      "  Training:  15%|█▍        | 14/94 [00:11<01:09,  1.16it/s]\u001b[A\n",
      "  Training:  16%|█▌        | 15/94 [00:12<01:08,  1.15it/s]\u001b[A\n",
      "  Training:  17%|█▋        | 16/94 [00:13<01:08,  1.15it/s]\u001b[A\n",
      "  Training:  18%|█▊        | 17/94 [00:14<01:07,  1.15it/s]\u001b[A\n",
      "  Training:  19%|█▉        | 18/94 [00:15<01:06,  1.15it/s]\u001b[A\n",
      "  Training:  20%|██        | 19/94 [00:16<01:03,  1.18it/s]\u001b[A\n",
      "  Training:  21%|██▏       | 20/94 [00:17<01:03,  1.17it/s]\u001b[A\n",
      "  Training:  22%|██▏       | 21/94 [00:17<01:01,  1.19it/s]\u001b[A\n",
      "  Training:  23%|██▎       | 22/94 [00:18<01:01,  1.18it/s]\u001b[A\n",
      "  Training:  24%|██▍       | 23/94 [00:19<01:00,  1.17it/s]\u001b[A\n",
      "  Training:  26%|██▌       | 24/94 [00:20<01:00,  1.17it/s]\u001b[A\n",
      "  Training:  27%|██▋       | 25/94 [00:21<00:59,  1.16it/s]\u001b[A\n",
      "  Training:  28%|██▊       | 26/94 [00:22<00:57,  1.18it/s]\u001b[A\n",
      "  Training:  29%|██▊       | 27/94 [00:23<00:57,  1.17it/s]\u001b[A\n",
      "  Training:  30%|██▉       | 28/94 [00:23<00:55,  1.18it/s]\u001b[A\n",
      "  Training:  31%|███       | 29/94 [00:24<00:55,  1.18it/s]\u001b[A\n",
      "  Training:  32%|███▏      | 30/94 [00:25<00:54,  1.17it/s]\u001b[A\n",
      "  Training:  33%|███▎      | 31/94 [00:26<00:53,  1.18it/s]\u001b[A\n",
      "  Training:  34%|███▍      | 32/94 [00:27<00:53,  1.17it/s]\u001b[A\n",
      "  Training:  35%|███▌      | 33/94 [00:28<00:52,  1.16it/s]\u001b[A\n",
      "  Training:  36%|███▌      | 34/94 [00:29<00:51,  1.16it/s]\u001b[A\n",
      "  Training:  37%|███▋      | 35/94 [00:29<00:51,  1.15it/s]\u001b[A\n",
      "  Training:  38%|███▊      | 36/94 [00:30<00:50,  1.15it/s]\u001b[A\n",
      "  Training:  39%|███▉      | 37/94 [00:31<00:49,  1.15it/s]\u001b[A\n",
      "  Training:  40%|████      | 38/94 [00:32<00:48,  1.16it/s]\u001b[A\n",
      "  Training:  41%|████▏     | 39/94 [00:33<00:46,  1.18it/s]\u001b[A\n",
      "  Training:  43%|████▎     | 40/94 [00:34<00:46,  1.17it/s]\u001b[A\n",
      "  Training:  44%|████▎     | 41/94 [00:35<00:45,  1.17it/s]\u001b[A\n",
      "  Training:  45%|████▍     | 42/94 [00:35<00:44,  1.16it/s]\u001b[A\n",
      "  Training:  46%|████▌     | 43/94 [00:36<00:44,  1.16it/s]\u001b[A\n",
      "  Training:  47%|████▋     | 44/94 [00:37<00:40,  1.24it/s]\u001b[A\n",
      "  Training:  48%|████▊     | 45/94 [00:38<00:40,  1.21it/s]\u001b[A\n",
      "  Training:  49%|████▉     | 46/94 [00:39<00:38,  1.25it/s]\u001b[A\n",
      "  Training:  50%|█████     | 47/94 [00:39<00:38,  1.22it/s]\u001b[A\n",
      "  Training:  51%|█████     | 48/94 [00:40<00:38,  1.20it/s]\u001b[A\n",
      "  Training:  52%|█████▏    | 49/94 [00:41<00:37,  1.20it/s]\u001b[A\n",
      "  Training:  53%|█████▎    | 50/94 [00:42<00:37,  1.18it/s]\u001b[A\n",
      "  Training:  54%|█████▍    | 51/94 [00:43<00:36,  1.17it/s]\u001b[A\n",
      "  Training:  55%|█████▌    | 52/94 [00:44<00:36,  1.17it/s]\u001b[A\n",
      "  Training:  56%|█████▋    | 53/94 [00:45<00:35,  1.16it/s]\u001b[A\n",
      "  Training:  57%|█████▋    | 54/94 [00:46<00:34,  1.16it/s]\u001b[A\n",
      "  Training:  59%|█████▊    | 55/94 [00:46<00:33,  1.16it/s]\u001b[A\n",
      "  Training:  60%|█████▉    | 56/94 [00:47<00:32,  1.16it/s]\u001b[A\n",
      "  Training:  61%|██████    | 57/94 [00:48<00:32,  1.15it/s]\u001b[A\n",
      "  Training:  62%|██████▏   | 58/94 [00:49<00:30,  1.17it/s]\u001b[A\n",
      "  Training:  63%|██████▎   | 59/94 [00:50<00:30,  1.16it/s]\u001b[A\n",
      "  Training:  64%|██████▍   | 60/94 [00:51<00:29,  1.15it/s]\u001b[A\n",
      "  Training:  65%|██████▍   | 61/94 [00:52<00:28,  1.15it/s]\u001b[A\n",
      "  Training:  66%|██████▌   | 62/94 [00:52<00:27,  1.18it/s]\u001b[A\n",
      "  Training:  67%|██████▋   | 63/94 [00:53<00:26,  1.17it/s]\u001b[A\n",
      "  Training:  68%|██████▊   | 64/94 [00:54<00:25,  1.16it/s]\u001b[A\n",
      "  Training:  69%|██████▉   | 65/94 [00:55<00:25,  1.16it/s]\u001b[A\n",
      "  Training:  70%|███████   | 66/94 [00:56<00:24,  1.15it/s]\u001b[A\n",
      "  Training:  71%|███████▏  | 67/94 [00:57<00:23,  1.15it/s]\u001b[A\n",
      "  Training:  72%|███████▏  | 68/94 [00:57<00:21,  1.20it/s]\u001b[A\n",
      "  Training:  73%|███████▎  | 69/94 [00:58<00:21,  1.18it/s]\u001b[A\n",
      "  Training:  74%|███████▍  | 70/94 [00:59<00:20,  1.17it/s]\u001b[A\n",
      "  Training:  76%|███████▌  | 71/94 [01:00<00:19,  1.17it/s]\u001b[A\n",
      "  Training:  77%|███████▋  | 72/94 [01:01<00:18,  1.16it/s]\u001b[A\n",
      "  Training:  78%|███████▊  | 73/94 [01:02<00:17,  1.22it/s]\u001b[A\n",
      "  Training:  79%|███████▊  | 74/94 [01:03<00:16,  1.19it/s]\u001b[A\n",
      "  Training:  80%|███████▉  | 75/94 [01:03<00:16,  1.18it/s]\u001b[A\n",
      "  Training:  81%|████████  | 76/94 [01:04<00:15,  1.20it/s]\u001b[A\n",
      "  Training:  82%|████████▏ | 77/94 [01:05<00:14,  1.18it/s]\u001b[A\n",
      "  Training:  83%|████████▎ | 78/94 [01:06<00:13,  1.20it/s]\u001b[A\n",
      "  Training:  84%|████████▍ | 79/94 [01:07<00:12,  1.19it/s]\u001b[A\n",
      "  Training:  85%|████████▌ | 80/94 [01:08<00:11,  1.18it/s]\u001b[A\n",
      "  Training:  86%|████████▌ | 81/94 [01:08<00:10,  1.22it/s]\u001b[A\n",
      "  Training:  87%|████████▋ | 82/94 [01:09<00:10,  1.19it/s]\u001b[A\n",
      "  Training:  88%|████████▊ | 83/94 [01:10<00:09,  1.18it/s]\u001b[A\n",
      "  Training:  89%|████████▉ | 84/94 [01:11<00:08,  1.17it/s]\u001b[A\n",
      "  Training:  90%|█████████ | 85/94 [01:12<00:07,  1.17it/s]\u001b[A\n",
      "  Training:  91%|█████████▏| 86/94 [01:13<00:06,  1.17it/s]\u001b[A\n",
      "  Training:  93%|█████████▎| 87/94 [01:14<00:05,  1.19it/s]\u001b[A\n",
      "  Training:  94%|█████████▎| 88/94 [01:14<00:05,  1.17it/s]\u001b[A\n",
      "  Training:  95%|█████████▍| 89/94 [01:15<00:04,  1.17it/s]\u001b[A\n",
      "  Training:  96%|█████████▌| 90/94 [01:16<00:03,  1.16it/s]\u001b[A\n",
      "  Training:  97%|█████████▋| 91/94 [01:17<00:02,  1.17it/s]\u001b[A\n",
      "  Training:  98%|█████████▊| 92/94 [01:18<00:01,  1.16it/s]\u001b[A\n",
      "  Training:  99%|█████████▉| 93/94 [01:19<00:00,  1.16it/s]\u001b[A\n",
      "  Training: 100%|██████████| 94/94 [01:19<00:00,  1.26it/s]\u001b[A\n",
      "                                                           \u001b[A\n",
      "  Evaluating:   0%|          | 0/4 [00:00<?, ?it/s]\u001b[A\n",
      "  Evaluating:  25%|██▌       | 1/4 [00:00<00:00,  7.03it/s]\u001b[A\n",
      "  Evaluating:  75%|███████▌  | 3/4 [00:00<00:00,  9.31it/s]\u001b[A\n",
      "Epochs:  32%|███▏      | 16/50 [21:01<45:14, 79.83s/it]    \u001b[A"
     ]
    },
    {
     "name": "stdout",
     "output_type": "stream",
     "text": [
      "[Trans ep16] tr=3.086 val=4.557\n"
     ]
    },
    {
     "name": "stderr",
     "output_type": "stream",
     "text": [
      "\n",
      "  Training:   0%|          | 0/94 [00:00<?, ?it/s]\u001b[A\n",
      "  Training:   1%|          | 1/94 [00:00<01:21,  1.15it/s]\u001b[A\n",
      "  Training:   2%|▏         | 2/94 [00:01<01:20,  1.15it/s]\u001b[A\n",
      "  Training:   3%|▎         | 3/94 [00:02<01:19,  1.15it/s]\u001b[A\n",
      "  Training:   4%|▍         | 4/94 [00:03<01:17,  1.16it/s]\u001b[A\n",
      "  Training:   5%|▌         | 5/94 [00:04<01:16,  1.16it/s]\u001b[A\n",
      "  Training:   6%|▋         | 6/94 [00:05<01:16,  1.15it/s]\u001b[A\n",
      "  Training:   7%|▋         | 7/94 [00:05<01:12,  1.20it/s]\u001b[A\n",
      "  Training:   9%|▊         | 8/94 [00:06<01:09,  1.23it/s]\u001b[A\n",
      "  Training:  10%|▉         | 9/94 [00:07<01:10,  1.20it/s]\u001b[A\n",
      "  Training:  11%|█         | 10/94 [00:08<01:10,  1.19it/s]\u001b[A\n",
      "  Training:  12%|█▏        | 11/94 [00:09<01:10,  1.17it/s]\u001b[A\n",
      "  Training:  13%|█▎        | 12/94 [00:10<01:10,  1.17it/s]\u001b[A\n",
      "  Training:  14%|█▍        | 13/94 [00:11<01:09,  1.17it/s]\u001b[A\n",
      "  Training:  15%|█▍        | 14/94 [00:11<01:08,  1.16it/s]\u001b[A\n",
      "  Training:  16%|█▌        | 15/94 [00:12<01:07,  1.18it/s]\u001b[A\n",
      "  Training:  17%|█▋        | 16/94 [00:13<01:06,  1.17it/s]\u001b[A\n",
      "  Training:  18%|█▊        | 17/94 [00:14<01:06,  1.16it/s]\u001b[A\n",
      "  Training:  19%|█▉        | 18/94 [00:15<01:05,  1.16it/s]\u001b[A\n",
      "  Training:  20%|██        | 19/94 [00:16<01:04,  1.16it/s]\u001b[A\n",
      "  Training:  21%|██▏       | 20/94 [00:17<01:03,  1.17it/s]\u001b[A\n",
      "  Training:  22%|██▏       | 21/94 [00:17<01:02,  1.16it/s]\u001b[A\n",
      "  Training:  23%|██▎       | 22/94 [00:18<00:58,  1.24it/s]\u001b[A\n",
      "  Training:  24%|██▍       | 23/94 [00:19<00:58,  1.21it/s]\u001b[A\n",
      "  Training:  26%|██▌       | 24/94 [00:20<00:57,  1.21it/s]\u001b[A\n",
      "  Training:  27%|██▋       | 25/94 [00:21<00:55,  1.25it/s]\u001b[A\n",
      "  Training:  28%|██▊       | 26/94 [00:21<00:55,  1.22it/s]\u001b[A\n",
      "  Training:  29%|██▊       | 27/94 [00:22<00:52,  1.27it/s]\u001b[A\n",
      "  Training:  30%|██▉       | 28/94 [00:23<00:53,  1.23it/s]\u001b[A\n",
      "  Training:  31%|███       | 29/94 [00:24<00:53,  1.21it/s]\u001b[A\n",
      "  Training:  32%|███▏      | 30/94 [00:25<00:53,  1.19it/s]\u001b[A\n",
      "  Training:  33%|███▎      | 31/94 [00:26<00:53,  1.18it/s]\u001b[A\n",
      "  Training:  34%|███▍      | 32/94 [00:26<00:52,  1.17it/s]\u001b[A\n",
      "  Training:  35%|███▌      | 33/94 [00:27<00:50,  1.21it/s]\u001b[A\n",
      "  Training:  36%|███▌      | 34/94 [00:28<00:50,  1.19it/s]\u001b[A\n",
      "  Training:  37%|███▋      | 35/94 [00:29<00:50,  1.18it/s]\u001b[A\n",
      "  Training:  38%|███▊      | 36/94 [00:30<00:49,  1.17it/s]\u001b[A\n",
      "  Training:  39%|███▉      | 37/94 [00:31<00:49,  1.16it/s]\u001b[A\n",
      "  Training:  40%|████      | 38/94 [00:32<00:47,  1.17it/s]\u001b[A\n",
      "  Training:  41%|████▏     | 39/94 [00:32<00:44,  1.22it/s]\u001b[A\n",
      "  Training:  43%|████▎     | 40/94 [00:33<00:42,  1.27it/s]\u001b[A\n",
      "  Training:  44%|████▎     | 41/94 [00:34<00:40,  1.30it/s]\u001b[A\n",
      "  Training:  45%|████▍     | 42/94 [00:35<00:41,  1.25it/s]\u001b[A\n",
      "  Training:  46%|████▌     | 43/94 [00:35<00:41,  1.22it/s]\u001b[A\n",
      "  Training:  47%|████▋     | 44/94 [00:36<00:41,  1.19it/s]\u001b[A\n",
      "  Training:  48%|████▊     | 45/94 [00:37<00:41,  1.18it/s]\u001b[A\n",
      "  Training:  49%|████▉     | 46/94 [00:38<00:41,  1.17it/s]\u001b[A\n",
      "  Training:  50%|█████     | 47/94 [00:39<00:40,  1.16it/s]\u001b[A\n",
      "  Training:  51%|█████     | 48/94 [00:40<00:39,  1.15it/s]\u001b[A\n",
      "  Training:  52%|█████▏    | 49/94 [00:41<00:39,  1.15it/s]\u001b[A\n",
      "  Training:  53%|█████▎    | 50/94 [00:41<00:35,  1.25it/s]\u001b[A\n",
      "  Training:  54%|█████▍    | 51/94 [00:42<00:35,  1.22it/s]\u001b[A\n",
      "  Training:  55%|█████▌    | 52/94 [00:43<00:34,  1.21it/s]\u001b[A\n",
      "  Training:  56%|█████▋    | 53/94 [00:44<00:34,  1.19it/s]\u001b[A\n",
      "  Training:  57%|█████▋    | 54/94 [00:45<00:33,  1.19it/s]\u001b[A\n",
      "  Training:  59%|█████▊    | 55/94 [00:46<00:33,  1.18it/s]\u001b[A\n",
      "  Training:  60%|█████▉    | 56/94 [00:46<00:30,  1.24it/s]\u001b[A\n",
      "  Training:  61%|██████    | 57/94 [00:47<00:30,  1.21it/s]\u001b[A\n",
      "  Training:  62%|██████▏   | 58/94 [00:48<00:28,  1.27it/s]\u001b[A\n",
      "  Training:  63%|██████▎   | 59/94 [00:49<00:27,  1.29it/s]\u001b[A\n",
      "  Training:  64%|██████▍   | 60/94 [00:49<00:26,  1.28it/s]\u001b[A\n",
      "  Training:  65%|██████▍   | 61/94 [00:50<00:24,  1.34it/s]\u001b[A\n",
      "  Training:  66%|██████▌   | 62/94 [00:51<00:25,  1.28it/s]\u001b[A\n",
      "  Training:  67%|██████▋   | 63/94 [00:52<00:25,  1.23it/s]\u001b[A\n",
      "  Training:  68%|██████▊   | 64/94 [00:53<00:24,  1.21it/s]\u001b[A\n",
      "  Training:  69%|██████▉   | 65/94 [00:54<00:24,  1.21it/s]\u001b[A\n",
      "  Training:  70%|███████   | 66/94 [00:54<00:23,  1.19it/s]\u001b[A\n",
      "  Training:  71%|███████▏  | 67/94 [00:55<00:22,  1.18it/s]\u001b[A\n",
      "  Training:  72%|███████▏  | 68/94 [00:56<00:22,  1.17it/s]\u001b[A\n",
      "  Training:  73%|███████▎  | 69/94 [00:57<00:21,  1.16it/s]\u001b[A\n",
      "  Training:  74%|███████▍  | 70/94 [00:58<00:20,  1.16it/s]\u001b[A\n",
      "  Training:  76%|███████▌  | 71/94 [00:59<00:19,  1.15it/s]\u001b[A\n",
      "  Training:  77%|███████▋  | 72/94 [01:00<00:19,  1.15it/s]\u001b[A\n",
      "  Training:  78%|███████▊  | 73/94 [01:01<00:18,  1.15it/s]\u001b[A\n",
      "  Training:  79%|███████▊  | 74/94 [01:01<00:17,  1.15it/s]\u001b[A\n",
      "  Training:  80%|███████▉  | 75/94 [01:02<00:15,  1.21it/s]\u001b[A\n",
      "  Training:  81%|████████  | 76/94 [01:03<00:15,  1.19it/s]\u001b[A\n",
      "  Training:  82%|████████▏ | 77/94 [01:04<00:14,  1.17it/s]\u001b[A\n",
      "  Training:  83%|████████▎ | 78/94 [01:05<00:13,  1.17it/s]\u001b[A\n",
      "  Training:  84%|████████▍ | 79/94 [01:06<00:12,  1.16it/s]\u001b[A\n",
      "  Training:  85%|████████▌ | 80/94 [01:07<00:12,  1.15it/s]\u001b[A\n",
      "  Training:  86%|████████▌ | 81/94 [01:07<00:11,  1.15it/s]\u001b[A\n",
      "  Training:  87%|████████▋ | 82/94 [01:08<00:10,  1.15it/s]\u001b[A\n",
      "  Training:  88%|████████▊ | 83/94 [01:09<00:09,  1.15it/s]\u001b[A\n",
      "  Training:  89%|████████▉ | 84/94 [01:10<00:08,  1.21it/s]\u001b[A\n",
      "  Training:  90%|█████████ | 85/94 [01:11<00:07,  1.19it/s]\u001b[A\n",
      "  Training:  91%|█████████▏| 86/94 [01:12<00:06,  1.18it/s]\u001b[A\n",
      "  Training:  93%|█████████▎| 87/94 [01:12<00:05,  1.17it/s]\u001b[A\n",
      "  Training:  94%|█████████▎| 88/94 [01:13<00:05,  1.16it/s]\u001b[A\n",
      "  Training:  95%|█████████▍| 89/94 [01:14<00:04,  1.15it/s]\u001b[A\n",
      "  Training:  96%|█████████▌| 90/94 [01:15<00:03,  1.15it/s]\u001b[A\n",
      "  Training:  97%|█████████▋| 91/94 [01:16<00:02,  1.15it/s]\u001b[A\n",
      "  Training:  98%|█████████▊| 92/94 [01:17<00:01,  1.18it/s]\u001b[A\n",
      "  Training:  99%|█████████▉| 93/94 [01:18<00:00,  1.17it/s]\u001b[A\n",
      "  Training: 100%|██████████| 94/94 [01:18<00:00,  1.36it/s]\u001b[A\n",
      "                                                           \u001b[A\n",
      "  Evaluating:   0%|          | 0/4 [00:00<?, ?it/s]\u001b[A\n",
      "  Evaluating:  25%|██▌       | 1/4 [00:00<00:00,  7.02it/s]\u001b[A\n",
      "  Evaluating:  75%|███████▌  | 3/4 [00:00<00:00,  9.29it/s]\u001b[A\n",
      "                                                           \u001b[A"
     ]
    },
    {
     "name": "stdout",
     "output_type": "stream",
     "text": [
      "[Trans ep17] tr=2.995 val=4.417\n"
     ]
    },
    {
     "name": "stderr",
     "output_type": "stream",
     "text": [
      "Epochs:  34%|███▍      | 17/50 [22:20<43:51, 79.74s/it]\n",
      "  Training:   0%|          | 0/94 [00:00<?, ?it/s]\u001b[A\n",
      "  Training:   1%|          | 1/94 [00:00<01:14,  1.25it/s]\u001b[A\n",
      "  Training:   2%|▏         | 2/94 [00:01<01:17,  1.19it/s]\u001b[A\n",
      "  Training:   3%|▎         | 3/94 [00:02<01:17,  1.17it/s]\u001b[A\n",
      "  Training:   4%|▍         | 4/94 [00:03<01:17,  1.16it/s]\u001b[A\n",
      "  Training:   5%|▌         | 5/94 [00:04<01:16,  1.16it/s]\u001b[A\n",
      "  Training:   6%|▋         | 6/94 [00:05<01:14,  1.18it/s]\u001b[A\n",
      "  Training:   7%|▋         | 7/94 [00:05<01:14,  1.17it/s]\u001b[A\n",
      "  Training:   9%|▊         | 8/94 [00:06<01:10,  1.22it/s]\u001b[A\n",
      "  Training:  10%|▉         | 9/94 [00:07<01:10,  1.20it/s]\u001b[A\n",
      "  Training:  11%|█         | 10/94 [00:08<01:11,  1.18it/s]\u001b[A\n",
      "  Training:  12%|█▏        | 11/94 [00:09<01:10,  1.17it/s]\u001b[A\n",
      "  Training:  13%|█▎        | 12/94 [00:10<01:07,  1.21it/s]\u001b[A\n",
      "  Training:  14%|█▍        | 13/94 [00:10<01:07,  1.21it/s]\u001b[A\n",
      "  Training:  15%|█▍        | 14/94 [00:11<01:07,  1.19it/s]\u001b[A\n",
      "  Training:  16%|█▌        | 15/94 [00:12<01:02,  1.25it/s]\u001b[A\n",
      "  Training:  17%|█▋        | 16/94 [00:13<00:58,  1.33it/s]\u001b[A\n",
      "  Training:  18%|█▊        | 17/94 [00:13<01:00,  1.27it/s]\u001b[A\n",
      "  Training:  19%|█▉        | 18/94 [00:14<01:01,  1.24it/s]\u001b[A\n",
      "  Training:  20%|██        | 19/94 [00:15<01:01,  1.23it/s]\u001b[A\n",
      "  Training:  21%|██▏       | 20/94 [00:16<01:01,  1.20it/s]\u001b[A\n",
      "  Training:  22%|██▏       | 21/94 [00:17<01:01,  1.19it/s]\u001b[A\n",
      "  Training:  23%|██▎       | 22/94 [00:18<01:01,  1.18it/s]\u001b[A\n",
      "  Training:  24%|██▍       | 23/94 [00:18<00:57,  1.24it/s]\u001b[A\n",
      "  Training:  26%|██▌       | 24/94 [00:19<00:57,  1.21it/s]\u001b[A\n",
      "  Training:  27%|██▋       | 25/94 [00:20<00:55,  1.25it/s]\u001b[A\n",
      "  Training:  28%|██▊       | 26/94 [00:21<00:55,  1.22it/s]\u001b[A\n",
      "  Training:  29%|██▊       | 27/94 [00:22<00:55,  1.20it/s]\u001b[A\n",
      "  Training:  30%|██▉       | 28/94 [00:23<00:55,  1.18it/s]\u001b[A\n",
      "  Training:  31%|███       | 29/94 [00:24<00:55,  1.17it/s]\u001b[A\n",
      "  Training:  32%|███▏      | 30/94 [00:24<00:54,  1.17it/s]\u001b[A\n",
      "  Training:  33%|███▎      | 31/94 [00:25<00:54,  1.16it/s]\u001b[A\n",
      "  Training:  34%|███▍      | 32/94 [00:26<00:53,  1.15it/s]\u001b[A\n",
      "  Training:  35%|███▌      | 33/94 [00:27<00:52,  1.16it/s]\u001b[A\n",
      "  Training:  36%|███▌      | 34/94 [00:28<00:52,  1.15it/s]\u001b[A\n",
      "  Training:  37%|███▋      | 35/94 [00:29<00:51,  1.15it/s]\u001b[A\n",
      "  Training:  38%|███▊      | 36/94 [00:30<00:50,  1.15it/s]\u001b[A\n",
      "  Training:  39%|███▉      | 37/94 [00:31<00:49,  1.15it/s]\u001b[A\n",
      "  Training:  40%|████      | 38/94 [00:31<00:48,  1.15it/s]\u001b[A\n",
      "  Training:  41%|████▏     | 39/94 [00:32<00:47,  1.15it/s]\u001b[A\n",
      "  Training:  43%|████▎     | 40/94 [00:33<00:47,  1.15it/s]\u001b[A\n",
      "  Training:  44%|████▎     | 41/94 [00:34<00:44,  1.19it/s]\u001b[A\n",
      "  Training:  45%|████▍     | 42/94 [00:35<00:44,  1.18it/s]\u001b[A\n",
      "  Training:  46%|████▌     | 43/94 [00:36<00:43,  1.17it/s]\u001b[A\n",
      "  Training:  47%|████▋     | 44/94 [00:37<00:43,  1.16it/s]\u001b[A\n",
      "  Training:  48%|████▊     | 45/94 [00:37<00:42,  1.16it/s]\u001b[A\n",
      "  Training:  49%|████▉     | 46/94 [00:38<00:40,  1.18it/s]\u001b[A\n",
      "  Training:  50%|█████     | 47/94 [00:39<00:40,  1.17it/s]\u001b[A\n",
      "  Training:  51%|█████     | 48/94 [00:40<00:39,  1.16it/s]\u001b[A\n",
      "  Training:  52%|█████▏    | 49/94 [00:41<00:38,  1.16it/s]\u001b[A\n",
      "  Training:  53%|█████▎    | 50/94 [00:42<00:35,  1.24it/s]\u001b[A\n",
      "  Training:  54%|█████▍    | 51/94 [00:42<00:35,  1.21it/s]\u001b[A\n",
      "  Training:  55%|█████▌    | 52/94 [00:43<00:35,  1.19it/s]\u001b[A\n",
      "  Training:  56%|█████▋    | 53/94 [00:44<00:34,  1.18it/s]\u001b[A\n",
      "  Training:  57%|█████▋    | 54/94 [00:45<00:34,  1.17it/s]\u001b[A\n",
      "  Training:  59%|█████▊    | 55/94 [00:46<00:30,  1.26it/s]\u001b[A\n",
      "  Training:  60%|█████▉    | 56/94 [00:46<00:29,  1.28it/s]\u001b[A\n",
      "  Training:  61%|██████    | 57/94 [00:47<00:29,  1.24it/s]\u001b[A\n",
      "  Training:  62%|██████▏   | 58/94 [00:48<00:29,  1.21it/s]\u001b[A\n",
      "  Training:  63%|██████▎   | 59/94 [00:49<00:29,  1.19it/s]\u001b[A\n",
      "  Training:  64%|██████▍   | 60/94 [00:50<00:28,  1.18it/s]\u001b[A\n",
      "  Training:  65%|██████▍   | 61/94 [00:51<00:28,  1.17it/s]\u001b[A\n",
      "  Training:  66%|██████▌   | 62/94 [00:52<00:26,  1.19it/s]\u001b[A\n",
      "  Training:  67%|██████▋   | 63/94 [00:52<00:26,  1.18it/s]\u001b[A\n",
      "  Training:  68%|██████▊   | 64/94 [00:53<00:25,  1.17it/s]\u001b[A\n",
      "  Training:  69%|██████▉   | 65/94 [00:54<00:24,  1.16it/s]\u001b[A\n",
      "  Training:  70%|███████   | 66/94 [00:55<00:24,  1.16it/s]\u001b[A\n",
      "  Training:  71%|███████▏  | 67/94 [00:56<00:23,  1.16it/s]\u001b[A\n",
      "  Training:  72%|███████▏  | 68/94 [00:57<00:21,  1.20it/s]\u001b[A\n",
      "  Training:  73%|███████▎  | 69/94 [00:58<00:21,  1.18it/s]\u001b[A\n",
      "  Training:  74%|███████▍  | 70/94 [00:58<00:20,  1.17it/s]\u001b[A\n",
      "  Training:  76%|███████▌  | 71/94 [00:59<00:19,  1.18it/s]\u001b[A\n",
      "  Training:  77%|███████▋  | 72/94 [01:00<00:18,  1.17it/s]\u001b[A\n",
      "  Training:  78%|███████▊  | 73/94 [01:01<00:18,  1.16it/s]\u001b[A\n",
      "  Training:  79%|███████▊  | 74/94 [01:02<00:15,  1.25it/s]\u001b[A\n",
      "  Training:  80%|███████▉  | 75/94 [01:03<00:15,  1.22it/s]\u001b[A\n",
      "  Training:  81%|████████  | 76/94 [01:03<00:14,  1.22it/s]\u001b[A\n",
      "  Training:  82%|████████▏ | 77/94 [01:04<00:13,  1.26it/s]\u001b[A\n",
      "  Training:  83%|████████▎ | 78/94 [01:05<00:13,  1.23it/s]\u001b[A\n",
      "  Training:  84%|████████▍ | 79/94 [01:06<00:12,  1.20it/s]\u001b[A\n",
      "  Training:  85%|████████▌ | 80/94 [01:07<00:11,  1.22it/s]\u001b[A\n",
      "  Training:  86%|████████▌ | 81/94 [01:07<00:10,  1.20it/s]\u001b[A\n",
      "  Training:  87%|████████▋ | 82/94 [01:08<00:10,  1.18it/s]\u001b[A\n",
      "  Training:  88%|████████▊ | 83/94 [01:09<00:09,  1.17it/s]\u001b[A\n",
      "  Training:  89%|████████▉ | 84/94 [01:10<00:08,  1.16it/s]\u001b[A\n",
      "  Training:  90%|█████████ | 85/94 [01:11<00:07,  1.17it/s]\u001b[A\n",
      "  Training:  91%|█████████▏| 86/94 [01:12<00:06,  1.17it/s]\u001b[A\n",
      "  Training:  93%|█████████▎| 87/94 [01:12<00:05,  1.27it/s]\u001b[A\n",
      "  Training:  94%|█████████▎| 88/94 [01:13<00:04,  1.24it/s]\u001b[A\n",
      "  Training:  95%|█████████▍| 89/94 [01:14<00:04,  1.21it/s]\u001b[A\n",
      "  Training:  96%|█████████▌| 90/94 [01:15<00:03,  1.19it/s]\u001b[A\n",
      "  Training:  97%|█████████▋| 91/94 [01:16<00:02,  1.18it/s]\u001b[A\n",
      "  Training:  98%|█████████▊| 92/94 [01:17<00:01,  1.17it/s]\u001b[A\n",
      "  Training:  99%|█████████▉| 93/94 [01:18<00:00,  1.20it/s]\u001b[A\n",
      "  Training: 100%|██████████| 94/94 [01:18<00:00,  1.39it/s]\u001b[A\n",
      "                                                           \u001b[A\n",
      "  Evaluating:   0%|          | 0/4 [00:00<?, ?it/s]\u001b[A\n",
      "  Evaluating:  25%|██▌       | 1/4 [00:00<00:00,  7.06it/s]\u001b[A\n",
      "  Evaluating:  75%|███████▌  | 3/4 [00:00<00:00,  9.30it/s]\u001b[A\n",
      "                                                           \u001b[A"
     ]
    },
    {
     "name": "stdout",
     "output_type": "stream",
     "text": [
      "[Trans ep18] tr=2.911 val=4.310\n"
     ]
    },
    {
     "name": "stderr",
     "output_type": "stream",
     "text": [
      "Epochs:  36%|███▌      | 18/50 [23:40<42:28, 79.63s/it]\n",
      "  Training:   0%|          | 0/94 [00:00<?, ?it/s]\u001b[A\n",
      "  Training:   1%|          | 1/94 [00:00<01:20,  1.16it/s]\u001b[A\n",
      "  Training:   2%|▏         | 2/94 [00:01<01:19,  1.16it/s]\u001b[A\n",
      "  Training:   3%|▎         | 3/94 [00:02<01:18,  1.15it/s]\u001b[A\n",
      "  Training:   4%|▍         | 4/94 [00:03<01:17,  1.16it/s]\u001b[A\n",
      "  Training:   5%|▌         | 5/94 [00:04<01:16,  1.16it/s]\u001b[A\n",
      "  Training:   6%|▋         | 6/94 [00:05<01:16,  1.16it/s]\u001b[A\n",
      "  Training:   7%|▋         | 7/94 [00:06<01:15,  1.16it/s]\u001b[A\n",
      "  Training:   9%|▊         | 8/94 [00:06<01:12,  1.18it/s]\u001b[A\n",
      "  Training:  10%|▉         | 9/94 [00:07<01:12,  1.18it/s]\u001b[A\n",
      "  Training:  11%|█         | 10/94 [00:08<01:11,  1.17it/s]\u001b[A\n",
      "  Training:  12%|█▏        | 11/94 [00:09<01:05,  1.27it/s]\u001b[A\n",
      "  Training:  13%|█▎        | 12/94 [00:10<01:05,  1.25it/s]\u001b[A\n",
      "  Training:  14%|█▍        | 13/94 [00:10<01:06,  1.22it/s]\u001b[A\n",
      "  Training:  15%|█▍        | 14/94 [00:11<01:05,  1.22it/s]\u001b[A\n",
      "  Training:  16%|█▌        | 15/94 [00:12<01:06,  1.20it/s]\u001b[A\n",
      "  Training:  17%|█▋        | 16/94 [00:13<01:05,  1.20it/s]\u001b[A\n",
      "  Training:  18%|█▊        | 17/94 [00:14<01:05,  1.18it/s]\u001b[A\n",
      "  Training:  19%|█▉        | 18/94 [00:15<01:04,  1.17it/s]\u001b[A\n",
      "  Training:  20%|██        | 19/94 [00:16<01:04,  1.16it/s]\u001b[A\n",
      "  Training:  21%|██▏       | 20/94 [00:16<01:03,  1.16it/s]\u001b[A\n",
      "  Training:  22%|██▏       | 21/94 [00:17<01:03,  1.16it/s]\u001b[A\n",
      "  Training:  23%|██▎       | 22/94 [00:18<01:02,  1.15it/s]\u001b[A\n",
      "  Training:  24%|██▍       | 23/94 [00:19<01:01,  1.15it/s]\u001b[A\n",
      "  Training:  26%|██▌       | 24/94 [00:20<01:00,  1.15it/s]\u001b[A\n",
      "  Training:  27%|██▋       | 25/94 [00:21<01:00,  1.15it/s]\u001b[A\n",
      "  Training:  28%|██▊       | 26/94 [00:22<00:59,  1.15it/s]\u001b[A\n",
      "  Training:  29%|██▊       | 27/94 [00:23<00:58,  1.15it/s]\u001b[A\n",
      "  Training:  30%|██▉       | 28/94 [00:23<00:57,  1.15it/s]\u001b[A\n",
      "  Training:  31%|███       | 29/94 [00:24<00:56,  1.15it/s]\u001b[A\n",
      "  Training:  32%|███▏      | 30/94 [00:25<00:55,  1.15it/s]\u001b[A\n",
      "  Training:  33%|███▎      | 31/94 [00:26<00:53,  1.17it/s]\u001b[A\n",
      "  Training:  34%|███▍      | 32/94 [00:27<00:47,  1.29it/s]\u001b[A\n",
      "  Training:  35%|███▌      | 33/94 [00:27<00:49,  1.24it/s]\u001b[A\n",
      "  Training:  36%|███▌      | 34/94 [00:28<00:49,  1.21it/s]\u001b[A\n",
      "  Training:  37%|███▋      | 35/94 [00:29<00:49,  1.19it/s]\u001b[A\n",
      "  Training:  38%|███▊      | 36/94 [00:30<00:49,  1.18it/s]\u001b[A\n",
      "  Training:  39%|███▉      | 37/94 [00:31<00:48,  1.17it/s]\u001b[A\n",
      "  Training:  40%|████      | 38/94 [00:32<00:48,  1.16it/s]\u001b[A\n",
      "  Training:  41%|████▏     | 39/94 [00:33<00:47,  1.16it/s]\u001b[A\n",
      "  Training:  43%|████▎     | 40/94 [00:34<00:46,  1.15it/s]\u001b[A\n",
      "  Training:  44%|████▎     | 41/94 [00:34<00:44,  1.18it/s]\u001b[A\n",
      "  Training:  45%|████▍     | 42/94 [00:35<00:44,  1.17it/s]\u001b[A\n",
      "  Training:  46%|████▌     | 43/94 [00:36<00:42,  1.19it/s]\u001b[A\n",
      "  Training:  47%|████▋     | 44/94 [00:37<00:41,  1.19it/s]\u001b[A\n",
      "  Training:  48%|████▊     | 45/94 [00:38<00:40,  1.22it/s]\u001b[A\n",
      "  Training:  49%|████▉     | 46/94 [00:38<00:38,  1.26it/s]\u001b[A\n",
      "  Training:  50%|█████     | 47/94 [00:39<00:38,  1.22it/s]\u001b[A\n",
      "  Training:  51%|█████     | 48/94 [00:40<00:38,  1.20it/s]\u001b[A\n",
      "  Training:  52%|█████▏    | 49/94 [00:41<00:38,  1.18it/s]\u001b[A\n",
      "  Training:  53%|█████▎    | 50/94 [00:42<00:35,  1.23it/s]\u001b[A\n",
      "  Training:  54%|█████▍    | 51/94 [00:43<00:35,  1.20it/s]\u001b[A\n",
      "  Training:  55%|█████▌    | 52/94 [00:43<00:35,  1.18it/s]\u001b[A\n",
      "  Training:  56%|█████▋    | 53/94 [00:44<00:34,  1.17it/s]\u001b[A\n",
      "  Training:  57%|█████▋    | 54/94 [00:45<00:33,  1.20it/s]\u001b[A\n",
      "  Training:  59%|█████▊    | 55/94 [00:46<00:32,  1.18it/s]\u001b[A\n",
      "  Training:  60%|█████▉    | 56/94 [00:47<00:32,  1.17it/s]\u001b[A\n",
      "  Training:  61%|██████    | 57/94 [00:48<00:30,  1.21it/s]\u001b[A\n",
      "  Training:  62%|██████▏   | 58/94 [00:48<00:30,  1.19it/s]\u001b[A\n",
      "  Training:  63%|██████▎   | 59/94 [00:49<00:29,  1.18it/s]\u001b[A\n",
      "  Training:  64%|██████▍   | 60/94 [00:50<00:29,  1.17it/s]\u001b[A\n",
      "  Training:  65%|██████▍   | 61/94 [00:51<00:28,  1.16it/s]\u001b[A\n",
      "  Training:  66%|██████▌   | 62/94 [00:52<00:26,  1.19it/s]\u001b[A\n",
      "  Training:  67%|██████▋   | 63/94 [00:53<00:26,  1.17it/s]\u001b[A\n",
      "  Training:  68%|██████▊   | 64/94 [00:54<00:25,  1.18it/s]\u001b[A\n",
      "  Training:  69%|██████▉   | 65/94 [00:54<00:24,  1.17it/s]\u001b[A\n",
      "  Training:  70%|███████   | 66/94 [00:55<00:24,  1.17it/s]\u001b[A\n",
      "  Training:  71%|███████▏  | 67/94 [00:56<00:23,  1.16it/s]\u001b[A\n",
      "  Training:  72%|███████▏  | 68/94 [00:57<00:22,  1.16it/s]\u001b[A\n",
      "  Training:  73%|███████▎  | 69/94 [00:58<00:21,  1.15it/s]\u001b[A\n",
      "  Training:  74%|███████▍  | 70/94 [00:59<00:20,  1.18it/s]\u001b[A\n",
      "  Training:  76%|███████▌  | 71/94 [01:00<00:19,  1.17it/s]\u001b[A\n",
      "  Training:  77%|███████▋  | 72/94 [01:01<00:18,  1.16it/s]\u001b[A\n",
      "  Training:  78%|███████▊  | 73/94 [01:01<00:18,  1.16it/s]\u001b[A\n",
      "  Training:  79%|███████▊  | 74/94 [01:02<00:17,  1.16it/s]\u001b[A\n",
      "  Training:  80%|███████▉  | 75/94 [01:03<00:16,  1.15it/s]\u001b[A\n",
      "  Training:  81%|████████  | 76/94 [01:04<00:15,  1.15it/s]\u001b[A\n",
      "  Training:  82%|████████▏ | 77/94 [01:05<00:14,  1.17it/s]\u001b[A\n",
      "  Training:  83%|████████▎ | 78/94 [01:06<00:13,  1.16it/s]\u001b[A\n",
      "  Training:  84%|████████▍ | 79/94 [01:07<00:12,  1.16it/s]\u001b[A\n",
      "  Training:  85%|████████▌ | 80/94 [01:07<00:12,  1.16it/s]\u001b[A\n",
      "  Training:  86%|████████▌ | 81/94 [01:08<00:11,  1.16it/s]\u001b[A\n",
      "  Training:  87%|████████▋ | 82/94 [01:09<00:09,  1.22it/s]\u001b[A\n",
      "  Training:  88%|████████▊ | 83/94 [01:10<00:09,  1.20it/s]\u001b[A\n",
      "  Training:  89%|████████▉ | 84/94 [01:11<00:08,  1.18it/s]\u001b[A\n",
      "  Training:  90%|█████████ | 85/94 [01:11<00:07,  1.26it/s]\u001b[A\n",
      "  Training:  91%|█████████▏| 86/94 [01:12<00:06,  1.23it/s]\u001b[A\n",
      "  Training:  93%|█████████▎| 87/94 [01:13<00:05,  1.24it/s]\u001b[A\n",
      "  Training:  94%|█████████▎| 88/94 [01:14<00:04,  1.21it/s]\u001b[A\n",
      "  Training:  95%|█████████▍| 89/94 [01:15<00:03,  1.28it/s]\u001b[A\n",
      "  Training:  96%|█████████▌| 90/94 [01:15<00:03,  1.31it/s]\u001b[A\n",
      "  Training:  97%|█████████▋| 91/94 [01:16<00:02,  1.26it/s]\u001b[A\n",
      "  Training:  98%|█████████▊| 92/94 [01:17<00:01,  1.32it/s]\u001b[A\n",
      "  Training:  99%|█████████▉| 93/94 [01:18<00:00,  1.36it/s]\u001b[A\n",
      "  Training: 100%|██████████| 94/94 [01:18<00:00,  1.41it/s]\u001b[A\n",
      "                                                           \u001b[A\n",
      "  Evaluating:   0%|          | 0/4 [00:00<?, ?it/s]\u001b[A\n",
      "  Evaluating:  25%|██▌       | 1/4 [00:00<00:00,  7.03it/s]\u001b[A\n",
      "  Evaluating:  75%|███████▌  | 3/4 [00:00<00:00,  9.36it/s]\u001b[A\n",
      "Epochs:  38%|███▊      | 19/50 [24:59<41:03, 79.47s/it]    \u001b[A"
     ]
    },
    {
     "name": "stdout",
     "output_type": "stream",
     "text": [
      "[Trans ep19] tr=2.821 val=4.418\n"
     ]
    },
    {
     "name": "stderr",
     "output_type": "stream",
     "text": [
      "\n",
      "  Training:   0%|          | 0/94 [00:00<?, ?it/s]\u001b[A\n",
      "  Training:   1%|          | 1/94 [00:00<01:20,  1.15it/s]\u001b[A\n",
      "  Training:   2%|▏         | 2/94 [00:01<01:19,  1.16it/s]\u001b[A\n",
      "  Training:   3%|▎         | 3/94 [00:02<01:19,  1.15it/s]\u001b[A\n",
      "  Training:   4%|▍         | 4/94 [00:03<01:18,  1.15it/s]\u001b[A\n",
      "  Training:   5%|▌         | 5/94 [00:04<01:10,  1.26it/s]\u001b[A\n",
      "  Training:   6%|▋         | 6/94 [00:05<01:12,  1.22it/s]\u001b[A\n",
      "  Training:   7%|▋         | 7/94 [00:05<01:12,  1.20it/s]\u001b[A\n",
      "  Training:   9%|▊         | 8/94 [00:06<01:12,  1.18it/s]\u001b[A\n",
      "  Training:  10%|▉         | 9/94 [00:07<01:12,  1.17it/s]\u001b[A\n",
      "  Training:  11%|█         | 10/94 [00:08<01:11,  1.18it/s]\u001b[A\n",
      "  Training:  12%|█▏        | 11/94 [00:09<01:11,  1.17it/s]\u001b[A\n",
      "  Training:  13%|█▎        | 12/94 [00:10<01:10,  1.17it/s]\u001b[A\n",
      "  Training:  14%|█▍        | 13/94 [00:11<01:09,  1.16it/s]\u001b[A\n",
      "  Training:  15%|█▍        | 14/94 [00:11<01:09,  1.15it/s]\u001b[A\n",
      "  Training:  16%|█▌        | 15/94 [00:12<01:08,  1.15it/s]\u001b[A\n",
      "  Training:  17%|█▋        | 16/94 [00:13<01:03,  1.22it/s]\u001b[A\n",
      "  Training:  18%|█▊        | 17/94 [00:14<01:04,  1.20it/s]\u001b[A\n",
      "  Training:  19%|█▉        | 18/94 [00:15<01:04,  1.18it/s]\u001b[A\n",
      "  Training:  20%|██        | 19/94 [00:15<01:00,  1.25it/s]\u001b[A\n",
      "  Training:  21%|██▏       | 20/94 [00:16<01:00,  1.22it/s]\u001b[A\n",
      "  Training:  22%|██▏       | 21/94 [00:17<01:01,  1.20it/s]\u001b[A\n",
      "  Training:  23%|██▎       | 22/94 [00:18<01:00,  1.18it/s]\u001b[A\n",
      "  Training:  24%|██▍       | 23/94 [00:19<01:00,  1.17it/s]\u001b[A\n",
      "  Training:  26%|██▌       | 24/94 [00:20<01:00,  1.17it/s]\u001b[A\n",
      "  Training:  27%|██▋       | 25/94 [00:21<00:58,  1.18it/s]\u001b[A\n",
      "  Training:  28%|██▊       | 26/94 [00:21<00:57,  1.19it/s]\u001b[A\n",
      "  Training:  29%|██▊       | 27/94 [00:22<00:53,  1.25it/s]\u001b[A\n",
      "  Training:  30%|██▉       | 28/94 [00:23<00:54,  1.22it/s]\u001b[A\n",
      "  Training:  31%|███       | 29/94 [00:24<00:51,  1.25it/s]\u001b[A\n",
      "  Training:  32%|███▏      | 30/94 [00:24<00:49,  1.30it/s]\u001b[A\n",
      "  Training:  33%|███▎      | 31/94 [00:25<00:50,  1.25it/s]\u001b[A\n",
      "  Training:  34%|███▍      | 32/94 [00:26<00:50,  1.22it/s]\u001b[A\n",
      "  Training:  35%|███▌      | 33/94 [00:27<00:51,  1.19it/s]\u001b[A\n",
      "  Training:  36%|███▌      | 34/94 [00:28<00:49,  1.21it/s]\u001b[A\n",
      "  Training:  37%|███▋      | 35/94 [00:29<00:49,  1.19it/s]\u001b[A\n",
      "  Training:  38%|███▊      | 36/94 [00:29<00:46,  1.25it/s]\u001b[A\n",
      "  Training:  39%|███▉      | 37/94 [00:30<00:45,  1.25it/s]\u001b[A\n",
      "  Training:  40%|████      | 38/94 [00:31<00:46,  1.21it/s]\u001b[A\n",
      "  Training:  41%|████▏     | 39/94 [00:32<00:45,  1.20it/s]\u001b[A\n",
      "  Training:  43%|████▎     | 40/94 [00:33<00:45,  1.18it/s]\u001b[A\n",
      "  Training:  44%|████▎     | 41/94 [00:34<00:43,  1.23it/s]\u001b[A\n",
      "  Training:  45%|████▍     | 42/94 [00:34<00:43,  1.20it/s]\u001b[A\n",
      "  Training:  46%|████▌     | 43/94 [00:35<00:42,  1.20it/s]\u001b[A\n",
      "  Training:  47%|████▋     | 44/94 [00:36<00:42,  1.18it/s]\u001b[A\n",
      "  Training:  48%|████▊     | 45/94 [00:37<00:41,  1.17it/s]\u001b[A\n",
      "  Training:  49%|████▉     | 46/94 [00:38<00:41,  1.16it/s]\u001b[A\n",
      "  Training:  50%|█████     | 47/94 [00:39<00:40,  1.16it/s]\u001b[A\n",
      "  Training:  51%|█████     | 48/94 [00:40<00:39,  1.15it/s]\u001b[A\n",
      "  Training:  52%|█████▏    | 49/94 [00:41<00:38,  1.15it/s]\u001b[A\n",
      "  Training:  53%|█████▎    | 50/94 [00:41<00:37,  1.17it/s]\u001b[A\n",
      "  Training:  54%|█████▍    | 51/94 [00:42<00:37,  1.16it/s]\u001b[A\n",
      "  Training:  55%|█████▌    | 52/94 [00:43<00:36,  1.15it/s]\u001b[A\n",
      "  Training:  56%|█████▋    | 53/94 [00:44<00:35,  1.16it/s]\u001b[A\n",
      "  Training:  57%|█████▋    | 54/94 [00:45<00:34,  1.16it/s]\u001b[A\n",
      "  Training:  59%|█████▊    | 55/94 [00:46<00:32,  1.21it/s]\u001b[A\n",
      "  Training:  60%|█████▉    | 56/94 [00:46<00:31,  1.19it/s]\u001b[A\n",
      "  Training:  61%|██████    | 57/94 [00:47<00:31,  1.17it/s]\u001b[A\n",
      "  Training:  62%|██████▏   | 58/94 [00:48<00:30,  1.16it/s]\u001b[A\n",
      "  Training:  63%|██████▎   | 59/94 [00:49<00:30,  1.16it/s]\u001b[A\n",
      "  Training:  64%|██████▍   | 60/94 [00:50<00:29,  1.16it/s]\u001b[A\n",
      "  Training:  65%|██████▍   | 61/94 [00:51<00:26,  1.23it/s]\u001b[A\n",
      "  Training:  66%|██████▌   | 62/94 [00:52<00:26,  1.20it/s]\u001b[A\n",
      "  Training:  67%|██████▋   | 63/94 [00:52<00:26,  1.18it/s]\u001b[A\n",
      "  Training:  68%|██████▊   | 64/94 [00:53<00:25,  1.17it/s]\u001b[A\n",
      "  Training:  69%|██████▉   | 65/94 [00:54<00:25,  1.16it/s]\u001b[A\n",
      "  Training:  70%|███████   | 66/94 [00:55<00:23,  1.21it/s]\u001b[A\n",
      "  Training:  71%|███████▏  | 67/94 [00:56<00:22,  1.19it/s]\u001b[A\n",
      "  Training:  72%|███████▏  | 68/94 [00:57<00:22,  1.18it/s]\u001b[A\n",
      "  Training:  73%|███████▎  | 69/94 [00:58<00:21,  1.17it/s]\u001b[A\n",
      "  Training:  74%|███████▍  | 70/94 [00:58<00:20,  1.19it/s]\u001b[A\n",
      "  Training:  76%|███████▌  | 71/94 [00:59<00:18,  1.22it/s]\u001b[A\n",
      "  Training:  77%|███████▋  | 72/94 [01:00<00:17,  1.27it/s]\u001b[A\n",
      "  Training:  78%|███████▊  | 73/94 [01:01<00:17,  1.23it/s]\u001b[A\n",
      "  Training:  79%|███████▊  | 74/94 [01:01<00:16,  1.24it/s]\u001b[A\n",
      "  Training:  80%|███████▉  | 75/94 [01:02<00:15,  1.21it/s]\u001b[A\n",
      "  Training:  81%|████████  | 76/94 [01:03<00:14,  1.27it/s]\u001b[A\n",
      "  Training:  82%|████████▏ | 77/94 [01:04<00:13,  1.23it/s]\u001b[A\n",
      "  Training:  83%|████████▎ | 78/94 [01:05<00:13,  1.21it/s]\u001b[A\n",
      "  Training:  84%|████████▍ | 79/94 [01:06<00:12,  1.19it/s]\u001b[A\n",
      "  Training:  85%|████████▌ | 80/94 [01:07<00:11,  1.18it/s]\u001b[A\n",
      "  Training:  86%|████████▌ | 81/94 [01:07<00:10,  1.20it/s]\u001b[A\n",
      "  Training:  87%|████████▋ | 82/94 [01:08<00:10,  1.18it/s]\u001b[A\n",
      "  Training:  88%|████████▊ | 83/94 [01:09<00:09,  1.17it/s]\u001b[A\n",
      "  Training:  89%|████████▉ | 84/94 [01:10<00:08,  1.16it/s]\u001b[A\n",
      "  Training:  90%|█████████ | 85/94 [01:11<00:07,  1.16it/s]\u001b[A\n",
      "  Training:  91%|█████████▏| 86/94 [01:12<00:06,  1.16it/s]\u001b[A\n",
      "  Training:  93%|█████████▎| 87/94 [01:13<00:05,  1.17it/s]\u001b[A\n",
      "  Training:  94%|█████████▎| 88/94 [01:13<00:05,  1.17it/s]\u001b[A\n",
      "  Training:  95%|█████████▍| 89/94 [01:14<00:04,  1.16it/s]\u001b[A\n",
      "  Training:  96%|█████████▌| 90/94 [01:15<00:03,  1.17it/s]\u001b[A\n",
      "  Training:  97%|█████████▋| 91/94 [01:16<00:02,  1.17it/s]\u001b[A\n",
      "  Training:  98%|█████████▊| 92/94 [01:17<00:01,  1.16it/s]\u001b[A\n",
      "  Training:  99%|█████████▉| 93/94 [01:18<00:00,  1.18it/s]\u001b[A\n",
      "  Training: 100%|██████████| 94/94 [01:18<00:00,  1.27it/s]\u001b[A\n",
      "                                                           \u001b[A\n",
      "  Evaluating:   0%|          | 0/4 [00:00<?, ?it/s]\u001b[A\n",
      "  Evaluating:  25%|██▌       | 1/4 [00:00<00:00,  7.01it/s]\u001b[A\n",
      "  Evaluating:  75%|███████▌  | 3/4 [00:00<00:00,  9.35it/s]\u001b[A\n",
      "Epochs:  40%|████      | 20/50 [26:18<39:41, 79.38s/it]    \u001b[A"
     ]
    },
    {
     "name": "stdout",
     "output_type": "stream",
     "text": [
      "[Trans ep20] tr=2.741 val=4.524\n"
     ]
    },
    {
     "name": "stderr",
     "output_type": "stream",
     "text": [
      "\n",
      "  Training:   0%|          | 0/94 [00:00<?, ?it/s]\u001b[A\n",
      "  Training:   1%|          | 1/94 [00:00<01:21,  1.15it/s]\u001b[A\n",
      "  Training:   2%|▏         | 2/94 [00:01<01:13,  1.25it/s]\u001b[A\n",
      "  Training:   3%|▎         | 3/94 [00:02<01:15,  1.20it/s]\u001b[A\n",
      "  Training:   4%|▍         | 4/94 [00:03<01:13,  1.22it/s]\u001b[A\n",
      "  Training:   5%|▌         | 5/94 [00:03<01:08,  1.31it/s]\u001b[A\n",
      "  Training:   6%|▋         | 6/94 [00:04<01:06,  1.32it/s]\u001b[A\n",
      "  Training:   7%|▋         | 7/94 [00:05<01:03,  1.36it/s]\u001b[A\n",
      "  Training:   9%|▊         | 8/94 [00:06<01:06,  1.28it/s]\u001b[A\n",
      "  Training:  10%|▉         | 9/94 [00:07<01:08,  1.24it/s]\u001b[A\n",
      "  Training:  11%|█         | 10/94 [00:08<01:09,  1.21it/s]\u001b[A\n",
      "  Training:  12%|█▏        | 11/94 [00:08<01:09,  1.19it/s]\u001b[A\n",
      "  Training:  13%|█▎        | 12/94 [00:09<01:09,  1.18it/s]\u001b[A\n",
      "  Training:  14%|█▍        | 13/94 [00:10<01:09,  1.17it/s]\u001b[A\n",
      "  Training:  15%|█▍        | 14/94 [00:11<01:05,  1.21it/s]\u001b[A\n",
      "  Training:  16%|█▌        | 15/94 [00:12<01:06,  1.19it/s]\u001b[A\n",
      "  Training:  17%|█▋        | 16/94 [00:13<01:04,  1.20it/s]\u001b[A\n",
      "  Training:  18%|█▊        | 17/94 [00:13<01:04,  1.19it/s]\u001b[A\n",
      "  Training:  19%|█▉        | 18/94 [00:14<01:04,  1.17it/s]\u001b[A\n",
      "  Training:  20%|██        | 19/94 [00:15<01:04,  1.16it/s]\u001b[A\n",
      "  Training:  21%|██▏       | 20/94 [00:16<01:03,  1.16it/s]\u001b[A\n",
      "  Training:  22%|██▏       | 21/94 [00:17<01:02,  1.17it/s]\u001b[A\n",
      "  Training:  23%|██▎       | 22/94 [00:18<01:01,  1.16it/s]\u001b[A\n",
      "  Training:  24%|██▍       | 23/94 [00:19<01:01,  1.16it/s]\u001b[A\n",
      "  Training:  26%|██▌       | 24/94 [00:19<00:59,  1.18it/s]\u001b[A\n",
      "  Training:  27%|██▋       | 25/94 [00:20<00:59,  1.17it/s]\u001b[A\n",
      "  Training:  28%|██▊       | 26/94 [00:21<00:58,  1.16it/s]\u001b[A\n",
      "  Training:  29%|██▊       | 27/94 [00:22<00:56,  1.18it/s]\u001b[A\n",
      "  Training:  30%|██▉       | 28/94 [00:23<00:56,  1.17it/s]\u001b[A\n",
      "  Training:  31%|███       | 29/94 [00:24<00:52,  1.24it/s]\u001b[A\n",
      "  Training:  32%|███▏      | 30/94 [00:24<00:52,  1.21it/s]\u001b[A\n",
      "  Training:  33%|███▎      | 31/94 [00:25<00:52,  1.19it/s]\u001b[A\n",
      "  Training:  34%|███▍      | 32/94 [00:26<00:52,  1.18it/s]\u001b[A\n",
      "  Training:  35%|███▌      | 33/94 [00:27<00:49,  1.24it/s]\u001b[A\n",
      "  Training:  36%|███▌      | 34/94 [00:28<00:49,  1.21it/s]\u001b[A\n",
      "  Training:  37%|███▋      | 35/94 [00:29<00:49,  1.19it/s]\u001b[A\n",
      "  Training:  38%|███▊      | 36/94 [00:29<00:48,  1.20it/s]\u001b[A\n",
      "  Training:  39%|███▉      | 37/94 [00:30<00:48,  1.18it/s]\u001b[A\n",
      "  Training:  40%|████      | 38/94 [00:31<00:47,  1.18it/s]\u001b[A\n",
      "  Training:  41%|████▏     | 39/94 [00:32<00:45,  1.21it/s]\u001b[A\n",
      "  Training:  43%|████▎     | 40/94 [00:33<00:45,  1.19it/s]\u001b[A\n",
      "  Training:  44%|████▎     | 41/94 [00:34<00:44,  1.18it/s]\u001b[A\n",
      "  Training:  45%|████▍     | 42/94 [00:35<00:44,  1.17it/s]\u001b[A\n",
      "  Training:  46%|████▌     | 43/94 [00:35<00:43,  1.16it/s]\u001b[A\n",
      "  Training:  47%|████▋     | 44/94 [00:36<00:43,  1.16it/s]\u001b[A\n",
      "  Training:  48%|████▊     | 45/94 [00:37<00:42,  1.16it/s]\u001b[A\n",
      "  Training:  49%|████▉     | 46/94 [00:38<00:40,  1.17it/s]\u001b[A\n",
      "  Training:  50%|█████     | 47/94 [00:39<00:40,  1.16it/s]\u001b[A\n",
      "  Training:  51%|█████     | 48/94 [00:40<00:39,  1.16it/s]\u001b[A\n",
      "  Training:  52%|█████▏    | 49/94 [00:41<00:38,  1.16it/s]\u001b[A\n",
      "  Training:  53%|█████▎    | 50/94 [00:41<00:36,  1.20it/s]\u001b[A\n",
      "  Training:  54%|█████▍    | 51/94 [00:42<00:36,  1.19it/s]\u001b[A\n",
      "  Training:  55%|█████▌    | 52/94 [00:43<00:34,  1.22it/s]\u001b[A\n",
      "  Training:  56%|█████▋    | 53/94 [00:44<00:34,  1.19it/s]\u001b[A\n",
      "  Training:  57%|█████▋    | 54/94 [00:45<00:33,  1.18it/s]\u001b[A\n",
      "  Training:  59%|█████▊    | 55/94 [00:46<00:33,  1.18it/s]\u001b[A\n",
      "  Training:  60%|█████▉    | 56/94 [00:46<00:32,  1.17it/s]\u001b[A\n",
      "  Training:  61%|██████    | 57/94 [00:47<00:31,  1.16it/s]\u001b[A\n",
      "  Training:  62%|██████▏   | 58/94 [00:48<00:30,  1.17it/s]\u001b[A\n",
      "  Training:  63%|██████▎   | 59/94 [00:49<00:29,  1.19it/s]\u001b[A\n",
      "  Training:  64%|██████▍   | 60/94 [00:50<00:27,  1.24it/s]\u001b[A\n",
      "  Training:  65%|██████▍   | 61/94 [00:51<00:27,  1.21it/s]\u001b[A\n",
      "  Training:  66%|██████▌   | 62/94 [00:51<00:26,  1.19it/s]\u001b[A\n",
      "  Training:  67%|██████▋   | 63/94 [00:52<00:26,  1.18it/s]\u001b[A\n",
      "  Training:  68%|██████▊   | 64/94 [00:53<00:25,  1.17it/s]\u001b[A\n",
      "  Training:  69%|██████▉   | 65/94 [00:54<00:24,  1.17it/s]\u001b[A\n",
      "  Training:  70%|███████   | 66/94 [00:55<00:24,  1.16it/s]\u001b[A\n",
      "  Training:  71%|███████▏  | 67/94 [00:56<00:21,  1.23it/s]\u001b[A\n",
      "  Training:  72%|███████▏  | 68/94 [00:57<00:21,  1.20it/s]\u001b[A\n",
      "  Training:  73%|███████▎  | 69/94 [00:57<00:21,  1.19it/s]\u001b[A\n",
      "  Training:  74%|███████▍  | 70/94 [00:58<00:20,  1.17it/s]\u001b[A\n",
      "  Training:  76%|███████▌  | 71/94 [00:59<00:19,  1.21it/s]\u001b[A\n",
      "  Training:  77%|███████▋  | 72/94 [01:00<00:18,  1.19it/s]\u001b[A\n",
      "  Training:  78%|███████▊  | 73/94 [01:01<00:17,  1.18it/s]\u001b[A\n",
      "  Training:  79%|███████▊  | 74/94 [01:02<00:16,  1.20it/s]\u001b[A\n",
      "  Training:  80%|███████▉  | 75/94 [01:02<00:15,  1.19it/s]\u001b[A\n",
      "  Training:  81%|████████  | 76/94 [01:03<00:15,  1.18it/s]\u001b[A\n",
      "  Training:  82%|████████▏ | 77/94 [01:04<00:13,  1.22it/s]\u001b[A\n",
      "  Training:  83%|████████▎ | 78/94 [01:05<00:12,  1.23it/s]\u001b[A\n",
      "  Training:  84%|████████▍ | 79/94 [01:06<00:12,  1.21it/s]\u001b[A\n",
      "  Training:  85%|████████▌ | 80/94 [01:07<00:11,  1.19it/s]\u001b[A\n",
      "  Training:  86%|████████▌ | 81/94 [01:07<00:11,  1.18it/s]\u001b[A\n",
      "  Training:  87%|████████▋ | 82/94 [01:08<00:10,  1.19it/s]\u001b[A\n",
      "  Training:  88%|████████▊ | 83/94 [01:09<00:09,  1.17it/s]\u001b[A\n",
      "  Training:  89%|████████▉ | 84/94 [01:10<00:08,  1.18it/s]\u001b[A\n",
      "  Training:  90%|█████████ | 85/94 [01:11<00:07,  1.17it/s]\u001b[A\n",
      "  Training:  91%|█████████▏| 86/94 [01:11<00:06,  1.27it/s]\u001b[A\n",
      "  Training:  93%|█████████▎| 87/94 [01:12<00:05,  1.23it/s]\u001b[A\n",
      "  Training:  94%|█████████▎| 88/94 [01:13<00:04,  1.21it/s]\u001b[A\n",
      "  Training:  95%|█████████▍| 89/94 [01:14<00:04,  1.19it/s]\u001b[A\n",
      "  Training:  96%|█████████▌| 90/94 [01:15<00:03,  1.18it/s]\u001b[A\n",
      "  Training:  97%|█████████▋| 91/94 [01:16<00:02,  1.17it/s]\u001b[A\n",
      "  Training:  98%|█████████▊| 92/94 [01:17<00:01,  1.16it/s]\u001b[A\n",
      "  Training:  99%|█████████▉| 93/94 [01:18<00:00,  1.16it/s]\u001b[A\n",
      "  Training: 100%|██████████| 94/94 [01:18<00:00,  1.34it/s]\u001b[A\n",
      "                                                           \u001b[A\n",
      "  Evaluating:   0%|          | 0/4 [00:00<?, ?it/s]\u001b[A\n",
      "  Evaluating:  25%|██▌       | 1/4 [00:00<00:00,  6.93it/s]\u001b[A\n",
      "  Evaluating:  75%|███████▌  | 3/4 [00:00<00:00,  9.32it/s]\u001b[A\n",
      "Epochs:  42%|████▏     | 21/50 [27:37<38:18, 79.24s/it]    \u001b[A"
     ]
    },
    {
     "name": "stdout",
     "output_type": "stream",
     "text": [
      "[Trans ep21] tr=2.657 val=4.438\n"
     ]
    },
    {
     "name": "stderr",
     "output_type": "stream",
     "text": [
      "\n",
      "  Training:   0%|          | 0/94 [00:00<?, ?it/s]\u001b[A\n",
      "  Training:   1%|          | 1/94 [00:00<00:59,  1.55it/s]\u001b[A\n",
      "  Training:   2%|▏         | 2/94 [00:01<01:11,  1.28it/s]\u001b[A\n",
      "  Training:   3%|▎         | 3/94 [00:02<01:14,  1.21it/s]\u001b[A\n",
      "  Training:   4%|▍         | 4/94 [00:03<01:14,  1.21it/s]\u001b[A\n",
      "  Training:   5%|▌         | 5/94 [00:04<01:14,  1.19it/s]\u001b[A\n",
      "  Training:   6%|▋         | 6/94 [00:04<01:14,  1.18it/s]\u001b[A\n",
      "  Training:   7%|▋         | 7/94 [00:05<01:14,  1.17it/s]\u001b[A\n",
      "  Training:   9%|▊         | 8/94 [00:06<01:13,  1.16it/s]\u001b[A\n",
      "  Training:  10%|▉         | 9/94 [00:07<01:12,  1.18it/s]\u001b[A\n",
      "  Training:  11%|█         | 10/94 [00:08<01:11,  1.17it/s]\u001b[A\n",
      "  Training:  12%|█▏        | 11/94 [00:09<01:05,  1.27it/s]\u001b[A\n",
      "  Training:  13%|█▎        | 12/94 [00:09<01:06,  1.23it/s]\u001b[A\n",
      "  Training:  14%|█▍        | 13/94 [00:10<01:07,  1.21it/s]\u001b[A\n",
      "  Training:  15%|█▍        | 14/94 [00:11<01:06,  1.21it/s]\u001b[A\n",
      "  Training:  16%|█▌        | 15/94 [00:12<01:06,  1.19it/s]\u001b[A\n",
      "  Training:  17%|█▋        | 16/94 [00:13<01:02,  1.25it/s]\u001b[A\n",
      "  Training:  18%|█▊        | 17/94 [00:14<01:03,  1.22it/s]\u001b[A\n",
      "  Training:  19%|█▉        | 18/94 [00:14<01:03,  1.20it/s]\u001b[A\n",
      "  Training:  20%|██        | 19/94 [00:15<01:00,  1.25it/s]\u001b[A\n",
      "  Training:  21%|██▏       | 20/94 [00:16<01:01,  1.21it/s]\u001b[A\n",
      "  Training:  22%|██▏       | 21/94 [00:17<01:01,  1.20it/s]\u001b[A\n",
      "  Training:  23%|██▎       | 22/94 [00:18<01:00,  1.18it/s]\u001b[A\n",
      "  Training:  24%|██▍       | 23/94 [00:19<01:00,  1.17it/s]\u001b[A\n",
      "  Training:  26%|██▌       | 24/94 [00:19<01:00,  1.16it/s]\u001b[A\n",
      "  Training:  27%|██▋       | 25/94 [00:20<00:57,  1.20it/s]\u001b[A\n",
      "  Training:  28%|██▊       | 26/94 [00:21<00:57,  1.18it/s]\u001b[A\n",
      "  Training:  29%|██▊       | 27/94 [00:22<00:57,  1.17it/s]\u001b[A\n",
      "  Training:  30%|██▉       | 28/94 [00:23<00:55,  1.18it/s]\u001b[A\n",
      "  Training:  31%|███       | 29/94 [00:24<00:55,  1.17it/s]\u001b[A\n",
      "  Training:  32%|███▏      | 30/94 [00:25<00:53,  1.19it/s]\u001b[A\n",
      "  Training:  33%|███▎      | 31/94 [00:25<00:52,  1.21it/s]\u001b[A\n",
      "  Training:  34%|███▍      | 32/94 [00:26<00:52,  1.19it/s]\u001b[A\n",
      "  Training:  35%|███▌      | 33/94 [00:27<00:51,  1.18it/s]\u001b[A\n",
      "  Training:  36%|███▌      | 34/94 [00:28<00:48,  1.23it/s]\u001b[A\n",
      "  Training:  37%|███▋      | 35/94 [00:29<00:48,  1.22it/s]\u001b[A\n",
      "  Training:  38%|███▊      | 36/94 [00:29<00:48,  1.20it/s]\u001b[A\n",
      "  Training:  39%|███▉      | 37/94 [00:30<00:47,  1.19it/s]\u001b[A\n",
      "  Training:  40%|████      | 38/94 [00:31<00:43,  1.28it/s]\u001b[A\n",
      "  Training:  41%|████▏     | 39/94 [00:32<00:44,  1.24it/s]\u001b[A\n",
      "  Training:  43%|████▎     | 40/94 [00:33<00:44,  1.21it/s]\u001b[A\n",
      "  Training:  44%|████▎     | 41/94 [00:34<00:44,  1.19it/s]\u001b[A\n",
      "  Training:  45%|████▍     | 42/94 [00:34<00:44,  1.18it/s]\u001b[A\n",
      "  Training:  46%|████▌     | 43/94 [00:35<00:42,  1.20it/s]\u001b[A\n",
      "  Training:  47%|████▋     | 44/94 [00:36<00:40,  1.24it/s]\u001b[A\n",
      "  Training:  48%|████▊     | 45/94 [00:37<00:37,  1.32it/s]\u001b[A\n",
      "  Training:  49%|████▉     | 46/94 [00:37<00:36,  1.31it/s]\u001b[A\n",
      "  Training:  50%|█████     | 47/94 [00:38<00:37,  1.26it/s]\u001b[A\n",
      "  Training:  51%|█████     | 48/94 [00:39<00:37,  1.22it/s]\u001b[A\n",
      "  Training:  52%|█████▏    | 49/94 [00:40<00:37,  1.20it/s]\u001b[A\n",
      "  Training:  53%|█████▎    | 50/94 [00:41<00:34,  1.26it/s]\u001b[A\n",
      "  Training:  54%|█████▍    | 51/94 [00:42<00:34,  1.25it/s]\u001b[A\n",
      "  Training:  55%|█████▌    | 52/94 [00:42<00:34,  1.22it/s]\u001b[A\n",
      "  Training:  56%|█████▋    | 53/94 [00:43<00:34,  1.20it/s]\u001b[A\n",
      "  Training:  57%|█████▋    | 54/94 [00:44<00:33,  1.18it/s]\u001b[A\n",
      "  Training:  59%|█████▊    | 55/94 [00:45<00:32,  1.19it/s]\u001b[A\n",
      "  Training:  60%|█████▉    | 56/94 [00:46<00:32,  1.18it/s]\u001b[A\n",
      "  Training:  61%|██████    | 57/94 [00:47<00:31,  1.17it/s]\u001b[A\n",
      "  Training:  62%|██████▏   | 58/94 [00:48<00:30,  1.19it/s]\u001b[A\n",
      "  Training:  63%|██████▎   | 59/94 [00:48<00:29,  1.17it/s]\u001b[A\n",
      "  Training:  64%|██████▍   | 60/94 [00:49<00:29,  1.17it/s]\u001b[A\n",
      "  Training:  65%|██████▍   | 61/94 [00:50<00:28,  1.16it/s]\u001b[A\n",
      "  Training:  66%|██████▌   | 62/94 [00:51<00:27,  1.16it/s]\u001b[A\n",
      "  Training:  67%|██████▋   | 63/94 [00:52<00:26,  1.16it/s]\u001b[A\n",
      "  Training:  68%|██████▊   | 64/94 [00:53<00:25,  1.16it/s]\u001b[A\n",
      "  Training:  69%|██████▉   | 65/94 [00:54<00:24,  1.17it/s]\u001b[A\n",
      "  Training:  70%|███████   | 66/94 [00:54<00:24,  1.17it/s]\u001b[A\n",
      "  Training:  71%|███████▏  | 67/94 [00:55<00:23,  1.16it/s]\u001b[A\n",
      "  Training:  72%|███████▏  | 68/94 [00:56<00:21,  1.19it/s]\u001b[A\n",
      "  Training:  73%|███████▎  | 69/94 [00:57<00:21,  1.17it/s]\u001b[A\n",
      "  Training:  74%|███████▍  | 70/94 [00:58<00:20,  1.20it/s]\u001b[A\n",
      "  Training:  76%|███████▌  | 71/94 [00:59<00:19,  1.18it/s]\u001b[A\n",
      "  Training:  77%|███████▋  | 72/94 [01:00<00:18,  1.17it/s]\u001b[A\n",
      "  Training:  78%|███████▊  | 73/94 [01:00<00:18,  1.16it/s]\u001b[A\n",
      "  Training:  79%|███████▊  | 74/94 [01:01<00:17,  1.16it/s]\u001b[A\n",
      "  Training:  80%|███████▉  | 75/94 [01:02<00:15,  1.19it/s]\u001b[A\n",
      "  Training:  81%|████████  | 76/94 [01:03<00:15,  1.19it/s]\u001b[A\n",
      "  Training:  82%|████████▏ | 77/94 [01:04<00:14,  1.18it/s]\u001b[A\n",
      "  Training:  83%|████████▎ | 78/94 [01:05<00:13,  1.18it/s]\u001b[A\n",
      "  Training:  84%|████████▍ | 79/94 [01:05<00:12,  1.17it/s]\u001b[A\n",
      "  Training:  85%|████████▌ | 80/94 [01:06<00:12,  1.17it/s]\u001b[A\n",
      "  Training:  86%|████████▌ | 81/94 [01:07<00:11,  1.16it/s]\u001b[A\n",
      "  Training:  87%|████████▋ | 82/94 [01:08<00:10,  1.18it/s]\u001b[A\n",
      "  Training:  88%|████████▊ | 83/94 [01:09<00:08,  1.26it/s]\u001b[A\n",
      "  Training:  89%|████████▉ | 84/94 [01:10<00:08,  1.22it/s]\u001b[A\n",
      "  Training:  90%|█████████ | 85/94 [01:10<00:07,  1.20it/s]\u001b[A\n",
      "  Training:  91%|█████████▏| 86/94 [01:11<00:06,  1.18it/s]\u001b[A\n",
      "  Training:  93%|█████████▎| 87/94 [01:12<00:05,  1.17it/s]\u001b[A\n",
      "  Training:  94%|█████████▎| 88/94 [01:13<00:05,  1.17it/s]\u001b[A\n",
      "  Training:  95%|█████████▍| 89/94 [01:14<00:04,  1.16it/s]\u001b[A\n",
      "  Training:  96%|█████████▌| 90/94 [01:15<00:03,  1.16it/s]\u001b[A\n",
      "  Training:  97%|█████████▋| 91/94 [01:16<00:02,  1.17it/s]\u001b[A\n",
      "  Training:  98%|█████████▊| 92/94 [01:16<00:01,  1.17it/s]\u001b[A\n",
      "  Training:  99%|█████████▉| 93/94 [01:17<00:00,  1.18it/s]\u001b[A\n",
      "  Training: 100%|██████████| 94/94 [01:18<00:00,  1.26it/s]\u001b[A\n",
      "                                                           \u001b[A\n",
      "  Evaluating:   0%|          | 0/4 [00:00<?, ?it/s]\u001b[A\n",
      "  Evaluating:  25%|██▌       | 1/4 [00:00<00:00,  7.05it/s]\u001b[A\n",
      "  Evaluating:  75%|███████▌  | 3/4 [00:00<00:00,  9.35it/s]\u001b[A\n",
      "Epochs:  44%|████▍     | 22/50 [28:56<36:55, 79.13s/it]    \u001b[A"
     ]
    },
    {
     "name": "stdout",
     "output_type": "stream",
     "text": [
      "[Trans ep22] tr=2.579 val=4.519\n"
     ]
    },
    {
     "name": "stderr",
     "output_type": "stream",
     "text": [
      "\n",
      "  Training:   0%|          | 0/94 [00:00<?, ?it/s]\u001b[A\n",
      "  Training:   1%|          | 1/94 [00:00<01:20,  1.15it/s]\u001b[A\n",
      "  Training:   2%|▏         | 2/94 [00:01<01:17,  1.18it/s]\u001b[A\n",
      "  Training:   3%|▎         | 3/94 [00:02<01:17,  1.17it/s]\u001b[A\n",
      "  Training:   4%|▍         | 4/94 [00:03<01:16,  1.18it/s]\u001b[A\n",
      "  Training:   5%|▌         | 5/94 [00:04<01:16,  1.17it/s]\u001b[A\n",
      "  Training:   6%|▋         | 6/94 [00:05<01:15,  1.16it/s]\u001b[A\n",
      "  Training:   7%|▋         | 7/94 [00:05<01:13,  1.19it/s]\u001b[A\n",
      "  Training:   9%|▊         | 8/94 [00:06<01:12,  1.18it/s]\u001b[A\n",
      "  Training:  10%|▉         | 9/94 [00:07<01:12,  1.17it/s]\u001b[A\n",
      "  Training:  11%|█         | 10/94 [00:08<01:12,  1.16it/s]\u001b[A\n",
      "  Training:  12%|█▏        | 11/94 [00:09<01:07,  1.23it/s]\u001b[A\n",
      "  Training:  13%|█▎        | 12/94 [00:10<01:08,  1.20it/s]\u001b[A\n",
      "  Training:  14%|█▍        | 13/94 [00:10<01:07,  1.20it/s]\u001b[A\n",
      "  Training:  15%|█▍        | 14/94 [00:11<01:01,  1.31it/s]\u001b[A\n",
      "  Training:  16%|█▌        | 15/94 [00:12<01:02,  1.26it/s]\u001b[A\n",
      "  Training:  17%|█▋        | 16/94 [00:13<01:03,  1.22it/s]\u001b[A\n",
      "  Training:  18%|█▊        | 17/94 [00:14<01:04,  1.20it/s]\u001b[A\n",
      "  Training:  19%|█▉        | 18/94 [00:14<01:00,  1.25it/s]\u001b[A\n",
      "  Training:  20%|██        | 19/94 [00:15<01:01,  1.22it/s]\u001b[A\n",
      "  Training:  21%|██▏       | 20/94 [00:16<00:59,  1.25it/s]\u001b[A\n",
      "  Training:  22%|██▏       | 21/94 [00:17<00:59,  1.22it/s]\u001b[A\n",
      "  Training:  23%|██▎       | 22/94 [00:18<01:00,  1.20it/s]\u001b[A\n",
      "  Training:  24%|██▍       | 23/94 [00:19<01:00,  1.18it/s]\u001b[A\n",
      "  Training:  26%|██▌       | 24/94 [00:20<00:59,  1.17it/s]\u001b[A\n",
      "  Training:  27%|██▋       | 25/94 [00:20<00:59,  1.17it/s]\u001b[A\n",
      "  Training:  28%|██▊       | 26/94 [00:21<00:55,  1.22it/s]\u001b[A\n",
      "  Training:  29%|██▊       | 27/94 [00:22<00:56,  1.20it/s]\u001b[A\n",
      "  Training:  30%|██▉       | 28/94 [00:23<00:55,  1.18it/s]\u001b[A\n",
      "  Training:  31%|███       | 29/94 [00:24<00:55,  1.17it/s]\u001b[A\n",
      "  Training:  32%|███▏      | 30/94 [00:25<00:54,  1.17it/s]\u001b[A\n",
      "  Training:  33%|███▎      | 31/94 [00:25<00:54,  1.16it/s]\u001b[A\n",
      "  Training:  34%|███▍      | 32/94 [00:26<00:53,  1.16it/s]\u001b[A\n",
      "  Training:  35%|███▌      | 33/94 [00:27<00:48,  1.26it/s]\u001b[A\n",
      "  Training:  36%|███▌      | 34/94 [00:28<00:49,  1.22it/s]\u001b[A\n",
      "  Training:  37%|███▋      | 35/94 [00:29<00:49,  1.20it/s]\u001b[A\n",
      "  Training:  38%|███▊      | 36/94 [00:29<00:43,  1.32it/s]\u001b[A\n",
      "  Training:  39%|███▉      | 37/94 [00:30<00:44,  1.27it/s]\u001b[A\n",
      "  Training:  40%|████      | 38/94 [00:31<00:44,  1.26it/s]\u001b[A\n",
      "  Training:  41%|████▏     | 39/94 [00:32<00:44,  1.22it/s]\u001b[A\n",
      "  Training:  43%|████▎     | 40/94 [00:33<00:44,  1.21it/s]\u001b[A\n",
      "  Training:  44%|████▎     | 41/94 [00:33<00:43,  1.22it/s]\u001b[A\n",
      "  Training:  45%|████▍     | 42/94 [00:34<00:43,  1.20it/s]\u001b[A\n",
      "  Training:  46%|████▌     | 43/94 [00:35<00:43,  1.19it/s]\u001b[A\n",
      "  Training:  47%|████▋     | 44/94 [00:36<00:39,  1.27it/s]\u001b[A\n",
      "  Training:  48%|████▊     | 45/94 [00:37<00:37,  1.30it/s]\u001b[A\n",
      "  Training:  49%|████▉     | 46/94 [00:37<00:37,  1.28it/s]\u001b[A\n",
      "  Training:  50%|█████     | 47/94 [00:38<00:35,  1.32it/s]\u001b[A\n",
      "  Training:  51%|█████     | 48/94 [00:39<00:32,  1.40it/s]\u001b[A\n",
      "  Training:  52%|█████▏    | 49/94 [00:40<00:33,  1.33it/s]\u001b[A\n",
      "  Training:  53%|█████▎    | 50/94 [00:40<00:33,  1.32it/s]\u001b[A\n",
      "  Training:  54%|█████▍    | 51/94 [00:41<00:34,  1.26it/s]\u001b[A\n",
      "  Training:  55%|█████▌    | 52/94 [00:42<00:34,  1.23it/s]\u001b[A\n",
      "  Training:  56%|█████▋    | 53/94 [00:43<00:32,  1.24it/s]\u001b[A\n",
      "  Training:  57%|█████▋    | 54/94 [00:44<00:32,  1.24it/s]\u001b[A\n",
      "  Training:  59%|█████▊    | 55/94 [00:45<00:32,  1.21it/s]\u001b[A\n",
      "  Training:  60%|█████▉    | 56/94 [00:45<00:31,  1.19it/s]\u001b[A\n",
      "  Training:  61%|██████    | 57/94 [00:46<00:29,  1.26it/s]\u001b[A\n",
      "  Training:  62%|██████▏   | 58/94 [00:47<00:29,  1.23it/s]\u001b[A\n",
      "  Training:  63%|██████▎   | 59/94 [00:48<00:29,  1.20it/s]\u001b[A\n",
      "  Training:  64%|██████▍   | 60/94 [00:49<00:28,  1.18it/s]\u001b[A\n",
      "  Training:  65%|██████▍   | 61/94 [00:50<00:28,  1.17it/s]\u001b[A\n",
      "  Training:  66%|██████▌   | 62/94 [00:50<00:27,  1.17it/s]\u001b[A\n",
      "  Training:  67%|██████▋   | 63/94 [00:51<00:26,  1.16it/s]\u001b[A\n",
      "  Training:  68%|██████▊   | 64/94 [00:52<00:25,  1.16it/s]\u001b[A\n",
      "  Training:  69%|██████▉   | 65/94 [00:53<00:25,  1.15it/s]\u001b[A\n",
      "  Training:  70%|███████   | 66/94 [00:54<00:24,  1.15it/s]\u001b[A\n",
      "  Training:  71%|███████▏  | 67/94 [00:55<00:23,  1.15it/s]\u001b[A\n",
      "  Training:  72%|███████▏  | 68/94 [00:56<00:22,  1.18it/s]\u001b[A\n",
      "  Training:  73%|███████▎  | 69/94 [00:56<00:20,  1.21it/s]\u001b[A\n",
      "  Training:  74%|███████▍  | 70/94 [00:57<00:19,  1.21it/s]\u001b[A\n",
      "  Training:  76%|███████▌  | 71/94 [00:58<00:19,  1.19it/s]\u001b[A\n",
      "  Training:  77%|███████▋  | 72/94 [00:59<00:18,  1.18it/s]\u001b[A\n",
      "  Training:  78%|███████▊  | 73/94 [01:00<00:16,  1.25it/s]\u001b[A\n",
      "  Training:  79%|███████▊  | 74/94 [01:00<00:16,  1.22it/s]\u001b[A\n",
      "  Training:  80%|███████▉  | 75/94 [01:01<00:15,  1.19it/s]\u001b[A\n",
      "  Training:  81%|████████  | 76/94 [01:02<00:15,  1.18it/s]\u001b[A\n",
      "  Training:  82%|████████▏ | 77/94 [01:03<00:14,  1.17it/s]\u001b[A\n",
      "  Training:  83%|████████▎ | 78/94 [01:04<00:13,  1.16it/s]\u001b[A\n",
      "  Training:  84%|████████▍ | 79/94 [01:05<00:12,  1.19it/s]\u001b[A\n",
      "  Training:  85%|████████▌ | 80/94 [01:06<00:11,  1.18it/s]\u001b[A\n",
      "  Training:  86%|████████▌ | 81/94 [01:07<00:11,  1.17it/s]\u001b[A\n",
      "  Training:  87%|████████▋ | 82/94 [01:07<00:10,  1.16it/s]\u001b[A\n",
      "  Training:  88%|████████▊ | 83/94 [01:08<00:09,  1.16it/s]\u001b[A\n",
      "  Training:  89%|████████▉ | 84/94 [01:09<00:08,  1.16it/s]\u001b[A\n",
      "  Training:  90%|█████████ | 85/94 [01:10<00:07,  1.24it/s]\u001b[A\n",
      "  Training:  91%|█████████▏| 86/94 [01:11<00:06,  1.21it/s]\u001b[A\n",
      "  Training:  93%|█████████▎| 87/94 [01:12<00:05,  1.19it/s]\u001b[A\n",
      "  Training:  94%|█████████▎| 88/94 [01:12<00:05,  1.18it/s]\u001b[A\n",
      "  Training:  95%|█████████▍| 89/94 [01:13<00:04,  1.17it/s]\u001b[A\n",
      "  Training:  96%|█████████▌| 90/94 [01:14<00:03,  1.16it/s]\u001b[A\n",
      "  Training:  97%|█████████▋| 91/94 [01:15<00:02,  1.17it/s]\u001b[A\n",
      "  Training:  98%|█████████▊| 92/94 [01:16<00:01,  1.16it/s]\u001b[A\n",
      "  Training:  99%|█████████▉| 93/94 [01:17<00:00,  1.16it/s]\u001b[A\n",
      "  Training: 100%|██████████| 94/94 [01:17<00:00,  1.25it/s]\u001b[A\n",
      "                                                           \u001b[A\n",
      "  Evaluating:   0%|          | 0/4 [00:00<?, ?it/s]\u001b[A\n",
      "  Evaluating:  25%|██▌       | 1/4 [00:00<00:00,  7.05it/s]\u001b[A\n",
      "  Evaluating:  75%|███████▌  | 3/4 [00:00<00:00,  9.35it/s]\u001b[A\n",
      "Epochs:  44%|████▍     | 22/50 [30:14<38:29, 82.48s/it]    \u001b[A"
     ]
    },
    {
     "name": "stdout",
     "output_type": "stream",
     "text": [
      "[Trans ep23] tr=2.497 val=4.468\n"
     ]
    },
    {
     "name": "stderr",
     "output_type": "stream",
     "text": [
      "\n"
     ]
    }
   ],
   "source": [
    "best_val = float('inf')\n",
    "patience = 5; wait = 0\n",
    "for epoch in trange(1, 51, desc=\"Epochs\"):\n",
    "    tr_loss = train_epoch(transformer, train_loader, opt_t, crit, device) \n",
    "    val_loss= eval_epoch(transformer, dev_loader,   crit, device)\n",
    "    print(f\"[Trans ep{epoch}] tr={tr_loss:.3f} val={val_loss:.3f}\")\n",
    "    if val_loss < best_val:\n",
    "        best_val, wait = val_loss, 0\n",
    "        torch.save(transformer.state_dict(), 'best_transformer_2.pt')\n",
    "    else:\n",
    "        wait += 1\n",
    "        if wait >= patience: break\n"
   ]
  },
  {
   "cell_type": "code",
   "execution_count": null,
   "metadata": {
    "trusted": true
   },
   "outputs": [],
   "source": []
  },
  {
   "cell_type": "markdown",
   "metadata": {},
   "source": [
    "### LSTM Training:"
   ]
  },
  {
   "cell_type": "code",
   "execution_count": 181,
   "metadata": {
    "execution": {
     "iopub.execute_input": "2025-05-01T17:33:23.332041Z",
     "iopub.status.busy": "2025-05-01T17:33:23.331471Z",
     "iopub.status.idle": "2025-05-01T18:45:23.742964Z",
     "shell.execute_reply": "2025-05-01T18:45:23.741994Z",
     "shell.execute_reply.started": "2025-05-01T17:33:23.332019Z"
    },
    "trusted": true
   },
   "outputs": [
    {
     "name": "stderr",
     "output_type": "stream",
     "text": [
      "LSTM Epochs:   0%|          | 0/50 [00:00<?, ?it/s]\n",
      "  Training:   0%|          | 0/94 [00:00<?, ?it/s]\u001b[A\n",
      "  Training:   1%|          | 1/94 [00:02<03:50,  2.47s/it]\u001b[A\n",
      "  Training:   2%|▏         | 2/94 [00:04<03:08,  2.05s/it]\u001b[A\n",
      "  Training:   3%|▎         | 3/94 [00:06<03:19,  2.19s/it]\u001b[A\n",
      "  Training:   4%|▍         | 4/94 [00:08<03:21,  2.24s/it]\u001b[A\n",
      "  Training:   5%|▌         | 5/94 [00:11<03:23,  2.29s/it]\u001b[A\n",
      "  Training:   6%|▋         | 6/94 [00:13<03:23,  2.31s/it]\u001b[A\n",
      "  Training:   7%|▋         | 7/94 [00:16<03:23,  2.33s/it]\u001b[A\n",
      "  Training:   9%|▊         | 8/94 [00:17<03:00,  2.10s/it]\u001b[A\n",
      "  Training:  10%|▉         | 9/94 [00:19<02:48,  1.99s/it]\u001b[A\n",
      "  Training:  11%|█         | 10/94 [00:20<02:37,  1.88s/it]\u001b[A\n",
      "  Training:  12%|█▏        | 11/94 [00:23<02:49,  2.04s/it]\u001b[A\n",
      "  Training:  13%|█▎        | 12/94 [00:25<02:56,  2.15s/it]\u001b[A\n",
      "  Training:  14%|█▍        | 13/94 [00:28<03:00,  2.22s/it]\u001b[A\n",
      "  Training:  15%|█▍        | 14/94 [00:30<03:01,  2.27s/it]\u001b[A\n",
      "  Training:  16%|█▌        | 15/94 [00:32<03:02,  2.31s/it]\u001b[A\n",
      "  Training:  17%|█▋        | 16/94 [00:35<03:02,  2.34s/it]\u001b[A\n",
      "  Training:  18%|█▊        | 17/94 [00:37<03:02,  2.37s/it]\u001b[A\n",
      "  Training:  19%|█▉        | 18/94 [00:40<03:01,  2.38s/it]\u001b[A\n",
      "  Training:  20%|██        | 19/94 [00:42<02:59,  2.40s/it]\u001b[A\n",
      "  Training:  21%|██▏       | 20/94 [00:44<02:50,  2.30s/it]\u001b[A\n",
      "  Training:  22%|██▏       | 21/94 [00:47<02:50,  2.34s/it]\u001b[A\n",
      "  Training:  23%|██▎       | 22/94 [00:49<02:50,  2.37s/it]\u001b[A\n",
      "  Training:  24%|██▍       | 23/94 [00:51<02:32,  2.15s/it]\u001b[A\n",
      "  Training:  26%|██▌       | 24/94 [00:53<02:36,  2.24s/it]\u001b[A\n",
      "  Training:  27%|██▋       | 25/94 [00:55<02:27,  2.13s/it]\u001b[A\n",
      "  Training:  28%|██▊       | 26/94 [00:57<02:30,  2.21s/it]\u001b[A\n",
      "  Training:  29%|██▊       | 27/94 [01:00<02:33,  2.29s/it]\u001b[A\n",
      "  Training:  30%|██▉       | 28/94 [01:02<02:34,  2.34s/it]\u001b[A\n",
      "  Training:  31%|███       | 29/94 [01:05<02:34,  2.38s/it]\u001b[A\n",
      "  Training:  32%|███▏      | 30/94 [01:07<02:33,  2.40s/it]\u001b[A\n",
      "  Training:  33%|███▎      | 31/94 [01:10<02:28,  2.35s/it]\u001b[A\n",
      "  Training:  34%|███▍      | 32/94 [01:12<02:28,  2.39s/it]\u001b[A\n",
      "  Training:  35%|███▌      | 33/94 [01:14<02:26,  2.40s/it]\u001b[A\n",
      "  Training:  36%|███▌      | 34/94 [01:17<02:25,  2.42s/it]\u001b[A\n",
      "  Training:  37%|███▋      | 35/94 [01:19<02:23,  2.44s/it]\u001b[A\n",
      "  Training:  38%|███▊      | 36/94 [01:21<02:10,  2.24s/it]\u001b[A\n",
      "  Training:  39%|███▉      | 37/94 [01:23<02:07,  2.24s/it]\u001b[A\n",
      "  Training:  40%|████      | 38/94 [01:26<02:07,  2.29s/it]\u001b[A\n",
      "  Training:  41%|████▏     | 39/94 [01:28<01:56,  2.12s/it]\u001b[A\n",
      "  Training:  43%|████▎     | 40/94 [01:29<01:47,  1.99s/it]\u001b[A\n",
      "  Training:  44%|████▎     | 41/94 [01:32<01:53,  2.15s/it]\u001b[A\n",
      "  Training:  45%|████▍     | 42/94 [01:34<01:52,  2.16s/it]\u001b[A\n",
      "  Training:  46%|████▌     | 43/94 [01:36<01:55,  2.27s/it]\u001b[A\n",
      "  Training:  47%|████▋     | 44/94 [01:39<01:57,  2.34s/it]\u001b[A\n",
      "  Training:  48%|████▊     | 45/94 [01:41<01:57,  2.39s/it]\u001b[A\n",
      "  Training:  49%|████▉     | 46/94 [01:43<01:49,  2.27s/it]\u001b[A\n",
      "  Training:  50%|█████     | 47/94 [01:46<01:50,  2.35s/it]\u001b[A\n",
      "  Training:  51%|█████     | 48/94 [01:49<01:50,  2.40s/it]\u001b[A\n",
      "  Training:  52%|█████▏    | 49/94 [01:51<01:49,  2.44s/it]\u001b[A\n",
      "  Training:  53%|█████▎    | 50/94 [01:53<01:45,  2.40s/it]\u001b[A\n",
      "  Training:  54%|█████▍    | 51/94 [01:56<01:44,  2.43s/it]\u001b[A\n",
      "  Training:  55%|█████▌    | 52/94 [01:58<01:32,  2.20s/it]\u001b[A\n",
      "  Training:  56%|█████▋    | 53/94 [01:59<01:25,  2.09s/it]\u001b[A\n",
      "  Training:  57%|█████▋    | 54/94 [02:02<01:28,  2.21s/it]\u001b[A\n",
      "  Training:  59%|█████▊    | 55/94 [02:04<01:30,  2.31s/it]\u001b[A\n",
      "  Training:  60%|█████▉    | 56/94 [02:07<01:30,  2.38s/it]\u001b[A\n",
      "  Training:  61%|██████    | 57/94 [02:10<01:29,  2.43s/it]\u001b[A\n",
      "  Training:  62%|██████▏   | 58/94 [02:12<01:28,  2.46s/it]\u001b[A\n",
      "  Training:  63%|██████▎   | 59/94 [02:15<01:27,  2.49s/it]\u001b[A\n",
      "  Training:  64%|██████▍   | 60/94 [02:17<01:25,  2.52s/it]\u001b[A\n",
      "  Training:  65%|██████▍   | 61/94 [02:20<01:23,  2.54s/it]\u001b[A\n",
      "  Training:  66%|██████▌   | 62/94 [02:22<01:21,  2.54s/it]\u001b[A\n",
      "  Training:  67%|██████▋   | 63/94 [02:25<01:19,  2.55s/it]\u001b[A\n",
      "  Training:  68%|██████▊   | 64/94 [02:27<01:16,  2.56s/it]\u001b[A\n",
      "  Training:  69%|██████▉   | 65/94 [02:30<01:14,  2.57s/it]\u001b[A\n",
      "  Training:  70%|███████   | 66/94 [02:33<01:11,  2.57s/it]\u001b[A\n",
      "  Training:  71%|███████▏  | 67/94 [02:35<01:09,  2.57s/it]\u001b[A\n",
      "  Training:  72%|███████▏  | 68/94 [02:38<01:05,  2.51s/it]\u001b[A\n",
      "  Training:  73%|███████▎  | 69/94 [02:40<01:03,  2.53s/it]\u001b[A\n",
      "  Training:  74%|███████▍  | 70/94 [02:43<01:00,  2.50s/it]\u001b[A\n",
      "  Training:  76%|███████▌  | 71/94 [02:45<00:58,  2.53s/it]\u001b[A\n",
      "  Training:  77%|███████▋  | 72/94 [02:48<00:56,  2.55s/it]\u001b[A\n",
      "  Training:  78%|███████▊  | 73/94 [02:50<00:53,  2.56s/it]\u001b[A\n",
      "  Training:  79%|███████▊  | 74/94 [02:53<00:49,  2.50s/it]\u001b[A\n",
      "  Training:  80%|███████▉  | 75/94 [02:55<00:47,  2.52s/it]\u001b[A\n",
      "  Training:  81%|████████  | 76/94 [02:58<00:45,  2.54s/it]\u001b[A\n",
      "  Training:  82%|████████▏ | 77/94 [03:00<00:43,  2.56s/it]\u001b[A\n",
      "  Training:  83%|████████▎ | 78/94 [03:03<00:41,  2.58s/it]\u001b[A\n",
      "  Training:  84%|████████▍ | 79/94 [03:06<00:38,  2.59s/it]\u001b[A\n",
      "  Training:  85%|████████▌ | 80/94 [03:08<00:36,  2.60s/it]\u001b[A\n",
      "  Training:  86%|████████▌ | 81/94 [03:11<00:33,  2.58s/it]\u001b[A\n",
      "  Training:  87%|████████▋ | 82/94 [03:13<00:30,  2.56s/it]\u001b[A\n",
      "  Training:  88%|████████▊ | 83/94 [03:16<00:27,  2.54s/it]\u001b[A\n",
      "  Training:  89%|████████▉ | 84/94 [03:18<00:25,  2.56s/it]\u001b[A\n",
      "  Training:  90%|█████████ | 85/94 [03:21<00:23,  2.58s/it]\u001b[A\n",
      "  Training:  91%|█████████▏| 86/94 [03:24<00:20,  2.59s/it]\u001b[A\n",
      "  Training:  93%|█████████▎| 87/94 [03:26<00:17,  2.50s/it]\u001b[A\n",
      "  Training:  94%|█████████▎| 88/94 [03:28<00:13,  2.27s/it]\u001b[A\n",
      "  Training:  95%|█████████▍| 89/94 [03:29<00:10,  2.11s/it]\u001b[A\n",
      "  Training:  96%|█████████▌| 90/94 [03:32<00:09,  2.26s/it]\u001b[A\n",
      "  Training:  97%|█████████▋| 91/94 [03:34<00:06,  2.28s/it]\u001b[A\n",
      "  Training:  98%|█████████▊| 92/94 [03:37<00:04,  2.32s/it]\u001b[A\n",
      "  Training:  99%|█████████▉| 93/94 [03:39<00:02,  2.16s/it]\u001b[A\n",
      "  Training: 100%|██████████| 94/94 [03:40<00:00,  1.89s/it]\u001b[A\n",
      "                                                           \u001b[A\n",
      "  Evaluating:   0%|          | 0/4 [00:00<?, ?it/s]\u001b[A\n",
      "  Evaluating:  25%|██▌       | 1/4 [00:00<00:00,  3.18it/s]\u001b[A\n",
      "  Evaluating:  50%|█████     | 2/4 [00:00<00:00,  4.57it/s]\u001b[A\n",
      "  Evaluating:  75%|███████▌  | 3/4 [00:00<00:00,  4.98it/s]\u001b[A\n",
      "                                                           \u001b[A"
     ]
    },
    {
     "name": "stdout",
     "output_type": "stream",
     "text": [
      "[LSTM ep01] tr=6.169 val=5.884 | ppl=359.4% acc=0.00% | time=220.4s mem=11838.8MB inf=3.16ms/s\n"
     ]
    },
    {
     "name": "stderr",
     "output_type": "stream",
     "text": [
      "LSTM Epochs:   2%|▏         | 1/50 [05:37<4:35:22, 337.19s/it]\n",
      "  Training:   0%|          | 0/94 [00:00<?, ?it/s]\u001b[A\n",
      "  Training:   1%|          | 1/94 [00:02<03:49,  2.46s/it]\u001b[A\n",
      "  Training:   2%|▏         | 2/94 [00:04<03:33,  2.32s/it]\u001b[A\n",
      "  Training:   3%|▎         | 3/94 [00:06<03:15,  2.15s/it]\u001b[A\n",
      "  Training:   4%|▍         | 4/94 [00:08<03:08,  2.09s/it]\u001b[A\n",
      "  Training:   5%|▌         | 5/94 [00:11<03:23,  2.29s/it]\u001b[A\n",
      "  Training:   6%|▋         | 6/94 [00:13<03:31,  2.41s/it]\u001b[A\n",
      "  Training:   7%|▋         | 7/94 [00:16<03:36,  2.48s/it]\u001b[A\n",
      "  Training:   9%|▊         | 8/94 [00:18<03:12,  2.24s/it]\u001b[A\n",
      "  Training:  10%|▉         | 9/94 [00:20<03:03,  2.15s/it]\u001b[A\n",
      "  Training:  11%|█         | 10/94 [00:22<03:07,  2.23s/it]\u001b[A\n",
      "  Training:  12%|█▏        | 11/94 [00:25<03:15,  2.36s/it]\u001b[A\n",
      "  Training:  13%|█▎        | 12/94 [00:27<03:16,  2.40s/it]\u001b[A\n",
      "  Training:  14%|█▍        | 13/94 [00:30<03:20,  2.48s/it]\u001b[A\n",
      "  Training:  15%|█▍        | 14/94 [00:33<03:22,  2.53s/it]\u001b[A\n",
      "  Training:  16%|█▌        | 15/94 [00:35<03:22,  2.56s/it]\u001b[A\n",
      "  Training:  17%|█▋        | 16/94 [00:38<03:21,  2.59s/it]\u001b[A\n",
      "  Training:  18%|█▊        | 17/94 [00:40<03:15,  2.54s/it]\u001b[A\n",
      "  Training:  19%|█▉        | 18/94 [00:42<02:53,  2.28s/it]\u001b[A\n",
      "  Training:  20%|██        | 19/94 [00:45<02:59,  2.39s/it]\u001b[A\n",
      "  Training:  21%|██▏       | 20/94 [00:47<03:00,  2.44s/it]\u001b[A\n",
      "  Training:  22%|██▏       | 21/94 [00:49<02:53,  2.37s/it]\u001b[A\n",
      "  Training:  23%|██▎       | 22/94 [00:52<02:47,  2.33s/it]\u001b[A\n",
      "  Training:  24%|██▍       | 23/94 [00:54<02:52,  2.43s/it]\u001b[A\n",
      "  Training:  26%|██▌       | 24/94 [00:57<02:54,  2.50s/it]\u001b[A\n",
      "  Training:  27%|██▋       | 25/94 [00:59<02:35,  2.26s/it]\u001b[A\n",
      "  Training:  28%|██▊       | 26/94 [01:01<02:41,  2.37s/it]\u001b[A\n",
      "  Training:  29%|██▊       | 27/94 [01:04<02:44,  2.46s/it]\u001b[A\n",
      "  Training:  30%|██▉       | 28/94 [01:06<02:38,  2.41s/it]\u001b[A\n",
      "  Training:  31%|███       | 29/94 [01:09<02:41,  2.48s/it]\u001b[A\n",
      "  Training:  32%|███▏      | 30/94 [01:11<02:34,  2.42s/it]\u001b[A\n",
      "  Training:  33%|███▎      | 31/94 [01:14<02:36,  2.49s/it]\u001b[A\n",
      "  Training:  34%|███▍      | 32/94 [01:16<02:25,  2.35s/it]\u001b[A\n",
      "  Training:  35%|███▌      | 33/94 [01:18<02:22,  2.33s/it]\u001b[A\n",
      "  Training:  36%|███▌      | 34/94 [01:21<02:25,  2.43s/it]\u001b[A\n",
      "  Training:  37%|███▋      | 35/94 [01:22<02:06,  2.15s/it]\u001b[A\n",
      "  Training:  38%|███▊      | 36/94 [01:25<02:13,  2.30s/it]\u001b[A\n",
      "  Training:  39%|███▉      | 37/94 [01:28<02:16,  2.40s/it]\u001b[A\n",
      "  Training:  40%|████      | 38/94 [01:30<02:18,  2.48s/it]\u001b[A\n",
      "  Training:  41%|████▏     | 39/94 [01:33<02:14,  2.44s/it]\u001b[A\n",
      "  Training:  43%|████▎     | 40/94 [01:35<02:15,  2.51s/it]\u001b[A\n",
      "  Training:  44%|████▎     | 41/94 [01:38<02:15,  2.55s/it]\u001b[A\n",
      "  Training:  45%|████▍     | 42/94 [01:41<02:14,  2.58s/it]\u001b[A\n",
      "  Training:  46%|████▌     | 43/94 [01:43<02:12,  2.60s/it]\u001b[A\n",
      "  Training:  47%|████▋     | 44/94 [01:46<02:10,  2.61s/it]\u001b[A\n",
      "  Training:  48%|████▊     | 45/94 [01:48<02:08,  2.63s/it]\u001b[A\n",
      "  Training:  49%|████▉     | 46/94 [01:51<02:06,  2.64s/it]\u001b[A\n",
      "  Training:  50%|█████     | 47/94 [01:54<02:04,  2.64s/it]\u001b[A\n",
      "  Training:  51%|█████     | 48/94 [01:56<02:01,  2.64s/it]\u001b[A\n",
      "  Training:  52%|█████▏    | 49/94 [01:59<01:59,  2.66s/it]\u001b[A\n",
      "  Training:  53%|█████▎    | 50/94 [02:02<01:56,  2.66s/it]\u001b[A\n",
      "  Training:  54%|█████▍    | 51/94 [02:04<01:53,  2.65s/it]\u001b[A\n",
      "  Training:  55%|█████▌    | 52/94 [02:07<01:51,  2.65s/it]\u001b[A\n",
      "  Training:  56%|█████▋    | 53/94 [02:09<01:43,  2.52s/it]\u001b[A\n",
      "  Training:  57%|█████▋    | 54/94 [02:12<01:42,  2.55s/it]\u001b[A\n",
      "  Training:  59%|█████▊    | 55/94 [02:15<01:40,  2.59s/it]\u001b[A\n",
      "  Training:  60%|█████▉    | 56/94 [02:17<01:38,  2.60s/it]\u001b[A\n",
      "  Training:  61%|██████    | 57/94 [02:20<01:36,  2.62s/it]\u001b[A\n",
      "  Training:  62%|██████▏   | 58/94 [02:23<01:34,  2.62s/it]\u001b[A\n",
      "  Training:  63%|██████▎   | 59/94 [02:25<01:32,  2.64s/it]\u001b[A\n",
      "  Training:  64%|██████▍   | 60/94 [02:28<01:29,  2.64s/it]\u001b[A\n",
      "  Training:  65%|██████▍   | 61/94 [02:30<01:27,  2.64s/it]\u001b[A\n",
      "  Training:  66%|██████▌   | 62/94 [02:33<01:24,  2.64s/it]\u001b[A\n",
      "  Training:  67%|██████▋   | 63/94 [02:36<01:20,  2.59s/it]\u001b[A\n",
      "  Training:  68%|██████▊   | 64/94 [02:38<01:18,  2.61s/it]\u001b[A\n",
      "  Training:  69%|██████▉   | 65/94 [02:40<01:09,  2.40s/it]\u001b[A\n",
      "  Training:  70%|███████   | 66/94 [02:43<01:09,  2.47s/it]\u001b[A\n",
      "  Training:  71%|███████▏  | 67/94 [02:45<01:08,  2.52s/it]\u001b[A\n",
      "  Training:  72%|███████▏  | 68/94 [02:48<01:06,  2.56s/it]\u001b[A\n",
      "  Training:  73%|███████▎  | 69/94 [02:51<01:04,  2.59s/it]\u001b[A\n",
      "  Training:  74%|███████▍  | 70/94 [02:53<01:02,  2.61s/it]\u001b[A\n",
      "  Training:  76%|███████▌  | 71/94 [02:56<01:00,  2.62s/it]\u001b[A\n",
      "  Training:  77%|███████▋  | 72/94 [02:59<00:57,  2.63s/it]\u001b[A\n",
      "  Training:  78%|███████▊  | 73/94 [03:01<00:50,  2.41s/it]\u001b[A\n",
      "  Training:  79%|███████▊  | 74/94 [03:03<00:47,  2.38s/it]\u001b[A\n",
      "  Training:  80%|███████▉  | 75/94 [03:06<00:46,  2.46s/it]\u001b[A\n",
      "  Training:  81%|████████  | 76/94 [03:08<00:45,  2.52s/it]\u001b[A\n",
      "  Training:  82%|████████▏ | 77/94 [03:11<00:43,  2.56s/it]\u001b[A\n",
      "  Training:  83%|████████▎ | 78/94 [03:13<00:39,  2.48s/it]\u001b[A\n",
      "  Training:  84%|████████▍ | 79/94 [03:16<00:37,  2.53s/it]\u001b[A\n",
      "  Training:  85%|████████▌ | 80/94 [03:18<00:35,  2.57s/it]\u001b[A\n",
      "  Training:  86%|████████▌ | 81/94 [03:21<00:33,  2.57s/it]\u001b[A\n",
      "  Training:  87%|████████▋ | 82/94 [03:24<00:30,  2.58s/it]\u001b[A\n",
      "  Training:  88%|████████▊ | 83/94 [03:26<00:28,  2.60s/it]\u001b[A\n",
      "  Training:  89%|████████▉ | 84/94 [03:29<00:26,  2.61s/it]\u001b[A\n",
      "  Training:  90%|█████████ | 85/94 [03:31<00:23,  2.56s/it]\u001b[A\n",
      "  Training:  91%|█████████▏| 86/94 [03:34<00:20,  2.56s/it]\u001b[A\n",
      "  Training:  93%|█████████▎| 87/94 [03:36<00:16,  2.42s/it]\u001b[A\n",
      "  Training:  94%|█████████▎| 88/94 [03:39<00:14,  2.48s/it]\u001b[A\n",
      "  Training:  95%|█████████▍| 89/94 [03:41<00:12,  2.48s/it]\u001b[A\n",
      "  Training:  96%|█████████▌| 90/94 [03:43<00:09,  2.43s/it]\u001b[A\n",
      "  Training:  97%|█████████▋| 91/94 [03:46<00:07,  2.50s/it]\u001b[A\n",
      "  Training:  98%|█████████▊| 92/94 [03:49<00:05,  2.55s/it]\u001b[A\n",
      "  Training:  99%|█████████▉| 93/94 [03:51<00:02,  2.57s/it]\u001b[A\n",
      "  Training: 100%|██████████| 94/94 [03:53<00:00,  2.40s/it]\u001b[A\n",
      "                                                           \u001b[A\n",
      "  Evaluating:   0%|          | 0/4 [00:00<?, ?it/s]\u001b[A\n",
      "  Evaluating:  25%|██▌       | 1/4 [00:00<00:00,  3.13it/s]\u001b[A\n",
      "  Evaluating:  50%|█████     | 2/4 [00:00<00:00,  4.48it/s]\u001b[A\n",
      "  Evaluating:  75%|███████▌  | 3/4 [00:00<00:00,  4.95it/s]\u001b[A\n",
      "                                                           \u001b[A"
     ]
    },
    {
     "name": "stdout",
     "output_type": "stream",
     "text": [
      "[LSTM ep02] tr=5.339 val=5.410 | ppl=223.6% acc=0.00% | time=233.9s mem=11838.8MB inf=3.20ms/s\n"
     ]
    },
    {
     "name": "stderr",
     "output_type": "stream",
     "text": [
      "LSTM Epochs:   4%|▍         | 2/50 [11:29<4:36:49, 346.03s/it]\n",
      "  Training:   0%|          | 0/94 [00:00<?, ?it/s]\u001b[A\n",
      "  Training:   1%|          | 1/94 [00:01<03:05,  1.99s/it]\u001b[A\n",
      "  Training:   2%|▏         | 2/94 [00:04<03:19,  2.17s/it]\u001b[A\n",
      "  Training:   3%|▎         | 3/94 [00:06<03:37,  2.39s/it]\u001b[A\n",
      "  Training:   4%|▍         | 4/94 [00:09<03:44,  2.50s/it]\u001b[A\n",
      "  Training:   5%|▌         | 5/94 [00:12<03:44,  2.53s/it]\u001b[A\n",
      "  Training:   6%|▋         | 6/94 [00:14<03:39,  2.49s/it]\u001b[A\n",
      "  Training:   7%|▋         | 7/94 [00:17<03:41,  2.55s/it]\u001b[A\n",
      "  Training:   9%|▊         | 8/94 [00:19<03:42,  2.58s/it]\u001b[A\n",
      "  Training:  10%|▉         | 9/94 [00:22<03:37,  2.56s/it]\u001b[A\n",
      "  Training:  11%|█         | 10/94 [00:25<03:37,  2.59s/it]\u001b[A\n",
      "  Training:  12%|█▏        | 11/94 [00:27<03:36,  2.61s/it]\u001b[A\n",
      "  Training:  13%|█▎        | 12/94 [00:30<03:32,  2.60s/it]\u001b[A\n",
      "  Training:  14%|█▍        | 13/94 [00:31<03:01,  2.24s/it]\u001b[A\n",
      "  Training:  15%|█▍        | 14/94 [00:34<03:09,  2.37s/it]\u001b[A\n",
      "  Training:  16%|█▌        | 15/94 [00:36<02:51,  2.17s/it]\u001b[A\n",
      "  Training:  17%|█▋        | 16/94 [00:38<03:00,  2.32s/it]\u001b[A\n",
      "  Training:  18%|█▊        | 17/94 [00:41<03:06,  2.43s/it]\u001b[A\n",
      "  Training:  19%|█▉        | 18/94 [00:43<02:52,  2.27s/it]\u001b[A\n",
      "  Training:  20%|██        | 19/94 [00:46<02:58,  2.39s/it]\u001b[A\n",
      "  Training:  21%|██▏       | 20/94 [00:47<02:44,  2.22s/it]\u001b[A\n",
      "  Training:  22%|██▏       | 21/94 [00:50<02:51,  2.35s/it]\u001b[A\n",
      "  Training:  23%|██▎       | 22/94 [00:53<02:55,  2.44s/it]\u001b[A\n",
      "  Training:  24%|██▍       | 23/94 [00:55<02:45,  2.33s/it]\u001b[A\n",
      "  Training:  26%|██▌       | 24/94 [00:57<02:46,  2.38s/it]\u001b[A\n",
      "  Training:  27%|██▋       | 25/94 [00:59<02:38,  2.30s/it]\u001b[A\n",
      "  Training:  28%|██▊       | 26/94 [01:02<02:34,  2.27s/it]\u001b[A\n",
      "  Training:  29%|██▊       | 27/94 [01:04<02:39,  2.39s/it]\u001b[A\n",
      "  Training:  30%|██▉       | 28/94 [01:07<02:42,  2.47s/it]\u001b[A\n",
      "  Training:  31%|███       | 29/94 [01:09<02:26,  2.25s/it]\u001b[A\n",
      "  Training:  32%|███▏      | 30/94 [01:11<02:25,  2.27s/it]\u001b[A\n",
      "  Training:  33%|███▎      | 31/94 [01:13<02:19,  2.21s/it]\u001b[A\n",
      "  Training:  34%|███▍      | 32/94 [01:16<02:25,  2.34s/it]\u001b[A\n",
      "  Training:  35%|███▌      | 33/94 [01:18<02:28,  2.43s/it]\u001b[A\n",
      "  Training:  36%|███▌      | 34/94 [01:21<02:30,  2.50s/it]\u001b[A\n",
      "  Training:  37%|███▋      | 35/94 [01:24<02:30,  2.55s/it]\u001b[A\n",
      "  Training:  38%|███▊      | 36/94 [01:26<02:29,  2.58s/it]\u001b[A\n",
      "  Training:  39%|███▉      | 37/94 [01:29<02:29,  2.62s/it]\u001b[A\n",
      "  Training:  40%|████      | 38/94 [01:32<02:27,  2.64s/it]\u001b[A\n",
      "  Training:  41%|████▏     | 39/94 [01:34<02:19,  2.53s/it]\u001b[A\n",
      "  Training:  43%|████▎     | 40/94 [01:37<02:18,  2.57s/it]\u001b[A\n",
      "  Training:  44%|████▎     | 41/94 [01:39<02:17,  2.59s/it]\u001b[A\n",
      "  Training:  45%|████▍     | 42/94 [01:41<02:08,  2.46s/it]\u001b[A\n",
      "  Training:  46%|████▌     | 43/94 [01:44<02:08,  2.52s/it]\u001b[A\n",
      "  Training:  47%|████▋     | 44/94 [01:47<02:08,  2.57s/it]\u001b[A\n",
      "  Training:  48%|████▊     | 45/94 [01:49<02:06,  2.59s/it]\u001b[A\n",
      "  Training:  49%|████▉     | 46/94 [01:52<02:05,  2.62s/it]\u001b[A\n",
      "  Training:  50%|█████     | 47/94 [01:54<01:55,  2.46s/it]\u001b[A\n",
      "  Training:  51%|█████     | 48/94 [01:57<01:55,  2.52s/it]\u001b[A\n",
      "  Training:  52%|█████▏    | 49/94 [01:59<01:55,  2.56s/it]\u001b[A\n",
      "  Training:  53%|█████▎    | 50/94 [02:02<01:53,  2.59s/it]\u001b[A\n",
      "  Training:  54%|█████▍    | 51/94 [02:05<01:52,  2.61s/it]\u001b[A\n",
      "  Training:  55%|█████▌    | 52/94 [02:07<01:49,  2.61s/it]\u001b[A\n",
      "  Training:  56%|█████▋    | 53/94 [02:10<01:47,  2.63s/it]\u001b[A\n",
      "  Training:  57%|█████▋    | 54/94 [02:13<01:45,  2.64s/it]\u001b[A\n",
      "  Training:  59%|█████▊    | 55/94 [02:15<01:43,  2.65s/it]\u001b[A\n",
      "  Training:  60%|█████▉    | 56/94 [02:18<01:36,  2.55s/it]\u001b[A\n",
      "  Training:  61%|██████    | 57/94 [02:20<01:35,  2.58s/it]\u001b[A\n",
      "  Training:  62%|██████▏   | 58/94 [02:23<01:33,  2.60s/it]\u001b[A\n",
      "  Training:  63%|██████▎   | 59/94 [02:25<01:21,  2.34s/it]\u001b[A\n",
      "  Training:  64%|██████▍   | 60/94 [02:27<01:22,  2.44s/it]\u001b[A\n",
      "  Training:  65%|██████▍   | 61/94 [02:30<01:22,  2.50s/it]\u001b[A\n",
      "  Training:  66%|██████▌   | 62/94 [02:32<01:19,  2.48s/it]\u001b[A\n",
      "  Training:  67%|██████▋   | 63/94 [02:35<01:18,  2.53s/it]\u001b[A\n",
      "  Training:  68%|██████▊   | 64/94 [02:37<01:11,  2.37s/it]\u001b[A\n",
      "  Training:  69%|██████▉   | 65/94 [02:40<01:10,  2.43s/it]\u001b[A\n",
      "  Training:  70%|███████   | 66/94 [02:41<01:02,  2.24s/it]\u001b[A\n",
      "  Training:  71%|███████▏  | 67/94 [02:44<01:03,  2.35s/it]\u001b[A\n",
      "  Training:  72%|███████▏  | 68/94 [02:47<01:02,  2.39s/it]\u001b[A\n",
      "  Training:  73%|███████▎  | 69/94 [02:49<01:01,  2.45s/it]\u001b[A\n",
      "  Training:  74%|███████▍  | 70/94 [02:52<00:59,  2.49s/it]\u001b[A\n",
      "  Training:  76%|███████▌  | 71/94 [02:54<00:58,  2.55s/it]\u001b[A\n",
      "  Training:  77%|███████▋  | 72/94 [02:57<00:56,  2.55s/it]\u001b[A\n",
      "  Training:  78%|███████▊  | 73/94 [03:00<00:54,  2.59s/it]\u001b[A\n",
      "  Training:  79%|███████▊  | 74/94 [03:02<00:52,  2.61s/it]\u001b[A\n",
      "  Training:  80%|███████▉  | 75/94 [03:05<00:49,  2.63s/it]\u001b[A\n",
      "  Training:  81%|████████  | 76/94 [03:08<00:47,  2.64s/it]\u001b[A\n",
      "  Training:  82%|████████▏ | 77/94 [03:10<00:44,  2.65s/it]\u001b[A\n",
      "  Training:  83%|████████▎ | 78/94 [03:12<00:38,  2.41s/it]\u001b[A\n",
      "  Training:  84%|████████▍ | 79/94 [03:14<00:31,  2.08s/it]\u001b[A\n",
      "  Training:  85%|████████▌ | 80/94 [03:16<00:31,  2.25s/it]\u001b[A\n",
      "  Training:  86%|████████▌ | 81/94 [03:19<00:29,  2.30s/it]\u001b[A\n",
      "  Training:  87%|████████▋ | 82/94 [03:21<00:28,  2.40s/it]\u001b[A\n",
      "  Training:  88%|████████▊ | 83/94 [03:23<00:25,  2.33s/it]\u001b[A\n",
      "  Training:  89%|████████▉ | 84/94 [03:26<00:24,  2.43s/it]\u001b[A\n",
      "  Training:  90%|█████████ | 85/94 [03:28<00:21,  2.41s/it]\u001b[A\n",
      "  Training:  91%|█████████▏| 86/94 [03:31<00:19,  2.48s/it]\u001b[A\n",
      "  Training:  93%|█████████▎| 87/94 [03:33<00:17,  2.46s/it]\u001b[A\n",
      "  Training:  94%|█████████▎| 88/94 [03:36<00:15,  2.52s/it]\u001b[A\n",
      "  Training:  95%|█████████▍| 89/94 [03:39<00:12,  2.56s/it]\u001b[A\n",
      "  Training:  96%|█████████▌| 90/94 [03:41<00:09,  2.45s/it]\u001b[A\n",
      "  Training:  97%|█████████▋| 91/94 [03:44<00:07,  2.51s/it]\u001b[A\n",
      "  Training:  98%|█████████▊| 92/94 [03:46<00:05,  2.55s/it]\u001b[A\n",
      "  Training:  99%|█████████▉| 93/94 [03:49<00:02,  2.58s/it]\u001b[A\n",
      "  Training: 100%|██████████| 94/94 [03:51<00:00,  2.35s/it]\u001b[A\n",
      "                                                           \u001b[A\n",
      "  Evaluating:   0%|          | 0/4 [00:00<?, ?it/s]\u001b[A\n",
      "  Evaluating:  25%|██▌       | 1/4 [00:00<00:00,  3.11it/s]\u001b[A\n",
      "  Evaluating:  50%|█████     | 2/4 [00:00<00:00,  4.49it/s]\u001b[A\n",
      "  Evaluating:  75%|███████▌  | 3/4 [00:00<00:00,  4.91it/s]\u001b[A\n",
      "                                                           \u001b[A"
     ]
    },
    {
     "name": "stdout",
     "output_type": "stream",
     "text": [
      "[LSTM ep03] tr=4.817 val=5.055 | ppl=156.8% acc=0.00% | time=231.2s mem=11838.8MB inf=3.24ms/s\n"
     ]
    },
    {
     "name": "stderr",
     "output_type": "stream",
     "text": [
      "LSTM Epochs:   6%|▌         | 3/50 [17:19<4:32:33, 347.94s/it]\n",
      "  Training:   0%|          | 0/94 [00:00<?, ?it/s]\u001b[A\n",
      "  Training:   1%|          | 1/94 [00:02<04:04,  2.63s/it]\u001b[A\n",
      "  Training:   2%|▏         | 2/94 [00:05<04:02,  2.64s/it]\u001b[A\n",
      "  Training:   3%|▎         | 3/94 [00:07<04:01,  2.66s/it]\u001b[A\n",
      "  Training:   4%|▍         | 4/94 [00:10<03:58,  2.65s/it]\u001b[A\n",
      "  Training:   5%|▌         | 5/94 [00:12<03:29,  2.35s/it]\u001b[A\n",
      "  Training:   6%|▋         | 6/94 [00:15<03:36,  2.45s/it]\u001b[A\n",
      "  Training:   7%|▋         | 7/94 [00:17<03:39,  2.52s/it]\u001b[A\n",
      "  Training:   9%|▊         | 8/94 [00:20<03:40,  2.57s/it]\u001b[A\n",
      "  Training:  10%|▉         | 9/94 [00:22<03:34,  2.53s/it]\u001b[A\n",
      "  Training:  11%|█         | 10/94 [00:25<03:35,  2.57s/it]\u001b[A\n",
      "  Training:  12%|█▏        | 11/94 [00:28<03:36,  2.60s/it]\u001b[A\n",
      "  Training:  13%|█▎        | 12/94 [00:30<03:35,  2.62s/it]\u001b[A\n",
      "  Training:  14%|█▍        | 13/94 [00:33<03:33,  2.64s/it]\u001b[A\n",
      "  Training:  15%|█▍        | 14/94 [00:36<03:31,  2.65s/it]\u001b[A\n",
      "  Training:  16%|█▌        | 15/94 [00:38<03:29,  2.65s/it]\u001b[A\n",
      "  Training:  17%|█▋        | 16/94 [00:41<03:26,  2.65s/it]\u001b[A\n",
      "  Training:  18%|█▊        | 17/94 [00:44<03:21,  2.61s/it]\u001b[A\n",
      "  Training:  19%|█▉        | 18/94 [00:46<03:19,  2.63s/it]\u001b[A\n",
      "  Training:  20%|██        | 19/94 [00:49<03:17,  2.64s/it]\u001b[A\n",
      "  Training:  21%|██▏       | 20/94 [00:52<03:15,  2.64s/it]\u001b[A\n",
      "  Training:  22%|██▏       | 21/94 [00:54<03:13,  2.65s/it]\u001b[A\n",
      "  Training:  23%|██▎       | 22/94 [00:57<03:11,  2.66s/it]\u001b[A\n",
      "  Training:  24%|██▍       | 23/94 [00:59<03:08,  2.66s/it]\u001b[A\n",
      "  Training:  26%|██▌       | 24/94 [01:02<03:06,  2.66s/it]\u001b[A\n",
      "  Training:  27%|██▋       | 25/94 [01:05<03:00,  2.61s/it]\u001b[A\n",
      "  Training:  28%|██▊       | 26/94 [01:06<02:39,  2.34s/it]\u001b[A\n",
      "  Training:  29%|██▊       | 27/94 [01:09<02:35,  2.32s/it]\u001b[A\n",
      "  Training:  30%|██▉       | 28/94 [01:11<02:42,  2.46s/it]\u001b[A\n",
      "  Training:  31%|███       | 29/94 [01:14<02:42,  2.51s/it]\u001b[A\n",
      "  Training:  32%|███▏      | 30/94 [01:17<02:43,  2.55s/it]\u001b[A\n",
      "  Training:  33%|███▎      | 31/94 [01:19<02:42,  2.58s/it]\u001b[A\n",
      "  Training:  34%|███▍      | 32/94 [01:22<02:39,  2.58s/it]\u001b[A\n",
      "  Training:  35%|███▌      | 33/94 [01:24<02:31,  2.49s/it]\u001b[A\n",
      "  Training:  36%|███▌      | 34/94 [01:27<02:26,  2.44s/it]\u001b[A\n",
      "  Training:  37%|███▋      | 35/94 [01:29<02:21,  2.40s/it]\u001b[A\n",
      "  Training:  38%|███▊      | 36/94 [01:32<02:23,  2.48s/it]\u001b[A\n",
      "  Training:  39%|███▉      | 37/94 [01:34<02:24,  2.53s/it]\u001b[A\n",
      "  Training:  40%|████      | 38/94 [01:37<02:23,  2.57s/it]\u001b[A\n",
      "  Training:  41%|████▏     | 39/94 [01:39<02:22,  2.59s/it]\u001b[A\n",
      "  Training:  43%|████▎     | 40/94 [01:42<02:11,  2.43s/it]\u001b[A\n",
      "  Training:  44%|████▎     | 41/94 [01:44<02:12,  2.50s/it]\u001b[A\n",
      "  Training:  45%|████▍     | 42/94 [01:47<02:10,  2.51s/it]\u001b[A\n",
      "  Training:  46%|████▌     | 43/94 [01:49<02:10,  2.56s/it]\u001b[A\n",
      "  Training:  47%|████▋     | 44/94 [01:52<02:09,  2.59s/it]\u001b[A\n",
      "  Training:  48%|████▊     | 45/94 [01:55<02:07,  2.60s/it]\u001b[A\n",
      "  Training:  49%|████▉     | 46/94 [01:57<02:05,  2.62s/it]\u001b[A\n",
      "  Training:  50%|█████     | 47/94 [02:00<02:03,  2.63s/it]\u001b[A\n",
      "  Training:  51%|█████     | 48/94 [02:03<02:01,  2.63s/it]\u001b[A\n",
      "  Training:  52%|█████▏    | 49/94 [02:05<01:50,  2.46s/it]\u001b[A\n",
      "  Training:  53%|█████▎    | 50/94 [02:07<01:50,  2.52s/it]\u001b[A\n",
      "  Training:  54%|█████▍    | 51/94 [02:10<01:50,  2.56s/it]\u001b[A\n",
      "  Training:  55%|█████▌    | 52/94 [02:13<01:48,  2.59s/it]\u001b[A\n",
      "  Training:  56%|█████▋    | 53/94 [02:15<01:46,  2.61s/it]\u001b[A\n",
      "  Training:  57%|█████▋    | 54/94 [02:18<01:45,  2.63s/it]\u001b[A\n",
      "  Training:  59%|█████▊    | 55/94 [02:21<01:42,  2.63s/it]\u001b[A\n",
      "  Training:  60%|█████▉    | 56/94 [02:23<01:39,  2.63s/it]\u001b[A\n",
      "  Training:  61%|██████    | 57/94 [02:26<01:37,  2.63s/it]\u001b[A\n",
      "  Training:  62%|██████▏   | 58/94 [02:28<01:33,  2.60s/it]\u001b[A\n",
      "  Training:  63%|██████▎   | 59/94 [02:31<01:31,  2.62s/it]\u001b[A\n",
      "  Training:  64%|██████▍   | 60/94 [02:34<01:29,  2.63s/it]\u001b[A\n",
      "  Training:  65%|██████▍   | 61/94 [02:36<01:27,  2.64s/it]\u001b[A\n",
      "  Training:  66%|██████▌   | 62/94 [02:39<01:24,  2.65s/it]\u001b[A\n",
      "  Training:  67%|██████▋   | 63/94 [02:42<01:22,  2.65s/it]\u001b[A\n",
      "  Training:  68%|██████▊   | 64/94 [02:44<01:19,  2.66s/it]\u001b[A\n",
      "  Training:  69%|██████▉   | 65/94 [02:47<01:17,  2.66s/it]\u001b[A\n",
      "  Training:  70%|███████   | 66/94 [02:50<01:14,  2.66s/it]\u001b[A\n",
      "  Training:  71%|███████▏  | 67/94 [02:52<01:11,  2.63s/it]\u001b[A\n",
      "  Training:  72%|███████▏  | 68/94 [02:55<01:08,  2.65s/it]\u001b[A\n",
      "  Training:  73%|███████▎  | 69/94 [02:57<01:03,  2.54s/it]\u001b[A\n",
      "  Training:  74%|███████▍  | 70/94 [03:00<01:01,  2.58s/it]\u001b[A\n",
      "  Training:  76%|███████▌  | 71/94 [03:03<01:00,  2.61s/it]\u001b[A\n",
      "  Training:  77%|███████▋  | 72/94 [03:05<00:55,  2.53s/it]\u001b[A\n",
      "  Training:  78%|███████▊  | 73/94 [03:08<00:54,  2.57s/it]\u001b[A\n",
      "  Training:  79%|███████▊  | 74/94 [03:10<00:52,  2.60s/it]\u001b[A\n",
      "  Training:  80%|███████▉  | 75/94 [03:13<00:49,  2.62s/it]\u001b[A\n",
      "  Training:  81%|████████  | 76/94 [03:15<00:44,  2.46s/it]\u001b[A\n",
      "  Training:  82%|████████▏ | 77/94 [03:18<00:42,  2.53s/it]\u001b[A\n",
      "  Training:  83%|████████▎ | 78/94 [03:20<00:41,  2.57s/it]\u001b[A\n",
      "  Training:  84%|████████▍ | 79/94 [03:23<00:38,  2.60s/it]\u001b[A\n",
      "  Training:  85%|████████▌ | 80/94 [03:26<00:35,  2.55s/it]\u001b[A\n",
      "  Training:  86%|████████▌ | 81/94 [03:28<00:33,  2.57s/it]\u001b[A\n",
      "  Training:  87%|████████▋ | 82/94 [03:31<00:31,  2.61s/it]\u001b[A\n",
      "  Training:  88%|████████▊ | 83/94 [03:33<00:28,  2.62s/it]\u001b[A\n",
      "  Training:  89%|████████▉ | 84/94 [03:36<00:26,  2.60s/it]\u001b[A\n",
      "  Training:  90%|█████████ | 85/94 [03:38<00:21,  2.37s/it]\u001b[A\n",
      "  Training:  91%|█████████▏| 86/94 [03:40<00:19,  2.40s/it]\u001b[A\n",
      "  Training:  93%|█████████▎| 87/94 [03:43<00:16,  2.41s/it]\u001b[A\n",
      "  Training:  94%|█████████▎| 88/94 [03:45<00:14,  2.49s/it]\u001b[A\n",
      "  Training:  95%|█████████▍| 89/94 [03:48<00:12,  2.54s/it]\u001b[A\n",
      "  Training:  96%|█████████▌| 90/94 [03:51<00:10,  2.59s/it]\u001b[A\n",
      "  Training:  97%|█████████▋| 91/94 [03:53<00:07,  2.62s/it]\u001b[A\n",
      "  Training:  98%|█████████▊| 92/94 [03:56<00:05,  2.52s/it]\u001b[A\n",
      "  Training:  99%|█████████▉| 93/94 [03:58<00:02,  2.56s/it]\u001b[A\n",
      "  Training: 100%|██████████| 94/94 [04:01<00:00,  2.44s/it]\u001b[A\n",
      "                                                           \u001b[A\n",
      "  Evaluating:   0%|          | 0/4 [00:00<?, ?it/s]\u001b[A\n",
      "  Evaluating:  25%|██▌       | 1/4 [00:00<00:00,  3.10it/s]\u001b[A\n",
      "  Evaluating:  50%|█████     | 2/4 [00:00<00:00,  4.43it/s]\u001b[A\n",
      "  Evaluating:  75%|███████▌  | 3/4 [00:00<00:00,  4.86it/s]\u001b[A\n",
      "                                                           \u001b[A"
     ]
    },
    {
     "name": "stdout",
     "output_type": "stream",
     "text": [
      "[LSTM ep04] tr=4.397 val=4.693 | ppl=109.2% acc=0.00% | time=241.1s mem=11838.8MB inf=3.23ms/s\n"
     ]
    },
    {
     "name": "stderr",
     "output_type": "stream",
     "text": [
      "LSTM Epochs:   8%|▊         | 4/50 [23:20<4:30:35, 352.94s/it]\n",
      "  Training:   0%|          | 0/94 [00:00<?, ?it/s]\u001b[A\n",
      "  Training:   1%|          | 1/94 [00:02<04:06,  2.65s/it]\u001b[A\n",
      "  Training:   2%|▏         | 2/94 [00:05<03:59,  2.61s/it]\u001b[A\n",
      "  Training:   3%|▎         | 3/94 [00:07<03:58,  2.62s/it]\u001b[A\n",
      "  Training:   4%|▍         | 4/94 [00:10<03:57,  2.64s/it]\u001b[A\n",
      "  Training:   5%|▌         | 5/94 [00:13<03:55,  2.65s/it]\u001b[A\n",
      "  Training:   6%|▋         | 6/94 [00:14<03:15,  2.22s/it]\u001b[A\n",
      "  Training:   7%|▋         | 7/94 [00:17<03:25,  2.36s/it]\u001b[A\n",
      "  Training:   9%|▊         | 8/94 [00:19<03:31,  2.46s/it]\u001b[A\n",
      "  Training:  10%|▉         | 9/94 [00:22<03:25,  2.42s/it]\u001b[A\n",
      "  Training:  11%|█         | 10/94 [00:24<03:29,  2.50s/it]\u001b[A\n",
      "  Training:  12%|█▏        | 11/94 [00:27<03:31,  2.55s/it]\u001b[A\n",
      "  Training:  13%|█▎        | 12/94 [00:30<03:31,  2.58s/it]\u001b[A\n",
      "  Training:  14%|█▍        | 13/94 [00:32<03:31,  2.61s/it]\u001b[A\n",
      "  Training:  15%|█▍        | 14/94 [00:35<03:30,  2.63s/it]\u001b[A\n",
      "  Training:  16%|█▌        | 15/94 [00:38<03:28,  2.64s/it]\u001b[A\n",
      "  Training:  17%|█▋        | 16/94 [00:40<03:26,  2.64s/it]\u001b[A\n",
      "  Training:  18%|█▊        | 17/94 [00:43<03:17,  2.57s/it]\u001b[A\n",
      "  Training:  19%|█▉        | 18/94 [00:45<03:16,  2.58s/it]\u001b[A\n",
      "  Training:  20%|██        | 19/94 [00:48<03:07,  2.50s/it]\u001b[A\n",
      "  Training:  21%|██▏       | 20/94 [00:50<03:08,  2.55s/it]\u001b[A\n",
      "  Training:  22%|██▏       | 21/94 [00:53<03:01,  2.49s/it]\u001b[A\n",
      "  Training:  23%|██▎       | 22/94 [00:55<03:00,  2.50s/it]\u001b[A\n",
      "  Training:  24%|██▍       | 23/94 [00:58<03:01,  2.55s/it]\u001b[A\n",
      "  Training:  26%|██▌       | 24/94 [01:01<03:01,  2.59s/it]\u001b[A\n",
      "  Training:  27%|██▋       | 25/94 [01:03<02:59,  2.61s/it]\u001b[A\n",
      "  Training:  28%|██▊       | 26/94 [01:06<02:58,  2.63s/it]\u001b[A\n",
      "  Training:  29%|██▊       | 27/94 [01:09<02:56,  2.64s/it]\u001b[A\n",
      "  Training:  30%|██▉       | 28/94 [01:11<02:48,  2.55s/it]\u001b[A\n",
      "  Training:  31%|███       | 29/94 [01:14<02:47,  2.58s/it]\u001b[A\n",
      "  Training:  32%|███▏      | 30/94 [01:16<02:47,  2.61s/it]\u001b[A\n",
      "  Training:  33%|███▎      | 31/94 [01:18<02:29,  2.37s/it]\u001b[A\n",
      "  Training:  34%|███▍      | 32/94 [01:21<02:32,  2.45s/it]\u001b[A\n",
      "  Training:  35%|███▌      | 33/94 [01:23<02:33,  2.52s/it]\u001b[A\n",
      "  Training:  36%|███▌      | 34/94 [01:26<02:27,  2.45s/it]\u001b[A\n",
      "  Training:  37%|███▋      | 35/94 [01:28<02:26,  2.48s/it]\u001b[A\n",
      "  Training:  38%|███▊      | 36/94 [01:30<02:16,  2.35s/it]\u001b[A\n",
      "  Training:  39%|███▉      | 37/94 [01:32<02:09,  2.27s/it]\u001b[A\n",
      "  Training:  40%|████      | 38/94 [01:35<02:13,  2.38s/it]\u001b[A\n",
      "  Training:  41%|████▏     | 39/94 [01:37<02:11,  2.40s/it]\u001b[A\n",
      "  Training:  43%|████▎     | 40/94 [01:40<02:13,  2.48s/it]\u001b[A\n",
      "  Training:  44%|████▎     | 41/94 [01:42<02:09,  2.44s/it]\u001b[A\n",
      "  Training:  45%|████▍     | 42/94 [01:44<01:56,  2.24s/it]\u001b[A\n",
      "  Training:  46%|████▌     | 43/94 [01:47<01:59,  2.35s/it]\u001b[A\n",
      "  Training:  47%|████▋     | 44/94 [01:49<01:48,  2.17s/it]\u001b[A\n",
      "  Training:  48%|████▊     | 45/94 [01:51<01:53,  2.31s/it]\u001b[A\n",
      "  Training:  49%|████▉     | 46/94 [01:54<01:55,  2.40s/it]\u001b[A\n",
      "  Training:  50%|█████     | 47/94 [01:56<01:56,  2.48s/it]\u001b[A\n",
      "  Training:  51%|█████     | 48/94 [01:59<01:51,  2.42s/it]\u001b[A\n",
      "  Training:  52%|█████▏    | 49/94 [02:01<01:52,  2.50s/it]\u001b[A\n",
      "  Training:  53%|█████▎    | 50/94 [02:04<01:52,  2.55s/it]\u001b[A\n",
      "  Training:  54%|█████▍    | 51/94 [02:07<01:50,  2.57s/it]\u001b[A\n",
      "  Training:  55%|█████▌    | 52/94 [02:09<01:47,  2.56s/it]\u001b[A\n",
      "  Training:  56%|█████▋    | 53/94 [02:12<01:46,  2.59s/it]\u001b[A\n",
      "  Training:  57%|█████▋    | 54/94 [02:15<01:44,  2.62s/it]\u001b[A\n",
      "  Training:  59%|█████▊    | 55/94 [02:17<01:41,  2.60s/it]\u001b[A\n",
      "  Training:  60%|█████▉    | 56/94 [02:20<01:39,  2.62s/it]\u001b[A\n",
      "  Training:  61%|██████    | 57/94 [02:23<01:37,  2.63s/it]\u001b[A\n",
      "  Training:  62%|██████▏   | 58/94 [02:25<01:32,  2.57s/it]\u001b[A\n",
      "  Training:  63%|██████▎   | 59/94 [02:28<01:31,  2.60s/it]\u001b[A\n",
      "  Training:  64%|██████▍   | 60/94 [02:30<01:29,  2.62s/it]\u001b[A\n",
      "  Training:  65%|██████▍   | 61/94 [02:32<01:18,  2.37s/it]\u001b[A\n",
      "  Training:  66%|██████▌   | 62/94 [02:35<01:18,  2.47s/it]\u001b[A\n",
      "  Training:  67%|██████▋   | 63/94 [02:37<01:18,  2.53s/it]\u001b[A\n",
      "  Training:  68%|██████▊   | 64/94 [02:40<01:13,  2.46s/it]\u001b[A\n",
      "  Training:  69%|██████▉   | 65/94 [02:42<01:11,  2.46s/it]\u001b[A\n",
      "  Training:  70%|███████   | 66/94 [02:45<01:10,  2.53s/it]\u001b[A\n",
      "  Training:  71%|███████▏  | 67/94 [02:48<01:09,  2.57s/it]\u001b[A\n",
      "  Training:  72%|███████▏  | 68/94 [02:50<01:07,  2.60s/it]\u001b[A\n",
      "  Training:  73%|███████▎  | 69/94 [02:51<00:54,  2.19s/it]\u001b[A\n",
      "  Training:  74%|███████▍  | 70/94 [02:54<00:55,  2.33s/it]\u001b[A\n",
      "  Training:  76%|███████▌  | 71/94 [02:57<00:55,  2.43s/it]\u001b[A\n",
      "  Training:  77%|███████▋  | 72/94 [02:59<00:55,  2.50s/it]\u001b[A\n",
      "  Training:  78%|███████▊  | 73/94 [03:02<00:51,  2.44s/it]\u001b[A\n",
      "  Training:  79%|███████▊  | 74/94 [03:04<00:50,  2.51s/it]\u001b[A\n",
      "  Training:  80%|███████▉  | 75/94 [03:07<00:48,  2.55s/it]\u001b[A\n",
      "  Training:  81%|████████  | 76/94 [03:10<00:46,  2.59s/it]\u001b[A\n",
      "  Training:  82%|████████▏ | 77/94 [03:12<00:42,  2.52s/it]\u001b[A\n",
      "  Training:  83%|████████▎ | 78/94 [03:15<00:40,  2.52s/it]\u001b[A\n",
      "  Training:  84%|████████▍ | 79/94 [03:17<00:38,  2.57s/it]\u001b[A\n",
      "  Training:  85%|████████▌ | 80/94 [03:20<00:36,  2.60s/it]\u001b[A\n",
      "  Training:  86%|████████▌ | 81/94 [03:23<00:34,  2.62s/it]\u001b[A\n",
      "  Training:  87%|████████▋ | 82/94 [03:25<00:31,  2.64s/it]\u001b[A\n",
      "  Training:  88%|████████▊ | 83/94 [03:28<00:29,  2.64s/it]\u001b[A\n",
      "  Training:  89%|████████▉ | 84/94 [03:30<00:25,  2.54s/it]\u001b[A\n",
      "  Training:  90%|█████████ | 85/94 [03:33<00:23,  2.57s/it]\u001b[A\n",
      "  Training:  91%|█████████▏| 86/94 [03:36<00:20,  2.60s/it]\u001b[A\n",
      "  Training:  93%|█████████▎| 87/94 [03:38<00:18,  2.62s/it]\u001b[A\n",
      "  Training:  94%|█████████▎| 88/94 [03:41<00:15,  2.63s/it]\u001b[A\n",
      "  Training:  95%|█████████▍| 89/94 [03:44<00:13,  2.64s/it]\u001b[A\n",
      "  Training:  96%|█████████▌| 90/94 [03:46<00:10,  2.65s/it]\u001b[A\n",
      "  Training:  97%|█████████▋| 91/94 [03:48<00:07,  2.44s/it]\u001b[A\n",
      "  Training:  98%|█████████▊| 92/94 [03:51<00:05,  2.51s/it]\u001b[A\n",
      "  Training:  99%|█████████▉| 93/94 [03:53<00:02,  2.52s/it]\u001b[A\n",
      "  Training: 100%|██████████| 94/94 [03:56<00:00,  2.41s/it]\u001b[A\n",
      "                                                           \u001b[A\n",
      "  Evaluating:   0%|          | 0/4 [00:00<?, ?it/s]\u001b[A\n",
      "  Evaluating:  25%|██▌       | 1/4 [00:00<00:00,  3.11it/s]\u001b[A\n",
      "  Evaluating:  50%|█████     | 2/4 [00:00<00:00,  4.43it/s]\u001b[A\n",
      "  Evaluating:  75%|███████▌  | 3/4 [00:00<00:00,  4.87it/s]\u001b[A\n",
      "                                                           \u001b[A"
     ]
    },
    {
     "name": "stdout",
     "output_type": "stream",
     "text": [
      "[LSTM ep05] tr=3.979 val=4.532 | ppl=92.9% acc=0.00% | time=236.1s mem=11838.8MB inf=3.26ms/s\n"
     ]
    },
    {
     "name": "stderr",
     "output_type": "stream",
     "text": [
      "LSTM Epochs:  10%|█         | 5/50 [29:15<4:25:25, 353.91s/it]\n",
      "  Training:   0%|          | 0/94 [00:00<?, ?it/s]\u001b[A\n",
      "  Training:   1%|          | 1/94 [00:02<03:33,  2.29s/it]\u001b[A\n",
      "  Training:   2%|▏         | 2/94 [00:04<03:51,  2.52s/it]\u001b[A\n",
      "  Training:   3%|▎         | 3/94 [00:07<03:39,  2.41s/it]\u001b[A\n",
      "  Training:   4%|▍         | 4/94 [00:09<03:41,  2.46s/it]\u001b[A\n",
      "  Training:   5%|▌         | 5/94 [00:11<03:24,  2.30s/it]\u001b[A\n",
      "  Training:   6%|▋         | 6/94 [00:14<03:33,  2.43s/it]\u001b[A\n",
      "  Training:   7%|▋         | 7/94 [00:17<03:38,  2.51s/it]\u001b[A\n",
      "  Training:   9%|▊         | 8/94 [00:18<03:16,  2.28s/it]\u001b[A\n",
      "  Training:  10%|▉         | 9/94 [00:21<03:24,  2.41s/it]\u001b[A\n",
      "  Training:  11%|█         | 10/94 [00:24<03:29,  2.49s/it]\u001b[A\n",
      "  Training:  12%|█▏        | 11/94 [00:26<03:31,  2.55s/it]\u001b[A\n",
      "  Training:  13%|█▎        | 12/94 [00:29<03:22,  2.47s/it]\u001b[A\n",
      "  Training:  14%|█▍        | 13/94 [00:31<03:22,  2.50s/it]\u001b[A\n",
      "  Training:  15%|█▍        | 14/94 [00:33<02:57,  2.22s/it]\u001b[A\n",
      "  Training:  16%|█▌        | 15/94 [00:36<03:06,  2.36s/it]\u001b[A\n",
      "  Training:  17%|█▋        | 16/94 [00:38<03:02,  2.35s/it]\u001b[A\n",
      "  Training:  18%|█▊        | 17/94 [00:41<03:08,  2.45s/it]\u001b[A\n",
      "  Training:  19%|█▉        | 18/94 [00:43<03:10,  2.51s/it]\u001b[A\n",
      "  Training:  20%|██        | 19/94 [00:46<03:11,  2.56s/it]\u001b[A\n",
      "  Training:  21%|██▏       | 20/94 [00:48<02:50,  2.30s/it]\u001b[A\n",
      "  Training:  22%|██▏       | 21/94 [00:50<02:56,  2.41s/it]\u001b[A\n",
      "  Training:  23%|██▎       | 22/94 [00:53<02:59,  2.49s/it]\u001b[A\n",
      "  Training:  24%|██▍       | 23/94 [00:56<03:00,  2.54s/it]\u001b[A\n",
      "  Training:  26%|██▌       | 24/94 [00:58<02:51,  2.45s/it]\u001b[A\n",
      "  Training:  27%|██▋       | 25/94 [01:00<02:40,  2.32s/it]\u001b[A\n",
      "  Training:  28%|██▊       | 26/94 [01:02<02:37,  2.31s/it]\u001b[A\n",
      "  Training:  29%|██▊       | 27/94 [01:05<02:42,  2.42s/it]\u001b[A\n",
      "  Training:  30%|██▉       | 28/94 [01:08<02:44,  2.49s/it]\u001b[A\n",
      "  Training:  31%|███       | 29/94 [01:10<02:45,  2.54s/it]\u001b[A\n",
      "  Training:  32%|███▏      | 30/94 [01:13<02:43,  2.55s/it]\u001b[A\n",
      "  Training:  33%|███▎      | 31/94 [01:15<02:43,  2.59s/it]\u001b[A\n",
      "  Training:  34%|███▍      | 32/94 [01:18<02:41,  2.61s/it]\u001b[A\n",
      "  Training:  35%|███▌      | 33/94 [01:21<02:40,  2.63s/it]\u001b[A\n",
      "  Training:  36%|███▌      | 34/94 [01:23<02:38,  2.64s/it]\u001b[A\n",
      "  Training:  37%|███▋      | 35/94 [01:26<02:33,  2.60s/it]\u001b[A\n",
      "  Training:  38%|███▊      | 36/94 [01:29<02:32,  2.62s/it]\u001b[A\n",
      "  Training:  39%|███▉      | 37/94 [01:31<02:30,  2.64s/it]\u001b[A\n",
      "  Training:  40%|████      | 38/94 [01:34<02:28,  2.64s/it]\u001b[A\n",
      "  Training:  41%|████▏     | 39/94 [01:36<02:18,  2.51s/it]\u001b[A\n",
      "  Training:  43%|████▎     | 40/94 [01:39<02:17,  2.54s/it]\u001b[A\n",
      "  Training:  44%|████▎     | 41/94 [01:41<02:16,  2.58s/it]\u001b[A\n",
      "  Training:  45%|████▍     | 42/94 [01:44<02:15,  2.61s/it]\u001b[A\n",
      "  Training:  46%|████▌     | 43/94 [01:47<02:14,  2.63s/it]\u001b[A\n",
      "  Training:  47%|████▋     | 44/94 [01:49<02:11,  2.63s/it]\u001b[A\n",
      "  Training:  48%|████▊     | 45/94 [01:52<02:09,  2.65s/it]\u001b[A\n",
      "  Training:  49%|████▉     | 46/94 [01:55<02:07,  2.65s/it]\u001b[A\n",
      "  Training:  50%|█████     | 47/94 [01:57<02:04,  2.65s/it]\u001b[A\n",
      "  Training:  51%|█████     | 48/94 [02:00<02:02,  2.66s/it]\u001b[A\n",
      "  Training:  52%|█████▏    | 49/94 [02:02<01:50,  2.46s/it]\u001b[A\n",
      "  Training:  53%|█████▎    | 50/94 [02:04<01:40,  2.29s/it]\u001b[A\n",
      "  Training:  54%|█████▍    | 51/94 [02:07<01:42,  2.37s/it]\u001b[A\n",
      "  Training:  55%|█████▌    | 52/94 [02:09<01:43,  2.46s/it]\u001b[A\n",
      "  Training:  56%|█████▋    | 53/94 [02:12<01:43,  2.53s/it]\u001b[A\n",
      "  Training:  57%|█████▋    | 54/94 [02:15<01:42,  2.57s/it]\u001b[A\n",
      "  Training:  59%|█████▊    | 55/94 [02:17<01:40,  2.57s/it]\u001b[A\n",
      "  Training:  60%|█████▉    | 56/94 [02:20<01:38,  2.59s/it]\u001b[A\n",
      "  Training:  61%|██████    | 57/94 [02:22<01:34,  2.56s/it]\u001b[A\n",
      "  Training:  62%|██████▏   | 58/94 [02:25<01:33,  2.59s/it]\u001b[A\n",
      "  Training:  63%|██████▎   | 59/94 [02:28<01:31,  2.61s/it]\u001b[A\n",
      "  Training:  64%|██████▍   | 60/94 [02:30<01:29,  2.63s/it]\u001b[A\n",
      "  Training:  65%|██████▍   | 61/94 [02:33<01:26,  2.63s/it]\u001b[A\n",
      "  Training:  66%|██████▌   | 62/94 [02:36<01:24,  2.65s/it]\u001b[A\n",
      "  Training:  67%|██████▋   | 63/94 [02:38<01:22,  2.65s/it]\u001b[A\n",
      "  Training:  68%|██████▊   | 64/94 [02:41<01:19,  2.66s/it]\u001b[A\n",
      "  Training:  69%|██████▉   | 65/94 [02:43<01:14,  2.58s/it]\u001b[A\n",
      "  Training:  70%|███████   | 66/94 [02:46<01:13,  2.61s/it]\u001b[A\n",
      "  Training:  71%|███████▏  | 67/94 [02:48<01:08,  2.52s/it]\u001b[A\n",
      "  Training:  72%|███████▏  | 68/94 [02:51<01:06,  2.56s/it]\u001b[A\n",
      "  Training:  73%|███████▎  | 69/94 [02:54<01:04,  2.59s/it]\u001b[A\n",
      "  Training:  74%|███████▍  | 70/94 [02:56<01:02,  2.62s/it]\u001b[A\n",
      "  Training:  76%|███████▌  | 71/94 [02:59<01:00,  2.63s/it]\u001b[A\n",
      "  Training:  77%|███████▋  | 72/94 [03:01<00:56,  2.57s/it]\u001b[A\n",
      "  Training:  78%|███████▊  | 73/94 [03:04<00:54,  2.60s/it]\u001b[A\n",
      "  Training:  79%|███████▊  | 74/94 [03:07<00:51,  2.58s/it]\u001b[A\n",
      "  Training:  80%|███████▉  | 75/94 [03:09<00:49,  2.60s/it]\u001b[A\n",
      "  Training:  81%|████████  | 76/94 [03:12<00:47,  2.62s/it]\u001b[A\n",
      "  Training:  82%|████████▏ | 77/94 [03:14<00:43,  2.59s/it]\u001b[A\n",
      "  Training:  83%|████████▎ | 78/94 [03:17<00:41,  2.61s/it]\u001b[A\n",
      "  Training:  84%|████████▍ | 79/94 [03:20<00:39,  2.63s/it]\u001b[A\n",
      "  Training:  85%|████████▌ | 80/94 [03:22<00:36,  2.61s/it]\u001b[A\n",
      "  Training:  86%|████████▌ | 81/94 [03:25<00:33,  2.61s/it]\u001b[A\n",
      "  Training:  87%|████████▋ | 82/94 [03:28<00:31,  2.63s/it]\u001b[A\n",
      "  Training:  88%|████████▊ | 83/94 [03:30<00:29,  2.64s/it]\u001b[A\n",
      "  Training:  89%|████████▉ | 84/94 [03:33<00:26,  2.62s/it]\u001b[A\n",
      "  Training:  90%|█████████ | 85/94 [03:36<00:23,  2.64s/it]\u001b[A\n",
      "  Training:  91%|█████████▏| 86/94 [03:38<00:21,  2.64s/it]\u001b[A\n",
      "  Training:  93%|█████████▎| 87/94 [03:41<00:18,  2.61s/it]\u001b[A\n",
      "  Training:  94%|█████████▎| 88/94 [03:43<00:15,  2.63s/it]\u001b[A\n",
      "  Training:  95%|█████████▍| 89/94 [03:46<00:13,  2.62s/it]\u001b[A\n",
      "  Training:  96%|█████████▌| 90/94 [03:49<00:10,  2.64s/it]\u001b[A\n",
      "  Training:  97%|█████████▋| 91/94 [03:51<00:07,  2.65s/it]\u001b[A\n",
      "  Training:  98%|█████████▊| 92/94 [03:54<00:05,  2.65s/it]\u001b[A\n",
      "  Training:  99%|█████████▉| 93/94 [03:56<00:02,  2.46s/it]\u001b[A\n",
      "  Training: 100%|██████████| 94/94 [03:58<00:00,  2.22s/it]\u001b[A\n",
      "                                                           \u001b[A\n",
      "  Evaluating:   0%|          | 0/4 [00:00<?, ?it/s]\u001b[A\n",
      "  Evaluating:  25%|██▌       | 1/4 [00:00<00:00,  3.09it/s]\u001b[A\n",
      "  Evaluating:  50%|█████     | 2/4 [00:00<00:00,  4.45it/s]\u001b[A\n",
      "  Evaluating:  75%|███████▌  | 3/4 [00:00<00:00,  4.88it/s]\u001b[A\n",
      "                                                           \u001b[A"
     ]
    },
    {
     "name": "stdout",
     "output_type": "stream",
     "text": [
      "[LSTM ep06] tr=3.586 val=4.331 | ppl=76.0% acc=0.00% | time=238.2s mem=11838.8MB inf=3.20ms/s\n"
     ]
    },
    {
     "name": "stderr",
     "output_type": "stream",
     "text": [
      "LSTM Epochs:  12%|█▏        | 6/50 [35:14<4:20:38, 355.41s/it]\n",
      "  Training:   0%|          | 0/94 [00:00<?, ?it/s]\u001b[A\n",
      "  Training:   1%|          | 1/94 [00:02<03:20,  2.15s/it]\u001b[A\n",
      "  Training:   2%|▏         | 2/94 [00:04<03:45,  2.46s/it]\u001b[A\n",
      "  Training:   3%|▎         | 3/94 [00:07<03:52,  2.55s/it]\u001b[A\n",
      "  Training:   4%|▍         | 4/94 [00:10<03:53,  2.60s/it]\u001b[A\n",
      "  Training:   5%|▌         | 5/94 [00:11<03:24,  2.29s/it]\u001b[A\n",
      "  Training:   6%|▋         | 6/94 [00:14<03:33,  2.43s/it]\u001b[A\n",
      "  Training:   7%|▋         | 7/94 [00:16<03:29,  2.41s/it]\u001b[A\n",
      "  Training:   9%|▊         | 8/94 [00:19<03:23,  2.37s/it]\u001b[A\n",
      "  Training:  10%|▉         | 9/94 [00:21<03:07,  2.20s/it]\u001b[A\n",
      "  Training:  11%|█         | 10/94 [00:23<03:17,  2.35s/it]\u001b[A\n",
      "  Training:  12%|█▏        | 11/94 [00:26<03:23,  2.45s/it]\u001b[A\n",
      "  Training:  13%|█▎        | 12/94 [00:28<03:17,  2.41s/it]\u001b[A\n",
      "  Training:  14%|█▍        | 13/94 [00:31<03:21,  2.49s/it]\u001b[A\n",
      "  Training:  15%|█▍        | 14/94 [00:34<03:21,  2.52s/it]\u001b[A\n",
      "  Training:  16%|█▌        | 15/94 [00:36<03:23,  2.58s/it]\u001b[A\n",
      "  Training:  17%|█▋        | 16/94 [00:38<03:10,  2.44s/it]\u001b[A\n",
      "  Training:  18%|█▊        | 17/94 [00:41<03:13,  2.51s/it]\u001b[A\n",
      "  Training:  19%|█▉        | 18/94 [00:43<03:07,  2.47s/it]\u001b[A\n",
      "  Training:  20%|██        | 19/94 [00:46<03:07,  2.51s/it]\u001b[A\n",
      "  Training:  21%|██▏       | 20/94 [00:48<02:51,  2.32s/it]\u001b[A\n",
      "  Training:  22%|██▏       | 21/94 [00:50<02:51,  2.36s/it]\u001b[A\n",
      "  Training:  23%|██▎       | 22/94 [00:53<02:56,  2.45s/it]\u001b[A\n",
      "  Training:  24%|██▍       | 23/94 [00:56<02:59,  2.52s/it]\u001b[A\n",
      "  Training:  26%|██▌       | 24/94 [00:58<02:59,  2.57s/it]\u001b[A\n",
      "  Training:  27%|██▋       | 25/94 [01:01<02:58,  2.58s/it]\u001b[A\n",
      "  Training:  28%|██▊       | 26/94 [01:04<02:57,  2.61s/it]\u001b[A\n",
      "  Training:  29%|██▊       | 27/94 [01:06<02:49,  2.52s/it]\u001b[A\n",
      "  Training:  30%|██▉       | 28/94 [01:09<02:49,  2.57s/it]\u001b[A\n",
      "  Training:  31%|███       | 29/94 [01:11<02:49,  2.60s/it]\u001b[A\n",
      "  Training:  32%|███▏      | 30/94 [01:14<02:45,  2.59s/it]\u001b[A\n",
      "  Training:  33%|███▎      | 31/94 [01:17<02:44,  2.61s/it]\u001b[A\n",
      "  Training:  34%|███▍      | 32/94 [01:19<02:43,  2.63s/it]\u001b[A\n",
      "  Training:  35%|███▌      | 33/94 [01:21<02:33,  2.51s/it]\u001b[A\n",
      "  Training:  36%|███▌      | 34/94 [01:24<02:32,  2.55s/it]\u001b[A\n",
      "  Training:  37%|███▋      | 35/94 [01:26<02:26,  2.48s/it]\u001b[A\n",
      "  Training:  38%|███▊      | 36/94 [01:29<02:27,  2.54s/it]\u001b[A\n",
      "  Training:  39%|███▉      | 37/94 [01:32<02:26,  2.58s/it]\u001b[A\n",
      "  Training:  40%|████      | 38/94 [01:34<02:25,  2.61s/it]\u001b[A\n",
      "  Training:  41%|████▏     | 39/94 [01:37<02:24,  2.62s/it]\u001b[A\n",
      "  Training:  43%|████▎     | 40/94 [01:40<02:22,  2.63s/it]\u001b[A\n",
      "  Training:  44%|████▎     | 41/94 [01:42<02:19,  2.64s/it]\u001b[A\n",
      "  Training:  45%|████▍     | 42/94 [01:45<02:17,  2.65s/it]\u001b[A\n",
      "  Training:  46%|████▌     | 43/94 [01:48<02:15,  2.65s/it]\u001b[A\n",
      "  Training:  47%|████▋     | 44/94 [01:50<02:08,  2.56s/it]\u001b[A\n",
      "  Training:  48%|████▊     | 45/94 [01:52<01:59,  2.44s/it]\u001b[A\n",
      "  Training:  49%|████▉     | 46/94 [01:55<01:55,  2.40s/it]\u001b[A\n",
      "  Training:  50%|█████     | 47/94 [01:57<01:56,  2.48s/it]\u001b[A\n",
      "  Training:  51%|█████     | 48/94 [02:00<01:56,  2.54s/it]\u001b[A\n",
      "  Training:  52%|█████▏    | 49/94 [02:03<01:56,  2.58s/it]\u001b[A\n",
      "  Training:  53%|█████▎    | 50/94 [02:04<01:43,  2.36s/it]\u001b[A\n",
      "  Training:  54%|█████▍    | 51/94 [02:07<01:45,  2.45s/it]\u001b[A\n",
      "  Training:  55%|█████▌    | 52/94 [02:10<01:45,  2.52s/it]\u001b[A\n",
      "  Training:  56%|█████▋    | 53/94 [02:12<01:45,  2.56s/it]\u001b[A\n",
      "  Training:  57%|█████▋    | 54/94 [02:15<01:43,  2.60s/it]\u001b[A\n",
      "  Training:  59%|█████▊    | 55/94 [02:17<01:31,  2.36s/it]\u001b[A\n",
      "  Training:  60%|█████▉    | 56/94 [02:18<01:20,  2.11s/it]\u001b[A\n",
      "  Training:  61%|██████    | 57/94 [02:21<01:24,  2.28s/it]\u001b[A\n",
      "  Training:  62%|██████▏   | 58/94 [02:24<01:24,  2.35s/it]\u001b[A\n",
      "  Training:  63%|██████▎   | 59/94 [02:26<01:21,  2.33s/it]\u001b[A\n",
      "  Training:  64%|██████▍   | 60/94 [02:28<01:21,  2.40s/it]\u001b[A\n",
      "  Training:  65%|██████▍   | 61/94 [02:31<01:20,  2.45s/it]\u001b[A\n",
      "  Training:  66%|██████▌   | 62/94 [02:33<01:18,  2.45s/it]\u001b[A\n",
      "  Training:  67%|██████▋   | 63/94 [02:36<01:18,  2.52s/it]\u001b[A\n",
      "  Training:  68%|██████▊   | 64/94 [02:39<01:16,  2.57s/it]\u001b[A\n",
      "  Training:  69%|██████▉   | 65/94 [02:41<01:12,  2.51s/it]\u001b[A\n",
      "  Training:  70%|███████   | 66/94 [02:44<01:09,  2.48s/it]\u001b[A\n",
      "  Training:  71%|███████▏  | 67/94 [02:46<01:09,  2.57s/it]\u001b[A\n",
      "  Training:  72%|███████▏  | 68/94 [02:49<01:05,  2.53s/it]\u001b[A\n",
      "  Training:  73%|███████▎  | 69/94 [02:52<01:04,  2.58s/it]\u001b[A\n",
      "  Training:  74%|███████▍  | 70/94 [02:54<01:02,  2.61s/it]\u001b[A\n",
      "  Training:  76%|███████▌  | 71/94 [02:57<01:00,  2.63s/it]\u001b[A\n",
      "  Training:  77%|███████▋  | 72/94 [03:00<00:58,  2.64s/it]\u001b[A\n",
      "  Training:  78%|███████▊  | 73/94 [03:02<00:55,  2.62s/it]\u001b[A\n",
      "  Training:  79%|███████▊  | 74/94 [03:05<00:52,  2.65s/it]\u001b[A\n",
      "  Training:  80%|███████▉  | 75/94 [03:08<00:50,  2.65s/it]\u001b[A\n",
      "  Training:  81%|████████  | 76/94 [03:10<00:47,  2.66s/it]\u001b[A\n",
      "  Training:  82%|████████▏ | 77/94 [03:13<00:45,  2.66s/it]\u001b[A\n",
      "  Training:  83%|████████▎ | 78/94 [03:16<00:42,  2.67s/it]\u001b[A\n",
      "  Training:  84%|████████▍ | 79/94 [03:18<00:39,  2.61s/it]\u001b[A\n",
      "  Training:  85%|████████▌ | 80/94 [03:21<00:36,  2.62s/it]\u001b[A\n",
      "  Training:  86%|████████▌ | 81/94 [03:23<00:34,  2.64s/it]\u001b[A\n",
      "  Training:  87%|████████▋ | 82/94 [03:26<00:31,  2.65s/it]\u001b[A\n",
      "  Training:  88%|████████▊ | 83/94 [03:29<00:29,  2.65s/it]\u001b[A\n",
      "  Training:  89%|████████▉ | 84/94 [03:31<00:26,  2.68s/it]\u001b[A\n",
      "  Training:  90%|█████████ | 85/94 [03:34<00:23,  2.63s/it]\u001b[A\n",
      "  Training:  91%|█████████▏| 86/94 [03:37<00:21,  2.64s/it]\u001b[A\n",
      "  Training:  93%|█████████▎| 87/94 [03:39<00:17,  2.54s/it]\u001b[A\n",
      "  Training:  94%|█████████▎| 88/94 [03:42<00:15,  2.57s/it]\u001b[A\n",
      "  Training:  95%|█████████▍| 89/94 [03:44<00:13,  2.60s/it]\u001b[A\n",
      "  Training:  96%|█████████▌| 90/94 [03:47<00:10,  2.62s/it]\u001b[A\n",
      "  Training:  97%|█████████▋| 91/94 [03:50<00:07,  2.64s/it]\u001b[A\n",
      "  Training:  98%|█████████▊| 92/94 [03:52<00:05,  2.65s/it]\u001b[A\n",
      "  Training:  99%|█████████▉| 93/94 [03:55<00:02,  2.61s/it]\u001b[A\n",
      "  Training: 100%|██████████| 94/94 [03:56<00:00,  2.31s/it]\u001b[A\n",
      "                                                           \u001b[A\n",
      "  Evaluating:   0%|          | 0/4 [00:00<?, ?it/s]\u001b[A\n",
      "  Evaluating:  25%|██▌       | 1/4 [00:00<00:00,  3.08it/s]\u001b[A\n",
      "  Evaluating:  50%|█████     | 2/4 [00:00<00:00,  4.43it/s]\u001b[A\n",
      "  Evaluating:  75%|███████▌  | 3/4 [00:00<00:00,  4.86it/s]\u001b[A\n",
      "                                                           \u001b[A"
     ]
    },
    {
     "name": "stdout",
     "output_type": "stream",
     "text": [
      "[LSTM ep07] tr=3.241 val=4.249 | ppl=70.0% acc=0.00% | time=236.9s mem=11838.8MB inf=3.24ms/s\n"
     ]
    },
    {
     "name": "stderr",
     "output_type": "stream",
     "text": [
      "LSTM Epochs:  14%|█▍        | 7/50 [41:11<4:15:02, 355.87s/it]\n",
      "  Training:   0%|          | 0/94 [00:00<?, ?it/s]\u001b[A\n",
      "  Training:   1%|          | 1/94 [00:02<04:05,  2.64s/it]\u001b[A\n",
      "  Training:   2%|▏         | 2/94 [00:05<04:03,  2.65s/it]\u001b[A\n",
      "  Training:   3%|▎         | 3/94 [00:07<04:02,  2.66s/it]\u001b[A\n",
      "  Training:   4%|▍         | 4/94 [00:10<03:59,  2.66s/it]\u001b[A\n",
      "  Training:   5%|▌         | 5/94 [00:13<03:56,  2.66s/it]\u001b[A\n",
      "  Training:   6%|▋         | 6/94 [00:15<03:54,  2.67s/it]\u001b[A\n",
      "  Training:   7%|▋         | 7/94 [00:18<03:51,  2.67s/it]\u001b[A\n",
      "  Training:   9%|▊         | 8/94 [00:21<03:49,  2.66s/it]\u001b[A\n",
      "  Training:  10%|▉         | 9/94 [00:23<03:46,  2.66s/it]\u001b[A\n",
      "  Training:  11%|█         | 10/94 [00:26<03:39,  2.62s/it]\u001b[A\n",
      "  Training:  12%|█▏        | 11/94 [00:29<03:38,  2.64s/it]\u001b[A\n",
      "  Training:  13%|█▎        | 12/94 [00:30<03:09,  2.31s/it]\u001b[A\n",
      "  Training:  14%|█▍        | 13/94 [00:32<02:55,  2.17s/it]\u001b[A\n",
      "  Training:  15%|█▍        | 14/94 [00:35<03:05,  2.32s/it]\u001b[A\n",
      "  Training:  16%|█▌        | 15/94 [00:37<03:11,  2.43s/it]\u001b[A\n",
      "  Training:  17%|█▋        | 16/94 [00:40<03:14,  2.49s/it]\u001b[A\n",
      "  Training:  18%|█▊        | 17/94 [00:42<03:05,  2.40s/it]\u001b[A\n",
      "  Training:  19%|█▉        | 18/94 [00:44<02:57,  2.34s/it]\u001b[A\n",
      "  Training:  20%|██        | 19/94 [00:47<03:03,  2.44s/it]\u001b[A\n",
      "  Training:  21%|██▏       | 20/94 [00:50<03:05,  2.51s/it]\u001b[A\n",
      "  Training:  22%|██▏       | 21/94 [00:52<02:48,  2.31s/it]\u001b[A\n",
      "  Training:  23%|██▎       | 22/94 [00:54<02:54,  2.42s/it]\u001b[A\n",
      "  Training:  24%|██▍       | 23/94 [00:57<02:57,  2.50s/it]\u001b[A\n",
      "  Training:  26%|██▌       | 24/94 [01:00<02:58,  2.55s/it]\u001b[A\n",
      "  Training:  27%|██▋       | 25/94 [01:02<02:58,  2.58s/it]\u001b[A\n",
      "  Training:  28%|██▊       | 26/94 [01:05<02:57,  2.61s/it]\u001b[A\n",
      "  Training:  29%|██▊       | 27/94 [01:08<02:57,  2.65s/it]\u001b[A\n",
      "  Training:  30%|██▉       | 28/94 [01:10<02:55,  2.65s/it]\u001b[A\n",
      "  Training:  31%|███       | 29/94 [01:13<02:52,  2.66s/it]\u001b[A\n",
      "  Training:  32%|███▏      | 30/94 [01:16<02:50,  2.66s/it]\u001b[A\n",
      "  Training:  33%|███▎      | 31/94 [01:18<02:47,  2.67s/it]\u001b[A\n",
      "  Training:  34%|███▍      | 32/94 [01:21<02:45,  2.67s/it]\u001b[A\n",
      "  Training:  35%|███▌      | 33/94 [01:24<02:43,  2.67s/it]\u001b[A\n",
      "  Training:  36%|███▌      | 34/94 [01:26<02:40,  2.67s/it]\u001b[A\n",
      "  Training:  37%|███▋      | 35/94 [01:29<02:37,  2.67s/it]\u001b[A\n",
      "  Training:  38%|███▊      | 36/94 [01:32<02:35,  2.68s/it]\u001b[A\n",
      "  Training:  39%|███▉      | 37/94 [01:34<02:22,  2.49s/it]\u001b[A\n",
      "  Training:  40%|████      | 38/94 [01:37<02:22,  2.54s/it]\u001b[A\n",
      "  Training:  41%|████▏     | 39/94 [01:39<02:22,  2.59s/it]\u001b[A\n",
      "  Training:  43%|████▎     | 40/94 [01:42<02:21,  2.61s/it]\u001b[A\n",
      "  Training:  44%|████▎     | 41/94 [01:45<02:19,  2.63s/it]\u001b[A\n",
      "  Training:  45%|████▍     | 42/94 [01:47<02:17,  2.64s/it]\u001b[A\n",
      "  Training:  46%|████▌     | 43/94 [01:50<02:15,  2.65s/it]\u001b[A\n",
      "  Training:  47%|████▋     | 44/94 [01:53<02:12,  2.66s/it]\u001b[A\n",
      "  Training:  48%|████▊     | 45/94 [01:55<02:10,  2.66s/it]\u001b[A\n",
      "  Training:  49%|████▉     | 46/94 [01:58<02:04,  2.59s/it]\u001b[A\n",
      "  Training:  50%|█████     | 47/94 [02:00<02:02,  2.61s/it]\u001b[A\n",
      "  Training:  51%|█████     | 48/94 [02:03<02:00,  2.63s/it]\u001b[A\n",
      "  Training:  52%|█████▏    | 49/94 [02:06<01:58,  2.64s/it]\u001b[A\n",
      "  Training:  53%|█████▎    | 50/94 [02:08<01:56,  2.65s/it]\u001b[A\n",
      "  Training:  54%|█████▍    | 51/94 [02:11<01:54,  2.65s/it]\u001b[A\n",
      "  Training:  55%|█████▌    | 52/94 [02:14<01:51,  2.66s/it]\u001b[A\n",
      "  Training:  56%|█████▋    | 53/94 [02:16<01:46,  2.60s/it]\u001b[A\n",
      "  Training:  57%|█████▋    | 54/94 [02:18<01:38,  2.45s/it]\u001b[A\n",
      "  Training:  59%|█████▊    | 55/94 [02:21<01:38,  2.52s/it]\u001b[A\n",
      "  Training:  60%|█████▉    | 56/94 [02:24<01:37,  2.57s/it]\u001b[A\n",
      "  Training:  61%|██████    | 57/94 [02:26<01:28,  2.40s/it]\u001b[A\n",
      "  Training:  62%|██████▏   | 58/94 [02:28<01:29,  2.48s/it]\u001b[A\n",
      "  Training:  63%|██████▎   | 59/94 [02:31<01:24,  2.43s/it]\u001b[A\n",
      "  Training:  64%|██████▍   | 60/94 [02:33<01:24,  2.50s/it]\u001b[A\n",
      "  Training:  65%|██████▍   | 61/94 [02:36<01:24,  2.55s/it]\u001b[A\n",
      "  Training:  66%|██████▌   | 62/94 [02:39<01:22,  2.58s/it]\u001b[A\n",
      "  Training:  67%|██████▋   | 63/94 [02:41<01:20,  2.61s/it]\u001b[A\n",
      "  Training:  68%|██████▊   | 64/94 [02:44<01:17,  2.59s/it]\u001b[A\n",
      "  Training:  69%|██████▉   | 65/94 [02:46<01:15,  2.61s/it]\u001b[A\n",
      "  Training:  70%|███████   | 66/94 [02:48<01:07,  2.40s/it]\u001b[A\n",
      "  Training:  71%|███████▏  | 67/94 [02:51<01:07,  2.48s/it]\u001b[A\n",
      "  Training:  72%|███████▏  | 68/94 [02:54<01:05,  2.53s/it]\u001b[A\n",
      "  Training:  73%|███████▎  | 69/94 [02:56<01:02,  2.50s/it]\u001b[A\n",
      "  Training:  74%|███████▍  | 70/94 [02:59<01:01,  2.55s/it]\u001b[A\n",
      "  Training:  76%|███████▌  | 71/94 [03:01<00:58,  2.56s/it]\u001b[A\n",
      "  Training:  77%|███████▋  | 72/94 [03:04<00:57,  2.60s/it]\u001b[A\n",
      "  Training:  78%|███████▊  | 73/94 [03:07<00:55,  2.62s/it]\u001b[A\n",
      "  Training:  79%|███████▊  | 74/94 [03:09<00:50,  2.53s/it]\u001b[A\n",
      "  Training:  80%|███████▉  | 75/94 [03:11<00:47,  2.48s/it]\u001b[A\n",
      "  Training:  81%|████████  | 76/94 [03:14<00:45,  2.54s/it]\u001b[A\n",
      "  Training:  82%|████████▏ | 77/94 [03:17<00:43,  2.54s/it]\u001b[A\n",
      "  Training:  83%|████████▎ | 78/94 [03:19<00:40,  2.55s/it]\u001b[A\n",
      "  Training:  84%|████████▍ | 79/94 [03:22<00:38,  2.55s/it]\u001b[A\n",
      "  Training:  85%|████████▌ | 80/94 [03:24<00:36,  2.59s/it]\u001b[A\n",
      "  Training:  86%|████████▌ | 81/94 [03:27<00:33,  2.61s/it]\u001b[A\n",
      "  Training:  87%|████████▋ | 82/94 [03:30<00:31,  2.63s/it]\u001b[A\n",
      "  Training:  88%|████████▊ | 83/94 [03:32<00:29,  2.64s/it]\u001b[A\n",
      "  Training:  89%|████████▉ | 84/94 [03:35<00:26,  2.65s/it]\u001b[A\n",
      "  Training:  90%|█████████ | 85/94 [03:38<00:23,  2.66s/it]\u001b[A\n",
      "  Training:  91%|█████████▏| 86/94 [03:40<00:21,  2.67s/it]\u001b[A\n",
      "  Training:  93%|█████████▎| 87/94 [03:43<00:18,  2.67s/it]\u001b[A\n",
      "  Training:  94%|█████████▎| 88/94 [03:46<00:16,  2.67s/it]\u001b[A\n",
      "  Training:  95%|█████████▍| 89/94 [03:48<00:13,  2.67s/it]\u001b[A\n",
      "  Training:  96%|█████████▌| 90/94 [03:51<00:10,  2.67s/it]\u001b[A\n",
      "  Training:  97%|█████████▋| 91/94 [03:54<00:08,  2.67s/it]\u001b[A\n",
      "  Training:  98%|█████████▊| 92/94 [03:56<00:05,  2.50s/it]\u001b[A\n",
      "  Training:  99%|█████████▉| 93/94 [03:59<00:02,  2.55s/it]\u001b[A\n",
      "  Training: 100%|██████████| 94/94 [04:01<00:00,  2.42s/it]\u001b[A\n",
      "                                                           \u001b[A\n",
      "  Evaluating:   0%|          | 0/4 [00:00<?, ?it/s]\u001b[A\n",
      "  Evaluating:  25%|██▌       | 1/4 [00:00<00:00,  3.08it/s]\u001b[A\n",
      "  Evaluating:  50%|█████     | 2/4 [00:00<00:00,  4.46it/s]\u001b[A\n",
      "  Evaluating:  75%|███████▌  | 3/4 [00:00<00:00,  4.88it/s]\u001b[A\n",
      "                                                           \u001b[A"
     ]
    },
    {
     "name": "stdout",
     "output_type": "stream",
     "text": [
      "[LSTM ep08] tr=2.928 val=4.162 | ppl=64.2% acc=0.00% | time=241.2s mem=11838.8MB inf=3.25ms/s\n"
     ]
    },
    {
     "name": "stderr",
     "output_type": "stream",
     "text": [
      "LSTM Epochs:  16%|█▌        | 8/50 [47:12<4:10:16, 357.53s/it]\n",
      "  Training:   0%|          | 0/94 [00:00<?, ?it/s]\u001b[A\n",
      "  Training:   1%|          | 1/94 [00:02<03:56,  2.54s/it]\u001b[A\n",
      "  Training:   2%|▏         | 2/94 [00:05<03:58,  2.60s/it]\u001b[A\n",
      "  Training:   3%|▎         | 3/94 [00:07<03:58,  2.63s/it]\u001b[A\n",
      "  Training:   4%|▍         | 4/94 [00:10<03:57,  2.64s/it]\u001b[A\n",
      "  Training:   5%|▌         | 5/94 [00:13<03:52,  2.62s/it]\u001b[A\n",
      "  Training:   6%|▋         | 6/94 [00:15<03:51,  2.63s/it]\u001b[A\n",
      "  Training:   7%|▋         | 7/94 [00:18<03:50,  2.65s/it]\u001b[A\n",
      "  Training:   9%|▊         | 8/94 [00:21<03:47,  2.65s/it]\u001b[A\n",
      "  Training:  10%|▉         | 9/94 [00:23<03:45,  2.65s/it]\u001b[A\n",
      "  Training:  11%|█         | 10/94 [00:26<03:43,  2.66s/it]\u001b[A\n",
      "  Training:  12%|█▏        | 11/94 [00:29<03:41,  2.67s/it]\u001b[A\n",
      "  Training:  13%|█▎        | 12/94 [00:31<03:38,  2.67s/it]\u001b[A\n",
      "  Training:  14%|█▍        | 13/94 [00:34<03:36,  2.67s/it]\u001b[A\n",
      "  Training:  15%|█▍        | 14/94 [00:37<03:33,  2.67s/it]\u001b[A\n",
      "  Training:  16%|█▌        | 15/94 [00:39<03:25,  2.61s/it]\u001b[A\n",
      "  Training:  17%|█▋        | 16/94 [00:41<03:14,  2.50s/it]\u001b[A\n",
      "  Training:  18%|█▊        | 17/94 [00:44<03:13,  2.51s/it]\u001b[A\n",
      "  Training:  19%|█▉        | 18/94 [00:47<03:14,  2.56s/it]\u001b[A\n",
      "  Training:  20%|██        | 19/94 [00:49<03:14,  2.60s/it]\u001b[A\n",
      "  Training:  21%|██▏       | 20/94 [00:52<03:13,  2.61s/it]\u001b[A\n",
      "  Training:  22%|██▏       | 21/94 [00:54<03:08,  2.58s/it]\u001b[A\n",
      "  Training:  23%|██▎       | 22/94 [00:57<03:07,  2.61s/it]\u001b[A\n",
      "  Training:  24%|██▍       | 23/94 [01:00<03:05,  2.61s/it]\u001b[A\n",
      "  Training:  26%|██▌       | 24/94 [01:02<02:56,  2.52s/it]\u001b[A\n",
      "  Training:  27%|██▋       | 25/94 [01:05<02:57,  2.57s/it]\u001b[A\n",
      "  Training:  28%|██▊       | 26/94 [01:07<02:56,  2.60s/it]\u001b[A\n",
      "  Training:  29%|██▊       | 27/94 [01:10<02:55,  2.62s/it]\u001b[A\n",
      "  Training:  30%|██▉       | 28/94 [01:12<02:43,  2.47s/it]\u001b[A\n",
      "  Training:  31%|███       | 29/94 [01:14<02:38,  2.43s/it]\u001b[A\n",
      "  Training:  32%|███▏      | 30/94 [01:17<02:40,  2.50s/it]\u001b[A\n",
      "  Training:  33%|███▎      | 31/94 [01:19<02:27,  2.34s/it]\u001b[A\n",
      "  Training:  34%|███▍      | 32/94 [01:22<02:31,  2.44s/it]\u001b[A\n",
      "  Training:  35%|███▌      | 33/94 [01:24<02:33,  2.51s/it]\u001b[A\n",
      "  Training:  36%|███▌      | 34/94 [01:27<02:33,  2.56s/it]\u001b[A\n",
      "  Training:  37%|███▋      | 35/94 [01:29<02:16,  2.32s/it]\u001b[A\n",
      "  Training:  38%|███▊      | 36/94 [01:31<02:19,  2.41s/it]\u001b[A\n",
      "  Training:  39%|███▉      | 37/94 [01:34<02:21,  2.49s/it]\u001b[A\n",
      "  Training:  40%|████      | 38/94 [01:37<02:22,  2.54s/it]\u001b[A\n",
      "  Training:  41%|████▏     | 39/94 [01:39<02:17,  2.50s/it]\u001b[A\n",
      "  Training:  43%|████▎     | 40/94 [01:42<02:17,  2.55s/it]\u001b[A\n",
      "  Training:  44%|████▎     | 41/94 [01:45<02:19,  2.62s/it]\u001b[A\n",
      "  Training:  45%|████▍     | 42/94 [01:47<02:17,  2.64s/it]\u001b[A\n",
      "  Training:  46%|████▌     | 43/94 [01:50<02:15,  2.65s/it]\u001b[A\n",
      "  Training:  47%|████▋     | 44/94 [01:53<02:11,  2.63s/it]\u001b[A\n",
      "  Training:  48%|████▊     | 45/94 [01:55<02:09,  2.64s/it]\u001b[A\n",
      "  Training:  49%|████▉     | 46/94 [01:58<02:07,  2.66s/it]\u001b[A\n",
      "  Training:  50%|█████     | 47/94 [02:01<02:05,  2.66s/it]\u001b[A\n",
      "  Training:  51%|█████     | 48/94 [02:03<02:02,  2.66s/it]\u001b[A\n",
      "  Training:  52%|█████▏    | 49/94 [02:06<01:59,  2.66s/it]\u001b[A\n",
      "  Training:  53%|█████▎    | 50/94 [02:09<01:57,  2.67s/it]\u001b[A\n",
      "  Training:  54%|█████▍    | 51/94 [02:11<01:54,  2.67s/it]\u001b[A\n",
      "  Training:  55%|█████▌    | 52/94 [02:14<01:52,  2.67s/it]\u001b[A\n",
      "  Training:  56%|█████▋    | 53/94 [02:16<01:40,  2.46s/it]\u001b[A\n",
      "  Training:  57%|█████▋    | 54/94 [02:19<01:41,  2.53s/it]\u001b[A\n",
      "  Training:  59%|█████▊    | 55/94 [02:21<01:38,  2.51s/it]\u001b[A\n",
      "  Training:  60%|█████▉    | 56/94 [02:23<01:26,  2.27s/it]\u001b[A\n",
      "  Training:  61%|██████    | 57/94 [02:25<01:21,  2.20s/it]\u001b[A\n",
      "  Training:  62%|██████▏   | 58/94 [02:28<01:24,  2.34s/it]\u001b[A\n",
      "  Training:  63%|██████▎   | 59/94 [02:30<01:25,  2.44s/it]\u001b[A\n",
      "  Training:  64%|██████▍   | 60/94 [02:33<01:25,  2.51s/it]\u001b[A\n",
      "  Training:  65%|██████▍   | 61/94 [02:36<01:24,  2.56s/it]\u001b[A\n",
      "  Training:  66%|██████▌   | 62/94 [02:38<01:22,  2.59s/it]\u001b[A\n",
      "  Training:  67%|██████▋   | 63/94 [02:41<01:20,  2.60s/it]\u001b[A\n",
      "  Training:  68%|██████▊   | 64/94 [02:44<01:18,  2.62s/it]\u001b[A\n",
      "  Training:  69%|██████▉   | 65/94 [02:46<01:16,  2.63s/it]\u001b[A\n",
      "  Training:  70%|███████   | 66/94 [02:48<01:07,  2.41s/it]\u001b[A\n",
      "  Training:  71%|███████▏  | 67/94 [02:51<01:06,  2.45s/it]\u001b[A\n",
      "  Training:  72%|███████▏  | 68/94 [02:53<01:01,  2.37s/it]\u001b[A\n",
      "  Training:  73%|███████▎  | 69/94 [02:55<01:01,  2.46s/it]\u001b[A\n",
      "  Training:  74%|███████▍  | 70/94 [02:58<01:00,  2.53s/it]\u001b[A\n",
      "  Training:  76%|███████▌  | 71/94 [03:00<00:54,  2.37s/it]\u001b[A\n",
      "  Training:  77%|███████▋  | 72/94 [03:03<00:54,  2.46s/it]\u001b[A\n",
      "  Training:  78%|███████▊  | 73/94 [03:06<00:52,  2.52s/it]\u001b[A\n",
      "  Training:  79%|███████▊  | 74/94 [03:08<00:51,  2.56s/it]\u001b[A\n",
      "  Training:  80%|███████▉  | 75/94 [03:11<00:49,  2.59s/it]\u001b[A\n",
      "  Training:  81%|████████  | 76/94 [03:13<00:47,  2.61s/it]\u001b[A\n",
      "  Training:  82%|████████▏ | 77/94 [03:16<00:44,  2.63s/it]\u001b[A\n",
      "  Training:  83%|████████▎ | 78/94 [03:19<00:42,  2.64s/it]\u001b[A\n",
      "  Training:  84%|████████▍ | 79/94 [03:21<00:37,  2.51s/it]\u001b[A\n",
      "  Training:  85%|████████▌ | 80/94 [03:23<00:33,  2.39s/it]\u001b[A\n",
      "  Training:  86%|████████▌ | 81/94 [03:26<00:32,  2.47s/it]\u001b[A\n",
      "  Training:  87%|████████▋ | 82/94 [03:28<00:30,  2.53s/it]\u001b[A\n",
      "  Training:  88%|████████▊ | 83/94 [03:31<00:26,  2.40s/it]\u001b[A\n",
      "  Training:  89%|████████▉ | 84/94 [03:33<00:22,  2.28s/it]\u001b[A\n",
      "  Training:  90%|█████████ | 85/94 [03:35<00:21,  2.40s/it]\u001b[A\n",
      "  Training:  91%|█████████▏| 86/94 [03:38<00:19,  2.48s/it]\u001b[A\n",
      "  Training:  93%|█████████▎| 87/94 [03:40<00:15,  2.28s/it]\u001b[A\n",
      "  Training:  94%|█████████▎| 88/94 [03:42<00:14,  2.39s/it]\u001b[A\n",
      "  Training:  95%|█████████▍| 89/94 [03:45<00:12,  2.47s/it]\u001b[A\n",
      "  Training:  96%|█████████▌| 90/94 [03:47<00:09,  2.43s/it]\u001b[A\n",
      "  Training:  97%|█████████▋| 91/94 [03:50<00:07,  2.47s/it]\u001b[A\n",
      "  Training:  98%|█████████▊| 92/94 [03:53<00:05,  2.52s/it]\u001b[A\n",
      "  Training:  99%|█████████▉| 93/94 [03:55<00:02,  2.56s/it]\u001b[A\n",
      "  Training: 100%|██████████| 94/94 [03:57<00:00,  2.44s/it]\u001b[A\n",
      "                                                           \u001b[A\n",
      "  Evaluating:   0%|          | 0/4 [00:00<?, ?it/s]\u001b[A\n",
      "  Evaluating:  25%|██▌       | 1/4 [00:00<00:00,  3.09it/s]\u001b[A\n",
      "  Evaluating:  50%|█████     | 2/4 [00:00<00:00,  4.43it/s]\u001b[A\n",
      "  Evaluating:  75%|███████▌  | 3/4 [00:00<00:00,  4.89it/s]\u001b[A\n",
      "                                                           \u001b[A"
     ]
    },
    {
     "name": "stdout",
     "output_type": "stream",
     "text": [
      "[LSTM ep09] tr=2.623 val=4.129 | ppl=62.1% acc=0.00% | time=237.9s mem=11838.8MB inf=3.20ms/s\n"
     ]
    },
    {
     "name": "stderr",
     "output_type": "stream",
     "text": [
      "LSTM Epochs:  18%|█▊        | 9/50 [53:09<4:04:22, 357.63s/it]\n",
      "  Training:   0%|          | 0/94 [00:00<?, ?it/s]\u001b[A\n",
      "  Training:   1%|          | 1/94 [00:02<04:05,  2.64s/it]\u001b[A\n",
      "  Training:   2%|▏         | 2/94 [00:05<04:04,  2.65s/it]\u001b[A\n",
      "  Training:   3%|▎         | 3/94 [00:07<03:21,  2.22s/it]\u001b[A\n",
      "  Training:   4%|▍         | 4/94 [00:09<03:35,  2.39s/it]\u001b[A\n",
      "  Training:   5%|▌         | 5/94 [00:12<03:42,  2.50s/it]\u001b[A\n",
      "  Training:   6%|▋         | 6/94 [00:15<03:45,  2.56s/it]\u001b[A\n",
      "  Training:   7%|▋         | 7/94 [00:17<03:45,  2.59s/it]\u001b[A\n",
      "  Training:   9%|▊         | 8/94 [00:20<03:45,  2.62s/it]\u001b[A\n",
      "  Training:  10%|▉         | 9/94 [00:23<03:44,  2.64s/it]\u001b[A\n",
      "  Training:  11%|█         | 10/94 [00:25<03:42,  2.65s/it]\u001b[A\n",
      "  Training:  12%|█▏        | 11/94 [00:27<03:20,  2.41s/it]\u001b[A\n",
      "  Training:  13%|█▎        | 12/94 [00:30<03:24,  2.49s/it]\u001b[A\n",
      "  Training:  14%|█▍        | 13/94 [00:32<03:22,  2.50s/it]\u001b[A\n",
      "  Training:  15%|█▍        | 14/94 [00:35<03:15,  2.45s/it]\u001b[A\n",
      "  Training:  16%|█▌        | 15/94 [00:37<03:18,  2.51s/it]\u001b[A\n",
      "  Training:  17%|█▋        | 16/94 [00:40<03:19,  2.56s/it]\u001b[A\n",
      "  Training:  18%|█▊        | 17/94 [00:43<03:19,  2.59s/it]\u001b[A\n",
      "  Training:  19%|█▉        | 18/94 [00:45<03:17,  2.60s/it]\u001b[A\n",
      "  Training:  20%|██        | 19/94 [00:48<03:16,  2.62s/it]\u001b[A\n",
      "  Training:  21%|██▏       | 20/94 [00:51<03:14,  2.63s/it]\u001b[A\n",
      "  Training:  22%|██▏       | 21/94 [00:53<03:13,  2.64s/it]\u001b[A\n",
      "  Training:  23%|██▎       | 22/94 [00:56<03:11,  2.65s/it]\u001b[A\n",
      "  Training:  24%|██▍       | 23/94 [00:58<02:55,  2.47s/it]\u001b[A\n",
      "  Training:  26%|██▌       | 24/94 [01:01<02:57,  2.53s/it]\u001b[A\n",
      "  Training:  27%|██▋       | 25/94 [01:03<02:57,  2.57s/it]\u001b[A\n",
      "  Training:  28%|██▊       | 26/94 [01:06<02:56,  2.60s/it]\u001b[A\n",
      "  Training:  29%|██▊       | 27/94 [01:09<02:55,  2.62s/it]\u001b[A\n",
      "  Training:  30%|██▉       | 28/94 [01:11<02:53,  2.63s/it]\u001b[A\n",
      "  Training:  31%|███       | 29/94 [01:14<02:51,  2.64s/it]\u001b[A\n",
      "  Training:  32%|███▏      | 30/94 [01:17<02:49,  2.65s/it]\u001b[A\n",
      "  Training:  33%|███▎      | 31/94 [01:19<02:47,  2.66s/it]\u001b[A\n",
      "  Training:  34%|███▍      | 32/94 [01:22<02:45,  2.67s/it]\u001b[A\n",
      "  Training:  35%|███▌      | 33/94 [01:25<02:42,  2.67s/it]\u001b[A\n",
      "  Training:  36%|███▌      | 34/94 [01:27<02:31,  2.53s/it]\u001b[A\n",
      "  Training:  37%|███▋      | 35/94 [01:29<02:31,  2.57s/it]\u001b[A\n",
      "  Training:  38%|███▊      | 36/94 [01:32<02:30,  2.60s/it]\u001b[A\n",
      "  Training:  39%|███▉      | 37/94 [01:35<02:29,  2.62s/it]\u001b[A\n",
      "  Training:  40%|████      | 38/94 [01:37<02:26,  2.62s/it]\u001b[A\n",
      "  Training:  41%|████▏     | 39/94 [01:40<02:18,  2.52s/it]\u001b[A\n",
      "  Training:  43%|████▎     | 40/94 [01:42<02:16,  2.52s/it]\u001b[A\n",
      "  Training:  44%|████▎     | 41/94 [01:45<02:11,  2.49s/it]\u001b[A\n",
      "  Training:  45%|████▍     | 42/94 [01:47<02:12,  2.55s/it]\u001b[A\n",
      "  Training:  46%|████▌     | 43/94 [01:50<02:11,  2.58s/it]\u001b[A\n",
      "  Training:  47%|████▋     | 44/94 [01:53<02:10,  2.61s/it]\u001b[A\n",
      "  Training:  48%|████▊     | 45/94 [01:55<02:08,  2.63s/it]\u001b[A\n",
      "  Training:  49%|████▉     | 46/94 [01:58<01:58,  2.48s/it]\u001b[A\n",
      "  Training:  50%|█████     | 47/94 [02:00<01:59,  2.54s/it]\u001b[A\n",
      "  Training:  51%|█████     | 48/94 [02:03<01:55,  2.51s/it]\u001b[A\n",
      "  Training:  52%|█████▏    | 49/94 [02:05<01:49,  2.44s/it]\u001b[A\n",
      "  Training:  53%|█████▎    | 50/94 [02:07<01:45,  2.40s/it]\u001b[A\n",
      "  Training:  54%|█████▍    | 51/94 [02:10<01:46,  2.48s/it]\u001b[A\n",
      "  Training:  55%|█████▌    | 52/94 [02:13<01:46,  2.54s/it]\u001b[A\n",
      "  Training:  56%|█████▋    | 53/94 [02:15<01:44,  2.55s/it]\u001b[A\n",
      "  Training:  57%|█████▋    | 54/94 [02:17<01:38,  2.47s/it]\u001b[A\n",
      "  Training:  59%|█████▊    | 55/94 [02:19<01:30,  2.31s/it]\u001b[A\n",
      "  Training:  60%|█████▉    | 56/94 [02:22<01:28,  2.34s/it]\u001b[A\n",
      "  Training:  61%|██████    | 57/94 [02:24<01:30,  2.43s/it]\u001b[A\n",
      "  Training:  62%|██████▏   | 58/94 [02:27<01:30,  2.51s/it]\u001b[A\n",
      "  Training:  63%|██████▎   | 59/94 [02:29<01:24,  2.41s/it]\u001b[A\n",
      "  Training:  64%|██████▍   | 60/94 [02:32<01:20,  2.38s/it]\u001b[A\n",
      "  Training:  65%|██████▍   | 61/94 [02:34<01:21,  2.46s/it]\u001b[A\n",
      "  Training:  66%|██████▌   | 62/94 [02:37<01:20,  2.51s/it]\u001b[A\n",
      "  Training:  67%|██████▋   | 63/94 [02:40<01:19,  2.57s/it]\u001b[A\n",
      "  Training:  68%|██████▊   | 64/94 [02:42<01:18,  2.60s/it]\u001b[A\n",
      "  Training:  69%|██████▉   | 65/94 [02:45<01:16,  2.63s/it]\u001b[A\n",
      "  Training:  70%|███████   | 66/94 [02:48<01:13,  2.64s/it]\u001b[A\n",
      "  Training:  71%|███████▏  | 67/94 [02:50<01:11,  2.65s/it]\u001b[A\n",
      "  Training:  72%|███████▏  | 68/94 [02:53<01:09,  2.66s/it]\u001b[A\n",
      "  Training:  73%|███████▎  | 69/94 [02:56<01:05,  2.63s/it]\u001b[A\n",
      "  Training:  74%|███████▍  | 70/94 [02:58<01:02,  2.60s/it]\u001b[A\n",
      "  Training:  76%|███████▌  | 71/94 [03:00<00:55,  2.39s/it]\u001b[A\n",
      "  Training:  77%|███████▋  | 72/94 [03:02<00:53,  2.43s/it]\u001b[A\n",
      "  Training:  78%|███████▊  | 73/94 [03:04<00:48,  2.31s/it]\u001b[A\n",
      "  Training:  79%|███████▊  | 74/94 [03:07<00:48,  2.42s/it]\u001b[A\n",
      "  Training:  80%|███████▉  | 75/94 [03:09<00:44,  2.36s/it]\u001b[A\n",
      "  Training:  81%|████████  | 76/94 [03:12<00:44,  2.46s/it]\u001b[A\n",
      "  Training:  82%|████████▏ | 77/94 [03:15<00:42,  2.52s/it]\u001b[A\n",
      "  Training:  83%|████████▎ | 78/94 [03:17<00:41,  2.57s/it]\u001b[A\n",
      "  Training:  84%|████████▍ | 79/94 [03:20<00:38,  2.60s/it]\u001b[A\n",
      "  Training:  85%|████████▌ | 80/94 [03:23<00:36,  2.62s/it]\u001b[A\n",
      "  Training:  86%|████████▌ | 81/94 [03:25<00:34,  2.63s/it]\u001b[A\n",
      "  Training:  87%|████████▋ | 82/94 [03:28<00:31,  2.64s/it]\u001b[A\n",
      "  Training:  88%|████████▊ | 83/94 [03:31<00:29,  2.65s/it]\u001b[A\n",
      "  Training:  89%|████████▉ | 84/94 [03:33<00:26,  2.64s/it]\u001b[A\n",
      "  Training:  90%|█████████ | 85/94 [03:36<00:23,  2.65s/it]\u001b[A\n",
      "  Training:  91%|█████████▏| 86/94 [03:39<00:21,  2.66s/it]\u001b[A\n",
      "  Training:  93%|█████████▎| 87/94 [03:41<00:18,  2.67s/it]\u001b[A\n",
      "  Training:  94%|█████████▎| 88/94 [03:44<00:16,  2.67s/it]\u001b[A\n",
      "  Training:  95%|█████████▍| 89/94 [03:46<00:12,  2.46s/it]\u001b[A\n",
      "  Training:  96%|█████████▌| 90/94 [03:48<00:09,  2.45s/it]\u001b[A\n",
      "  Training:  97%|█████████▋| 91/94 [03:51<00:07,  2.52s/it]\u001b[A\n",
      "  Training:  98%|█████████▊| 92/94 [03:54<00:05,  2.56s/it]\u001b[A\n",
      "  Training:  99%|█████████▉| 93/94 [03:56<00:02,  2.55s/it]\u001b[A\n",
      "  Training: 100%|██████████| 94/94 [03:58<00:00,  2.28s/it]\u001b[A\n",
      "                                                           \u001b[A\n",
      "  Evaluating:   0%|          | 0/4 [00:00<?, ?it/s]\u001b[A\n",
      "  Evaluating:  25%|██▌       | 1/4 [00:00<00:00,  3.10it/s]\u001b[A\n",
      "  Evaluating:  50%|█████     | 2/4 [00:00<00:00,  4.41it/s]\u001b[A\n",
      "  Evaluating:  75%|███████▌  | 3/4 [00:00<00:00,  4.86it/s]\u001b[A\n",
      "LSTM Epochs:  20%|██        | 10/50 [59:08<3:58:36, 357.91s/it]"
     ]
    },
    {
     "name": "stdout",
     "output_type": "stream",
     "text": [
      "[LSTM ep10] tr=2.360 val=4.166 | ppl=64.4% acc=0.00% | time=238.5s mem=11838.8MB inf=3.28ms/s\n"
     ]
    },
    {
     "name": "stderr",
     "output_type": "stream",
     "text": [
      "\n",
      "  Training:   0%|          | 0/94 [00:00<?, ?it/s]\u001b[A\n",
      "  Training:   1%|          | 1/94 [00:02<03:51,  2.48s/it]\u001b[A\n",
      "  Training:   2%|▏         | 2/94 [00:05<03:58,  2.59s/it]\u001b[A\n",
      "  Training:   3%|▎         | 3/94 [00:07<03:59,  2.63s/it]\u001b[A\n",
      "  Training:   4%|▍         | 4/94 [00:10<03:58,  2.65s/it]\u001b[A\n",
      "  Training:   5%|▌         | 5/94 [00:12<03:44,  2.53s/it]\u001b[A\n",
      "  Training:   6%|▋         | 6/94 [00:15<03:43,  2.54s/it]\u001b[A\n",
      "  Training:   7%|▋         | 7/94 [00:18<03:44,  2.58s/it]\u001b[A\n",
      "  Training:   9%|▊         | 8/94 [00:20<03:44,  2.61s/it]\u001b[A\n",
      "  Training:  10%|▉         | 9/94 [00:23<03:34,  2.53s/it]\u001b[A\n",
      "  Training:  11%|█         | 10/94 [00:25<03:36,  2.57s/it]\u001b[A\n",
      "  Training:  12%|█▏        | 11/94 [00:28<03:36,  2.60s/it]\u001b[A\n",
      "  Training:  13%|█▎        | 12/94 [00:30<03:30,  2.57s/it]\u001b[A\n",
      "  Training:  14%|█▍        | 13/94 [00:33<03:30,  2.60s/it]\u001b[A\n",
      "  Training:  15%|█▍        | 14/94 [00:36<03:30,  2.63s/it]\u001b[A\n",
      "  Training:  16%|█▌        | 15/94 [00:38<03:24,  2.59s/it]\u001b[A\n",
      "  Training:  17%|█▋        | 16/94 [00:41<03:23,  2.61s/it]\u001b[A\n",
      "  Training:  18%|█▊        | 17/94 [00:43<03:16,  2.55s/it]\u001b[A\n",
      "  Training:  19%|█▉        | 18/94 [00:46<03:16,  2.58s/it]\u001b[A\n",
      "  Training:  20%|██        | 19/94 [00:49<03:15,  2.61s/it]\u001b[A\n",
      "  Training:  21%|██▏       | 20/94 [00:51<03:14,  2.63s/it]\u001b[A\n",
      "  Training:  22%|██▏       | 21/94 [00:53<02:53,  2.38s/it]\u001b[A\n",
      "  Training:  23%|██▎       | 22/94 [00:56<02:57,  2.47s/it]\u001b[A\n",
      "  Training:  24%|██▍       | 23/94 [00:58<02:59,  2.53s/it]\u001b[A\n",
      "  Training:  26%|██▌       | 24/94 [01:01<02:55,  2.50s/it]\u001b[A\n",
      "  Training:  27%|██▋       | 25/94 [01:03<02:53,  2.51s/it]\u001b[A\n",
      "  Training:  28%|██▊       | 26/94 [01:06<02:53,  2.56s/it]\u001b[A\n",
      "  Training:  29%|██▊       | 27/94 [01:09<02:53,  2.59s/it]\u001b[A\n",
      "  Training:  30%|██▉       | 28/94 [01:11<02:52,  2.61s/it]\u001b[A\n",
      "  Training:  31%|███       | 29/94 [01:14<02:53,  2.67s/it]\u001b[A\n",
      "  Training:  32%|███▏      | 30/94 [01:17<02:44,  2.57s/it]\u001b[A\n",
      "  Training:  33%|███▎      | 31/94 [01:19<02:43,  2.60s/it]\u001b[A\n",
      "  Training:  34%|███▍      | 32/94 [01:22<02:42,  2.62s/it]\u001b[A\n",
      "  Training:  35%|███▌      | 33/94 [01:25<02:40,  2.63s/it]\u001b[A\n",
      "  Training:  36%|███▌      | 34/94 [01:27<02:34,  2.57s/it]\u001b[A\n",
      "  Training:  37%|███▋      | 35/94 [01:30<02:33,  2.60s/it]\u001b[A\n",
      "  Training:  38%|███▊      | 36/94 [01:32<02:32,  2.62s/it]\u001b[A\n",
      "  Training:  39%|███▉      | 37/94 [01:35<02:29,  2.63s/it]\u001b[A\n",
      "  Training:  40%|████      | 38/94 [01:37<02:16,  2.43s/it]\u001b[A\n",
      "  Training:  41%|████▏     | 39/94 [01:40<02:15,  2.47s/it]\u001b[A\n",
      "  Training:  43%|████▎     | 40/94 [01:42<02:16,  2.53s/it]\u001b[A\n",
      "  Training:  44%|████▎     | 41/94 [01:45<02:16,  2.58s/it]\u001b[A\n",
      "  Training:  45%|████▍     | 42/94 [01:48<02:15,  2.60s/it]\u001b[A\n",
      "  Training:  46%|████▌     | 43/94 [01:50<02:13,  2.62s/it]\u001b[A\n",
      "  Training:  47%|████▋     | 44/94 [01:52<01:56,  2.33s/it]\u001b[A\n",
      "  Training:  48%|████▊     | 45/94 [01:55<01:59,  2.43s/it]\u001b[A\n",
      "  Training:  49%|████▉     | 46/94 [01:57<01:59,  2.50s/it]\u001b[A\n",
      "  Training:  50%|█████     | 47/94 [02:00<01:59,  2.55s/it]\u001b[A\n",
      "  Training:  51%|█████     | 48/94 [02:02<01:51,  2.42s/it]\u001b[A\n",
      "  Training:  52%|█████▏    | 49/94 [02:05<01:52,  2.49s/it]\u001b[A\n",
      "  Training:  53%|█████▎    | 50/94 [02:07<01:52,  2.55s/it]\u001b[A\n",
      "  Training:  54%|█████▍    | 51/94 [02:09<01:40,  2.35s/it]\u001b[A\n",
      "  Training:  55%|█████▌    | 52/94 [02:12<01:43,  2.46s/it]\u001b[A\n",
      "  Training:  56%|█████▋    | 53/94 [02:15<01:43,  2.52s/it]\u001b[A\n",
      "  Training:  57%|█████▋    | 54/94 [02:17<01:40,  2.52s/it]\u001b[A\n",
      "  Training:  59%|█████▊    | 55/94 [02:20<01:37,  2.49s/it]\u001b[A\n",
      "  Training:  60%|█████▉    | 56/94 [02:22<01:36,  2.54s/it]\u001b[A\n",
      "  Training:  61%|██████    | 57/94 [02:25<01:33,  2.54s/it]\u001b[A\n",
      "  Training:  62%|██████▏   | 58/94 [02:27<01:32,  2.57s/it]\u001b[A\n",
      "  Training:  63%|██████▎   | 59/94 [02:30<01:31,  2.60s/it]\u001b[A\n",
      "  Training:  64%|██████▍   | 60/94 [02:33<01:27,  2.58s/it]\u001b[A\n",
      "  Training:  65%|██████▍   | 61/94 [02:35<01:25,  2.61s/it]\u001b[A\n",
      "  Training:  66%|██████▌   | 62/94 [02:38<01:24,  2.63s/it]\u001b[A\n",
      "  Training:  67%|██████▋   | 63/94 [02:40<01:14,  2.39s/it]\u001b[A\n",
      "  Training:  68%|██████▊   | 64/94 [02:42<01:14,  2.48s/it]\u001b[A\n",
      "  Training:  69%|██████▉   | 65/94 [02:45<01:12,  2.49s/it]\u001b[A\n",
      "  Training:  70%|███████   | 66/94 [02:48<01:11,  2.55s/it]\u001b[A\n",
      "  Training:  71%|███████▏  | 67/94 [02:50<01:09,  2.59s/it]\u001b[A\n",
      "  Training:  72%|███████▏  | 68/94 [02:52<01:03,  2.44s/it]\u001b[A\n",
      "  Training:  73%|███████▎  | 69/94 [02:55<01:02,  2.51s/it]\u001b[A\n",
      "  Training:  74%|███████▍  | 70/94 [02:58<01:01,  2.56s/it]\u001b[A\n",
      "  Training:  76%|███████▌  | 71/94 [03:00<00:59,  2.59s/it]\u001b[A\n",
      "  Training:  77%|███████▋  | 72/94 [03:03<00:57,  2.62s/it]\u001b[A\n",
      "  Training:  78%|███████▊  | 73/94 [03:06<00:55,  2.64s/it]\u001b[A\n",
      "  Training:  79%|███████▊  | 74/94 [03:08<00:51,  2.56s/it]\u001b[A\n",
      "  Training:  80%|███████▉  | 75/94 [03:11<00:49,  2.59s/it]\u001b[A\n",
      "  Training:  81%|████████  | 76/94 [03:13<00:44,  2.47s/it]\u001b[A\n",
      "  Training:  82%|████████▏ | 77/94 [03:16<00:43,  2.54s/it]\u001b[A\n",
      "  Training:  83%|████████▎ | 78/94 [03:18<00:37,  2.34s/it]\u001b[A\n",
      "  Training:  84%|████████▍ | 79/94 [03:20<00:36,  2.45s/it]\u001b[A\n",
      "  Training:  85%|████████▌ | 80/94 [03:23<00:35,  2.51s/it]\u001b[A\n",
      "  Training:  86%|████████▌ | 81/94 [03:26<00:32,  2.54s/it]\u001b[A\n",
      "  Training:  87%|████████▋ | 82/94 [03:28<00:30,  2.57s/it]\u001b[A\n",
      "  Training:  88%|████████▊ | 83/94 [03:31<00:28,  2.60s/it]\u001b[A\n",
      "  Training:  89%|████████▉ | 84/94 [03:34<00:26,  2.62s/it]\u001b[A\n",
      "  Training:  90%|█████████ | 85/94 [03:36<00:23,  2.64s/it]\u001b[A\n",
      "  Training:  91%|█████████▏| 86/94 [03:38<00:20,  2.52s/it]\u001b[A\n",
      "  Training:  93%|█████████▎| 87/94 [03:41<00:17,  2.57s/it]\u001b[A\n",
      "  Training:  94%|█████████▎| 88/94 [03:44<00:15,  2.60s/it]\u001b[A\n",
      "  Training:  95%|█████████▍| 89/94 [03:46<00:13,  2.62s/it]\u001b[A\n",
      "  Training:  96%|█████████▌| 90/94 [03:48<00:09,  2.41s/it]\u001b[A\n",
      "  Training:  97%|█████████▋| 91/94 [03:51<00:07,  2.49s/it]\u001b[A\n",
      "  Training:  98%|█████████▊| 92/94 [03:54<00:05,  2.52s/it]\u001b[A\n",
      "  Training:  99%|█████████▉| 93/94 [03:56<00:02,  2.56s/it]\u001b[A\n",
      "  Training: 100%|██████████| 94/94 [03:58<00:00,  2.44s/it]\u001b[A\n",
      "                                                           \u001b[A\n",
      "  Evaluating:   0%|          | 0/4 [00:00<?, ?it/s]\u001b[A\n",
      "  Evaluating:  25%|██▌       | 1/4 [00:00<00:00,  3.10it/s]\u001b[A\n",
      "  Evaluating:  50%|█████     | 2/4 [00:00<00:00,  4.44it/s]\u001b[A\n",
      "  Evaluating:  75%|███████▌  | 3/4 [00:00<00:00,  4.88it/s]\u001b[A\n",
      "LSTM Epochs:  22%|██▏       | 11/50 [1:05:07<3:52:49, 358.20s/it]"
     ]
    },
    {
     "name": "stdout",
     "output_type": "stream",
     "text": [
      "[LSTM ep11] tr=2.104 val=4.145 | ppl=63.1% acc=0.00% | time=239.0s mem=11838.8MB inf=3.29ms/s\n"
     ]
    },
    {
     "name": "stderr",
     "output_type": "stream",
     "text": [
      "\n",
      "  Training:   0%|          | 0/94 [00:00<?, ?it/s]\u001b[A\n",
      "  Training:   1%|          | 1/94 [00:02<03:33,  2.30s/it]\u001b[A\n",
      "  Training:   2%|▏         | 2/94 [00:04<03:51,  2.51s/it]\u001b[A\n",
      "  Training:   3%|▎         | 3/94 [00:07<03:54,  2.58s/it]\u001b[A\n",
      "  Training:   4%|▍         | 4/94 [00:10<03:55,  2.61s/it]\u001b[A\n",
      "  Training:   5%|▌         | 5/94 [00:12<03:54,  2.64s/it]\u001b[A\n",
      "  Training:   6%|▋         | 6/94 [00:15<03:47,  2.59s/it]\u001b[A\n",
      "  Training:   7%|▋         | 7/94 [00:18<03:47,  2.62s/it]\u001b[A\n",
      "  Training:   9%|▊         | 8/94 [00:20<03:46,  2.63s/it]\u001b[A\n",
      "  Training:  10%|▉         | 9/94 [00:23<03:44,  2.64s/it]\u001b[A\n",
      "  Training:  11%|█         | 10/94 [00:26<03:43,  2.66s/it]\u001b[A\n",
      "  Training:  12%|█▏        | 11/94 [00:28<03:40,  2.66s/it]\u001b[A\n",
      "  Training:  13%|█▎        | 12/94 [00:31<03:38,  2.66s/it]\u001b[A\n",
      "  Training:  14%|█▍        | 13/94 [00:34<03:36,  2.67s/it]\u001b[A\n",
      "  Training:  15%|█▍        | 14/94 [00:36<03:33,  2.67s/it]\u001b[A\n",
      "  Training:  16%|█▌        | 15/94 [00:39<03:25,  2.60s/it]\u001b[A\n",
      "  Training:  17%|█▋        | 16/94 [00:41<03:24,  2.62s/it]\u001b[A\n",
      "  Training:  18%|█▊        | 17/94 [00:43<03:00,  2.34s/it]\u001b[A\n",
      "  Training:  19%|█▉        | 18/94 [00:46<03:05,  2.44s/it]\u001b[A\n",
      "  Training:  20%|██        | 19/94 [00:48<03:00,  2.41s/it]\u001b[A\n",
      "  Training:  21%|██▏       | 20/94 [00:50<02:47,  2.26s/it]\u001b[A\n",
      "  Training:  22%|██▏       | 21/94 [00:53<02:54,  2.39s/it]\u001b[A\n",
      "  Training:  23%|██▎       | 22/94 [00:55<02:49,  2.36s/it]\u001b[A\n",
      "  Training:  24%|██▍       | 23/94 [00:58<02:54,  2.45s/it]\u001b[A\n",
      "  Training:  26%|██▌       | 24/94 [01:00<02:45,  2.37s/it]\u001b[A\n",
      "  Training:  27%|██▋       | 25/94 [01:03<02:50,  2.47s/it]\u001b[A\n",
      "  Training:  28%|██▊       | 26/94 [01:05<02:51,  2.53s/it]\u001b[A\n",
      "  Training:  29%|██▊       | 27/94 [01:08<02:52,  2.58s/it]\u001b[A\n",
      "  Training:  30%|██▉       | 28/94 [01:11<02:52,  2.61s/it]\u001b[A\n",
      "  Training:  31%|███       | 29/94 [01:13<02:50,  2.63s/it]\u001b[A\n",
      "  Training:  32%|███▏      | 30/94 [01:16<02:49,  2.65s/it]\u001b[A\n",
      "  Training:  33%|███▎      | 31/94 [01:19<02:47,  2.65s/it]\u001b[A\n",
      "  Training:  34%|███▍      | 32/94 [01:21<02:44,  2.66s/it]\u001b[A\n",
      "  Training:  35%|███▌      | 33/94 [01:24<02:42,  2.66s/it]\u001b[A\n",
      "  Training:  36%|███▌      | 34/94 [01:26<02:25,  2.43s/it]\u001b[A\n",
      "  Training:  37%|███▋      | 35/94 [01:29<02:27,  2.50s/it]\u001b[A\n",
      "  Training:  38%|███▊      | 36/94 [01:30<02:13,  2.29s/it]\u001b[A\n",
      "  Training:  39%|███▉      | 37/94 [01:33<02:15,  2.37s/it]\u001b[A\n",
      "  Training:  40%|████      | 38/94 [01:35<02:06,  2.25s/it]\u001b[A\n",
      "  Training:  41%|████▏     | 39/94 [01:38<02:10,  2.37s/it]\u001b[A\n",
      "  Training:  43%|████▎     | 40/94 [01:40<02:13,  2.47s/it]\u001b[A\n",
      "  Training:  44%|████▎     | 41/94 [01:43<02:13,  2.53s/it]\u001b[A\n",
      "  Training:  45%|████▍     | 42/94 [01:46<02:13,  2.57s/it]\u001b[A\n",
      "  Training:  46%|████▌     | 43/94 [01:48<02:08,  2.52s/it]\u001b[A\n",
      "  Training:  47%|████▋     | 44/94 [01:51<02:08,  2.57s/it]\u001b[A\n",
      "  Training:  48%|████▊     | 45/94 [01:53<02:07,  2.60s/it]\u001b[A\n",
      "  Training:  49%|████▉     | 46/94 [01:56<01:59,  2.50s/it]\u001b[A\n",
      "  Training:  50%|█████     | 47/94 [01:58<01:59,  2.55s/it]\u001b[A\n",
      "  Training:  51%|█████     | 48/94 [02:01<01:59,  2.59s/it]\u001b[A\n",
      "  Training:  52%|█████▏    | 49/94 [02:03<01:43,  2.29s/it]\u001b[A\n",
      "  Training:  53%|█████▎    | 50/94 [02:05<01:43,  2.36s/it]\u001b[A\n",
      "  Training:  54%|█████▍    | 51/94 [02:07<01:40,  2.33s/it]\u001b[A\n",
      "  Training:  55%|█████▌    | 52/94 [02:10<01:40,  2.38s/it]\u001b[A\n",
      "  Training:  56%|█████▋    | 53/94 [02:13<01:41,  2.47s/it]\u001b[A\n",
      "  Training:  57%|█████▋    | 54/94 [02:15<01:41,  2.53s/it]\u001b[A\n",
      "  Training:  59%|█████▊    | 55/94 [02:18<01:40,  2.57s/it]\u001b[A\n",
      "  Training:  60%|█████▉    | 56/94 [02:21<01:38,  2.59s/it]\u001b[A\n",
      "  Training:  61%|██████    | 57/94 [02:23<01:36,  2.62s/it]\u001b[A\n",
      "  Training:  62%|██████▏   | 58/94 [02:26<01:33,  2.59s/it]\u001b[A\n",
      "  Training:  63%|██████▎   | 59/94 [02:28<01:28,  2.54s/it]\u001b[A\n",
      "  Training:  64%|██████▍   | 60/94 [02:31<01:27,  2.59s/it]\u001b[A\n",
      "  Training:  65%|██████▍   | 61/94 [02:33<01:26,  2.61s/it]\u001b[A\n",
      "  Training:  66%|██████▌   | 62/94 [02:36<01:24,  2.63s/it]\u001b[A\n",
      "  Training:  67%|██████▋   | 63/94 [02:38<01:18,  2.53s/it]\u001b[A\n",
      "  Training:  68%|██████▊   | 64/94 [02:41<01:17,  2.57s/it]\u001b[A\n",
      "  Training:  69%|██████▉   | 65/94 [02:43<01:12,  2.49s/it]\u001b[A\n",
      "  Training:  70%|███████   | 66/94 [02:46<01:11,  2.54s/it]\u001b[A\n",
      "  Training:  71%|███████▏  | 67/94 [02:49<01:09,  2.59s/it]\u001b[A\n",
      "  Training:  72%|███████▏  | 68/94 [02:51<01:07,  2.61s/it]\u001b[A\n",
      "  Training:  73%|███████▎  | 69/94 [02:54<01:05,  2.62s/it]\u001b[A\n",
      "  Training:  74%|███████▍  | 70/94 [02:57<01:03,  2.65s/it]\u001b[A\n",
      "  Training:  76%|███████▌  | 71/94 [02:59<01:01,  2.65s/it]\u001b[A\n",
      "  Training:  77%|███████▋  | 72/94 [03:02<00:58,  2.66s/it]\u001b[A\n",
      "  Training:  78%|███████▊  | 73/94 [03:04<00:53,  2.55s/it]\u001b[A\n",
      "  Training:  79%|███████▊  | 74/94 [03:07<00:50,  2.52s/it]\u001b[A\n",
      "  Training:  80%|███████▉  | 75/94 [03:10<00:48,  2.57s/it]\u001b[A\n",
      "  Training:  81%|████████  | 76/94 [03:12<00:45,  2.55s/it]\u001b[A\n",
      "  Training:  82%|████████▏ | 77/94 [03:15<00:43,  2.59s/it]\u001b[A\n",
      "  Training:  83%|████████▎ | 78/94 [03:17<00:41,  2.61s/it]\u001b[A\n",
      "  Training:  84%|████████▍ | 79/94 [03:20<00:39,  2.63s/it]\u001b[A\n",
      "  Training:  85%|████████▌ | 80/94 [03:23<00:37,  2.65s/it]\u001b[A\n",
      "  Training:  86%|████████▌ | 81/94 [03:25<00:34,  2.64s/it]\u001b[A\n",
      "  Training:  87%|████████▋ | 82/94 [03:27<00:28,  2.36s/it]\u001b[A\n",
      "  Training:  88%|████████▊ | 83/94 [03:30<00:27,  2.46s/it]\u001b[A\n",
      "  Training:  89%|████████▉ | 84/94 [03:32<00:25,  2.52s/it]\u001b[A\n",
      "  Training:  90%|█████████ | 85/94 [03:35<00:22,  2.50s/it]\u001b[A\n",
      "  Training:  91%|█████████▏| 86/94 [03:38<00:20,  2.55s/it]\u001b[A\n",
      "  Training:  93%|█████████▎| 87/94 [03:40<00:17,  2.48s/it]\u001b[A\n",
      "  Training:  94%|█████████▎| 88/94 [03:43<00:15,  2.54s/it]\u001b[A\n",
      "  Training:  95%|█████████▍| 89/94 [03:45<00:12,  2.58s/it]\u001b[A\n",
      "  Training:  96%|█████████▌| 90/94 [03:47<00:09,  2.38s/it]\u001b[A\n",
      "  Training:  97%|█████████▋| 91/94 [03:50<00:07,  2.50s/it]\u001b[A\n",
      "  Training:  98%|█████████▊| 92/94 [03:53<00:05,  2.52s/it]\u001b[A\n",
      "  Training:  99%|█████████▉| 93/94 [03:55<00:02,  2.40s/it]\u001b[A\n",
      "  Training: 100%|██████████| 94/94 [03:56<00:00,  1.98s/it]\u001b[A\n",
      "                                                           \u001b[A\n",
      "  Evaluating:   0%|          | 0/4 [00:00<?, ?it/s]\u001b[A\n",
      "  Evaluating:  25%|██▌       | 1/4 [00:00<00:00,  3.09it/s]\u001b[A\n",
      "  Evaluating:  50%|█████     | 2/4 [00:00<00:00,  4.42it/s]\u001b[A\n",
      "  Evaluating:  75%|███████▌  | 3/4 [00:00<00:00,  4.83it/s]\u001b[A\n",
      "LSTM Epochs:  24%|██▍       | 12/50 [1:11:03<3:46:25, 357.51s/it]"
     ]
    },
    {
     "name": "stdout",
     "output_type": "stream",
     "text": [
      "[LSTM ep12] tr=1.877 val=4.153 | ppl=63.6% acc=0.00% | time=236.1s mem=11838.8MB inf=3.21ms/s\n"
     ]
    },
    {
     "name": "stderr",
     "output_type": "stream",
     "text": [
      "\n",
      "  Training:   0%|          | 0/94 [00:00<?, ?it/s]\u001b[A\n",
      "  Training:   1%|          | 1/94 [00:02<04:08,  2.67s/it]\u001b[A\n",
      "  Training:   2%|▏         | 2/94 [00:05<04:04,  2.66s/it]\u001b[A\n",
      "  Training:   3%|▎         | 3/94 [00:07<04:02,  2.67s/it]\u001b[A\n",
      "  Training:   4%|▍         | 4/94 [00:10<03:59,  2.67s/it]\u001b[A\n",
      "  Training:   5%|▌         | 5/94 [00:13<03:55,  2.64s/it]\u001b[A\n",
      "  Training:   6%|▋         | 6/94 [00:15<03:53,  2.65s/it]\u001b[A\n",
      "  Training:   7%|▋         | 7/94 [00:18<03:51,  2.66s/it]\u001b[A\n",
      "  Training:   9%|▊         | 8/94 [00:21<03:49,  2.66s/it]\u001b[A\n",
      "  Training:  10%|▉         | 9/94 [00:23<03:46,  2.67s/it]\u001b[A\n",
      "  Training:  11%|█         | 10/94 [00:26<03:44,  2.67s/it]\u001b[A\n",
      "  Training:  12%|█▏        | 11/94 [00:29<03:34,  2.59s/it]\u001b[A\n",
      "  Training:  13%|█▎        | 12/94 [00:31<03:34,  2.62s/it]\u001b[A\n",
      "  Training:  14%|█▍        | 13/94 [00:33<03:00,  2.22s/it]\u001b[A\n",
      "  Training:  15%|█▍        | 14/94 [00:35<03:08,  2.36s/it]\u001b[A\n",
      "  Training:  16%|█▌        | 15/94 [00:38<03:13,  2.45s/it]\u001b[A\n",
      "  Training:  17%|█▋        | 16/94 [00:41<03:16,  2.52s/it]\u001b[A\n",
      "  Training:  18%|█▊        | 17/94 [00:43<03:17,  2.57s/it]\u001b[A\n",
      "  Training:  19%|█▉        | 18/94 [00:46<03:18,  2.61s/it]\u001b[A\n",
      "  Training:  20%|██        | 19/94 [00:49<03:17,  2.63s/it]\u001b[A\n",
      "  Training:  21%|██▏       | 20/94 [00:51<03:15,  2.64s/it]\u001b[A\n",
      "  Training:  22%|██▏       | 21/94 [00:54<03:13,  2.65s/it]\u001b[A\n",
      "LSTM Epochs:  24%|██▍       | 12/50 [1:12:00<3:48:00, 360.00s/it]\n"
     ]
    },
    {
     "ename": "KeyboardInterrupt",
     "evalue": "",
     "output_type": "error",
     "traceback": [
      "\u001b[0;31m---------------------------------------------------------------------------\u001b[0m",
      "\u001b[0;31mKeyboardInterrupt\u001b[0m                         Traceback (most recent call last)",
      "\u001b[0;32m/tmp/ipykernel_31/859423202.py\u001b[0m in \u001b[0;36m<cell line: 0>\u001b[0;34m()\u001b[0m\n\u001b[1;32m     59\u001b[0m     \u001b[0mtorch\u001b[0m\u001b[0;34m.\u001b[0m\u001b[0mcuda\u001b[0m\u001b[0;34m.\u001b[0m\u001b[0mreset_max_memory_allocated\u001b[0m\u001b[0;34m(\u001b[0m\u001b[0;34m)\u001b[0m\u001b[0;34m\u001b[0m\u001b[0;34m\u001b[0m\u001b[0m\n\u001b[1;32m     60\u001b[0m     \u001b[0mt0\u001b[0m \u001b[0;34m=\u001b[0m \u001b[0mtime\u001b[0m\u001b[0;34m.\u001b[0m\u001b[0mtime\u001b[0m\u001b[0;34m(\u001b[0m\u001b[0;34m)\u001b[0m\u001b[0;34m\u001b[0m\u001b[0;34m\u001b[0m\u001b[0m\n\u001b[0;32m---> 61\u001b[0;31m     \u001b[0mtr_loss\u001b[0m \u001b[0;34m=\u001b[0m \u001b[0mtrain_epoch\u001b[0m\u001b[0;34m(\u001b[0m\u001b[0mlstm\u001b[0m\u001b[0;34m,\u001b[0m \u001b[0mtrain_loader\u001b[0m\u001b[0;34m,\u001b[0m \u001b[0mopt\u001b[0m\u001b[0;34m,\u001b[0m \u001b[0mcrit\u001b[0m\u001b[0;34m,\u001b[0m \u001b[0mdevice\u001b[0m\u001b[0;34m)\u001b[0m\u001b[0;34m\u001b[0m\u001b[0;34m\u001b[0m\u001b[0m\n\u001b[0m\u001b[1;32m     62\u001b[0m     \u001b[0mtr_time\u001b[0m \u001b[0;34m=\u001b[0m \u001b[0mtime\u001b[0m\u001b[0;34m.\u001b[0m\u001b[0mtime\u001b[0m\u001b[0;34m(\u001b[0m\u001b[0;34m)\u001b[0m \u001b[0;34m-\u001b[0m \u001b[0mt0\u001b[0m\u001b[0;34m\u001b[0m\u001b[0;34m\u001b[0m\u001b[0m\n\u001b[1;32m     63\u001b[0m     \u001b[0mtr_mem\u001b[0m  \u001b[0;34m=\u001b[0m \u001b[0mtorch\u001b[0m\u001b[0;34m.\u001b[0m\u001b[0mcuda\u001b[0m\u001b[0;34m.\u001b[0m\u001b[0mmax_memory_allocated\u001b[0m\u001b[0;34m(\u001b[0m\u001b[0;34m)\u001b[0m \u001b[0;34m/\u001b[0m \u001b[0;34m(\u001b[0m\u001b[0;36m1024\u001b[0m\u001b[0;34m**\u001b[0m\u001b[0;36m2\u001b[0m\u001b[0;34m)\u001b[0m\u001b[0;34m\u001b[0m\u001b[0;34m\u001b[0m\u001b[0m\n",
      "\u001b[0;32m/tmp/ipykernel_31/3386704716.py\u001b[0m in \u001b[0;36mtrain_epoch\u001b[0;34m(model, loader, optimizer, criterion, device)\u001b[0m\n\u001b[1;32m     16\u001b[0m             \u001b[0mtgt\u001b[0m\u001b[0;34m[\u001b[0m\u001b[0;34m:\u001b[0m\u001b[0;34m,\u001b[0m \u001b[0;36m1\u001b[0m\u001b[0;34m:\u001b[0m\u001b[0;34m]\u001b[0m\u001b[0;34m.\u001b[0m\u001b[0mreshape\u001b[0m\u001b[0;34m(\u001b[0m\u001b[0;34m-\u001b[0m\u001b[0;36m1\u001b[0m\u001b[0;34m)\u001b[0m\u001b[0;34m\u001b[0m\u001b[0;34m\u001b[0m\u001b[0m\n\u001b[1;32m     17\u001b[0m         )\n\u001b[0;32m---> 18\u001b[0;31m         \u001b[0mloss\u001b[0m\u001b[0;34m.\u001b[0m\u001b[0mbackward\u001b[0m\u001b[0;34m(\u001b[0m\u001b[0;34m)\u001b[0m\u001b[0;34m\u001b[0m\u001b[0;34m\u001b[0m\u001b[0m\n\u001b[0m\u001b[1;32m     19\u001b[0m         \u001b[0mclip_grad_norm_\u001b[0m\u001b[0;34m(\u001b[0m\u001b[0mmodel\u001b[0m\u001b[0;34m.\u001b[0m\u001b[0mparameters\u001b[0m\u001b[0;34m(\u001b[0m\u001b[0;34m)\u001b[0m\u001b[0;34m,\u001b[0m \u001b[0mmax_norm\u001b[0m\u001b[0;34m=\u001b[0m\u001b[0;36m1.0\u001b[0m\u001b[0;34m)\u001b[0m\u001b[0;34m\u001b[0m\u001b[0;34m\u001b[0m\u001b[0m\n\u001b[1;32m     20\u001b[0m         \u001b[0moptimizer\u001b[0m\u001b[0;34m.\u001b[0m\u001b[0mstep\u001b[0m\u001b[0;34m(\u001b[0m\u001b[0;34m)\u001b[0m\u001b[0;34m\u001b[0m\u001b[0;34m\u001b[0m\u001b[0m\n",
      "\u001b[0;32m/usr/local/lib/python3.11/dist-packages/torch/_tensor.py\u001b[0m in \u001b[0;36mbackward\u001b[0;34m(self, gradient, retain_graph, create_graph, inputs)\u001b[0m\n\u001b[1;32m    579\u001b[0m                 \u001b[0minputs\u001b[0m\u001b[0;34m=\u001b[0m\u001b[0minputs\u001b[0m\u001b[0;34m,\u001b[0m\u001b[0;34m\u001b[0m\u001b[0;34m\u001b[0m\u001b[0m\n\u001b[1;32m    580\u001b[0m             )\n\u001b[0;32m--> 581\u001b[0;31m         torch.autograd.backward(\n\u001b[0m\u001b[1;32m    582\u001b[0m             \u001b[0mself\u001b[0m\u001b[0;34m,\u001b[0m \u001b[0mgradient\u001b[0m\u001b[0;34m,\u001b[0m \u001b[0mretain_graph\u001b[0m\u001b[0;34m,\u001b[0m \u001b[0mcreate_graph\u001b[0m\u001b[0;34m,\u001b[0m \u001b[0minputs\u001b[0m\u001b[0;34m=\u001b[0m\u001b[0minputs\u001b[0m\u001b[0;34m\u001b[0m\u001b[0;34m\u001b[0m\u001b[0m\n\u001b[1;32m    583\u001b[0m         )\n",
      "\u001b[0;32m/usr/local/lib/python3.11/dist-packages/torch/autograd/__init__.py\u001b[0m in \u001b[0;36mbackward\u001b[0;34m(tensors, grad_tensors, retain_graph, create_graph, grad_variables, inputs)\u001b[0m\n\u001b[1;32m    345\u001b[0m     \u001b[0;31m# some Python versions print out the first line of a multi-line function\u001b[0m\u001b[0;34m\u001b[0m\u001b[0;34m\u001b[0m\u001b[0m\n\u001b[1;32m    346\u001b[0m     \u001b[0;31m# calls in the traceback and some print out the last line\u001b[0m\u001b[0;34m\u001b[0m\u001b[0;34m\u001b[0m\u001b[0m\n\u001b[0;32m--> 347\u001b[0;31m     _engine_run_backward(\n\u001b[0m\u001b[1;32m    348\u001b[0m         \u001b[0mtensors\u001b[0m\u001b[0;34m,\u001b[0m\u001b[0;34m\u001b[0m\u001b[0;34m\u001b[0m\u001b[0m\n\u001b[1;32m    349\u001b[0m         \u001b[0mgrad_tensors_\u001b[0m\u001b[0;34m,\u001b[0m\u001b[0;34m\u001b[0m\u001b[0;34m\u001b[0m\u001b[0m\n",
      "\u001b[0;32m/usr/local/lib/python3.11/dist-packages/torch/autograd/graph.py\u001b[0m in \u001b[0;36m_engine_run_backward\u001b[0;34m(t_outputs, *args, **kwargs)\u001b[0m\n\u001b[1;32m    823\u001b[0m         \u001b[0munregister_hooks\u001b[0m \u001b[0;34m=\u001b[0m \u001b[0m_register_logging_hooks_on_whole_graph\u001b[0m\u001b[0;34m(\u001b[0m\u001b[0mt_outputs\u001b[0m\u001b[0;34m)\u001b[0m\u001b[0;34m\u001b[0m\u001b[0;34m\u001b[0m\u001b[0m\n\u001b[1;32m    824\u001b[0m     \u001b[0;32mtry\u001b[0m\u001b[0;34m:\u001b[0m\u001b[0;34m\u001b[0m\u001b[0;34m\u001b[0m\u001b[0m\n\u001b[0;32m--> 825\u001b[0;31m         return Variable._execution_engine.run_backward(  # Calls into the C++ engine to run the backward pass\n\u001b[0m\u001b[1;32m    826\u001b[0m             \u001b[0mt_outputs\u001b[0m\u001b[0;34m,\u001b[0m \u001b[0;34m*\u001b[0m\u001b[0margs\u001b[0m\u001b[0;34m,\u001b[0m \u001b[0;34m**\u001b[0m\u001b[0mkwargs\u001b[0m\u001b[0;34m\u001b[0m\u001b[0;34m\u001b[0m\u001b[0m\n\u001b[1;32m    827\u001b[0m         )  # Calls into the C++ engine to run the backward pass\n",
      "\u001b[0;31mKeyboardInterrupt\u001b[0m: "
     ]
    }
   ],
   "source": [
    "# Translate batch utility (for BLEU/accuracy)\n",
    "def translate_batch(model, loader, sp_src, sp_tgt, device, max_len=128):\n",
    "    model.eval()\n",
    "    refs, hyps = [], []\n",
    "    sos, eos = 1, 2\n",
    "    with torch.no_grad():\n",
    "        for src, tgt in loader:\n",
    "            src = src.to(device)\n",
    "            \n",
    "            for r in tgt.cpu().tolist():\n",
    "                refs.append(sp_tgt.decode_ids(r[1:-1]))\n",
    "            \n",
    "            batch_size = src.size(0)\n",
    "            dec = torch.full((batch_size,1), sos, dtype=torch.long, device=device)\n",
    "            for _ in range(max_len-1):\n",
    "                logits = model(src, dec)\n",
    "                next_tok = logits[:,-1,:].argmax(-1, keepdim=True)\n",
    "                dec = torch.cat([dec, next_tok], dim=1)\n",
    "                if (next_tok==eos).all(): break\n",
    "            for seq in dec.cpu().tolist():\n",
    "                if eos in seq:\n",
    "                    seq = seq[:seq.index(eos)]\n",
    "                hyps.append(sp_tgt.decode_ids(seq[1:]))\n",
    "    return refs, hyps\n",
    "\n",
    "\n",
    "# Inference speed measurement\n",
    "def measure_inference_speed(model, loader, device, warmup=2):\n",
    "    model.eval()\n",
    "    timings = []\n",
    "    with torch.no_grad():\n",
    "        for i,(src,tgt) in enumerate(loader):\n",
    "            if i<warmup:\n",
    "                _ = model(src.to(device), tgt[:,:-1].to(device))\n",
    "                continue\n",
    "            src, tgt = src.to(device), tgt.to(device)\n",
    "            if device.type=='cuda': torch.cuda.synchronize()\n",
    "            t0 = time.time()\n",
    "            _ = model(src, tgt[:,:-1])\n",
    "            if device.type=='cuda': torch.cuda.synchronize()\n",
    "            t1 = time.time()\n",
    "            timings.append((t1-t0)*1000/src.size(0))\n",
    "    return float(np.mean(timings))\n",
    "\n",
    "\n",
    "device = torch.device('cuda' if torch.cuda.is_available() else 'cpu')\n",
    "lstm = Seq2SeqLSTM(len(sp_en), len(sp_ur)).to(device)\n",
    "opt  = optim.Adam(lstm.parameters(), lr=5e-4)\n",
    "crit = nn.CrossEntropyLoss(ignore_index=0)\n",
    "\n",
    "train_losses, val_losses = [], []\n",
    "train_times, train_mems = [], []\n",
    "perplexities, val_accs, inf_speeds = [], [], []\n",
    "\n",
    "best_val, wait = float('inf'), 0\n",
    "patience = 5\n",
    "\n",
    "for ep in trange(1, 51, desc=\"LSTM Epochs\"):\n",
    "    torch.cuda.reset_max_memory_allocated()\n",
    "    t0 = time.time()\n",
    "    tr_loss = train_epoch(lstm, train_loader, opt, crit, device)\n",
    "    tr_time = time.time() - t0\n",
    "    tr_mem  = torch.cuda.max_memory_allocated() / (1024**2)\n",
    "\n",
    "    val_loss = eval_epoch(lstm, dev_loader, crit, device)\n",
    "    val_ppl  = torch.exp(torch.tensor(val_loss)).item()\n",
    "\n",
    "    refs, hyps = translate_batch(lstm, dev_loader, sp_en, sp_ur, device)\n",
    "    acc = sum(r.strip()==h.strip() for r,h in zip(refs,hyps)) / len(refs) * 100\n",
    "\n",
    "    inf_speed = measure_inference_speed(lstm, dev_loader, device)\n",
    "\n",
    "    print(f\"[LSTM ep{ep:02d}] tr={tr_loss:.3f} val={val_loss:.3f} | \"\n",
    "          f\"ppl={val_ppl:.1f}% acc={acc:.2f}% | \"\n",
    "          f\"time={tr_time:.1f}s mem={tr_mem:.1f}MB inf={inf_speed:.2f}ms/s\")\n",
    "\n",
    "    if val_loss < best_val:\n",
    "        best_val, wait = val_loss, 0\n",
    "        torch.save(lstm.state_dict(), 'best_lstm.pt')\n",
    "    else:\n",
    "        wait += 1\n",
    "        if wait >= patience:\n",
    "            print(\"Early stopping.\")\n",
    "            break\n",
    "\n",
    "    train_losses.append(tr_loss)\n",
    "    val_losses.append(val_loss)\n",
    "    train_times.append(tr_time)\n",
    "    train_mems.append(tr_mem)\n",
    "    perplexities.append(val_ppl)\n",
    "    val_accs.append(acc)\n",
    "    inf_speeds.append(inf_speed)"
   ]
  },
  {
   "cell_type": "code",
   "execution_count": 182,
   "metadata": {
    "execution": {
     "iopub.execute_input": "2025-05-01T18:46:16.327151Z",
     "iopub.status.busy": "2025-05-01T18:46:16.326411Z",
     "iopub.status.idle": "2025-05-01T18:46:16.457687Z",
     "shell.execute_reply": "2025-05-01T18:46:16.456975Z",
     "shell.execute_reply.started": "2025-05-01T18:46:16.327128Z"
    },
    "trusted": true
   },
   "outputs": [
    {
     "data": {
      "image/png": "[encoded data removed]",
      "text/plain": [
       "<Figure size 640x480 with 1 Axes>"
      ]
     },
     "metadata": {},
     "output_type": "display_data"
    }
   ],
   "source": [
    "import matplotlib.pyplot as plt\n",
    "epochs = range(1, len(train_losses)+1)\n",
    "plt.plot(epochs, train_losses, label='Train Loss')\n",
    "plt.plot(epochs, val_losses,   label='Val Loss')\n",
    "plt.xlabel('Epoch'); plt.ylabel('Loss'); plt.legend(); plt.show()"
   ]
  },
  {
   "cell_type": "code",
   "execution_count": null,
   "metadata": {
    "trusted": true
   },
   "outputs": [],
   "source": []
  },
  {
   "cell_type": "markdown",
   "metadata": {},
   "source": [
    "## 4. Evaluation (BLEU, ROUGE, Perplexity):"
   ]
  },
  {
   "cell_type": "code",
   "execution_count": 22,
   "metadata": {
    "execution": {
     "iopub.execute_input": "2025-05-01T14:16:12.562919Z",
     "iopub.status.busy": "2025-05-01T14:16:12.562163Z",
     "iopub.status.idle": "2025-05-01T14:16:15.650435Z",
     "shell.execute_reply": "2025-05-01T14:16:15.649747Z",
     "shell.execute_reply.started": "2025-05-01T14:16:12.562894Z"
    },
    "trusted": true
   },
   "outputs": [
    {
     "name": "stdout",
     "output_type": "stream",
     "text": [
      "Collecting rouge\n",
      "  Downloading rouge-1.0.1-py3-none-any.whl.metadata (4.1 kB)\n",
      "Requirement already satisfied: six in /usr/local/lib/python3.11/dist-packages (from rouge) (1.17.0)\n",
      "Downloading rouge-1.0.1-py3-none-any.whl (13 kB)\n",
      "Installing collected packages: rouge\n",
      "Successfully installed rouge-1.0.1\n"
     ]
    }
   ],
   "source": [
    "!pip install sacrebleu\n",
    "!pip install rouge "
   ]
  },
  {
   "cell_type": "code",
   "execution_count": 29,
   "metadata": {
    "execution": {
     "iopub.execute_input": "2025-05-01T14:27:50.433620Z",
     "iopub.status.busy": "2025-05-01T14:27:50.432821Z",
     "iopub.status.idle": "2025-05-01T14:28:37.502388Z",
     "shell.execute_reply": "2025-05-01T14:28:37.501662Z",
     "shell.execute_reply.started": "2025-05-01T14:27:50.433594Z"
    },
    "trusted": true
   },
   "outputs": [
    {
     "name": "stderr",
     "output_type": "stream",
     "text": [
      "/tmp/ipykernel_31/1378941197.py:59: FutureWarning: You are using `torch.load` with `weights_only=False` (the current default value), which uses the default pickle module implicitly. It is possible to construct malicious pickle data which will execute arbitrary code during unpickling (See https://github.com/pytorch/pytorch/blob/main/SECURITY.md#untrusted-models for more details). In a future release, the default value for `weights_only` will be flipped to `True`. This limits the functions that could be executed during unpickling. Arbitrary objects will no longer be allowed to be loaded via this mode unless they are explicitly allowlisted by the user via `torch.serialization.add_safe_globals`. We recommend you start setting `weights_only=True` for any use case where you don't have full control of the loaded file. Please open an issue on GitHub for any issues related to this experimental feature.\n",
      "  transformer.load_state_dict(torch.load('best_transformer.pt'))\n"
     ]
    },
    {
     "name": "stdout",
     "output_type": "stream",
     "text": [
      "BLEU: 0.929091533307632\n",
      "ROUGE: {'rouge-1': {'r': 0.322761657242058, 'p': 0.3030336550435393, 'f': 0.3046248400139588}, 'rouge-2': {'r': 0.06530680964588574, 'p': 0.06106835829981618, 'f': 0.06140184963264858}, 'rouge-l': {'r': 0.28559675939742823, 'p': 0.2670119232092071, 'f': 0.2688358249614572}}\n"
     ]
    },
    {
     "name": "stderr",
     "output_type": "stream",
     "text": [
      "                                                           "
     ]
    },
    {
     "name": "stdout",
     "output_type": "stream",
     "text": [
      "Transformer Perplexity: tensor(86.9357)\n"
     ]
    },
    {
     "name": "stderr",
     "output_type": "stream",
     "text": [
      "\r"
     ]
    }
   ],
   "source": [
    "import sacrebleu\n",
    "from rouge import Rouge\n",
    "\n",
    "def translate_batch(model, loader, sp_src, sp_tgt, device, max_len=128):\n",
    "    model.eval()\n",
    "    refs, hyps = [], []\n",
    "    sos_id, eos_id = 1, 2\n",
    "\n",
    "    with torch.no_grad():\n",
    "        for src, tgt in loader:\n",
    "            src = src.to(device)\n",
    "\n",
    "            for ref_ids in tgt.cpu().tolist():\n",
    "                refs.append(sp_tgt.decode_ids(ref_ids[1:-1]).strip())\n",
    "\n",
    "            batch_size = src.size(0)\n",
    "            \n",
    "            dec_input = torch.full(\n",
    "                (batch_size, 1),\n",
    "                fill_value=sos_id,\n",
    "                dtype=torch.long,\n",
    "                device=device\n",
    "            )\n",
    "\n",
    "            for _ in range(max_len - 1):\n",
    "                \n",
    "                logits = model(src, dec_input)\n",
    "               \n",
    "                next_token_logits = logits[:, -1, :]        \n",
    "                next_tokens = next_token_logits.argmax(-1) \n",
    "   \n",
    "                dec_input = torch.cat(\n",
    "                    [dec_input, next_tokens.unsqueeze(1)],\n",
    "                    dim=1\n",
    "                )\n",
    "\n",
    "                if (next_tokens == eos_id).all():\n",
    "                    break\n",
    "\n",
    "            \n",
    "            for seq in dec_input.cpu().tolist():\n",
    "                if eos_id in seq:\n",
    "                    seq = seq[: seq.index(eos_id)]\n",
    "                hyp_ids = seq[1:]  \n",
    "                hyps.append(sp_tgt.decode_ids(hyp_ids).strip())\n",
    "\n",
    "    return refs, hyps\n",
    "\n",
    "\n",
    "transformer.load_state_dict(torch.load('best_transformer.pt'))\n",
    "refs, hyps = translate_batch(transformer, test_loader, sp_en, sp_ur, device)\n",
    "\n",
    "pairs = [(h, r) for h, r in zip(hyps, refs) if h and r]\n",
    "hyps_f, refs_f = zip(*pairs)\n",
    "\n",
    "# Computing BLEU\n",
    "bleu = sacrebleu.corpus_bleu(list(hyps_f), [list(refs_f)])\n",
    "print(\"BLEU:\", bleu.score)\n",
    "\n",
    "# Computing ROUGE\n",
    "rouge = Rouge()\n",
    "rouge_scores = rouge.get_scores(list(hyps_f), list(refs_f), avg=True)\n",
    "print(\"ROUGE:\", rouge_scores)\n",
    "\n",
    "# Perplexity\n",
    "def perplexity(model, loader, crit, device):\n",
    "    loss = eval_epoch(model, loader, crit, device)\n",
    "    return torch.exp(torch.tensor(loss))\n",
    "\n",
    "print(\"Transformer Perplexity:\", perplexity(transformer, test_loader, crit, device))\n"
   ]
  },
  {
   "cell_type": "code",
   "execution_count": null,
   "metadata": {
    "trusted": true
   },
   "outputs": [],
   "source": []
  },
  {
   "cell_type": "markdown",
   "metadata": {},
   "source": [
    "## 5. Attention Visualization:"
   ]
  },
  {
   "cell_type": "code",
   "execution_count": 34,
   "metadata": {
    "execution": {
     "iopub.execute_input": "2025-05-01T14:35:59.439379Z",
     "iopub.status.busy": "2025-05-01T14:35:59.438712Z",
     "iopub.status.idle": "2025-05-01T14:36:00.061458Z",
     "shell.execute_reply": "2025-05-01T14:36:00.060801Z",
     "shell.execute_reply.started": "2025-05-01T14:35:59.439355Z"
    },
    "trusted": true
   },
   "outputs": [
    {
     "data": {
      "image/png": "[encoded data removed]",
      "text/plain": [
       "<Figure size 800x800 with 1 Axes>"
      ]
     },
     "metadata": {},
     "output_type": "display_data"
    }
   ],
   "source": [
    "import torch\n",
    "import matplotlib.pyplot as plt\n",
    "\n",
    "def plot_attention(attn_weights, src_tokens, head=0):\n",
    "   \n",
    "    mat = attn_weights[head].detach().cpu()\n",
    "    fig, ax = plt.subplots(figsize=(8,8))\n",
    "    ax.matshow(mat, aspect='auto')\n",
    "    ax.set_xticks(range(len(src_tokens)))\n",
    "    ax.set_yticks(range(len(src_tokens)))\n",
    "    ax.set_xticklabels(src_tokens, rotation=90)\n",
    "    ax.set_yticklabels(src_tokens)\n",
    "    plt.show()\n",
    "\n",
    "\n",
    "sample = train_loader.dataset[0]         \n",
    "sample_src = sample['src'].unsqueeze(0).to(device)  \n",
    "\n",
    "src_emb = transformer.pos_enc(\n",
    "    transformer.src_tok(sample_src).transpose(0,1)\n",
    ")  \n",
    "\n",
    "attn_layer = transformer.transformer.encoder.layers[0].self_attn\n",
    "attn_out, attn_weights = attn_layer(\n",
    "    src_emb, src_emb, src_emb,\n",
    "    need_weights=True,\n",
    "    average_attn_weights=False\n",
    ")\n",
    "\n",
    "attn_weights = attn_weights[0]\n",
    "\n",
    "src_tokens = sp_en.decode_ids(sample_src[0].cpu().tolist())\n",
    "\n",
    "plot_attention(attn_weights, src_tokens, head=0)\n"
   ]
  },
  {
   "cell_type": "code",
   "execution_count": null,
   "metadata": {
    "trusted": true
   },
   "outputs": [],
   "source": []
  },
  {
   "cell_type": "markdown",
   "metadata": {},
   "source": [
    "## Deploy:"
   ]
  },
  {
   "cell_type": "code",
   "execution_count": 35,
   "metadata": {
    "execution": {
     "iopub.execute_input": "2025-05-01T14:43:20.246877Z",
     "iopub.status.busy": "2025-05-01T14:43:20.246328Z",
     "iopub.status.idle": "2025-05-01T14:43:28.390537Z",
     "shell.execute_reply": "2025-05-01T14:43:28.389678Z",
     "shell.execute_reply.started": "2025-05-01T14:43:20.246852Z"
    },
    "trusted": true
   },
   "outputs": [
    {
     "name": "stdout",
     "output_type": "stream",
     "text": [
      "Collecting pyngrok\n",
      "  Downloading pyngrok-7.2.5-py3-none-any.whl.metadata (8.9 kB)\n",
      "Requirement already satisfied: PyYAML>=5.1 in /usr/local/lib/python3.11/dist-packages (from pyngrok) (6.0.2)\n",
      "Downloading pyngrok-7.2.5-py3-none-any.whl (23 kB)\n",
      "Installing collected packages: pyngrok\n",
      "Successfully installed pyngrok-7.2.5\n",
      "Collecting streamlit\n",
      "  Downloading streamlit-1.45.0-py3-none-any.whl.metadata (8.9 kB)\n",
      "Requirement already satisfied: altair<6,>=4.0 in /usr/local/lib/python3.11/dist-packages (from streamlit) (5.5.0)\n",
      "Requirement already satisfied: blinker<2,>=1.5.0 in /usr/local/lib/python3.11/dist-packages (from streamlit) (1.9.0)\n",
      "Requirement already satisfied: cachetools<6,>=4.0 in /usr/local/lib/python3.11/dist-packages (from streamlit) (5.5.2)\n",
      "Requirement already satisfied: click<9,>=7.0 in /usr/local/lib/python3.11/dist-packages (from streamlit) (8.1.8)\n",
      "Requirement already satisfied: numpy<3,>=1.23 in /usr/local/lib/python3.11/dist-packages (from streamlit) (1.26.4)\n",
      "Requirement already satisfied: packaging<25,>=20 in /usr/local/lib/python3.11/dist-packages (from streamlit) (24.2)\n",
      "Requirement already satisfied: pandas<3,>=1.4.0 in /usr/local/lib/python3.11/dist-packages (from streamlit) (2.2.3)\n",
      "Requirement already satisfied: pillow<12,>=7.1.0 in /usr/local/lib/python3.11/dist-packages (from streamlit) (11.1.0)\n",
      "Requirement already satisfied: protobuf<7,>=3.20 in /usr/local/lib/python3.11/dist-packages (from streamlit) (3.20.3)\n",
      "Requirement already satisfied: pyarrow>=7.0 in /usr/local/lib/python3.11/dist-packages (from streamlit) (19.0.1)\n",
      "Requirement already satisfied: requests<3,>=2.27 in /usr/local/lib/python3.11/dist-packages (from streamlit) (2.32.3)\n",
      "Requirement already satisfied: tenacity<10,>=8.1.0 in /usr/local/lib/python3.11/dist-packages (from streamlit) (9.0.0)\n",
      "Requirement already satisfied: toml<2,>=0.10.1 in /usr/local/lib/python3.11/dist-packages (from streamlit) (0.10.2)\n",
      "Requirement already satisfied: typing-extensions<5,>=4.4.0 in /usr/local/lib/python3.11/dist-packages (from streamlit) (4.13.1)\n",
      "Requirement already satisfied: watchdog<7,>=2.1.5 in /usr/local/lib/python3.11/dist-packages (from streamlit) (6.0.0)\n",
      "Requirement already satisfied: gitpython!=3.1.19,<4,>=3.0.7 in /usr/local/lib/python3.11/dist-packages (from streamlit) (3.1.44)\n",
      "Collecting pydeck<1,>=0.8.0b4 (from streamlit)\n",
      "  Downloading pydeck-0.9.1-py2.py3-none-any.whl.metadata (4.1 kB)\n",
      "Requirement already satisfied: tornado<7,>=6.0.3 in /usr/local/lib/python3.11/dist-packages (from streamlit) (6.4.2)\n",
      "Requirement already satisfied: jinja2 in /usr/local/lib/python3.11/dist-packages (from altair<6,>=4.0->streamlit) (3.1.6)\n",
      "Requirement already satisfied: jsonschema>=3.0 in /usr/local/lib/python3.11/dist-packages (from altair<6,>=4.0->streamlit) (4.23.0)\n",
      "Requirement already satisfied: narwhals>=1.14.2 in /usr/local/lib/python3.11/dist-packages (from altair<6,>=4.0->streamlit) (1.26.0)\n",
      "Requirement already satisfied: gitdb<5,>=4.0.1 in /usr/local/lib/python3.11/dist-packages (from gitpython!=3.1.19,<4,>=3.0.7->streamlit) (4.0.12)\n",
      "Requirement already satisfied: mkl_fft in /usr/local/lib/python3.11/dist-packages (from numpy<3,>=1.23->streamlit) (1.3.8)\n",
      "Requirement already satisfied: mkl_random in /usr/local/lib/python3.11/dist-packages (from numpy<3,>=1.23->streamlit) (1.2.4)\n",
      "Requirement already satisfied: mkl_umath in /usr/local/lib/python3.11/dist-packages (from numpy<3,>=1.23->streamlit) (0.1.1)\n",
      "Requirement already satisfied: mkl in /usr/local/lib/python3.11/dist-packages (from numpy<3,>=1.23->streamlit) (2025.1.0)\n",
      "Requirement already satisfied: tbb4py in /usr/local/lib/python3.11/dist-packages (from numpy<3,>=1.23->streamlit) (2022.1.0)\n",
      "Requirement already satisfied: mkl-service in /usr/local/lib/python3.11/dist-packages (from numpy<3,>=1.23->streamlit) (2.4.1)\n",
      "Requirement already satisfied: python-dateutil>=2.8.2 in /usr/local/lib/python3.11/dist-packages (from pandas<3,>=1.4.0->streamlit) (2.9.0.post0)\n",
      "Requirement already satisfied: pytz>=2020.1 in /usr/local/lib/python3.11/dist-packages (from pandas<3,>=1.4.0->streamlit) (2025.2)\n",
      "Requirement already satisfied: tzdata>=2022.7 in /usr/local/lib/python3.11/dist-packages (from pandas<3,>=1.4.0->streamlit) (2025.2)\n",
      "Requirement already satisfied: charset-normalizer<4,>=2 in /usr/local/lib/python3.11/dist-packages (from requests<3,>=2.27->streamlit) (3.4.1)\n",
      "Requirement already satisfied: idna<4,>=2.5 in /usr/local/lib/python3.11/dist-packages (from requests<3,>=2.27->streamlit) (3.10)\n",
      "Requirement already satisfied: urllib3<3,>=1.21.1 in /usr/local/lib/python3.11/dist-packages (from requests<3,>=2.27->streamlit) (2.3.0)\n",
      "Requirement already satisfied: certifi>=2017.4.17 in /usr/local/lib/python3.11/dist-packages (from requests<3,>=2.27->streamlit) (2025.1.31)\n",
      "Requirement already satisfied: smmap<6,>=3.0.1 in /usr/local/lib/python3.11/dist-packages (from gitdb<5,>=4.0.1->gitpython!=3.1.19,<4,>=3.0.7->streamlit) (5.0.2)\n",
      "Requirement already satisfied: MarkupSafe>=2.0 in /usr/local/lib/python3.11/dist-packages (from jinja2->altair<6,>=4.0->streamlit) (3.0.2)\n",
      "Requirement already satisfied: attrs>=22.2.0 in /usr/local/lib/python3.11/dist-packages (from jsonschema>=3.0->altair<6,>=4.0->streamlit) (25.3.0)\n",
      "Requirement already satisfied: jsonschema-specifications>=2023.03.6 in /usr/local/lib/python3.11/dist-packages (from jsonschema>=3.0->altair<6,>=4.0->streamlit) (2024.10.1)\n",
      "Requirement already satisfied: referencing>=0.28.4 in /usr/local/lib/python3.11/dist-packages (from jsonschema>=3.0->altair<6,>=4.0->streamlit) (0.36.2)\n",
      "Requirement already satisfied: rpds-py>=0.7.1 in /usr/local/lib/python3.11/dist-packages (from jsonschema>=3.0->altair<6,>=4.0->streamlit) (0.22.3)\n",
      "Requirement already satisfied: six>=1.5 in /usr/local/lib/python3.11/dist-packages (from python-dateutil>=2.8.2->pandas<3,>=1.4.0->streamlit) (1.17.0)\n",
      "Requirement already satisfied: intel-openmp<2026,>=2024 in /usr/local/lib/python3.11/dist-packages (from mkl->numpy<3,>=1.23->streamlit) (2024.2.0)\n",
      "Requirement already satisfied: tbb==2022.* in /usr/local/lib/python3.11/dist-packages (from mkl->numpy<3,>=1.23->streamlit) (2022.1.0)\n",
      "Requirement already satisfied: tcmlib==1.* in /usr/local/lib/python3.11/dist-packages (from tbb==2022.*->mkl->numpy<3,>=1.23->streamlit) (1.2.0)\n",
      "Requirement already satisfied: intel-cmplr-lib-rt in /usr/local/lib/python3.11/dist-packages (from mkl_umath->numpy<3,>=1.23->streamlit) (2024.2.0)\n",
      "Requirement already satisfied: intel-cmplr-lib-ur==2024.2.0 in /usr/local/lib/python3.11/dist-packages (from intel-openmp<2026,>=2024->mkl->numpy<3,>=1.23->streamlit) (2024.2.0)\n",
      "Downloading streamlit-1.45.0-py3-none-any.whl (9.9 MB)\n",
      "\u001b[2K   \u001b[90m━━━━━━━━━━━━━━━━━━━━━━━━━━━━━━━━━━━━━━━━\u001b[0m \u001b[32m9.9/9.9 MB\u001b[0m \u001b[31m18.2 MB/s\u001b[0m eta \u001b[36m0:00:00\u001b[0m00:01\u001b[0m00:01\u001b[0m\n",
      "\u001b[?25hDownloading pydeck-0.9.1-py2.py3-none-any.whl (6.9 MB)\n",
      "\u001b[2K   \u001b[90m━━━━━━━━━━━━━━━━━━━━━━━━━━━━━━━━━━━━━━━━\u001b[0m \u001b[32m6.9/6.9 MB\u001b[0m \u001b[31m103.9 MB/s\u001b[0m eta \u001b[36m0:00:00\u001b[0m00:01\u001b[0m\n",
      "\u001b[?25hInstalling collected packages: pydeck, streamlit\n",
      "Successfully installed pydeck-0.9.1 streamlit-1.45.0\n"
     ]
    }
   ],
   "source": [
    "!pip install pyngrok\n",
    "!pip install streamlit"
   ]
  },
  {
   "cell_type": "code",
   "execution_count": 61,
   "metadata": {
    "execution": {
     "iopub.execute_input": "2025-05-01T14:57:54.212286Z",
     "iopub.status.busy": "2025-05-01T14:57:54.211466Z",
     "iopub.status.idle": "2025-05-01T14:57:54.219693Z",
     "shell.execute_reply": "2025-05-01T14:57:54.219047Z",
     "shell.execute_reply.started": "2025-05-01T14:57:54.212256Z"
    },
    "trusted": true
   },
   "outputs": [
    {
     "name": "stdout",
     "output_type": "stream",
     "text": [
      "Overwriting streamlit_app1.py\n"
     ]
    }
   ],
   "source": [
    "%%writefile streamlit_app1.py\n",
    "\n",
    "import streamlit as st\n",
    "import torch\n",
    "import math\n",
    "from torch import nn\n",
    "import sentencepiece as spm\n",
    "\n",
    "# Loading SentencePiece models\n",
    "sp_en = spm.SentencePieceProcessor(model_file='spm_en.model')\n",
    "sp_ur = spm.SentencePieceProcessor(model_file='spm_ur.model')\n",
    "\n",
    "class PositionalEncoding(nn.Module):\n",
    "    def __init__(self, d_model, max_len=5000):\n",
    "        super().__init__()\n",
    "        pe = torch.zeros(max_len, d_model)\n",
    "        pos = torch.arange(0, max_len).unsqueeze(1)\n",
    "        div = torch.exp(torch.arange(0, d_model, 2) * -(math.log(10000.0) / d_model))\n",
    "        pe[:, 0::2] = torch.sin(pos * div)\n",
    "        pe[:, 1::2] = torch.cos(pos * div)\n",
    "        self.register_buffer('pe', pe)\n",
    "\n",
    "    def forward(self, x):\n",
    "        x = x + self.pe[:x.size(1)]\n",
    "        return x\n",
    "\n",
    "class TransformerMT(nn.Module):\n",
    "    def __init__(self, src_vocab, tgt_vocab, d_model=512, nhead=8,\n",
    "                 num_layers=6, dim_feedforward=2048, dropout=0.1):\n",
    "        super().__init__()\n",
    "        self.src_tok = nn.Embedding(src_vocab, d_model)\n",
    "        self.tgt_tok = nn.Embedding(tgt_vocab, d_model)\n",
    "        self.pos_enc = PositionalEncoding(d_model)\n",
    "        self.transformer = nn.Transformer(\n",
    "            d_model, nhead, num_layers, num_layers,\n",
    "            dim_feedforward, dropout\n",
    "        )\n",
    "        self.fc_out = nn.Linear(d_model, tgt_vocab)\n",
    "\n",
    "    def forward(self, src, tgt):\n",
    "        src_emb = self.pos_enc(self.src_tok(src).transpose(0, 1))\n",
    "        tgt_emb = self.pos_enc(self.tgt_tok(tgt).transpose(0, 1))\n",
    "\n",
    "        tgt_seq_len = tgt_emb.size(0)\n",
    "        tgt_mask = nn.Transformer.generate_square_subsequent_mask(\n",
    "            tgt_seq_len,\n",
    "            device=src.device,\n",
    "            dtype=tgt_emb.dtype\n",
    "        )\n",
    "\n",
    "        out = self.transformer(\n",
    "            src_emb,\n",
    "            tgt_emb,\n",
    "            tgt_mask=tgt_mask\n",
    "        )\n",
    "        \n",
    "        return self.fc_out(out).transpose(0, 1)\n",
    "\n",
    "\n",
    "@st.cache_resource\n",
    "\n",
    "def load_model():\n",
    "    device = torch.device('cuda' if torch.cuda.is_available() else 'cpu')\n",
    "    model = TransformerMT(\n",
    "        src_vocab=sp_en.get_piece_size(),\n",
    "        tgt_vocab=sp_ur.get_piece_size(),\n",
    "        d_model=512, nhead=8, num_layers=6,\n",
    "        dim_feedforward=2048, dropout=0.1\n",
    "    ).to(device)\n",
    "    model.load_state_dict(torch.load('/kaggle/working/best_transformer.pt', map_location=device))\n",
    "    model.eval()\n",
    "    return model, device\n",
    "\n",
    "model, device = load_model()\n",
    "\n",
    "if 'history' not in st.session_state:\n",
    "    st.session_state.history = []\n",
    "\n",
    "st.title(\"English → Urdu Translator\")\n",
    "\n",
    "with st.form(\"translate_form\", clear_on_submit=True):\n",
    "    user_input = st.text_input(\n",
    "        label=\"Enter English text:\",\n",
    "        key=\"input\",\n",
    "        label_visibility=\"visible\",\n",
    "        placeholder=\"Type here...\"\n",
    "    )\n",
    "    submit = st.form_submit_button(\"Translate\")\n",
    "\n",
    "if submit and user_input:\n",
    "    \n",
    "    ids = sp_en.encode(user_input)\n",
    "    src = torch.tensor([1] + ids + [2], dtype=torch.long).unsqueeze(0).to(device)\n",
    "\n",
    "    # Greedy decode\n",
    "    with torch.no_grad():\n",
    "        dec_input = torch.tensor([[1]], device=device)\n",
    "        for _ in range(128):\n",
    "            logits = model(src, dec_input)\n",
    "            next_id = logits[:, -1, :].argmax(-1)\n",
    "            dec_input = torch.cat([dec_input, next_id.unsqueeze(1)], dim=1)\n",
    "            if next_id.item() == 2:\n",
    "                break\n",
    "    ur_tokens = dec_input[0].cpu().tolist()[1:]\n",
    "    if 2 in ur_tokens:\n",
    "        ur_tokens = ur_tokens[:ur_tokens.index(2)]\n",
    "    translation = sp_ur.decode_ids(ur_tokens)\n",
    "\n",
    "    st.session_state.history.append((user_input, translation))\n",
    "\n",
    "# Rendering conversation history\n",
    "for en, ur in st.session_state.history:\n",
    "    st.markdown(f\"<div style='text-align: left; padding: 4px;'>{en}</div>\", unsafe_allow_html=True)\n",
    "    st.markdown(f\"<div style='text-align: right; padding: 4px; direction: rtl;'>{ur}</div>\", unsafe_allow_html=True)\n",
    "\n"
   ]
  },
  {
   "cell_type": "code",
   "execution_count": null,
   "metadata": {
    "execution": {
     "iopub.execute_input": "2025-05-01T14:44:34.729928Z",
     "iopub.status.busy": "2025-05-01T14:44:34.729170Z",
     "iopub.status.idle": "2025-05-01T14:44:35.604428Z",
     "shell.execute_reply": "2025-05-01T14:44:35.603534Z",
     "shell.execute_reply.started": "2025-05-01T14:44:34.729896Z"
    },
    "trusted": true
   },
   "outputs": [
    {
     "name": "stdout",
     "output_type": "stream",
     "text": [
      "Authtoken saved to configuration file: /root/.config/ngrok/ngrok.yml                                \n"
     ]
    }
   ],
   "source": [
    "!ngrok authtoken abc"
   ]
  },
  {
   "cell_type": "code",
   "execution_count": 62,
   "metadata": {
    "execution": {
     "iopub.execute_input": "2025-05-01T14:57:57.204762Z",
     "iopub.status.busy": "2025-05-01T14:57:57.204165Z",
     "iopub.status.idle": "2025-05-01T14:57:57.451960Z",
     "shell.execute_reply": "2025-05-01T14:57:57.451293Z",
     "shell.execute_reply.started": "2025-05-01T14:57:57.204740Z"
    },
    "trusted": true
   },
   "outputs": [
    {
     "name": "stdout",
     "output_type": "stream",
     "text": [
      "Ngrok public URL: NgrokTunnel: \"https://59b7-104-154-233-118.ngrok-free.app\" -> \"http://localhost:8000\"\n"
     ]
    }
   ],
   "source": [
    "from pyngrok import ngrok\n",
    "\n",
    "# Start a new ngrok tunnel\n",
    "public_url = ngrok.connect(8000)\n",
    "\n",
    "print(\"Ngrok public URL:\", public_url)"
   ]
  },
  {
   "cell_type": "code",
   "execution_count": 63,
   "metadata": {
    "execution": {
     "iopub.execute_input": "2025-05-01T14:57:59.635812Z",
     "iopub.status.busy": "2025-05-01T14:57:59.635246Z",
     "iopub.status.idle": "2025-05-01T15:00:16.942121Z",
     "shell.execute_reply": "2025-05-01T15:00:16.941463Z",
     "shell.execute_reply.started": "2025-05-01T14:57:59.635791Z"
    },
    "trusted": true
   },
   "outputs": [
    {
     "name": "stdout",
     "output_type": "stream",
     "text": [
      "\n",
      "Collecting usage statistics. To deactivate, set browser.gatherUsageStats to false.\n",
      "\u001b[0m\n",
      "\u001b[0m\n",
      "\u001b[34m\u001b[1m  You can now view your Streamlit app in your browser.\u001b[0m\n",
      "\u001b[0m\n",
      "\u001b[34m  Local URL: \u001b[0m\u001b[1mhttp://localhost:8000\u001b[0m\n",
      "\u001b[34m  Network URL: \u001b[0m\u001b[1mhttp://172.19.2.2:8000\u001b[0m\n",
      "\u001b[34m  External URL: \u001b[0m\u001b[1mhttp://104.154.233.118:8000\u001b[0m\n",
      "\u001b[0m\n",
      "/usr/local/lib/python3.11/dist-packages/torch/nn/modules/transformer.py:379: UserWarning: enable_nested_tensor is True, but self.use_nested_tensor is False because encoder_layer.self_attn.batch_first was not True(use batch_first for better inference performance)\n",
      "  warnings.warn(\n",
      "/kaggle/working/streamlit_app1.py:77: FutureWarning: You are using `torch.load` with `weights_only=False` (the current default value), which uses the default pickle module implicitly. It is possible to construct malicious pickle data which will execute arbitrary code during unpickling (See https://github.com/pytorch/pytorch/blob/main/SECURITY.md#untrusted-models for more details). In a future release, the default value for `weights_only` will be flipped to `True`. This limits the functions that could be executed during unpickling. Arbitrary objects will no longer be allowed to be loaded via this mode unless they are explicitly allowlisted by the user via `torch.serialization.add_safe_globals`. We recommend you start setting `weights_only=True` for any use case where you don't have full control of the loaded file. Please open an issue on GitHub for any issues related to this experimental feature.\n",
      "  model.load_state_dict(torch.load('/kaggle/working/best_transformer.pt', map_location=device))\n",
      "2025-05-01 14:58:13.004 Examining the path of torch.classes raised:\n",
      "Traceback (most recent call last):\n",
      "  File \"/usr/local/lib/python3.11/dist-packages/streamlit/web/bootstrap.py\", line 347, in run\n",
      "    if asyncio.get_running_loop().is_running():\n",
      "       ^^^^^^^^^^^^^^^^^^^^^^^^^^\n",
      "RuntimeError: no running event loop\n",
      "\n",
      "During handling of the above exception, another exception occurred:\n",
      "\n",
      "Traceback (most recent call last):\n",
      "  File \"/usr/local/lib/python3.11/dist-packages/streamlit/watcher/local_sources_watcher.py\", line 217, in get_module_paths\n",
      "    potential_paths = extract_paths(module)\n",
      "                      ^^^^^^^^^^^^^^^^^^^^^\n",
      "  File \"/usr/local/lib/python3.11/dist-packages/streamlit/watcher/local_sources_watcher.py\", line 210, in <lambda>\n",
      "    lambda m: list(m.__path__._path),\n",
      "                   ^^^^^^^^^^^^^^^^\n",
      "  File \"/usr/local/lib/python3.11/dist-packages/torch/_classes.py\", line 13, in __getattr__\n",
      "    proxy = torch._C._get_custom_class_python_wrapper(self.name, attr)\n",
      "            ^^^^^^^^^^^^^^^^^^^^^^^^^^^^^^^^^^^^^^^^^^^^^^^^^^^^^^^^^^\n",
      "RuntimeError: Tried to instantiate class '__path__._path', but it does not exist! Ensure that it is registered via torch::class_\n",
      "^C\n",
      "\u001b[34m  Stopping...\u001b[0m\n"
     ]
    }
   ],
   "source": [
    "!streamlit run streamlit_app1.py --server.port 8000"
   ]
  },
  {
   "cell_type": "code",
   "execution_count": null,
   "metadata": {
    "trusted": true
   },
   "outputs": [],
   "source": []
  },
  {
   "cell_type": "markdown",
   "metadata": {},
   "source": [
    "# Q2:"
   ]
  },
  {
   "cell_type": "markdown",
   "metadata": {},
   "source": [
    "## 1. Setup & Data Preprocessing:"
   ]
  },
  {
   "cell_type": "code",
   "execution_count": 64,
   "metadata": {
    "execution": {
     "iopub.execute_input": "2025-05-01T15:05:58.225270Z",
     "iopub.status.busy": "2025-05-01T15:05:58.224365Z",
     "iopub.status.idle": "2025-05-01T15:06:04.813697Z",
     "shell.execute_reply": "2025-05-01T15:06:04.812851Z",
     "shell.execute_reply.started": "2025-05-01T15:05:58.225240Z"
    },
    "trusted": true
   },
   "outputs": [
    {
     "name": "stdout",
     "output_type": "stream",
     "text": [
      "Downloading https://www.cs.toronto.edu/~kriz/cifar-10-python.tar.gz to ./data/cifar-10-python.tar.gz\n"
     ]
    },
    {
     "name": "stderr",
     "output_type": "stream",
     "text": [
      "100%|██████████| 170M/170M [00:01<00:00, 92.5MB/s] \n"
     ]
    },
    {
     "name": "stdout",
     "output_type": "stream",
     "text": [
      "Extracting ./data/cifar-10-python.tar.gz to ./data\n",
      "Files already downloaded and verified\n"
     ]
    }
   ],
   "source": [
    "import time                                                      \n",
    "import torch                                                    \n",
    "import torch.nn as nn                                           \n",
    "import torch.optim as optim                                      \n",
    "from torch.utils.data import DataLoader, random_split           \n",
    "import torchvision.transforms as transforms                     \n",
    "import torchvision.datasets as datasets                          \n",
    "import torchvision.models as models                             \n",
    "from sklearn.metrics import (\n",
    "    accuracy_score, precision_recall_fscore_support,            \n",
    "    confusion_matrix, ConfusionMatrixDisplay\n",
    ")\n",
    "import matplotlib.pyplot as plt                                  \n",
    "import numpy as np                                               \n",
    "import os\n",
    "\n",
    "device = torch.device('cuda' if torch.cuda.is_available() else 'cpu')\n",
    "\n",
    "# CIFAR-10 normalization and augmentation:\n",
    "train_transform = transforms.Compose([\n",
    "    transforms.RandomCrop(32, padding=4),                      \n",
    "    transforms.RandomHorizontalFlip(),                          \n",
    "    transforms.ToTensor(),\n",
    "    transforms.Normalize((0.4914, 0.4822, 0.4465),\n",
    "                         (0.2470, 0.2435, 0.2616))\n",
    "])\n",
    "test_transform = transforms.Compose([\n",
    "    transforms.ToTensor(),\n",
    "    transforms.Normalize((0.4914, 0.4822, 0.4465),\n",
    "                         (0.2470, 0.2435, 0.2616))\n",
    "])\n",
    "\n",
    "full_train = datasets.CIFAR10(root='./data', train=True,\n",
    "                              download=True, transform=train_transform)\n",
    "test_set   = datasets.CIFAR10(root='./data', train=False,\n",
    "                              download=True, transform=test_transform)\n",
    "\n",
    "# Reserving 5k for validation\n",
    "train_set, val_set = random_split(full_train, [45000, 5000])\n",
    "\n",
    "train_loader = DataLoader(train_set, batch_size=128, shuffle=True,  num_workers=4)\n",
    "val_loader   = DataLoader(val_set,   batch_size=128, shuffle=False, num_workers=4)\n",
    "test_loader  = DataLoader(test_set,  batch_size=128, shuffle=False, num_workers=4)\n",
    "\n"
   ]
  },
  {
   "cell_type": "code",
   "execution_count": 65,
   "metadata": {
    "execution": {
     "iopub.execute_input": "2025-05-01T15:06:12.892945Z",
     "iopub.status.busy": "2025-05-01T15:06:12.892062Z",
     "iopub.status.idle": "2025-05-01T15:06:12.898346Z",
     "shell.execute_reply": "2025-05-01T15:06:12.897541Z",
     "shell.execute_reply.started": "2025-05-01T15:06:12.892908Z"
    },
    "trusted": true
   },
   "outputs": [
    {
     "data": {
      "text/plain": [
       "352"
      ]
     },
     "execution_count": 65,
     "metadata": {},
     "output_type": "execute_result"
    }
   ],
   "source": [
    "len(train_loader)"
   ]
  },
  {
   "cell_type": "markdown",
   "metadata": {},
   "source": [
    "## 2. Model Definitions:"
   ]
  },
  {
   "cell_type": "markdown",
   "metadata": {},
   "source": [
    "### 2.1 Vision Transformer (ViT):"
   ]
  },
  {
   "cell_type": "code",
   "execution_count": 66,
   "metadata": {
    "execution": {
     "iopub.execute_input": "2025-05-01T15:07:10.631237Z",
     "iopub.status.busy": "2025-05-01T15:07:10.630762Z",
     "iopub.status.idle": "2025-05-01T15:07:10.639998Z",
     "shell.execute_reply": "2025-05-01T15:07:10.639312Z",
     "shell.execute_reply.started": "2025-05-01T15:07:10.631213Z"
    },
    "trusted": true
   },
   "outputs": [],
   "source": [
    "class ViT(nn.Module):\n",
    "    def __init__(self, img_size=32, patch_size=4, in_chans=3, num_classes=10,\n",
    "                 d_model=256, nhead=4, num_layers=6, mlp_dim=512, dropout=0.1):\n",
    "        super().__init__()\n",
    "        self.num_patches = (img_size // patch_size) ** 2             \n",
    "        self.patch_dim   = in_chans * patch_size * patch_size\n",
    "        \n",
    "        # Linear patch embedding\n",
    "        self.patch_proj = nn.Linear(self.patch_dim, d_model)   \n",
    "        \n",
    "        # Class token + positional embeddings\n",
    "        self.cls_token = nn.Parameter(torch.zeros(1, 1, d_model))\n",
    "        self.pos_emb   = nn.Parameter(torch.zeros(1, self.num_patches+1, d_model))\n",
    "        \n",
    "        # Transformer encoder\n",
    "        encoder_layer = nn.TransformerEncoderLayer(\n",
    "            d_model=d_model, nhead=nhead, dim_feedforward=mlp_dim,\n",
    "            dropout=dropout, activation='gelu'\n",
    "        )                                                             \n",
    "        self.transformer = nn.TransformerEncoder(encoder_layer, num_layers)\n",
    "        \n",
    "        # Classification head\n",
    "        self.mlp_head = nn.Sequential(\n",
    "            nn.LayerNorm(d_model),\n",
    "            nn.Linear(d_model, num_classes)\n",
    "        )\n",
    "\n",
    "    def forward(self, x):\n",
    "        B = x.shape[0]\n",
    "        \n",
    "        # Splitting into patches\n",
    "        patches = x.unfold(2, 4, 4).unfold(3, 4, 4)                   \n",
    "        patches = patches.contiguous().view(B, 3, -1, 4, 4)          \n",
    "        patches = patches.permute(0,2,1,3,4).reshape(B, -1, self.patch_dim)\n",
    "        \n",
    "        # Embedding patches and prepending class token\n",
    "        x = self.patch_proj(patches)                                 \n",
    "        cls_tokens = self.cls_token.expand(B, -1, -1)                 \n",
    "        x = torch.cat((cls_tokens, x), dim=1)                        \n",
    "        x = x + self.pos_emb     \n",
    "        \n",
    "        # Transformer\n",
    "        x = self.transformer(x.transpose(0,1)).transpose(0,1)\n",
    "        \n",
    "        # Classification\n",
    "        return self.mlp_head(x[:,0])\n"
   ]
  },
  {
   "cell_type": "markdown",
   "metadata": {},
   "source": [
    "### 2.2 Hybrid CNN + MLP:"
   ]
  },
  {
   "cell_type": "code",
   "execution_count": 67,
   "metadata": {
    "execution": {
     "iopub.execute_input": "2025-05-01T15:07:31.831500Z",
     "iopub.status.busy": "2025-05-01T15:07:31.830965Z",
     "iopub.status.idle": "2025-05-01T15:07:31.836791Z",
     "shell.execute_reply": "2025-05-01T15:07:31.836174Z",
     "shell.execute_reply.started": "2025-05-01T15:07:31.831457Z"
    },
    "trusted": true
   },
   "outputs": [],
   "source": [
    "class CNN_MLP(nn.Module):\n",
    "    def __init__(self, num_classes=10):\n",
    "        super().__init__()\n",
    "        self.features = nn.Sequential(\n",
    "            nn.Conv2d(3, 64, 3, padding=1), nn.BatchNorm2d(64), nn.ReLU(),\n",
    "            nn.MaxPool2d(2),\n",
    "            nn.Conv2d(64,128,3,padding=1), nn.BatchNorm2d(128), nn.ReLU(),\n",
    "            nn.MaxPool2d(2),\n",
    "            nn.Conv2d(128,256,3,padding=1), nn.BatchNorm2d(256), nn.ReLU(),\n",
    "            nn.AdaptiveAvgPool2d(1)\n",
    "        )                                                              \n",
    "        self.classifier = nn.Sequential(\n",
    "            nn.Flatten(),\n",
    "            nn.Linear(256, 128), nn.ReLU(), nn.Dropout(0.5),\n",
    "            nn.Linear(128, num_classes)\n",
    "        )\n",
    "\n",
    "    def forward(self, x):\n",
    "        x = self.features(x)\n",
    "        return self.classifier(x)\n"
   ]
  },
  {
   "cell_type": "markdown",
   "metadata": {},
   "source": [
    "### 2.3 ResNet Transfer Learning:"
   ]
  },
  {
   "cell_type": "code",
   "execution_count": 68,
   "metadata": {
    "execution": {
     "iopub.execute_input": "2025-05-01T15:07:59.207064Z",
     "iopub.status.busy": "2025-05-01T15:07:59.206433Z",
     "iopub.status.idle": "2025-05-01T15:07:59.211015Z",
     "shell.execute_reply": "2025-05-01T15:07:59.210346Z",
     "shell.execute_reply.started": "2025-05-01T15:07:59.207041Z"
    },
    "trusted": true
   },
   "outputs": [],
   "source": [
    "def get_resnet(num_classes=10):\n",
    "    \n",
    "    resnet = models.resnet18(pretrained=True)  \n",
    "    \n",
    "    for param in resnet.parameters():\n",
    "        param.requires_grad = False                                 # freezing backbone\n",
    "    resnet.fc = nn.Linear(resnet.fc.in_features, num_classes)\n",
    "    \n",
    "    return resnet\n"
   ]
  },
  {
   "cell_type": "markdown",
   "metadata": {},
   "source": [
    "## 3. Training & Evaluation Utilities:"
   ]
  },
  {
   "cell_type": "code",
   "execution_count": 69,
   "metadata": {
    "execution": {
     "iopub.execute_input": "2025-05-01T15:08:35.356108Z",
     "iopub.status.busy": "2025-05-01T15:08:35.355838Z",
     "iopub.status.idle": "2025-05-01T15:08:35.362599Z",
     "shell.execute_reply": "2025-05-01T15:08:35.361964Z",
     "shell.execute_reply.started": "2025-05-01T15:08:35.356090Z"
    },
    "trusted": true
   },
   "outputs": [],
   "source": [
    "from tqdm import tqdm\n",
    "\n",
    "# Measuring GPU memory\n",
    "def max_gpu_mem():\n",
    "    if torch.cuda.is_available():\n",
    "        return torch.cuda.max_memory_allocated() / (1024**2)\n",
    "    return 0\n",
    "\n",
    "\n",
    "# Epoch for training or validation\n",
    "def run_epoch(model, loader, criterion, optimizer=None):\n",
    "    is_train = optimizer is not None\n",
    "    model.train() if is_train else model.eval()\n",
    "    losses, preds, targets = [], [], []\n",
    "    start = time.time()\n",
    "    for imgs, labels in loader:\n",
    "        imgs, labels = imgs.to(device), labels.to(device)\n",
    "        logits = model(imgs)\n",
    "        loss = criterion(logits, labels)\n",
    "        if is_train:\n",
    "            optimizer.zero_grad(); loss.backward(); optimizer.step()\n",
    "        losses.append(loss.item())\n",
    "        preds.extend(logits.argmax(dim=1).cpu().numpy())\n",
    "        targets.extend(labels.cpu().numpy())\n",
    "    duration = time.time() - start\n",
    "    \n",
    "    return {\n",
    "        'loss': np.mean(losses),\n",
    "        'acc': accuracy_score(targets, preds),\n",
    "        'precision': precision_recall_fscore_support(targets, preds, average='weighted')[0],\n",
    "        'recall':    precision_recall_fscore_support(targets, preds, average='weighted')[1],\n",
    "        'f1':        precision_recall_fscore_support(targets, preds, average='weighted')[2],\n",
    "        'time': duration * 1000 / len(loader.dataset),   # ms per image\n",
    "        'mem': max_gpu_mem()\n",
    "    }\n"
   ]
  },
  {
   "cell_type": "markdown",
   "metadata": {},
   "source": [
    "## 4. Main Training Loop:"
   ]
  },
  {
   "cell_type": "code",
   "execution_count": 75,
   "metadata": {
    "execution": {
     "iopub.execute_input": "2025-05-01T15:21:57.992721Z",
     "iopub.status.busy": "2025-05-01T15:21:57.991980Z",
     "iopub.status.idle": "2025-05-01T15:21:58.001429Z",
     "shell.execute_reply": "2025-05-01T15:21:58.000658Z",
     "shell.execute_reply.started": "2025-05-01T15:21:57.992686Z"
    },
    "trusted": true
   },
   "outputs": [],
   "source": [
    "def train_model(model, name, epochs=20, lr=3e-4):\n",
    "    model = model.to(device)\n",
    "    crit  = nn.CrossEntropyLoss()\n",
    "    optim = torch.optim.AdamW(model.parameters(), lr=lr)            # \n",
    "    scheduler = torch.optim.lr_scheduler.CosineAnnealingLR(optim, T_max=epochs)\n",
    "    best_acc, best_weights = 0, None\n",
    "    history = []\n",
    "    for ep in tqdm(range(1, epochs+1), desc=f\"{name} Epochs\", unit=\"ep\"):\n",
    "        tr = run_epoch(model, train_loader, crit, optim)\n",
    "        val= run_epoch(model, val_loader,   crit, None)\n",
    "        scheduler.step()\n",
    "        history.append((tr, val))\n",
    "        print(f\"{name} Ep{ep}  tr_loss={tr['loss']:.3f} tr_acc={tr['acc']:.3f}  \"\n",
    "              f\"val_loss={val['loss']:.3f} val_acc={val['acc']:.3f}  \"\n",
    "              f\"precision={tr['precision']:.3f} recall={tr['recall']:.3f}  \"\n",
    "              f\"f1={val['f1']:.3f} time={val['time']:.3f} memory={val['mem']:.3f}\")\n",
    "        if val['acc'] > best_acc:\n",
    "            best_acc = val['acc']; best_weights = model.state_dict()\n",
    "    model.load_state_dict(best_weights)\n",
    "    torch.save(best_weights, f\"best_{name}.pt\")\n",
    "    return history, model\n"
   ]
  },
  {
   "cell_type": "code",
   "execution_count": null,
   "metadata": {
    "trusted": true
   },
   "outputs": [],
   "source": []
  },
  {
   "cell_type": "markdown",
   "metadata": {},
   "source": [
    "## 5. Run & Compare:"
   ]
  },
  {
   "cell_type": "code",
   "execution_count": 76,
   "metadata": {
    "execution": {
     "iopub.execute_input": "2025-05-01T15:22:00.860970Z",
     "iopub.status.busy": "2025-05-01T15:22:00.860697Z",
     "iopub.status.idle": "2025-05-01T15:46:24.749790Z",
     "shell.execute_reply": "2025-05-01T15:46:24.748667Z",
     "shell.execute_reply.started": "2025-05-01T15:22:00.860950Z"
    },
    "trusted": true
   },
   "outputs": [
    {
     "name": "stderr",
     "output_type": "stream",
     "text": [
      "/usr/local/lib/python3.11/dist-packages/torch/nn/modules/transformer.py:379: UserWarning: enable_nested_tensor is True, but self.use_nested_tensor is False because encoder_layer.self_attn.batch_first was not True(use batch_first for better inference performance)\n",
      "  warnings.warn(\n",
      "/usr/local/lib/python3.11/dist-packages/torchvision/models/_utils.py:208: UserWarning: The parameter 'pretrained' is deprecated since 0.13 and may be removed in the future, please use 'weights' instead.\n",
      "  warnings.warn(\n",
      "/usr/local/lib/python3.11/dist-packages/torchvision/models/_utils.py:223: UserWarning: Arguments other than a weight enum or `None` for 'weights' are deprecated since 0.13 and may be removed in the future. The current behavior is equivalent to passing `weights=ResNet18_Weights.IMAGENET1K_V1`. You can also use `weights=ResNet18_Weights.DEFAULT` to get the most up-to-date weights.\n",
      "  warnings.warn(msg)\n",
      "vit Epochs:   0%|          | 0/30 [00:00<?, ?ep/s]/usr/local/lib/python3.11/dist-packages/sklearn/metrics/_classification.py:1344: UndefinedMetricWarning: Precision and F-score are ill-defined and being set to 0.0 in labels with no predicted samples. Use `zero_division` parameter to control this behavior.\n",
      "  _warn_prf(average, modifier, msg_start, len(result))\n",
      "/usr/local/lib/python3.11/dist-packages/sklearn/metrics/_classification.py:1344: UndefinedMetricWarning: Precision and F-score are ill-defined and being set to 0.0 in labels with no predicted samples. Use `zero_division` parameter to control this behavior.\n",
      "  _warn_prf(average, modifier, msg_start, len(result))\n",
      "/usr/local/lib/python3.11/dist-packages/sklearn/metrics/_classification.py:1344: UndefinedMetricWarning: Precision and F-score are ill-defined and being set to 0.0 in labels with no predicted samples. Use `zero_division` parameter to control this behavior.\n",
      "  _warn_prf(average, modifier, msg_start, len(result))\n",
      "vit Epochs:   3%|▎         | 1/30 [00:31<15:26, 31.95s/ep]"
     ]
    },
    {
     "name": "stdout",
     "output_type": "stream",
     "text": [
      "vit Ep1  tr_loss=1.910 tr_acc=0.270  val_loss=1.877 val_acc=0.295  precision=0.265 recall=0.270  f1=0.235 time=0.253 memory=8700.589\n"
     ]
    },
    {
     "name": "stderr",
     "output_type": "stream",
     "text": [
      "vit Epochs:   7%|▋         | 2/30 [01:04<15:03, 32.27s/ep]"
     ]
    },
    {
     "name": "stdout",
     "output_type": "stream",
     "text": [
      "vit Ep2  tr_loss=1.695 tr_acc=0.360  val_loss=1.594 val_acc=0.398  precision=0.355 recall=0.360  f1=0.360 time=0.255 memory=8700.589\n"
     ]
    },
    {
     "name": "stderr",
     "output_type": "stream",
     "text": [
      "vit Epochs:  10%|█         | 3/30 [01:37<14:41, 32.65s/ep]"
     ]
    },
    {
     "name": "stdout",
     "output_type": "stream",
     "text": [
      "vit Ep3  tr_loss=1.599 tr_acc=0.407  val_loss=1.574 val_acc=0.419  precision=0.400 recall=0.407  f1=0.402 time=0.273 memory=8700.589\n"
     ]
    },
    {
     "name": "stderr",
     "output_type": "stream",
     "text": [
      "vit Epochs:  13%|█▎        | 4/30 [02:10<14:15, 32.92s/ep]"
     ]
    },
    {
     "name": "stdout",
     "output_type": "stream",
     "text": [
      "vit Ep4  tr_loss=1.520 tr_acc=0.442  val_loss=1.525 val_acc=0.455  precision=0.435 recall=0.442  f1=0.445 time=0.258 memory=8700.589\n"
     ]
    },
    {
     "name": "stderr",
     "output_type": "stream",
     "text": [
      "vit Epochs:  17%|█▋        | 5/30 [02:44<13:49, 33.18s/ep]"
     ]
    },
    {
     "name": "stdout",
     "output_type": "stream",
     "text": [
      "vit Ep5  tr_loss=1.470 tr_acc=0.462  val_loss=1.501 val_acc=0.461  precision=0.457 recall=0.462  f1=0.451 time=0.261 memory=8700.589\n"
     ]
    },
    {
     "name": "stderr",
     "output_type": "stream",
     "text": [
      "vit Epochs:  20%|██        | 6/30 [03:18<13:20, 33.36s/ep]"
     ]
    },
    {
     "name": "stdout",
     "output_type": "stream",
     "text": [
      "vit Ep6  tr_loss=1.436 tr_acc=0.472  val_loss=1.371 val_acc=0.510  precision=0.466 recall=0.472  f1=0.505 time=0.263 memory=8700.589\n"
     ]
    },
    {
     "name": "stderr",
     "output_type": "stream",
     "text": [
      "vit Epochs:  23%|██▎       | 7/30 [03:51<12:50, 33.49s/ep]"
     ]
    },
    {
     "name": "stdout",
     "output_type": "stream",
     "text": [
      "vit Ep7  tr_loss=1.375 tr_acc=0.498  val_loss=1.352 val_acc=0.519  precision=0.492 recall=0.498  f1=0.505 time=0.264 memory=8700.589\n"
     ]
    },
    {
     "name": "stderr",
     "output_type": "stream",
     "text": [
      "vit Epochs:  27%|██▋       | 8/30 [04:25<12:18, 33.57s/ep]"
     ]
    },
    {
     "name": "stdout",
     "output_type": "stream",
     "text": [
      "vit Ep8  tr_loss=1.334 tr_acc=0.515  val_loss=1.323 val_acc=0.516  precision=0.510 recall=0.515  f1=0.508 time=0.263 memory=8700.589\n"
     ]
    },
    {
     "name": "stderr",
     "output_type": "stream",
     "text": [
      "vit Epochs:  30%|███       | 9/30 [04:59<11:46, 33.63s/ep]"
     ]
    },
    {
     "name": "stdout",
     "output_type": "stream",
     "text": [
      "vit Ep9  tr_loss=1.271 tr_acc=0.538  val_loss=1.280 val_acc=0.533  precision=0.534 recall=0.538  f1=0.514 time=0.263 memory=8700.589\n"
     ]
    },
    {
     "name": "stderr",
     "output_type": "stream",
     "text": [
      "vit Epochs:  33%|███▎      | 10/30 [05:33<11:13, 33.67s/ep]"
     ]
    },
    {
     "name": "stdout",
     "output_type": "stream",
     "text": [
      "vit Ep10  tr_loss=1.237 tr_acc=0.554  val_loss=1.214 val_acc=0.561  precision=0.550 recall=0.554  f1=0.552 time=0.267 memory=8700.589\n"
     ]
    },
    {
     "name": "stderr",
     "output_type": "stream",
     "text": [
      "vit Epochs:  37%|███▋      | 11/30 [06:07<10:40, 33.72s/ep]"
     ]
    },
    {
     "name": "stdout",
     "output_type": "stream",
     "text": [
      "vit Ep11  tr_loss=1.181 tr_acc=0.570  val_loss=1.175 val_acc=0.578  precision=0.566 recall=0.570  f1=0.572 time=0.271 memory=8700.589\n"
     ]
    },
    {
     "name": "stderr",
     "output_type": "stream",
     "text": [
      "vit Epochs:  40%|████      | 12/30 [06:40<10:07, 33.74s/ep]"
     ]
    },
    {
     "name": "stdout",
     "output_type": "stream",
     "text": [
      "vit Ep12  tr_loss=1.149 tr_acc=0.584  val_loss=1.139 val_acc=0.592  precision=0.581 recall=0.584  f1=0.594 time=0.268 memory=8700.589\n"
     ]
    },
    {
     "name": "stderr",
     "output_type": "stream",
     "text": [
      "vit Epochs:  43%|████▎     | 13/30 [07:14<09:33, 33.76s/ep]"
     ]
    },
    {
     "name": "stdout",
     "output_type": "stream",
     "text": [
      "vit Ep13  tr_loss=1.107 tr_acc=0.599  val_loss=1.118 val_acc=0.599  precision=0.596 recall=0.599  f1=0.597 time=0.266 memory=8700.589\n"
     ]
    },
    {
     "name": "stderr",
     "output_type": "stream",
     "text": [
      "vit Epochs:  47%|████▋     | 14/30 [07:48<09:00, 33.77s/ep]"
     ]
    },
    {
     "name": "stdout",
     "output_type": "stream",
     "text": [
      "vit Ep14  tr_loss=1.066 tr_acc=0.617  val_loss=1.102 val_acc=0.612  precision=0.614 recall=0.617  f1=0.600 time=0.263 memory=8700.589\n"
     ]
    },
    {
     "name": "stderr",
     "output_type": "stream",
     "text": [
      "vit Epochs:  50%|█████     | 15/30 [08:22<08:26, 33.78s/ep]"
     ]
    },
    {
     "name": "stdout",
     "output_type": "stream",
     "text": [
      "vit Ep15  tr_loss=1.028 tr_acc=0.631  val_loss=1.063 val_acc=0.616  precision=0.629 recall=0.631  f1=0.605 time=0.263 memory=8700.589\n"
     ]
    },
    {
     "name": "stderr",
     "output_type": "stream",
     "text": [
      "vit Epochs:  53%|█████▎    | 16/30 [08:56<07:53, 33.80s/ep]"
     ]
    },
    {
     "name": "stdout",
     "output_type": "stream",
     "text": [
      "vit Ep16  tr_loss=0.994 tr_acc=0.643  val_loss=0.986 val_acc=0.649  precision=0.640 recall=0.643  f1=0.645 time=0.284 memory=8700.589\n"
     ]
    },
    {
     "name": "stderr",
     "output_type": "stream",
     "text": [
      "vit Epochs:  57%|█████▋    | 17/30 [09:29<07:19, 33.82s/ep]"
     ]
    },
    {
     "name": "stdout",
     "output_type": "stream",
     "text": [
      "vit Ep17  tr_loss=0.965 tr_acc=0.658  val_loss=0.986 val_acc=0.649  precision=0.656 recall=0.658  f1=0.641 time=0.263 memory=8700.589\n"
     ]
    },
    {
     "name": "stderr",
     "output_type": "stream",
     "text": [
      "vit Epochs:  60%|██████    | 18/30 [10:03<06:45, 33.80s/ep]"
     ]
    },
    {
     "name": "stdout",
     "output_type": "stream",
     "text": [
      "vit Ep18  tr_loss=0.928 tr_acc=0.669  val_loss=0.942 val_acc=0.668  precision=0.667 recall=0.669  f1=0.665 time=0.262 memory=8700.589\n"
     ]
    },
    {
     "name": "stderr",
     "output_type": "stream",
     "text": [
      "vit Epochs:  63%|██████▎   | 19/30 [10:37<06:11, 33.81s/ep]"
     ]
    },
    {
     "name": "stdout",
     "output_type": "stream",
     "text": [
      "vit Ep19  tr_loss=0.889 tr_acc=0.681  val_loss=0.926 val_acc=0.669  precision=0.679 recall=0.681  f1=0.667 time=0.271 memory=8700.589\n"
     ]
    },
    {
     "name": "stderr",
     "output_type": "stream",
     "text": [
      "vit Epochs:  67%|██████▋   | 20/30 [11:11<05:38, 33.80s/ep]"
     ]
    },
    {
     "name": "stdout",
     "output_type": "stream",
     "text": [
      "vit Ep20  tr_loss=0.856 tr_acc=0.694  val_loss=0.901 val_acc=0.682  precision=0.692 recall=0.694  f1=0.680 time=0.263 memory=8700.589\n"
     ]
    },
    {
     "name": "stderr",
     "output_type": "stream",
     "text": [
      "vit Epochs:  70%|███████   | 21/30 [11:45<05:04, 33.81s/ep]"
     ]
    },
    {
     "name": "stdout",
     "output_type": "stream",
     "text": [
      "vit Ep21  tr_loss=0.826 tr_acc=0.704  val_loss=0.869 val_acc=0.687  precision=0.702 recall=0.704  f1=0.684 time=0.263 memory=8700.589\n"
     ]
    },
    {
     "name": "stderr",
     "output_type": "stream",
     "text": [
      "vit Epochs:  73%|███████▎  | 22/30 [12:18<04:30, 33.80s/ep]"
     ]
    },
    {
     "name": "stdout",
     "output_type": "stream",
     "text": [
      "vit Ep22  tr_loss=0.799 tr_acc=0.715  val_loss=0.870 val_acc=0.685  precision=0.713 recall=0.715  f1=0.683 time=0.265 memory=8700.589\n"
     ]
    },
    {
     "name": "stderr",
     "output_type": "stream",
     "text": [
      "vit Epochs:  77%|███████▋  | 23/30 [12:52<03:56, 33.80s/ep]"
     ]
    },
    {
     "name": "stdout",
     "output_type": "stream",
     "text": [
      "vit Ep23  tr_loss=0.774 tr_acc=0.722  val_loss=0.848 val_acc=0.708  precision=0.720 recall=0.722  f1=0.706 time=0.264 memory=8700.589\n"
     ]
    },
    {
     "name": "stderr",
     "output_type": "stream",
     "text": [
      "vit Epochs:  80%|████████  | 24/30 [13:26<03:22, 33.80s/ep]"
     ]
    },
    {
     "name": "stdout",
     "output_type": "stream",
     "text": [
      "vit Ep24  tr_loss=0.741 tr_acc=0.736  val_loss=0.824 val_acc=0.710  precision=0.735 recall=0.736  f1=0.708 time=0.267 memory=8700.589\n"
     ]
    },
    {
     "name": "stderr",
     "output_type": "stream",
     "text": [
      "vit Epochs:  83%|████████▎ | 25/30 [14:00<02:48, 33.80s/ep]"
     ]
    },
    {
     "name": "stdout",
     "output_type": "stream",
     "text": [
      "vit Ep25  tr_loss=0.718 tr_acc=0.746  val_loss=0.819 val_acc=0.711  precision=0.745 recall=0.746  f1=0.710 time=0.263 memory=8700.589\n"
     ]
    },
    {
     "name": "stderr",
     "output_type": "stream",
     "text": [
      "vit Epochs:  87%|████████▋ | 26/30 [14:34<02:15, 33.79s/ep]"
     ]
    },
    {
     "name": "stdout",
     "output_type": "stream",
     "text": [
      "vit Ep26  tr_loss=0.700 tr_acc=0.751  val_loss=0.780 val_acc=0.726  precision=0.750 recall=0.751  f1=0.727 time=0.263 memory=8700.589\n"
     ]
    },
    {
     "name": "stderr",
     "output_type": "stream",
     "text": [
      "vit Epochs:  90%|█████████ | 27/30 [15:07<01:41, 33.80s/ep]"
     ]
    },
    {
     "name": "stdout",
     "output_type": "stream",
     "text": [
      "vit Ep27  tr_loss=0.686 tr_acc=0.755  val_loss=0.779 val_acc=0.725  precision=0.754 recall=0.755  f1=0.725 time=0.263 memory=8700.589\n"
     ]
    },
    {
     "name": "stderr",
     "output_type": "stream",
     "text": [
      "vit Epochs:  93%|█████████▎| 28/30 [15:41<01:07, 33.79s/ep]"
     ]
    },
    {
     "name": "stdout",
     "output_type": "stream",
     "text": [
      "vit Ep28  tr_loss=0.670 tr_acc=0.761  val_loss=0.771 val_acc=0.726  precision=0.760 recall=0.761  f1=0.726 time=0.262 memory=8700.589\n"
     ]
    },
    {
     "name": "stderr",
     "output_type": "stream",
     "text": [
      "vit Epochs:  97%|█████████▋| 29/30 [16:15<00:33, 33.79s/ep]"
     ]
    },
    {
     "name": "stdout",
     "output_type": "stream",
     "text": [
      "vit Ep29  tr_loss=0.664 tr_acc=0.763  val_loss=0.769 val_acc=0.732  precision=0.762 recall=0.763  f1=0.731 time=0.264 memory=8700.589\n"
     ]
    },
    {
     "name": "stderr",
     "output_type": "stream",
     "text": [
      "vit Epochs: 100%|██████████| 30/30 [16:49<00:00, 33.64s/ep]\n"
     ]
    },
    {
     "name": "stdout",
     "output_type": "stream",
     "text": [
      "vit Ep30  tr_loss=0.660 tr_acc=0.766  val_loss=0.774 val_acc=0.726  precision=0.765 recall=0.766  f1=0.725 time=0.268 memory=8700.589\n"
     ]
    },
    {
     "name": "stderr",
     "output_type": "stream",
     "text": [
      "cnn_mlp Epochs:   3%|▎         | 1/30 [00:10<04:57, 10.25s/ep]"
     ]
    },
    {
     "name": "stdout",
     "output_type": "stream",
     "text": [
      "cnn_mlp Ep1  tr_loss=1.620 tr_acc=0.394  val_loss=1.413 val_acc=0.486  precision=0.386 recall=0.394  f1=0.477 time=0.192 memory=8700.589\n"
     ]
    },
    {
     "name": "stderr",
     "output_type": "stream",
     "text": [
      "cnn_mlp Epochs:   7%|▋         | 2/30 [00:19<04:24,  9.46s/ep]"
     ]
    },
    {
     "name": "stdout",
     "output_type": "stream",
     "text": [
      "cnn_mlp Ep2  tr_loss=1.306 tr_acc=0.526  val_loss=1.285 val_acc=0.539  precision=0.518 recall=0.526  f1=0.523 time=0.193 memory=8700.589\n"
     ]
    },
    {
     "name": "stderr",
     "output_type": "stream",
     "text": [
      "cnn_mlp Epochs:  10%|█         | 3/30 [00:28<04:08,  9.19s/ep]"
     ]
    },
    {
     "name": "stdout",
     "output_type": "stream",
     "text": [
      "cnn_mlp Ep3  tr_loss=1.183 tr_acc=0.575  val_loss=1.333 val_acc=0.531  precision=0.567 recall=0.575  f1=0.517 time=0.199 memory=8700.589\n"
     ]
    },
    {
     "name": "stderr",
     "output_type": "stream",
     "text": [
      "cnn_mlp Epochs:  13%|█▎        | 4/30 [00:37<04:01,  9.27s/ep]"
     ]
    },
    {
     "name": "stdout",
     "output_type": "stream",
     "text": [
      "cnn_mlp Ep4  tr_loss=1.103 tr_acc=0.609  val_loss=1.462 val_acc=0.509  precision=0.603 recall=0.609  f1=0.471 time=0.200 memory=8700.589\n"
     ]
    },
    {
     "name": "stderr",
     "output_type": "stream",
     "text": [
      "cnn_mlp Epochs:  17%|█▋        | 5/30 [00:46<03:47,  9.11s/ep]"
     ]
    },
    {
     "name": "stdout",
     "output_type": "stream",
     "text": [
      "cnn_mlp Ep5  tr_loss=1.035 tr_acc=0.634  val_loss=1.002 val_acc=0.649  precision=0.629 recall=0.634  f1=0.646 time=0.195 memory=8700.589\n"
     ]
    },
    {
     "name": "stderr",
     "output_type": "stream",
     "text": [
      "cnn_mlp Epochs:  20%|██        | 6/30 [00:55<03:36,  9.01s/ep]"
     ]
    },
    {
     "name": "stdout",
     "output_type": "stream",
     "text": [
      "cnn_mlp Ep6  tr_loss=0.995 tr_acc=0.650  val_loss=1.094 val_acc=0.611  precision=0.645 recall=0.650  f1=0.605 time=0.191 memory=8700.589\n"
     ]
    },
    {
     "name": "stderr",
     "output_type": "stream",
     "text": [
      "cnn_mlp Epochs:  23%|██▎       | 7/30 [01:03<03:26,  8.97s/ep]"
     ]
    },
    {
     "name": "stdout",
     "output_type": "stream",
     "text": [
      "cnn_mlp Ep7  tr_loss=0.951 tr_acc=0.664  val_loss=1.098 val_acc=0.627  precision=0.660 recall=0.664  f1=0.613 time=0.196 memory=8700.589\n"
     ]
    },
    {
     "name": "stderr",
     "output_type": "stream",
     "text": [
      "cnn_mlp Epochs:  27%|██▋       | 8/30 [01:13<03:20,  9.13s/ep]"
     ]
    },
    {
     "name": "stdout",
     "output_type": "stream",
     "text": [
      "cnn_mlp Ep8  tr_loss=0.909 tr_acc=0.683  val_loss=0.935 val_acc=0.669  precision=0.680 recall=0.683  f1=0.672 time=0.195 memory=8700.589\n"
     ]
    },
    {
     "name": "stderr",
     "output_type": "stream",
     "text": [
      "cnn_mlp Epochs:  30%|███       | 9/30 [01:22<03:10,  9.08s/ep]"
     ]
    },
    {
     "name": "stdout",
     "output_type": "stream",
     "text": [
      "cnn_mlp Ep9  tr_loss=0.886 tr_acc=0.689  val_loss=0.969 val_acc=0.659  precision=0.686 recall=0.689  f1=0.658 time=0.193 memory=8700.589\n"
     ]
    },
    {
     "name": "stderr",
     "output_type": "stream",
     "text": [
      "cnn_mlp Epochs:  33%|███▎      | 10/30 [01:31<03:00,  9.03s/ep]"
     ]
    },
    {
     "name": "stdout",
     "output_type": "stream",
     "text": [
      "cnn_mlp Ep10  tr_loss=0.844 tr_acc=0.706  val_loss=0.884 val_acc=0.684  precision=0.703 recall=0.706  f1=0.687 time=0.196 memory=8700.589\n"
     ]
    },
    {
     "name": "stderr",
     "output_type": "stream",
     "text": [
      "cnn_mlp Epochs:  37%|███▋      | 11/30 [01:40<02:53,  9.13s/ep]"
     ]
    },
    {
     "name": "stdout",
     "output_type": "stream",
     "text": [
      "cnn_mlp Ep11  tr_loss=0.817 tr_acc=0.717  val_loss=0.765 val_acc=0.740  precision=0.714 recall=0.717  f1=0.738 time=0.251 memory=8700.589\n"
     ]
    },
    {
     "name": "stderr",
     "output_type": "stream",
     "text": [
      "cnn_mlp Epochs:  40%|████      | 12/30 [01:49<02:43,  9.08s/ep]"
     ]
    },
    {
     "name": "stdout",
     "output_type": "stream",
     "text": [
      "cnn_mlp Ep12  tr_loss=0.784 tr_acc=0.728  val_loss=0.868 val_acc=0.704  precision=0.726 recall=0.728  f1=0.695 time=0.195 memory=8700.589\n"
     ]
    },
    {
     "name": "stderr",
     "output_type": "stream",
     "text": [
      "cnn_mlp Epochs:  43%|████▎     | 13/30 [01:58<02:32,  8.99s/ep]"
     ]
    },
    {
     "name": "stdout",
     "output_type": "stream",
     "text": [
      "cnn_mlp Ep13  tr_loss=0.762 tr_acc=0.736  val_loss=0.849 val_acc=0.695  precision=0.734 recall=0.736  f1=0.692 time=0.193 memory=8700.589\n"
     ]
    },
    {
     "name": "stderr",
     "output_type": "stream",
     "text": [
      "cnn_mlp Epochs:  47%|████▋     | 14/30 [02:07<02:23,  8.97s/ep]"
     ]
    },
    {
     "name": "stdout",
     "output_type": "stream",
     "text": [
      "cnn_mlp Ep14  tr_loss=0.733 tr_acc=0.744  val_loss=0.955 val_acc=0.690  precision=0.743 recall=0.744  f1=0.685 time=0.202 memory=8700.589\n"
     ]
    },
    {
     "name": "stderr",
     "output_type": "stream",
     "text": [
      "cnn_mlp Epochs:  50%|█████     | 15/30 [02:16<02:16,  9.09s/ep]"
     ]
    },
    {
     "name": "stdout",
     "output_type": "stream",
     "text": [
      "cnn_mlp Ep15  tr_loss=0.719 tr_acc=0.751  val_loss=0.746 val_acc=0.736  precision=0.750 recall=0.751  f1=0.736 time=0.195 memory=8700.589\n"
     ]
    },
    {
     "name": "stderr",
     "output_type": "stream",
     "text": [
      "cnn_mlp Epochs:  53%|█████▎    | 16/30 [02:25<02:06,  9.06s/ep]"
     ]
    },
    {
     "name": "stdout",
     "output_type": "stream",
     "text": [
      "cnn_mlp Ep16  tr_loss=0.692 tr_acc=0.760  val_loss=0.678 val_acc=0.756  precision=0.759 recall=0.760  f1=0.757 time=0.205 memory=8700.589\n"
     ]
    },
    {
     "name": "stderr",
     "output_type": "stream",
     "text": [
      "cnn_mlp Epochs:  57%|█████▋    | 17/30 [02:34<01:56,  8.99s/ep]"
     ]
    },
    {
     "name": "stdout",
     "output_type": "stream",
     "text": [
      "cnn_mlp Ep17  tr_loss=0.671 tr_acc=0.768  val_loss=0.732 val_acc=0.747  precision=0.766 recall=0.768  f1=0.745 time=0.192 memory=8700.589\n"
     ]
    },
    {
     "name": "stderr",
     "output_type": "stream",
     "text": [
      "cnn_mlp Epochs:  60%|██████    | 18/30 [02:43<01:47,  8.98s/ep]"
     ]
    },
    {
     "name": "stdout",
     "output_type": "stream",
     "text": [
      "cnn_mlp Ep18  tr_loss=0.653 tr_acc=0.774  val_loss=0.633 val_acc=0.770  precision=0.773 recall=0.774  f1=0.768 time=0.197 memory=8700.589\n"
     ]
    },
    {
     "name": "stderr",
     "output_type": "stream",
     "text": [
      "cnn_mlp Epochs:  63%|██████▎   | 19/30 [02:52<01:40,  9.09s/ep]"
     ]
    },
    {
     "name": "stdout",
     "output_type": "stream",
     "text": [
      "cnn_mlp Ep19  tr_loss=0.642 tr_acc=0.777  val_loss=0.656 val_acc=0.763  precision=0.776 recall=0.777  f1=0.764 time=0.196 memory=8700.589\n"
     ]
    },
    {
     "name": "stderr",
     "output_type": "stream",
     "text": [
      "cnn_mlp Epochs:  67%|██████▋   | 20/30 [03:01<01:30,  9.04s/ep]"
     ]
    },
    {
     "name": "stdout",
     "output_type": "stream",
     "text": [
      "cnn_mlp Ep20  tr_loss=0.619 tr_acc=0.788  val_loss=0.629 val_acc=0.778  precision=0.787 recall=0.788  f1=0.779 time=0.193 memory=8700.589\n"
     ]
    },
    {
     "name": "stderr",
     "output_type": "stream",
     "text": [
      "cnn_mlp Epochs:  70%|███████   | 21/30 [03:10<01:20,  8.98s/ep]"
     ]
    },
    {
     "name": "stdout",
     "output_type": "stream",
     "text": [
      "cnn_mlp Ep21  tr_loss=0.604 tr_acc=0.791  val_loss=0.686 val_acc=0.761  precision=0.790 recall=0.791  f1=0.763 time=0.190 memory=8700.589\n"
     ]
    },
    {
     "name": "stderr",
     "output_type": "stream",
     "text": [
      "cnn_mlp Epochs:  73%|███████▎  | 22/30 [03:19<01:12,  9.08s/ep]"
     ]
    },
    {
     "name": "stdout",
     "output_type": "stream",
     "text": [
      "cnn_mlp Ep22  tr_loss=0.588 tr_acc=0.797  val_loss=0.582 val_acc=0.797  precision=0.796 recall=0.797  f1=0.797 time=0.193 memory=8700.589\n"
     ]
    },
    {
     "name": "stderr",
     "output_type": "stream",
     "text": [
      "cnn_mlp Epochs:  77%|███████▋  | 23/30 [03:28<01:03,  9.04s/ep]"
     ]
    },
    {
     "name": "stdout",
     "output_type": "stream",
     "text": [
      "cnn_mlp Ep23  tr_loss=0.583 tr_acc=0.800  val_loss=0.590 val_acc=0.794  precision=0.799 recall=0.800  f1=0.792 time=0.193 memory=8700.589\n"
     ]
    },
    {
     "name": "stderr",
     "output_type": "stream",
     "text": [
      "cnn_mlp Epochs:  80%|████████  | 24/30 [03:37<00:54,  9.01s/ep]"
     ]
    },
    {
     "name": "stdout",
     "output_type": "stream",
     "text": [
      "cnn_mlp Ep24  tr_loss=0.574 tr_acc=0.806  val_loss=0.573 val_acc=0.802  precision=0.805 recall=0.806  f1=0.802 time=0.200 memory=8700.589\n"
     ]
    },
    {
     "name": "stderr",
     "output_type": "stream",
     "text": [
      "cnn_mlp Epochs:  83%|████████▎ | 25/30 [03:46<00:44,  8.95s/ep]"
     ]
    },
    {
     "name": "stdout",
     "output_type": "stream",
     "text": [
      "cnn_mlp Ep25  tr_loss=0.557 tr_acc=0.812  val_loss=0.568 val_acc=0.800  precision=0.811 recall=0.812  f1=0.799 time=0.190 memory=8700.589\n"
     ]
    },
    {
     "name": "stderr",
     "output_type": "stream",
     "text": [
      "cnn_mlp Epochs:  87%|████████▋ | 26/30 [03:55<00:36,  9.08s/ep]"
     ]
    },
    {
     "name": "stdout",
     "output_type": "stream",
     "text": [
      "cnn_mlp Ep26  tr_loss=0.551 tr_acc=0.812  val_loss=0.565 val_acc=0.803  precision=0.810 recall=0.812  f1=0.803 time=0.195 memory=8700.589\n"
     ]
    },
    {
     "name": "stderr",
     "output_type": "stream",
     "text": [
      "cnn_mlp Epochs:  90%|█████████ | 27/30 [04:04<00:27,  9.00s/ep]"
     ]
    },
    {
     "name": "stdout",
     "output_type": "stream",
     "text": [
      "cnn_mlp Ep27  tr_loss=0.549 tr_acc=0.811  val_loss=0.555 val_acc=0.810  precision=0.810 recall=0.811  f1=0.810 time=0.193 memory=8700.589\n"
     ]
    },
    {
     "name": "stderr",
     "output_type": "stream",
     "text": [
      "cnn_mlp Epochs:  93%|█████████▎| 28/30 [04:13<00:17,  8.97s/ep]"
     ]
    },
    {
     "name": "stdout",
     "output_type": "stream",
     "text": [
      "cnn_mlp Ep28  tr_loss=0.543 tr_acc=0.815  val_loss=0.547 val_acc=0.808  precision=0.814 recall=0.815  f1=0.807 time=0.187 memory=8700.589\n"
     ]
    },
    {
     "name": "stderr",
     "output_type": "stream",
     "text": [
      "cnn_mlp Epochs:  97%|█████████▋| 29/30 [04:22<00:09,  9.06s/ep]"
     ]
    },
    {
     "name": "stdout",
     "output_type": "stream",
     "text": [
      "cnn_mlp Ep29  tr_loss=0.542 tr_acc=0.815  val_loss=0.556 val_acc=0.805  precision=0.814 recall=0.815  f1=0.805 time=0.212 memory=8700.589\n"
     ]
    },
    {
     "name": "stderr",
     "output_type": "stream",
     "text": [
      "cnn_mlp Epochs: 100%|██████████| 30/30 [04:31<00:00,  9.06s/ep]\n"
     ]
    },
    {
     "name": "stdout",
     "output_type": "stream",
     "text": [
      "cnn_mlp Ep30  tr_loss=0.538 tr_acc=0.816  val_loss=0.538 val_acc=0.811  precision=0.815 recall=0.816  f1=0.811 time=0.196 memory=8700.589\n"
     ]
    },
    {
     "name": "stderr",
     "output_type": "stream",
     "text": [
      "resnet Epochs:   5%|▌         | 1/20 [00:09<02:55,  9.24s/ep]"
     ]
    },
    {
     "name": "stdout",
     "output_type": "stream",
     "text": [
      "resnet Ep1  tr_loss=2.244 tr_acc=0.191  val_loss=2.067 val_acc=0.262  precision=0.193 recall=0.191  f1=0.263 time=0.209 memory=8700.589\n"
     ]
    },
    {
     "name": "stderr",
     "output_type": "stream",
     "text": [
      "resnet Epochs:  10%|█         | 2/20 [00:18<02:44,  9.12s/ep]"
     ]
    },
    {
     "name": "stdout",
     "output_type": "stream",
     "text": [
      "resnet Ep2  tr_loss=1.967 tr_acc=0.303  val_loss=1.934 val_acc=0.329  precision=0.303 recall=0.303  f1=0.328 time=0.202 memory=8700.589\n"
     ]
    },
    {
     "name": "stderr",
     "output_type": "stream",
     "text": [
      "resnet Epochs:  15%|█▌        | 3/20 [00:27<02:38,  9.32s/ep]"
     ]
    },
    {
     "name": "stdout",
     "output_type": "stream",
     "text": [
      "resnet Ep3  tr_loss=1.862 tr_acc=0.349  val_loss=1.846 val_acc=0.359  precision=0.348 recall=0.349  f1=0.357 time=0.209 memory=8700.589\n"
     ]
    },
    {
     "name": "stderr",
     "output_type": "stream",
     "text": [
      "resnet Epochs:  20%|██        | 4/20 [00:36<02:27,  9.22s/ep]"
     ]
    },
    {
     "name": "stdout",
     "output_type": "stream",
     "text": [
      "resnet Ep4  tr_loss=1.810 tr_acc=0.366  val_loss=1.809 val_acc=0.375  precision=0.364 recall=0.366  f1=0.372 time=0.203 memory=8700.589\n"
     ]
    },
    {
     "name": "stderr",
     "output_type": "stream",
     "text": [
      "resnet Epochs:  25%|██▌       | 5/20 [00:46<02:17,  9.19s/ep]"
     ]
    },
    {
     "name": "stdout",
     "output_type": "stream",
     "text": [
      "resnet Ep5  tr_loss=1.780 tr_acc=0.378  val_loss=1.812 val_acc=0.373  precision=0.376 recall=0.378  f1=0.368 time=0.219 memory=8700.589\n"
     ]
    },
    {
     "name": "stderr",
     "output_type": "stream",
     "text": [
      "resnet Epochs:  30%|███       | 6/20 [00:55<02:10,  9.31s/ep]"
     ]
    },
    {
     "name": "stdout",
     "output_type": "stream",
     "text": [
      "resnet Ep6  tr_loss=1.759 tr_acc=0.387  val_loss=1.780 val_acc=0.385  precision=0.385 recall=0.387  f1=0.381 time=0.250 memory=8700.589\n"
     ]
    },
    {
     "name": "stderr",
     "output_type": "stream",
     "text": [
      "resnet Epochs:  35%|███▌      | 7/20 [01:04<01:59,  9.19s/ep]"
     ]
    },
    {
     "name": "stdout",
     "output_type": "stream",
     "text": [
      "resnet Ep7  tr_loss=1.742 tr_acc=0.392  val_loss=1.758 val_acc=0.394  precision=0.390 recall=0.392  f1=0.391 time=0.201 memory=8700.589\n"
     ]
    },
    {
     "name": "stderr",
     "output_type": "stream",
     "text": [
      "resnet Epochs:  40%|████      | 8/20 [01:13<01:49,  9.16s/ep]"
     ]
    },
    {
     "name": "stdout",
     "output_type": "stream",
     "text": [
      "resnet Ep8  tr_loss=1.735 tr_acc=0.396  val_loss=1.757 val_acc=0.390  precision=0.394 recall=0.396  f1=0.387 time=0.205 memory=8700.589\n"
     ]
    },
    {
     "name": "stderr",
     "output_type": "stream",
     "text": [
      "resnet Epochs:  45%|████▌     | 9/20 [01:22<01:40,  9.12s/ep]"
     ]
    },
    {
     "name": "stdout",
     "output_type": "stream",
     "text": [
      "resnet Ep9  tr_loss=1.727 tr_acc=0.397  val_loss=1.757 val_acc=0.393  precision=0.394 recall=0.397  f1=0.390 time=0.205 memory=8700.589\n"
     ]
    },
    {
     "name": "stderr",
     "output_type": "stream",
     "text": [
      "resnet Epochs:  50%|█████     | 10/20 [01:32<01:32,  9.22s/ep]"
     ]
    },
    {
     "name": "stdout",
     "output_type": "stream",
     "text": [
      "resnet Ep10  tr_loss=1.713 tr_acc=0.402  val_loss=1.746 val_acc=0.403  precision=0.400 recall=0.402  f1=0.399 time=0.205 memory=8700.589\n"
     ]
    },
    {
     "name": "stderr",
     "output_type": "stream",
     "text": [
      "resnet Epochs:  55%|█████▌    | 11/20 [01:41<01:22,  9.14s/ep]"
     ]
    },
    {
     "name": "stdout",
     "output_type": "stream",
     "text": [
      "resnet Ep11  tr_loss=1.715 tr_acc=0.402  val_loss=1.765 val_acc=0.395  precision=0.399 recall=0.402  f1=0.393 time=0.202 memory=8700.589\n"
     ]
    },
    {
     "name": "stderr",
     "output_type": "stream",
     "text": [
      "resnet Epochs:  60%|██████    | 12/20 [01:50<01:12,  9.08s/ep]"
     ]
    },
    {
     "name": "stdout",
     "output_type": "stream",
     "text": [
      "resnet Ep12  tr_loss=1.706 tr_acc=0.405  val_loss=1.733 val_acc=0.398  precision=0.402 recall=0.405  f1=0.394 time=0.204 memory=8700.589\n"
     ]
    },
    {
     "name": "stderr",
     "output_type": "stream",
     "text": [
      "resnet Epochs:  65%|██████▌   | 13/20 [01:59<01:03,  9.14s/ep]"
     ]
    },
    {
     "name": "stdout",
     "output_type": "stream",
     "text": [
      "resnet Ep13  tr_loss=1.704 tr_acc=0.406  val_loss=1.743 val_acc=0.397  precision=0.404 recall=0.406  f1=0.393 time=0.257 memory=8700.589\n"
     ]
    },
    {
     "name": "stderr",
     "output_type": "stream",
     "text": [
      "resnet Epochs:  70%|███████   | 14/20 [02:08<00:54,  9.10s/ep]"
     ]
    },
    {
     "name": "stdout",
     "output_type": "stream",
     "text": [
      "resnet Ep14  tr_loss=1.696 tr_acc=0.408  val_loss=1.731 val_acc=0.400  precision=0.405 recall=0.408  f1=0.398 time=0.195 memory=8700.589\n"
     ]
    },
    {
     "name": "stderr",
     "output_type": "stream",
     "text": [
      "resnet Epochs:  75%|███████▌  | 15/20 [02:17<00:45,  9.06s/ep]"
     ]
    },
    {
     "name": "stdout",
     "output_type": "stream",
     "text": [
      "resnet Ep15  tr_loss=1.698 tr_acc=0.410  val_loss=1.731 val_acc=0.404  precision=0.407 recall=0.410  f1=0.402 time=0.203 memory=8700.589\n"
     ]
    },
    {
     "name": "stderr",
     "output_type": "stream",
     "text": [
      "resnet Epochs:  80%|████████  | 16/20 [02:26<00:36,  9.01s/ep]"
     ]
    },
    {
     "name": "stdout",
     "output_type": "stream",
     "text": [
      "resnet Ep16  tr_loss=1.698 tr_acc=0.407  val_loss=1.743 val_acc=0.404  precision=0.404 recall=0.407  f1=0.402 time=0.209 memory=8700.589\n"
     ]
    },
    {
     "name": "stderr",
     "output_type": "stream",
     "text": [
      "resnet Epochs:  85%|████████▌ | 17/20 [02:35<00:27,  9.14s/ep]"
     ]
    },
    {
     "name": "stdout",
     "output_type": "stream",
     "text": [
      "resnet Ep17  tr_loss=1.693 tr_acc=0.411  val_loss=1.732 val_acc=0.402  precision=0.408 recall=0.411  f1=0.400 time=0.212 memory=8700.589\n"
     ]
    },
    {
     "name": "stderr",
     "output_type": "stream",
     "text": [
      "resnet Epochs:  90%|█████████ | 18/20 [02:44<00:18,  9.06s/ep]"
     ]
    },
    {
     "name": "stdout",
     "output_type": "stream",
     "text": [
      "resnet Ep18  tr_loss=1.699 tr_acc=0.408  val_loss=1.732 val_acc=0.411  precision=0.406 recall=0.408  f1=0.410 time=0.205 memory=8700.589\n"
     ]
    },
    {
     "name": "stderr",
     "output_type": "stream",
     "text": [
      "resnet Epochs:  95%|█████████▌| 19/20 [02:53<00:09,  9.01s/ep]"
     ]
    },
    {
     "name": "stdout",
     "output_type": "stream",
     "text": [
      "resnet Ep19  tr_loss=1.690 tr_acc=0.412  val_loss=1.725 val_acc=0.403  precision=0.409 recall=0.412  f1=0.401 time=0.198 memory=8700.589\n"
     ]
    },
    {
     "name": "stderr",
     "output_type": "stream",
     "text": [
      "resnet Epochs: 100%|██████████| 20/20 [03:02<00:00,  9.12s/ep]"
     ]
    },
    {
     "name": "stdout",
     "output_type": "stream",
     "text": [
      "resnet Ep20  tr_loss=1.692 tr_acc=0.410  val_loss=1.730 val_acc=0.400  precision=0.407 recall=0.410  f1=0.398 time=0.210 memory=8700.589\n"
     ]
    },
    {
     "name": "stderr",
     "output_type": "stream",
     "text": [
      "\n"
     ]
    }
   ],
   "source": [
    "# Instantiating models\n",
    "vit      = ViT()\n",
    "cnn_mlp  = CNN_MLP()\n",
    "resnet_tl= get_resnet()\n",
    "\n",
    "# Training\n",
    "hist_vit,      vit      = train_model(vit,      'vit',      epochs=30, lr=1e-3)\n",
    "hist_cnn_mlp,  cnn_mlp  = train_model(cnn_mlp,  'cnn_mlp',  epochs=30, lr=1e-3)\n",
    "hist_resnet,   resnet_tl= train_model(resnet_tl,'resnet',   epochs=20, lr=1e-4)\n"
   ]
  },
  {
   "cell_type": "code",
   "execution_count": 163,
   "metadata": {
    "execution": {
     "iopub.execute_input": "2025-05-01T17:06:10.215068Z",
     "iopub.status.busy": "2025-05-01T17:06:10.214783Z",
     "iopub.status.idle": "2025-05-01T17:06:10.221622Z",
     "shell.execute_reply": "2025-05-01T17:06:10.220874Z",
     "shell.execute_reply.started": "2025-05-01T17:06:10.215045Z"
    },
    "trusted": true
   },
   "outputs": [
    {
     "name": "stdout",
     "output_type": "stream",
     "text": [
      "ViT training and validation metrics:\n"
     ]
    },
    {
     "data": {
      "text/plain": [
       "({'loss': 0.6602643071250482,\n",
       "  'acc': 0.7658444444444444,\n",
       "  'precision': 0.7651015818892924,\n",
       "  'recall': 0.7658444444444444,\n",
       "  'f1': 0.7654004287472481,\n",
       "  'time': 0.7185649130079481,\n",
       "  'mem': 8700.5888671875},\n",
       " {'loss': 0.7744123816490174,\n",
       "  'acc': 0.726,\n",
       "  'precision': 0.7257908084794743,\n",
       "  'recall': 0.726,\n",
       "  'f1': 0.7247468100186046,\n",
       "  'time': 0.26789321899414065,\n",
       "  'mem': 8700.5888671875})"
      ]
     },
     "execution_count": 163,
     "metadata": {},
     "output_type": "execute_result"
    }
   ],
   "source": [
    "print(\"ViT training and validation metrics:\")\n",
    "\n",
    "hist_vit[29]"
   ]
  },
  {
   "cell_type": "code",
   "execution_count": 164,
   "metadata": {
    "execution": {
     "iopub.execute_input": "2025-05-01T17:06:22.374691Z",
     "iopub.status.busy": "2025-05-01T17:06:22.374404Z",
     "iopub.status.idle": "2025-05-01T17:06:22.380644Z",
     "shell.execute_reply": "2025-05-01T17:06:22.379922Z",
     "shell.execute_reply.started": "2025-05-01T17:06:22.374671Z"
    },
    "trusted": true
   },
   "outputs": [
    {
     "name": "stdout",
     "output_type": "stream",
     "text": [
      "CNN_MLP training and validation metrics:\n"
     ]
    },
    {
     "data": {
      "text/plain": [
       "({'loss': 0.5378690076653253,\n",
       "  'acc': 0.8160222222222222,\n",
       "  'precision': 0.8150473065649186,\n",
       "  'recall': 0.8160222222222222,\n",
       "  'f1': 0.8154661082054312,\n",
       "  'time': 0.1715919123755561,\n",
       "  'mem': 8700.5888671875},\n",
       " {'loss': 0.5378044687211514,\n",
       "  'acc': 0.8114,\n",
       "  'precision': 0.809965073531621,\n",
       "  'recall': 0.8114,\n",
       "  'f1': 0.8105091286906418,\n",
       "  'time': 0.19598875045776368,\n",
       "  'mem': 8700.5888671875})"
      ]
     },
     "execution_count": 164,
     "metadata": {},
     "output_type": "execute_result"
    }
   ],
   "source": [
    "print(\"CNN_MLP training and validation metrics:\")\n",
    "\n",
    "hist_cnn_mlp[29]"
   ]
  },
  {
   "cell_type": "code",
   "execution_count": 166,
   "metadata": {
    "execution": {
     "iopub.execute_input": "2025-05-01T17:06:58.639032Z",
     "iopub.status.busy": "2025-05-01T17:06:58.638776Z",
     "iopub.status.idle": "2025-05-01T17:06:58.645016Z",
     "shell.execute_reply": "2025-05-01T17:06:58.644178Z",
     "shell.execute_reply.started": "2025-05-01T17:06:58.639013Z"
    },
    "trusted": true
   },
   "outputs": [
    {
     "name": "stdout",
     "output_type": "stream",
     "text": [
      "ResNet training and validation metrics:\n"
     ]
    },
    {
     "data": {
      "text/plain": [
       "({'loss': 1.6923237016255206,\n",
       "  'acc': 0.4100888888888889,\n",
       "  'precision': 0.4073754218716271,\n",
       "  'recall': 0.4100888888888889,\n",
       "  'f1': 0.40786596975771705,\n",
       "  'time': 0.1724424786037869,\n",
       "  'mem': 8700.5888671875},\n",
       " {'loss': 1.7297687262296677,\n",
       "  'acc': 0.4004,\n",
       "  'precision': 0.3987063881481353,\n",
       "  'recall': 0.4004,\n",
       "  'f1': 0.3979889309764227,\n",
       "  'time': 0.21037917137145995,\n",
       "  'mem': 8700.5888671875})"
      ]
     },
     "execution_count": 166,
     "metadata": {},
     "output_type": "execute_result"
    }
   ],
   "source": [
    "print(\"ResNet training and validation metrics:\")\n",
    "\n",
    "hist_resnet[19]"
   ]
  },
  {
   "cell_type": "code",
   "execution_count": null,
   "metadata": {
    "trusted": true
   },
   "outputs": [],
   "source": []
  },
  {
   "cell_type": "markdown",
   "metadata": {},
   "source": [
    "## 6. Final Evaluation on Test Set & Confusion Matrix:"
   ]
  },
  {
   "cell_type": "code",
   "execution_count": 83,
   "metadata": {
    "execution": {
     "iopub.execute_input": "2025-05-01T15:59:45.720616Z",
     "iopub.status.busy": "2025-05-01T15:59:45.719911Z",
     "iopub.status.idle": "2025-05-01T15:59:56.593061Z",
     "shell.execute_reply": "2025-05-01T15:59:56.592276Z",
     "shell.execute_reply.started": "2025-05-01T15:59:45.720580Z"
    },
    "trusted": true
   },
   "outputs": [
    {
     "name": "stderr",
     "output_type": "stream",
     "text": [
      "/tmp/ipykernel_31/876646172.py:2: FutureWarning: You are using `torch.load` with `weights_only=False` (the current default value), which uses the default pickle module implicitly. It is possible to construct malicious pickle data which will execute arbitrary code during unpickling (See https://github.com/pytorch/pytorch/blob/main/SECURITY.md#untrusted-models for more details). In a future release, the default value for `weights_only` will be flipped to `True`. This limits the functions that could be executed during unpickling. Arbitrary objects will no longer be allowed to be loaded via this mode unless they are explicitly allowlisted by the user via `torch.serialization.add_safe_globals`. We recommend you start setting `weights_only=True` for any use case where you don't have full control of the loaded file. Please open an issue on GitHub for any issues related to this experimental feature.\n",
      "  vit.load_state_dict(torch.load('/kaggle/working/best_vit.pt'))\n",
      "/tmp/ipykernel_31/876646172.py:3: FutureWarning: You are using `torch.load` with `weights_only=False` (the current default value), which uses the default pickle module implicitly. It is possible to construct malicious pickle data which will execute arbitrary code during unpickling (See https://github.com/pytorch/pytorch/blob/main/SECURITY.md#untrusted-models for more details). In a future release, the default value for `weights_only` will be flipped to `True`. This limits the functions that could be executed during unpickling. Arbitrary objects will no longer be allowed to be loaded via this mode unless they are explicitly allowlisted by the user via `torch.serialization.add_safe_globals`. We recommend you start setting `weights_only=True` for any use case where you don't have full control of the loaded file. Please open an issue on GitHub for any issues related to this experimental feature.\n",
      "  cnn_mlp.load_state_dict(torch.load('/kaggle/working/best_cnn_mlp.pt'))\n",
      "/tmp/ipykernel_31/876646172.py:4: FutureWarning: You are using `torch.load` with `weights_only=False` (the current default value), which uses the default pickle module implicitly. It is possible to construct malicious pickle data which will execute arbitrary code during unpickling (See https://github.com/pytorch/pytorch/blob/main/SECURITY.md#untrusted-models for more details). In a future release, the default value for `weights_only` will be flipped to `True`. This limits the functions that could be executed during unpickling. Arbitrary objects will no longer be allowed to be loaded via this mode unless they are explicitly allowlisted by the user via `torch.serialization.add_safe_globals`. We recommend you start setting `weights_only=True` for any use case where you don't have full control of the loaded file. Please open an issue on GitHub for any issues related to this experimental feature.\n",
      "  resnet_tl.load_state_dict(torch.load('/kaggle/working/best_resnet.pt'))\n"
     ]
    },
    {
     "name": "stdout",
     "output_type": "stream",
     "text": [
      "ViT Test Acc: 0.745  F1: 0.742\n",
      "CNN+MLP Test Acc: 0.813  F1: 0.812\n",
      "ResNet Test Acc: 0.397  F1: 0.395\n"
     ]
    },
    {
     "data": {
      "image/png": "[encoded data removed]",
      "text/plain": [
       "<Figure size 640x480 with 2 Axes>"
      ]
     },
     "metadata": {},
     "output_type": "display_data"
    },
    {
     "data": {
      "image/png": "[encoded data removed]",
      "text/plain": [
       "<Figure size 640x480 with 2 Axes>"
      ]
     },
     "metadata": {},
     "output_type": "display_data"
    },
    {
     "data": {
      "image/png": "[encoded data removed]",
      "text/plain": [
       "<Figure size 640x480 with 2 Axes>"
      ]
     },
     "metadata": {},
     "output_type": "display_data"
    }
   ],
   "source": [
    "# Reloading best weights\n",
    "vit.load_state_dict(torch.load('/kaggle/working/best_vit.pt'))\n",
    "cnn_mlp.load_state_dict(torch.load('/kaggle/working/best_cnn_mlp.pt'))\n",
    "resnet_tl.load_state_dict(torch.load('/kaggle/working/best_resnet.pt'))\n",
    "\n",
    "# Evaluating\n",
    "results = {}\n",
    "for name, model in [('ViT', vit), ('CNN+MLP', cnn_mlp), ('ResNet', resnet_tl)]:\n",
    "    results[name] = run_epoch(model, test_loader, nn.CrossEntropyLoss(), None)\n",
    "    print(f\"{name} Test Acc: {results[name]['acc']:.3f}  F1: {results[name]['f1']:.3f}\")\n",
    "\n",
    "\n",
    "# Confusion matrix for ViT\n",
    "y_true, y_pred = [], []\n",
    "vit.eval()\n",
    "with torch.no_grad():\n",
    "    for imgs, labels in test_loader:\n",
    "        out = vit(imgs.to(device)).argmax(dim=1).cpu().numpy()\n",
    "        y_pred.extend(out); y_true.extend(labels.numpy())\n",
    "cm = confusion_matrix(y_true, y_pred)\n",
    "ConfusionMatrixDisplay(cm, display_labels=test_set.classes).plot(cmap=plt.cm.Blues)\n",
    "plt.title(\"ViT Confusion Matrix\")\n",
    "plt.show()\n",
    "\n",
    "\n",
    "# Confusion matrix for CNN_MLP\n",
    "y_true, y_pred = [], []\n",
    "cnn_mlp.eval()\n",
    "with torch.no_grad():\n",
    "    for imgs, labels in test_loader:\n",
    "        out = cnn_mlp(imgs.to(device)).argmax(dim=1).cpu().numpy()\n",
    "        y_pred.extend(out); y_true.extend(labels.numpy())\n",
    "cm = confusion_matrix(y_true, y_pred)\n",
    "ConfusionMatrixDisplay(cm, display_labels=test_set.classes).plot(cmap=plt.cm.Blues)\n",
    "plt.title(\"CNN_MLP Confusion Matrix\")\n",
    "plt.show()\n",
    "\n",
    "\n",
    "# Confusion matrix for Resnet_tl\n",
    "y_true, y_pred = [], []\n",
    "resnet_tl.eval()\n",
    "with torch.no_grad():\n",
    "    for imgs, labels in test_loader:\n",
    "        out = resnet_tl(imgs.to(device)).argmax(dim=1).cpu().numpy()\n",
    "        y_pred.extend(out); y_true.extend(labels.numpy())\n",
    "cm = confusion_matrix(y_true, y_pred)\n",
    "ConfusionMatrixDisplay(cm, display_labels=test_set.classes).plot(cmap=plt.cm.Blues)\n",
    "plt.title(\"Resnet_tl Confusion Matrix\")\n",
    "plt.show()\n"
   ]
  },
  {
   "cell_type": "markdown",
   "metadata": {},
   "source": [
    "## 7. Plot Training Curves:"
   ]
  },
  {
   "cell_type": "code",
   "execution_count": 78,
   "metadata": {
    "execution": {
     "iopub.execute_input": "2025-05-01T15:54:12.900575Z",
     "iopub.status.busy": "2025-05-01T15:54:12.900241Z",
     "iopub.status.idle": "2025-05-01T15:54:13.733273Z",
     "shell.execute_reply": "2025-05-01T15:54:13.732506Z",
     "shell.execute_reply.started": "2025-05-01T15:54:12.900546Z"
    },
    "trusted": true
   },
   "outputs": [
    {
     "data": {
      "image/png": "[encoded data removed]",
      "text/plain": [
       "<Figure size 1200x400 with 2 Axes>"
      ]
     },
     "metadata": {},
     "output_type": "display_data"
    },
    {
     "data": {
      "image/png": "[encoded data removed]",
      "text/plain": [
       "<Figure size 1200x400 with 2 Axes>"
      ]
     },
     "metadata": {},
     "output_type": "display_data"
    },
    {
     "data": {
      "image/png": "[encoded data removed]",
      "text/plain": [
       "<Figure size 1200x400 with 2 Axes>"
      ]
     },
     "metadata": {},
     "output_type": "display_data"
    }
   ],
   "source": [
    "def plot_history(hist, name):\n",
    "    epochs = range(1, len(hist)+1)\n",
    "    tr_loss = [h[0]['loss'] for h in hist]\n",
    "    val_loss= [h[1]['loss'] for h in hist]\n",
    "    tr_acc  = [h[0]['acc']  for h in hist]\n",
    "    val_acc = [h[1]['acc']  for h in hist]\n",
    "    plt.figure(figsize=(12,4))\n",
    "    plt.subplot(1,2,1)\n",
    "    plt.plot(epochs, tr_loss,  label='Train Loss')\n",
    "    plt.plot(epochs, val_loss, label='Val Loss'); plt.legend(); plt.title(f'{name} Loss')\n",
    "    plt.subplot(1,2,2)\n",
    "    plt.plot(epochs, tr_acc,   label='Train Acc')\n",
    "    plt.plot(epochs, val_acc,  label='Val Acc'); plt.legend(); plt.title(f'{name} Acc')\n",
    "    plt.show()\n",
    "\n",
    "plot_history(hist_vit,     'ViT')\n",
    "plot_history(hist_cnn_mlp, 'CNN+MLP')\n",
    "plot_history(hist_resnet,  'ResNet')\n"
   ]
  },
  {
   "cell_type": "code",
   "execution_count": 81,
   "metadata": {
    "execution": {
     "iopub.execute_input": "2025-05-01T15:57:47.723948Z",
     "iopub.status.busy": "2025-05-01T15:57:47.723632Z",
     "iopub.status.idle": "2025-05-01T15:57:53.318889Z",
     "shell.execute_reply": "2025-05-01T15:57:53.317986Z",
     "shell.execute_reply.started": "2025-05-01T15:57:47.723921Z"
    },
    "trusted": true
   },
   "outputs": [
    {
     "name": "stdout",
     "output_type": "stream",
     "text": [
      "VIT Inference Speed: 0.17 ms/img  —  5863.4 FPS\n",
      "CNN_MLP Inference Speed: 0.03 ms/img  —  29137.6 FPS\n",
      "Resnet_tl Inference Speed: 0.08 ms/img  —  13281.5 FPS\n"
     ]
    }
   ],
   "source": [
    "import time\n",
    "import torch\n",
    "\n",
    "def measure_inference_speed(model, loader, device, warmup_batches=5):\n",
    "    \"\"\"\n",
    "    Returns (avg_ms_per_image, fps)\n",
    "    \"\"\"\n",
    "    model.eval()\n",
    "    timings = []\n",
    "\n",
    "    # Warm-up:\n",
    "    with torch.no_grad():\n",
    "        for i, (imgs, _) in enumerate(loader):\n",
    "            if i >= warmup_batches:\n",
    "                break\n",
    "            imgs = imgs.to(device)\n",
    "            _ = model(imgs)\n",
    "\n",
    "    # Actual timing\n",
    "    with torch.no_grad():\n",
    "        for imgs, _ in loader:\n",
    "            imgs = imgs.to(device)\n",
    "            torch.cuda.synchronize()           \n",
    "            start = time.time()\n",
    "            _ = model(imgs)\n",
    "            torch.cuda.synchronize()           \n",
    "            end = time.time()\n",
    "            timings.append((end - start) / imgs.size(0))  # seconds per image\n",
    "\n",
    "    avg_sec_per_img = sum(timings) / len(timings)\n",
    "    avg_ms_per_img  = avg_sec_per_img * 1e3\n",
    "    fps             = 1.0 / avg_sec_per_img\n",
    "    return avg_ms_per_img, fps\n",
    "\n",
    "\n",
    "vit.to(device)\n",
    "avg_ms, fps = measure_inference_speed(vit, test_loader, device)\n",
    "print(f\"VIT Inference Speed: {avg_ms:.2f} ms/img  —  {fps:.1f} FPS\")\n",
    "\n",
    "cnn_mlp.to(device)\n",
    "avg_ms, fps = measure_inference_speed(cnn_mlp, test_loader, device)\n",
    "print(f\"CNN_MLP Inference Speed: {avg_ms:.2f} ms/img  —  {fps:.1f} FPS\")\n",
    "\n",
    "resnet_tl.to(device)\n",
    "avg_ms, fps = measure_inference_speed(resnet_tl, test_loader, device)\n",
    "print(f\"Resnet_tl Inference Speed: {avg_ms:.2f} ms/img  —  {fps:.1f} FPS\")"
   ]
  },
  {
   "cell_type": "markdown",
   "metadata": {},
   "source": [
    "## Deployment:"
   ]
  },
  {
   "cell_type": "code",
   "execution_count": 139,
   "metadata": {
    "execution": {
     "iopub.execute_input": "2025-05-01T16:35:09.175628Z",
     "iopub.status.busy": "2025-05-01T16:35:09.175020Z",
     "iopub.status.idle": "2025-05-01T16:35:09.182362Z",
     "shell.execute_reply": "2025-05-01T16:35:09.181667Z",
     "shell.execute_reply.started": "2025-05-01T16:35:09.175607Z"
    },
    "trusted": true
   },
   "outputs": [
    {
     "name": "stdout",
     "output_type": "stream",
     "text": [
      "Overwriting streamlit_app2.py\n"
     ]
    }
   ],
   "source": [
    "%%writefile streamlit_app2.py\n",
    "\n",
    "import streamlit as st\n",
    "import torch\n",
    "import torchvision.transforms as transforms\n",
    "import torchvision.datasets as datasets\n",
    "import torchvision.models as models\n",
    "import numpy as np\n",
    "from PIL import Image\n",
    "from io import BytesIO\n",
    "from torchvision.utils import make_grid\n",
    "from torch import nn\n",
    "\n",
    "DEVICE = torch.device('cuda' if torch.cuda.is_available() else 'cpu')\n",
    "\n",
    "class ViT(nn.Module):\n",
    "    def __init__(self, img_size=32, patch_size=4, in_chans=3, num_classes=10,\n",
    "                 d_model=256, nhead=4, num_layers=6, mlp_dim=512, dropout=0.1):\n",
    "        super().__init__()\n",
    "        self.num_patches = (img_size // patch_size) ** 2             # total patches \n",
    "        self.patch_dim   = in_chans * patch_size * patch_size\n",
    "        \n",
    "        # Linear patch embedding\n",
    "        self.patch_proj = nn.Linear(self.patch_dim, d_model)        \n",
    "        \n",
    "        # Class token + positional embeddings\n",
    "        self.cls_token = nn.Parameter(torch.zeros(1, 1, d_model))\n",
    "        self.pos_emb   = nn.Parameter(torch.zeros(1, self.num_patches+1, d_model))\n",
    "        \n",
    "        # Transformer encoder\n",
    "        encoder_layer = nn.TransformerEncoderLayer(\n",
    "            d_model=d_model, nhead=nhead, dim_feedforward=mlp_dim,\n",
    "            dropout=dropout, activation='gelu'\n",
    "        )                                                              \n",
    "        self.transformer = nn.TransformerEncoder(encoder_layer, num_layers)\n",
    "        \n",
    "        # Classification head\n",
    "        self.mlp_head = nn.Sequential(\n",
    "            nn.LayerNorm(d_model),\n",
    "            nn.Linear(d_model, num_classes)\n",
    "        )\n",
    "\n",
    "    def forward(self, x):\n",
    "        B = x.shape[0]\n",
    "        \n",
    "        # Splitting into patches\n",
    "        patches = x.unfold(2, 4, 4).unfold(3, 4, 4)                   \n",
    "        patches = patches.contiguous().view(B, 3, -1, 4, 4)          \n",
    "        patches = patches.permute(0,2,1,3,4).reshape(B, -1, self.patch_dim)\n",
    "        \n",
    "        # Embedding patches and prepending class token\n",
    "        x = self.patch_proj(patches)                                  \n",
    "        cls_tokens = self.cls_token.expand(B, -1, -1)                \n",
    "        x = torch.cat((cls_tokens, x), dim=1)                         \n",
    "        x = x + self.pos_emb    \n",
    "        \n",
    "        # Transformer\n",
    "        x = self.transformer(x.transpose(0,1)).transpose(0,1)\n",
    "        \n",
    "        # Classification\n",
    "        return self.mlp_head(x[:,0])\n",
    "\n",
    "\n",
    "class CNN_MLP(nn.Module):\n",
    "    def __init__(self, num_classes=10):\n",
    "        super().__init__()\n",
    "        self.features = nn.Sequential(\n",
    "            nn.Conv2d(3, 64, 3, padding=1), nn.BatchNorm2d(64), nn.ReLU(),\n",
    "            nn.MaxPool2d(2),\n",
    "            nn.Conv2d(64,128,3,padding=1), nn.BatchNorm2d(128), nn.ReLU(),\n",
    "            nn.MaxPool2d(2),\n",
    "            nn.Conv2d(128,256,3,padding=1), nn.BatchNorm2d(256), nn.ReLU(),\n",
    "            nn.AdaptiveAvgPool2d(1)\n",
    "        )                                                            \n",
    "        self.classifier = nn.Sequential(\n",
    "            nn.Flatten(),\n",
    "            nn.Linear(256, 128), nn.ReLU(), nn.Dropout(0.5),\n",
    "            nn.Linear(128, num_classes)\n",
    "        )\n",
    "\n",
    "    def forward(self, x):\n",
    "        x = self.features(x)\n",
    "        return self.classifier(x)\n",
    "\n",
    "\n",
    "# Loading models\n",
    "@st.cache_resource\n",
    "def load_models():\n",
    "    \n",
    "    # Vision Transformer\n",
    "    vit = ViT().to(DEVICE)\n",
    "    vit.load_state_dict(torch.load('/kaggle/working/best_vit.pt', map_location=DEVICE))\n",
    "    vit.eval()\n",
    "    \n",
    "    # CNN+MLP\n",
    "    cnn_mlp = CNN_MLP().to(DEVICE)\n",
    "    cnn_mlp.load_state_dict(torch.load('/kaggle/working/best_cnn_mlp.pt', map_location=DEVICE))\n",
    "    cnn_mlp.eval()\n",
    "    \n",
    "    # ResNet\n",
    "    resnet = models.resnet18(pretrained=False)\n",
    "    resnet.fc = nn.Linear(resnet.fc.in_features, 10)\n",
    "    resnet.load_state_dict(torch.load('/kaggle/working/best_resnet.pt', map_location=DEVICE))\n",
    "    resnet.to(DEVICE).eval()\n",
    "    return vit, cnn_mlp, resnet\n",
    "\n",
    "vit_model, cnn_model, res_model = load_models()\n",
    "\n",
    "# CIFAR-10 test set (with normalization stats)\n",
    "mean = torch.tensor([0.4914, 0.4822, 0.4465]).view(3,1,1)\n",
    "std  = torch.tensor([0.2470, 0.2435, 0.2616]).view(3,1,1)\n",
    "transform = transforms.Compose([\n",
    "    transforms.ToTensor(),\n",
    "    transforms.Normalize(mean.flatten().tolist(), std.flatten().tolist())\n",
    "])\n",
    "\n",
    "test_set = datasets.CIFAR10(root='./data', train=False, download=True, transform=transform)\n",
    "\n",
    "# Sidebar: number of samples\n",
    "num_samples = st.sidebar.slider('Number of test images', 5, 50, 16)\n",
    "indices = np.random.choice(len(test_set), num_samples, replace=False)\n",
    "\n",
    "# Helper: unnormalize tensor to PIL Image\n",
    "def tensor_to_pil(img_tensor):\n",
    "    img = img_tensor * std + mean        \n",
    "    img = img.clamp(0,1)\n",
    "    pil = transforms.ToPILImage()(img)\n",
    "    return pil\n",
    "\n",
    "\n",
    "# Collecting results\n",
    "results = []\n",
    "with torch.no_grad():\n",
    "    for idx in indices:\n",
    "        img_tensor, label = test_set[idx]\n",
    "        input_tensor = img_tensor.unsqueeze(0).to(DEVICE)\n",
    "        pv = vit_model(input_tensor).argmax(dim=1).item()\n",
    "        pc = cnn_model(input_tensor).argmax(dim=1).item()\n",
    "        pr = res_model(input_tensor).argmax(dim=1).item()\n",
    "        results.append((img_tensor, label, pv, pc, pr))\n",
    "\n",
    "class_names = test_set.classes\n",
    "\n",
    "\n",
    "# Displaying\n",
    "st.title('CIFAR-10 Model Comparison')\n",
    "st.markdown('### Correct vs Incorrect Predictions')\n",
    "\n",
    "for model_name in ['ViT', 'CNN+MLP', 'ResNet']:\n",
    "    st.header(model_name)\n",
    "    cols = st.columns(4)\n",
    "    row = 0\n",
    "    for img_tensor, label, pv, pc, pr in results:\n",
    "        pred = {'ViT': pv, 'CNN+MLP': pc, 'ResNet': pr}[model_name]\n",
    "        correct = (pred == label)\n",
    "        \n",
    "        # Converting normalized tensor back to image & resizing with nearest-neighbor\n",
    "        pil_img = tensor_to_pil(img_tensor)\n",
    "        display_img = pil_img.resize((128,128), resample=Image.NEAREST)\n",
    "        \n",
    "        # Caption\n",
    "        caption = f\"True: {class_names[label]}\\nPred: {class_names[pred]}\"\n",
    "        if not correct:\n",
    "            caption = f\"**WRONG**\\n{caption}\"\n",
    "            \n",
    "        # Placing in grid\n",
    "        col = cols[row % 4]\n",
    "        col.image(display_img, width=128, use_container_width=False, caption=caption)\n",
    "        row += 1\n",
    "        if row % 4 == 0:\n",
    "            cols = st.columns(4)\n",
    "            row = 0\n"
   ]
  },
  {
   "cell_type": "code",
   "execution_count": null,
   "metadata": {
    "execution": {
     "iopub.execute_input": "2025-05-01T16:06:59.248092Z",
     "iopub.status.busy": "2025-05-01T16:06:59.247423Z",
     "iopub.status.idle": "2025-05-01T16:06:59.548081Z",
     "shell.execute_reply": "2025-05-01T16:06:59.547111Z",
     "shell.execute_reply.started": "2025-05-01T16:06:59.248072Z"
    },
    "trusted": true
   },
   "outputs": [
    {
     "name": "stdout",
     "output_type": "stream",
     "text": [
      "Authtoken saved to configuration file: /root/.config/ngrok/ngrok.yml\n"
     ]
    }
   ],
   "source": [
    "!ngrok authtoken abc"
   ]
  },
  {
   "cell_type": "code",
   "execution_count": 140,
   "metadata": {
    "execution": {
     "iopub.execute_input": "2025-05-01T16:35:12.320394Z",
     "iopub.status.busy": "2025-05-01T16:35:12.319851Z",
     "iopub.status.idle": "2025-05-01T16:35:12.541666Z",
     "shell.execute_reply": "2025-05-01T16:35:12.540935Z",
     "shell.execute_reply.started": "2025-05-01T16:35:12.320372Z"
    },
    "trusted": true
   },
   "outputs": [
    {
     "name": "stdout",
     "output_type": "stream",
     "text": [
      "Ngrok public URL: NgrokTunnel: \"https://93e5-104-154-233-118.ngrok-free.app\" -> \"http://localhost:8000\"\n"
     ]
    }
   ],
   "source": [
    "from pyngrok import ngrok\n",
    "\n",
    "# Start a new ngrok tunnel\n",
    "public_url = ngrok.connect(8000)\n",
    "\n",
    "print(\"Ngrok public URL:\", public_url)"
   ]
  },
  {
   "cell_type": "code",
   "execution_count": 141,
   "metadata": {
    "execution": {
     "iopub.execute_input": "2025-05-01T16:35:15.212896Z",
     "iopub.status.busy": "2025-05-01T16:35:15.212619Z",
     "iopub.status.idle": "2025-05-01T16:36:39.451085Z",
     "shell.execute_reply": "2025-05-01T16:36:39.450411Z",
     "shell.execute_reply.started": "2025-05-01T16:35:15.212876Z"
    },
    "trusted": true
   },
   "outputs": [
    {
     "name": "stdout",
     "output_type": "stream",
     "text": [
      "\n",
      "Collecting usage statistics. To deactivate, set browser.gatherUsageStats to false.\n",
      "\u001b[0m\n",
      "\u001b[0m\n",
      "\u001b[34m\u001b[1m  You can now view your Streamlit app in your browser.\u001b[0m\n",
      "\u001b[0m\n",
      "\u001b[34m  Local URL: \u001b[0m\u001b[1mhttp://localhost:8000\u001b[0m\n",
      "\u001b[34m  Network URL: \u001b[0m\u001b[1mhttp://172.19.2.2:8000\u001b[0m\n",
      "\u001b[34m  External URL: \u001b[0m\u001b[1mhttp://104.154.233.118:8000\u001b[0m\n",
      "\u001b[0m\n",
      "/usr/local/lib/python3.11/dist-packages/torch/nn/modules/transformer.py:379: UserWarning: enable_nested_tensor is True, but self.use_nested_tensor is False because encoder_layer.self_attn.batch_first was not True(use batch_first for better inference performance)\n",
      "  warnings.warn(\n",
      "/kaggle/working/streamlit_app2.py:84: FutureWarning: You are using `torch.load` with `weights_only=False` (the current default value), which uses the default pickle module implicitly. It is possible to construct malicious pickle data which will execute arbitrary code during unpickling (See https://github.com/pytorch/pytorch/blob/main/SECURITY.md#untrusted-models for more details). In a future release, the default value for `weights_only` will be flipped to `True`. This limits the functions that could be executed during unpickling. Arbitrary objects will no longer be allowed to be loaded via this mode unless they are explicitly allowlisted by the user via `torch.serialization.add_safe_globals`. We recommend you start setting `weights_only=True` for any use case where you don't have full control of the loaded file. Please open an issue on GitHub for any issues related to this experimental feature.\n",
      "  vit.load_state_dict(torch.load('/kaggle/working/best_vit.pt', map_location=DEVICE))\n",
      "/kaggle/working/streamlit_app2.py:89: FutureWarning: You are using `torch.load` with `weights_only=False` (the current default value), which uses the default pickle module implicitly. It is possible to construct malicious pickle data which will execute arbitrary code during unpickling (See https://github.com/pytorch/pytorch/blob/main/SECURITY.md#untrusted-models for more details). In a future release, the default value for `weights_only` will be flipped to `True`. This limits the functions that could be executed during unpickling. Arbitrary objects will no longer be allowed to be loaded via this mode unless they are explicitly allowlisted by the user via `torch.serialization.add_safe_globals`. We recommend you start setting `weights_only=True` for any use case where you don't have full control of the loaded file. Please open an issue on GitHub for any issues related to this experimental feature.\n",
      "  cnn_mlp.load_state_dict(torch.load('/kaggle/working/best_cnn_mlp.pt', map_location=DEVICE))\n",
      "/usr/local/lib/python3.11/dist-packages/torchvision/models/_utils.py:208: UserWarning: The parameter 'pretrained' is deprecated since 0.13 and may be removed in the future, please use 'weights' instead.\n",
      "  warnings.warn(\n",
      "/usr/local/lib/python3.11/dist-packages/torchvision/models/_utils.py:223: UserWarning: Arguments other than a weight enum or `None` for 'weights' are deprecated since 0.13 and may be removed in the future. The current behavior is equivalent to passing `weights=None`.\n",
      "  warnings.warn(msg)\n",
      "/kaggle/working/streamlit_app2.py:94: FutureWarning: You are using `torch.load` with `weights_only=False` (the current default value), which uses the default pickle module implicitly. It is possible to construct malicious pickle data which will execute arbitrary code during unpickling (See https://github.com/pytorch/pytorch/blob/main/SECURITY.md#untrusted-models for more details). In a future release, the default value for `weights_only` will be flipped to `True`. This limits the functions that could be executed during unpickling. Arbitrary objects will no longer be allowed to be loaded via this mode unless they are explicitly allowlisted by the user via `torch.serialization.add_safe_globals`. We recommend you start setting `weights_only=True` for any use case where you don't have full control of the loaded file. Please open an issue on GitHub for any issues related to this experimental feature.\n",
      "  resnet.load_state_dict(torch.load('/kaggle/working/best_resnet.pt', map_location=DEVICE))\n",
      "Files already downloaded and verified\n",
      "2025-05-01 16:35:31.373 Examining the path of torch.classes raised:\n",
      "Traceback (most recent call last):\n",
      "  File \"/usr/local/lib/python3.11/dist-packages/streamlit/web/bootstrap.py\", line 347, in run\n",
      "    if asyncio.get_running_loop().is_running():\n",
      "       ^^^^^^^^^^^^^^^^^^^^^^^^^^\n",
      "RuntimeError: no running event loop\n",
      "\n",
      "During handling of the above exception, another exception occurred:\n",
      "\n",
      "Traceback (most recent call last):\n",
      "  File \"/usr/local/lib/python3.11/dist-packages/streamlit/watcher/local_sources_watcher.py\", line 217, in get_module_paths\n",
      "    potential_paths = extract_paths(module)\n",
      "                      ^^^^^^^^^^^^^^^^^^^^^\n",
      "  File \"/usr/local/lib/python3.11/dist-packages/streamlit/watcher/local_sources_watcher.py\", line 210, in <lambda>\n",
      "    lambda m: list(m.__path__._path),\n",
      "                   ^^^^^^^^^^^^^^^^\n",
      "  File \"/usr/local/lib/python3.11/dist-packages/torch/_classes.py\", line 13, in __getattr__\n",
      "    proxy = torch._C._get_custom_class_python_wrapper(self.name, attr)\n",
      "            ^^^^^^^^^^^^^^^^^^^^^^^^^^^^^^^^^^^^^^^^^^^^^^^^^^^^^^^^^^\n",
      "RuntimeError: Tried to instantiate class '__path__._path', but it does not exist! Ensure that it is registered via torch::class_\n",
      "^C\n",
      "\u001b[34m  Stopping...\u001b[0m\n"
     ]
    }
   ],
   "source": [
    "!streamlit run streamlit_app2.py --server.port 8000"
   ]
  },
  {
   "cell_type": "code",
   "execution_count": null,
   "metadata": {
    "trusted": true
   },
   "outputs": [],
   "source": []
  },
  {
   "cell_type": "code",
   "execution_count": null,
   "metadata": {
    "trusted": true
   },
   "outputs": [],
   "source": []
  }
 ],
 "metadata": {
  "kaggle": {
   "accelerator": "nvidiaTeslaT4",
   "dataSources": [
    {
     "datasetId": 7302338,
     "sourceId": 11638027,
     "sourceType": "datasetVersion"
    }
   ],
   "dockerImageVersionId": 31011,
   "isGpuEnabled": true,
   "isInternetEnabled": true,
   "language": "python",
   "sourceType": "notebook"
  },
  "kernelspec": {
   "display_name": "Python 3",
   "language": "python",
   "name": "python3"
  },
  "language_info": {
   "codemirror_mode": {
    "name": "ipython",
    "version": 3
   },
   "file_extension": ".py",
   "mimetype": "text/x-python",
   "name": "python",
   "nbconvert_exporter": "python",
   "pygments_lexer": "ipython3",
   "version": "3.11.11"
  }
 },
 "nbformat": 4,
 "nbformat_minor": 4
}
